{
 "cells": [
  {
   "cell_type": "markdown",
   "metadata": {},
   "source": [
    "## NAIVE BAYES"
   ]
  },
  {
   "cell_type": "code",
   "execution_count": 1,
   "metadata": {},
   "outputs": [],
   "source": [
    "%matplotlib inline\n",
    "\n",
    "# import libraries\n",
    "import copy\n",
    "import numpy as np\n",
    "import scipy as sp\n",
    "#import matplotlib as mpl\n",
    "#import matplotlib.cm as cm\n",
    "import matplotlib.pyplot as plt\n",
    "import pandas as pd\n",
    "import seaborn as sns\n",
    "from six.moves import range\n",
    "\n",
    "# setup Pandas\n",
    "pd.set_option('display.width', 500)\n",
    "pd.set_option('display.max_columns', 100)\n",
    "pd.set_option('display.notebook_repr_html', True)\n",
    "\n",
    "# setup Seaborn\n",
    "sns.set_style('whitegrid')\n",
    "sns.set_context('poster')"
   ]
  },
  {
   "cell_type": "code",
   "execution_count": 2,
   "metadata": {},
   "outputs": [],
   "source": [
    "# machine learning libraries \n",
    "from sklearn.pipeline import make_pipeline\n",
    "from sklearn.metrics import classification_report, roc_curve, roc_auc_score\n",
    "from sklearn.model_selection import cross_val_predict\n",
    "\n",
    "from sklearn.metrics import confusion_matrix\n",
    "from sklearn import metrics\n",
    "from sklearn.feature_extraction.text import CountVectorizer\n",
    "from sklearn.feature_extraction.text import TfidfVectorizer\n",
    "from sklearn.naive_bayes import MultinomialNB\n",
    "from sklearn.model_selection import train_test_split\n",
    "from sklearn.model_selection import KFold"
   ]
  },
  {
   "cell_type": "code",
   "execution_count": null,
   "metadata": {},
   "outputs": [],
   "source": [
    "from sklearn.pipeline import Pipeline\n",
    "from sklearn.ensemble import RandomForestClassifier\n",
    "from sklearn.svm import LinearSVC\n",
    "from sklearn.model_selection import cross_val_score\n",
    "from sklearn.base import BaseEstimator, TransformerMixin\n",
    "from sklearn.pipeline import FeatureUnion"
   ]
  },
  {
   "cell_type": "code",
   "execution_count": 45,
   "metadata": {},
   "outputs": [],
   "source": [
    "from nltk.stem import WordNetLemmatizer\n",
    "from nltk.tokenize import word_tokenize\n",
    "from nltk.corpus import stopwords"
   ]
  },
  {
   "cell_type": "code",
   "execution_count": 3,
   "metadata": {},
   "outputs": [],
   "source": [
    "# import data\n",
    "data_reviews = pd.read_csv('Data_rating_112_airlines_V2.csv')"
   ]
  },
  {
   "cell_type": "code",
   "execution_count": 4,
   "metadata": {},
   "outputs": [],
   "source": [
    "# make a copy of the data\n",
    "data_ratings = data_reviews.copy()"
   ]
  },
  {
   "cell_type": "code",
   "execution_count": 5,
   "metadata": {},
   "outputs": [],
   "source": [
    "# adding second recommended column\n",
    "data_ratings['recommended_2'] = data_ratings['recommended']"
   ]
  },
  {
   "cell_type": "code",
   "execution_count": 6,
   "metadata": {},
   "outputs": [],
   "source": [
    "# replace values in recommended_2 column\n",
    "data_ratings = data_ratings.replace({'recommended_2': {0: 'No', 1: 'Yes'}})"
   ]
  },
  {
   "cell_type": "code",
   "execution_count": 7,
   "metadata": {},
   "outputs": [
    {
     "data": {
      "text/html": [
       "<div>\n",
       "<style scoped>\n",
       "    .dataframe tbody tr th:only-of-type {\n",
       "        vertical-align: middle;\n",
       "    }\n",
       "\n",
       "    .dataframe tbody tr th {\n",
       "        vertical-align: top;\n",
       "    }\n",
       "\n",
       "    .dataframe thead th {\n",
       "        text-align: right;\n",
       "    }\n",
       "</style>\n",
       "<table border=\"1\" class=\"dataframe\">\n",
       "  <thead>\n",
       "    <tr style=\"text-align: right;\">\n",
       "      <th></th>\n",
       "      <th>airline_name</th>\n",
       "      <th>link</th>\n",
       "      <th>title</th>\n",
       "      <th>author</th>\n",
       "      <th>author_country</th>\n",
       "      <th>date</th>\n",
       "      <th>content</th>\n",
       "      <th>aircraft</th>\n",
       "      <th>type_traveller</th>\n",
       "      <th>cabin_flown</th>\n",
       "      <th>route</th>\n",
       "      <th>overall_rating</th>\n",
       "      <th>seat_comfort_rating</th>\n",
       "      <th>cabin_staff_rating</th>\n",
       "      <th>food_beverages_rating</th>\n",
       "      <th>inflight_entertainment_rating</th>\n",
       "      <th>ground_service_rating</th>\n",
       "      <th>wifi_connectivity_rating</th>\n",
       "      <th>value_money_rating</th>\n",
       "      <th>recommended</th>\n",
       "      <th>recommended_2</th>\n",
       "    </tr>\n",
       "  </thead>\n",
       "  <tbody>\n",
       "    <tr>\n",
       "      <th>0</th>\n",
       "      <td>aegean-airlines</td>\n",
       "      <td>/airline-reviews/aegean-airlines</td>\n",
       "      <td>Aegean Airlines customer review</td>\n",
       "      <td>P Vlogianitis</td>\n",
       "      <td>Australia</td>\n",
       "      <td>2015-08-01</td>\n",
       "      <td>Flight to Larnaca was a joy. Generous legroom,...</td>\n",
       "      <td>A321</td>\n",
       "      <td>Family Leisure</td>\n",
       "      <td>Business Class</td>\n",
       "      <td>Athens to Larnaca</td>\n",
       "      <td>10.0</td>\n",
       "      <td>5.0</td>\n",
       "      <td>5.0</td>\n",
       "      <td>5.0</td>\n",
       "      <td>NaN</td>\n",
       "      <td>3.0</td>\n",
       "      <td>NaN</td>\n",
       "      <td>5.0</td>\n",
       "      <td>1</td>\n",
       "      <td>Yes</td>\n",
       "    </tr>\n",
       "    <tr>\n",
       "      <th>1</th>\n",
       "      <td>aegean-airlines</td>\n",
       "      <td>/airline-reviews/aegean-airlines</td>\n",
       "      <td>Aegean Airlines customer review</td>\n",
       "      <td>Eric Botha</td>\n",
       "      <td>United Kingdom</td>\n",
       "      <td>2015-07-28</td>\n",
       "      <td>Flight on time, row 1 - Friendly staff and ver...</td>\n",
       "      <td>A321</td>\n",
       "      <td>Couple Leisure</td>\n",
       "      <td>Business Class</td>\n",
       "      <td>Athens to London</td>\n",
       "      <td>8.0</td>\n",
       "      <td>4.0</td>\n",
       "      <td>5.0</td>\n",
       "      <td>4.0</td>\n",
       "      <td>2.0</td>\n",
       "      <td>4.0</td>\n",
       "      <td>NaN</td>\n",
       "      <td>4.0</td>\n",
       "      <td>1</td>\n",
       "      <td>Yes</td>\n",
       "    </tr>\n",
       "    <tr>\n",
       "      <th>2</th>\n",
       "      <td>aegean-airlines</td>\n",
       "      <td>/airline-reviews/aegean-airlines</td>\n",
       "      <td>Aegean Airlines customer review</td>\n",
       "      <td>Nathan Vermeulen</td>\n",
       "      <td>Belgium</td>\n",
       "      <td>2015-07-26</td>\n",
       "      <td>Very good flight with Aegean. The boarding was...</td>\n",
       "      <td>A320-232</td>\n",
       "      <td>Family Leisure</td>\n",
       "      <td>Economy</td>\n",
       "      <td>Brussels to Heraklion</td>\n",
       "      <td>9.0</td>\n",
       "      <td>4.0</td>\n",
       "      <td>5.0</td>\n",
       "      <td>4.0</td>\n",
       "      <td>NaN</td>\n",
       "      <td>4.0</td>\n",
       "      <td>NaN</td>\n",
       "      <td>4.0</td>\n",
       "      <td>1</td>\n",
       "      <td>Yes</td>\n",
       "    </tr>\n",
       "    <tr>\n",
       "      <th>3</th>\n",
       "      <td>aegean-airlines</td>\n",
       "      <td>/airline-reviews/aegean-airlines</td>\n",
       "      <td>Aegean Airlines customer review</td>\n",
       "      <td>N Sunder</td>\n",
       "      <td>United States</td>\n",
       "      <td>2015-07-21</td>\n",
       "      <td>Brand new A320, interior spotless. Crew immacu...</td>\n",
       "      <td>A320</td>\n",
       "      <td>Solo Leisure</td>\n",
       "      <td>Economy</td>\n",
       "      <td>Mykonos to Athens</td>\n",
       "      <td>8.0</td>\n",
       "      <td>4.0</td>\n",
       "      <td>4.0</td>\n",
       "      <td>NaN</td>\n",
       "      <td>NaN</td>\n",
       "      <td>4.0</td>\n",
       "      <td>NaN</td>\n",
       "      <td>4.0</td>\n",
       "      <td>1</td>\n",
       "      <td>Yes</td>\n",
       "    </tr>\n",
       "    <tr>\n",
       "      <th>4</th>\n",
       "      <td>aegean-airlines</td>\n",
       "      <td>/airline-reviews/aegean-airlines</td>\n",
       "      <td>Aegean Airlines customer review</td>\n",
       "      <td>Dimitrios Chrysos-Gklavas</td>\n",
       "      <td>Greece</td>\n",
       "      <td>2015-07-21</td>\n",
       "      <td>I booked a premium economy ticket so I can hav...</td>\n",
       "      <td>Dash 8 Q400</td>\n",
       "      <td>Solo Leisure</td>\n",
       "      <td>Economy</td>\n",
       "      <td>Athens to Santorini</td>\n",
       "      <td>8.0</td>\n",
       "      <td>4.0</td>\n",
       "      <td>5.0</td>\n",
       "      <td>4.0</td>\n",
       "      <td>NaN</td>\n",
       "      <td>2.0</td>\n",
       "      <td>NaN</td>\n",
       "      <td>3.0</td>\n",
       "      <td>1</td>\n",
       "      <td>Yes</td>\n",
       "    </tr>\n",
       "  </tbody>\n",
       "</table>\n",
       "</div>"
      ],
      "text/plain": [
       "      airline_name                              link                            title                     author  author_country        date                                            content     aircraft  type_traveller     cabin_flown                  route  overall_rating  seat_comfort_rating  cabin_staff_rating  food_beverages_rating  inflight_entertainment_rating  ground_service_rating  wifi_connectivity_rating  value_money_rating  recommended recommended_2\n",
       "0  aegean-airlines  /airline-reviews/aegean-airlines  Aegean Airlines customer review              P Vlogianitis       Australia  2015-08-01  Flight to Larnaca was a joy. Generous legroom,...         A321  Family Leisure  Business Class      Athens to Larnaca            10.0                  5.0                 5.0                    5.0                            NaN                    3.0                       NaN                 5.0            1           Yes\n",
       "1  aegean-airlines  /airline-reviews/aegean-airlines  Aegean Airlines customer review                 Eric Botha  United Kingdom  2015-07-28  Flight on time, row 1 - Friendly staff and ver...         A321  Couple Leisure  Business Class       Athens to London             8.0                  4.0                 5.0                    4.0                            2.0                    4.0                       NaN                 4.0            1           Yes\n",
       "2  aegean-airlines  /airline-reviews/aegean-airlines  Aegean Airlines customer review           Nathan Vermeulen         Belgium  2015-07-26  Very good flight with Aegean. The boarding was...     A320-232  Family Leisure         Economy  Brussels to Heraklion             9.0                  4.0                 5.0                    4.0                            NaN                    4.0                       NaN                 4.0            1           Yes\n",
       "3  aegean-airlines  /airline-reviews/aegean-airlines  Aegean Airlines customer review                   N Sunder   United States  2015-07-21  Brand new A320, interior spotless. Crew immacu...         A320    Solo Leisure         Economy      Mykonos to Athens             8.0                  4.0                 4.0                    NaN                            NaN                    4.0                       NaN                 4.0            1           Yes\n",
       "4  aegean-airlines  /airline-reviews/aegean-airlines  Aegean Airlines customer review  Dimitrios Chrysos-Gklavas          Greece  2015-07-21  I booked a premium economy ticket so I can hav...  Dash 8 Q400    Solo Leisure         Economy    Athens to Santorini             8.0                  4.0                 5.0                    4.0                            NaN                    2.0                       NaN                 3.0            1           Yes"
      ]
     },
     "execution_count": 7,
     "metadata": {},
     "output_type": "execute_result"
    }
   ],
   "source": [
    "# drop rows with missing content\n",
    "data_ratings = data_ratings[~data_ratings.content.isnull()]\n",
    "data_ratings.head()"
   ]
  },
  {
   "cell_type": "markdown",
   "metadata": {},
   "source": []
  },
  {
   "cell_type": "markdown",
   "metadata": {},
   "source": [
    "### 1. DATA EXPLORATION"
   ]
  },
  {
   "cell_type": "code",
   "execution_count": 8,
   "metadata": {},
   "outputs": [
    {
     "name": "stdout",
     "output_type": "stream",
     "text": [
      "<class 'pandas.core.frame.DataFrame'>\n",
      "Int64Index: 35609 entries, 0 to 35608\n",
      "Data columns (total 21 columns):\n",
      "airline_name                     35609 non-null object\n",
      "link                             35609 non-null object\n",
      "title                            35609 non-null object\n",
      "author                           35609 non-null object\n",
      "author_country                   35396 non-null object\n",
      "date                             35609 non-null object\n",
      "content                          35609 non-null object\n",
      "aircraft                         1153 non-null object\n",
      "type_traveller                   2164 non-null object\n",
      "cabin_flown                      34138 non-null object\n",
      "route                            2128 non-null object\n",
      "overall_rating                   32275 non-null float64\n",
      "seat_comfort_rating              31415 non-null float64\n",
      "cabin_staff_rating               31417 non-null float64\n",
      "food_beverages_rating            31020 non-null float64\n",
      "inflight_entertainment_rating    28980 non-null float64\n",
      "ground_service_rating            2003 non-null float64\n",
      "wifi_connectivity_rating         534 non-null float64\n",
      "value_money_rating               35314 non-null float64\n",
      "recommended                      35609 non-null int64\n",
      "recommended_2                    35609 non-null object\n",
      "dtypes: float64(8), int64(1), object(12)\n",
      "memory usage: 6.0+ MB\n"
     ]
    }
   ],
   "source": [
    "# get more information about columns in dataframe\n",
    "data_ratings.info()"
   ]
  },
  {
   "cell_type": "code",
   "execution_count": 9,
   "metadata": {},
   "outputs": [
    {
     "name": "stdout",
     "output_type": "stream",
     "text": [
      "Number of reviews: 35609\n",
      "Number of authors: 25938\n",
      "Number of airlines:  112\n"
     ]
    }
   ],
   "source": [
    "# check number of reviews, number of authors and number of airlines\n",
    "n_reviews = len(data_ratings)\n",
    "n_airlines = data_ratings.airline_name.unique().size\n",
    "n_authors = data_ratings.author.unique().size\n",
    "\n",
    "\n",
    "print('Number of reviews: {:d}'.format(n_reviews))\n",
    "print('Number of authors: {:d}'.format(n_authors))\n",
    "print('Number of airlines:  {:d}'.format(n_airlines))"
   ]
  },
  {
   "cell_type": "code",
   "execution_count": 10,
   "metadata": {},
   "outputs": [
    {
     "data": {
      "image/png": "[encoded data removed]",
      "text/plain": [
       "<Figure size 576x432 with 1 Axes>"
      ]
     },
     "metadata": {
      "needs_background": "light"
     },
     "output_type": "display_data"
    }
   ],
   "source": [
    "# create a copy of dataframe\n",
    "df_copy = data_ratings.copy()\n",
    "\n",
    "# change values in recommended_2 column to True if the value is Yes and False if it isn't\n",
    "df_copy['recommended_2'] = df_copy.recommended_2 == 'Yes'\n",
    "\n",
    "# group dataframe by author\n",
    "grouped_author = df_copy.groupby('author')\n",
    "\n",
    "# number of reviews by each author\n",
    "grouped_author_counts = grouped_author.author.count()\n",
    "\n",
    "# average recommended rating for each author\n",
    "grouped_author_means = grouped_author.recommended_2.mean()     \n",
    "\n",
    "# plot a histogram for authors with more than 1 review\n",
    "grouped_author_means[grouped_author_counts > 1].hist(bins=10, edgecolor='w', lw=1, figsize=(8,6))\n",
    "plt.xlabel('Average rating per author', fontsize=15)\n",
    "plt.ylabel('Number of authors', fontsize=15)\n",
    "plt.show()"
   ]
  },
  {
   "cell_type": "markdown",
   "metadata": {},
   "source": [
    "By looking at the histogram, we can see that many authors on average recommended an airline they flew with. And on average around 500 authors didn't recommend an airline. Around 900 authors gave on average half the time recommended rate 1 and half the time rate 0. "
   ]
  },
  {
   "cell_type": "markdown",
   "metadata": {},
   "source": []
  },
  {
   "cell_type": "markdown",
   "metadata": {},
   "source": [
    "### 2 PREPARING DATA"
   ]
  },
  {
   "cell_type": "code",
   "execution_count": 47,
   "metadata": {},
   "outputs": [],
   "source": [
    "# create a copy of dataframe\n",
    "data_ratings_copy = data_ratings.copy()\n",
    "\n",
    "# change reviews into lower case text\n",
    "data_ratings_copy['content'] = data_ratings_copy['content'].str.lower()\n",
    "\n",
    "# tokenization\n",
    "def identify_tokens(row):\n",
    "    review = row['content']\n",
    "    tokens = word_tokenize(review)\n",
    "    # taken only words (not punctuation)\n",
    "    token_words = [w for w in tokens if w.isalpha()]\n",
    "    return token_words\n",
    "\n",
    "data_ratings_copy['content'] = data_ratings_copy.apply(identify_tokens, axis=1)"
   ]
  },
  {
   "cell_type": "code",
   "execution_count": 48,
   "metadata": {},
   "outputs": [],
   "source": [
    "# lemmatizer\n",
    "word_lemma = WordNetLemmatizer()\n",
    "def lemmatize(row):\n",
    "    my_list = row['content']\n",
    "    lemma = [word_lemma.lemmatize(word) for word in my_list]\n",
    "    return (lemma)\n",
    "\n",
    "data_ratings_copy['content'] = data_ratings_copy.apply(lemmatize, axis=1)"
   ]
  },
  {
   "cell_type": "code",
   "execution_count": 49,
   "metadata": {},
   "outputs": [],
   "source": [
    "# remove stop words\n",
    "stops = set(stopwords.words('english'))                  \n",
    "\n",
    "def remove_stops(row):\n",
    "    my_list = row['content']\n",
    "    meaningful_words = [w for w in my_list if not w in stops]\n",
    "    return meaningful_words\n",
    "\n",
    "data_ratings_copy['content'] = data_ratings_copy.apply(remove_stops, axis=1)"
   ]
  },
  {
   "cell_type": "code",
   "execution_count": 50,
   "metadata": {},
   "outputs": [
    {
     "data": {
      "text/html": [
       "<div>\n",
       "<style scoped>\n",
       "    .dataframe tbody tr th:only-of-type {\n",
       "        vertical-align: middle;\n",
       "    }\n",
       "\n",
       "    .dataframe tbody tr th {\n",
       "        vertical-align: top;\n",
       "    }\n",
       "\n",
       "    .dataframe thead th {\n",
       "        text-align: right;\n",
       "    }\n",
       "</style>\n",
       "<table border=\"1\" class=\"dataframe\">\n",
       "  <thead>\n",
       "    <tr style=\"text-align: right;\">\n",
       "      <th></th>\n",
       "      <th>airline_name</th>\n",
       "      <th>link</th>\n",
       "      <th>title</th>\n",
       "      <th>author</th>\n",
       "      <th>author_country</th>\n",
       "      <th>date</th>\n",
       "      <th>content</th>\n",
       "      <th>aircraft</th>\n",
       "      <th>type_traveller</th>\n",
       "      <th>cabin_flown</th>\n",
       "      <th>route</th>\n",
       "      <th>overall_rating</th>\n",
       "      <th>seat_comfort_rating</th>\n",
       "      <th>cabin_staff_rating</th>\n",
       "      <th>food_beverages_rating</th>\n",
       "      <th>inflight_entertainment_rating</th>\n",
       "      <th>ground_service_rating</th>\n",
       "      <th>wifi_connectivity_rating</th>\n",
       "      <th>value_money_rating</th>\n",
       "      <th>recommended</th>\n",
       "      <th>recommended_2</th>\n",
       "    </tr>\n",
       "  </thead>\n",
       "  <tbody>\n",
       "    <tr>\n",
       "      <th>0</th>\n",
       "      <td>aegean-airlines</td>\n",
       "      <td>/airline-reviews/aegean-airlines</td>\n",
       "      <td>Aegean Airlines customer review</td>\n",
       "      <td>P Vlogianitis</td>\n",
       "      <td>Australia</td>\n",
       "      <td>2015-08-01</td>\n",
       "      <td>flight, larnaca, wa, joy, generous, legroom, n...</td>\n",
       "      <td>A321</td>\n",
       "      <td>Family Leisure</td>\n",
       "      <td>Business Class</td>\n",
       "      <td>Athens to Larnaca</td>\n",
       "      <td>10.0</td>\n",
       "      <td>5.0</td>\n",
       "      <td>5.0</td>\n",
       "      <td>5.0</td>\n",
       "      <td>NaN</td>\n",
       "      <td>3.0</td>\n",
       "      <td>NaN</td>\n",
       "      <td>5.0</td>\n",
       "      <td>1</td>\n",
       "      <td>Yes</td>\n",
       "    </tr>\n",
       "    <tr>\n",
       "      <th>1</th>\n",
       "      <td>aegean-airlines</td>\n",
       "      <td>/airline-reviews/aegean-airlines</td>\n",
       "      <td>Aegean Airlines customer review</td>\n",
       "      <td>Eric Botha</td>\n",
       "      <td>United Kingdom</td>\n",
       "      <td>2015-07-28</td>\n",
       "      <td>flight, time, row, friendly, staff, attentive,...</td>\n",
       "      <td>A321</td>\n",
       "      <td>Couple Leisure</td>\n",
       "      <td>Business Class</td>\n",
       "      <td>Athens to London</td>\n",
       "      <td>8.0</td>\n",
       "      <td>4.0</td>\n",
       "      <td>5.0</td>\n",
       "      <td>4.0</td>\n",
       "      <td>2.0</td>\n",
       "      <td>4.0</td>\n",
       "      <td>NaN</td>\n",
       "      <td>4.0</td>\n",
       "      <td>1</td>\n",
       "      <td>Yes</td>\n",
       "    </tr>\n",
       "    <tr>\n",
       "      <th>2</th>\n",
       "      <td>aegean-airlines</td>\n",
       "      <td>/airline-reviews/aegean-airlines</td>\n",
       "      <td>Aegean Airlines customer review</td>\n",
       "      <td>Nathan Vermeulen</td>\n",
       "      <td>Belgium</td>\n",
       "      <td>2015-07-26</td>\n",
       "      <td>good, flight, aegean, boarding, wa, quickly, c...</td>\n",
       "      <td>A320-232</td>\n",
       "      <td>Family Leisure</td>\n",
       "      <td>Economy</td>\n",
       "      <td>Brussels to Heraklion</td>\n",
       "      <td>9.0</td>\n",
       "      <td>4.0</td>\n",
       "      <td>5.0</td>\n",
       "      <td>4.0</td>\n",
       "      <td>NaN</td>\n",
       "      <td>4.0</td>\n",
       "      <td>NaN</td>\n",
       "      <td>4.0</td>\n",
       "      <td>1</td>\n",
       "      <td>Yes</td>\n",
       "    </tr>\n",
       "    <tr>\n",
       "      <th>3</th>\n",
       "      <td>aegean-airlines</td>\n",
       "      <td>/airline-reviews/aegean-airlines</td>\n",
       "      <td>Aegean Airlines customer review</td>\n",
       "      <td>N Sunder</td>\n",
       "      <td>United States</td>\n",
       "      <td>2015-07-21</td>\n",
       "      <td>brand, new, interior, spotless, crew, immacula...</td>\n",
       "      <td>A320</td>\n",
       "      <td>Solo Leisure</td>\n",
       "      <td>Economy</td>\n",
       "      <td>Mykonos to Athens</td>\n",
       "      <td>8.0</td>\n",
       "      <td>4.0</td>\n",
       "      <td>4.0</td>\n",
       "      <td>NaN</td>\n",
       "      <td>NaN</td>\n",
       "      <td>4.0</td>\n",
       "      <td>NaN</td>\n",
       "      <td>4.0</td>\n",
       "      <td>1</td>\n",
       "      <td>Yes</td>\n",
       "    </tr>\n",
       "    <tr>\n",
       "      <th>4</th>\n",
       "      <td>aegean-airlines</td>\n",
       "      <td>/airline-reviews/aegean-airlines</td>\n",
       "      <td>Aegean Airlines customer review</td>\n",
       "      <td>Dimitrios Chrysos-Gklavas</td>\n",
       "      <td>Greece</td>\n",
       "      <td>2015-07-21</td>\n",
       "      <td>booked, premium, economy, ticket, suitcase, on...</td>\n",
       "      <td>Dash 8 Q400</td>\n",
       "      <td>Solo Leisure</td>\n",
       "      <td>Economy</td>\n",
       "      <td>Athens to Santorini</td>\n",
       "      <td>8.0</td>\n",
       "      <td>4.0</td>\n",
       "      <td>5.0</td>\n",
       "      <td>4.0</td>\n",
       "      <td>NaN</td>\n",
       "      <td>2.0</td>\n",
       "      <td>NaN</td>\n",
       "      <td>3.0</td>\n",
       "      <td>1</td>\n",
       "      <td>Yes</td>\n",
       "    </tr>\n",
       "  </tbody>\n",
       "</table>\n",
       "</div>"
      ],
      "text/plain": [
       "      airline_name                              link                            title                     author  author_country        date                                            content     aircraft  type_traveller     cabin_flown                  route  overall_rating  seat_comfort_rating  cabin_staff_rating  food_beverages_rating  inflight_entertainment_rating  ground_service_rating  wifi_connectivity_rating  value_money_rating  recommended recommended_2\n",
       "0  aegean-airlines  /airline-reviews/aegean-airlines  Aegean Airlines customer review              P Vlogianitis       Australia  2015-08-01  flight, larnaca, wa, joy, generous, legroom, n...         A321  Family Leisure  Business Class      Athens to Larnaca            10.0                  5.0                 5.0                    5.0                            NaN                    3.0                       NaN                 5.0            1           Yes\n",
       "1  aegean-airlines  /airline-reviews/aegean-airlines  Aegean Airlines customer review                 Eric Botha  United Kingdom  2015-07-28  flight, time, row, friendly, staff, attentive,...         A321  Couple Leisure  Business Class       Athens to London             8.0                  4.0                 5.0                    4.0                            2.0                    4.0                       NaN                 4.0            1           Yes\n",
       "2  aegean-airlines  /airline-reviews/aegean-airlines  Aegean Airlines customer review           Nathan Vermeulen         Belgium  2015-07-26  good, flight, aegean, boarding, wa, quickly, c...     A320-232  Family Leisure         Economy  Brussels to Heraklion             9.0                  4.0                 5.0                    4.0                            NaN                    4.0                       NaN                 4.0            1           Yes\n",
       "3  aegean-airlines  /airline-reviews/aegean-airlines  Aegean Airlines customer review                   N Sunder   United States  2015-07-21  brand, new, interior, spotless, crew, immacula...         A320    Solo Leisure         Economy      Mykonos to Athens             8.0                  4.0                 4.0                    NaN                            NaN                    4.0                       NaN                 4.0            1           Yes\n",
       "4  aegean-airlines  /airline-reviews/aegean-airlines  Aegean Airlines customer review  Dimitrios Chrysos-Gklavas          Greece  2015-07-21  booked, premium, economy, ticket, suitcase, on...  Dash 8 Q400    Solo Leisure         Economy    Athens to Santorini             8.0                  4.0                 5.0                    4.0                            NaN                    2.0                       NaN                 3.0            1           Yes"
      ]
     },
     "execution_count": 50,
     "metadata": {},
     "output_type": "execute_result"
    }
   ],
   "source": [
    "# remove list from column and print first few rows\n",
    "data_ratings_copy['content'] = data_ratings_copy.content.apply(', '.join)\n",
    "data_ratings_copy.head()"
   ]
  },
  {
   "cell_type": "markdown",
   "metadata": {},
   "source": []
  },
  {
   "cell_type": "markdown",
   "metadata": {},
   "source": [
    "### 2. MULTINOMINAL NAIVE BAYES"
   ]
  },
  {
   "cell_type": "code",
   "execution_count": 51,
   "metadata": {},
   "outputs": [],
   "source": [
    "# define X and y from dataframe\n",
    "def make_xy(data_ratings_copy, vectorizer=None):   \n",
    "    if vectorizer is None:\n",
    "        vectorizer = CountVectorizer()\n",
    "    X = vectorizer.fit_transform(data_ratings_copy.content)\n",
    "    X = X.tocsc()  # some versions of sklearn return COO format\n",
    "    y = (data_ratings_copy.recommended_2 == 'Yes').values.astype(np.int)\n",
    "    return X, y\n",
    "X, y = make_xy(data_ratings_copy)"
   ]
  },
  {
   "cell_type": "code",
   "execution_count": 52,
   "metadata": {},
   "outputs": [],
   "source": [
    "# split the dataframe into a training and test set\n",
    "xtrain_1, xtest_1, ytrain_1, ytest_1 = train_test_split(X, y)"
   ]
  },
  {
   "cell_type": "code",
   "execution_count": 53,
   "metadata": {},
   "outputs": [
    {
     "data": {
      "text/plain": [
       "MultinomialNB(alpha=1.0, class_prior=None, fit_prior=True)"
      ]
     },
     "execution_count": 53,
     "metadata": {},
     "output_type": "execute_result"
    }
   ],
   "source": [
    "# use `scikit-learn`'s `MultinomialNB()` classifier with default parameters\n",
    "clf = MultinomialNB()\n",
    "\n",
    "# train the classifier over the training set\n",
    "clf.fit(xtrain_1, ytrain_1)"
   ]
  },
  {
   "cell_type": "code",
   "execution_count": 54,
   "metadata": {},
   "outputs": [],
   "source": [
    "# test on the test set\n",
    "predict_1 = clf.predict(xtest_1)"
   ]
  },
  {
   "cell_type": "code",
   "execution_count": 55,
   "metadata": {},
   "outputs": [
    {
     "name": "stdout",
     "output_type": "stream",
     "text": [
      "Accuracy on training set:  0.8686811952370254\n",
      "Accuracy on test set:  0.8507244748961025\n"
     ]
    }
   ],
   "source": [
    "# print the accuracy scores for both the training and the test sets\n",
    "print('Accuracy on training set: ', clf.score(xtrain_1, ytrain_1))\n",
    "print('Accuracy on test set: ', clf.score(xtest_1, ytest_1))"
   ]
  },
  {
   "cell_type": "markdown",
   "metadata": {},
   "source": []
  },
  {
   "cell_type": "markdown",
   "metadata": {},
   "source": [
    "#### 1.1 Picking hyperparameters for Naive Bayes and text maintenance"
   ]
  },
  {
   "cell_type": "code",
   "execution_count": 56,
   "metadata": {},
   "outputs": [],
   "source": [
    "# create a list of word count\n",
    "doc_freq = sorted((X > 0).sum(axis=0).tolist()[0])"
   ]
  },
  {
   "cell_type": "code",
   "execution_count": 57,
   "metadata": {},
   "outputs": [
    {
     "data": {
      "image/png": "[encoded data removed]",
      "text/plain": [
       "<Figure size 864x864 with 1 Axes>"
      ]
     },
     "metadata": {
      "needs_background": "light"
     },
     "output_type": "display_data"
    }
   ],
   "source": [
    "# plot the cumulative distribution of document frequencies\n",
    "plt.figure(figsize=(12,12))\n",
    "_ = plt.hist(pd.Series(doc_freq), np.arange(pd.Series(doc_freq).sum()), cumulative=True, histtype='stepfilled', density=True)\n",
    "_ = plt.xlabel('Document count', fontsize=15)\n",
    "_ = plt.ylabel('Percentage of words that appear in x or fewer documents', fontsize=15)\n",
    "_ = plt.xlim(-1, 500)\n",
    "plt.show()"
   ]
  },
  {
   "cell_type": "code",
   "execution_count": 58,
   "metadata": {},
   "outputs": [
    {
     "data": {
      "image/png": "[encoded data removed]",
      "text/plain": [
       "<Figure size 864x864 with 1 Axes>"
      ]
     },
     "metadata": {
      "needs_background": "light"
     },
     "output_type": "display_data"
    }
   ],
   "source": [
    "# plot the  cumulative distribution of document frequencies on a smaller scale\n",
    "plt.figure(figsize=(12,12))\n",
    "_ = plt.hist(pd.Series(doc_freq), np.arange(pd.Series(doc_freq).sum()), cumulative=True, histtype='stepfilled', density=True)\n",
    "_ = plt.xlabel('Document count', fontsize=15)\n",
    "_ = plt.ylabel('Percentage of words that appear in x or fewer documents', fontsize=15)\n",
    "_ = plt.xlim(-1, 200)\n",
    "plt.show()"
   ]
  },
  {
   "cell_type": "code",
   "execution_count": 59,
   "metadata": {},
   "outputs": [
    {
     "data": {
      "image/png": "[encoded data removed]",
      "text/plain": [
       "<Figure size 864x864 with 1 Axes>"
      ]
     },
     "metadata": {
      "needs_background": "light"
     },
     "output_type": "display_data"
    }
   ],
   "source": [
    "# plot the  cumulative distribution of document frequencies on a smaller scale\n",
    "plt.figure(figsize=(12,12))\n",
    "_ = plt.hist(pd.Series(doc_freq), np.arange(pd.Series(doc_freq).sum()), cumulative=True, histtype='stepfilled', density=True)\n",
    "_ = plt.xlabel('Document count', fontsize=15)\n",
    "_ = plt.ylabel('Percentage of words that appear in x or fewer documents', fontsize=15)\n",
    "_ = plt.xlim(-1, 10)\n",
    "plt.show()"
   ]
  },
  {
   "cell_type": "markdown",
   "metadata": {},
   "source": [
    "If we look at the above graphs, we can see that at x=2 the curve begins climbing steeply, this could be our value for best 'min_df'. "
   ]
  },
  {
   "cell_type": "code",
   "execution_count": 60,
   "metadata": {},
   "outputs": [],
   "source": [
    "# create a score function\n",
    "# the function cv_score performs the K-fold cross-validation algorithm\n",
    "def cv_score(clf, X, y, scorefunc):\n",
    "    result = 0.\n",
    "    nfold = 5\n",
    "    for train, test in KFold(nfold).split(X): # split data into train/test groups, 5 times\n",
    "        clf.fit(X[train], y[train]) # fit the classifier, passed in as clf\n",
    "        result += scorefunc(clf, X[test], y[test]) # evaluate score function on held-out data\n",
    "    return result / nfold #  return the average"
   ]
  },
  {
   "cell_type": "code",
   "execution_count": 61,
   "metadata": {},
   "outputs": [],
   "source": [
    "# define the log-likelihood function\n",
    "def log_likelihood(clf, x, y):\n",
    "    prob = clf.predict_log_proba(x)\n",
    "    No = y == 0\n",
    "    Yes = ~No\n",
    "    return prob[No, 0].sum() + prob[Yes, 1].sum()"
   ]
  },
  {
   "cell_type": "code",
   "execution_count": 62,
   "metadata": {},
   "outputs": [],
   "source": [
    "# set up the train and test masks\n",
    "_, itest = train_test_split(range(data_ratings_copy.shape[0]), train_size=0.7)\n",
    "mask = np.zeros(data_ratings_copy.shape[0], dtype=np.bool)\n",
    "mask[itest] = True"
   ]
  },
  {
   "cell_type": "code",
   "execution_count": 63,
   "metadata": {},
   "outputs": [
    {
     "name": "stdout",
     "output_type": "stream",
     "text": [
      "alpha: 0.1 score: -2790.582395111561\n",
      "alpha: 1 score: -2495.7748354473383\n",
      "alpha: 5 score: -2298.064478312791\n",
      "alpha: 10 score: -2189.240469845062\n",
      "alpha: 50 score: -1906.953493330831\n",
      "With min_df = 1, the best alpha is: 50 and has max score: -1906.953493330831\n"
     ]
    }
   ],
   "source": [
    "# the grid of parameters to search over\n",
    "alphas_2 = [.1, 1, 5, 10, 50]\n",
    "best_min_df_2 = 2 # value we chose from plotted histogram above\n",
    "\n",
    "# find the best value for alpha and min_df, and the best classifier\n",
    "best_alpha_2 = None\n",
    "maxscore_2 = -np.inf\n",
    "for alpha in alphas_2:        \n",
    "    vectorizer_2 = CountVectorizer(min_df=best_min_df_2)       \n",
    "    Xthis_2, ythis_2 = make_xy(data_ratings_copy, vectorizer_2)\n",
    "    Xtrainthis_2 = Xthis_2[mask]\n",
    "    ytrainthis_2 = ythis_2[mask]\n",
    "    clf_2 = MultinomialNB(alpha=alpha)\n",
    "    score_2 = cv_score(clf_2, Xtrainthis_2, ytrainthis_2, log_likelihood)\n",
    "    print('alpha:', alpha, 'score:', score_2)\n",
    "    if score_2 > maxscore_2:\n",
    "        maxscore_2 = score_2\n",
    "        best_alpha_2 = alpha\n",
    "print('With min_df = 1, the best alpha is:', best_alpha_2 ,'and has max score:', maxscore_2)"
   ]
  },
  {
   "cell_type": "code",
   "execution_count": 64,
   "metadata": {},
   "outputs": [
    {
     "name": "stderr",
     "output_type": "stream",
     "text": [
      "/anaconda3/envs/statenv/lib/python3.6/site-packages/sklearn/naive_bayes.py:485: UserWarning: alpha too small will result in numeric errors, setting alpha = 1.0e-10\n",
      "  'setting alpha = %.1e' % _ALPHA_MIN)\n",
      "/anaconda3/envs/statenv/lib/python3.6/site-packages/sklearn/naive_bayes.py:485: UserWarning: alpha too small will result in numeric errors, setting alpha = 1.0e-10\n",
      "  'setting alpha = %.1e' % _ALPHA_MIN)\n",
      "/anaconda3/envs/statenv/lib/python3.6/site-packages/sklearn/naive_bayes.py:485: UserWarning: alpha too small will result in numeric errors, setting alpha = 1.0e-10\n",
      "  'setting alpha = %.1e' % _ALPHA_MIN)\n",
      "/anaconda3/envs/statenv/lib/python3.6/site-packages/sklearn/naive_bayes.py:485: UserWarning: alpha too small will result in numeric errors, setting alpha = 1.0e-10\n",
      "  'setting alpha = %.1e' % _ALPHA_MIN)\n",
      "/anaconda3/envs/statenv/lib/python3.6/site-packages/sklearn/naive_bayes.py:485: UserWarning: alpha too small will result in numeric errors, setting alpha = 1.0e-10\n",
      "  'setting alpha = %.1e' % _ALPHA_MIN)\n",
      "/anaconda3/envs/statenv/lib/python3.6/site-packages/sklearn/naive_bayes.py:485: UserWarning: alpha too small will result in numeric errors, setting alpha = 1.0e-10\n",
      "  'setting alpha = %.1e' % _ALPHA_MIN)\n",
      "/anaconda3/envs/statenv/lib/python3.6/site-packages/sklearn/naive_bayes.py:485: UserWarning: alpha too small will result in numeric errors, setting alpha = 1.0e-10\n",
      "  'setting alpha = %.1e' % _ALPHA_MIN)\n",
      "/anaconda3/envs/statenv/lib/python3.6/site-packages/sklearn/naive_bayes.py:485: UserWarning: alpha too small will result in numeric errors, setting alpha = 1.0e-10\n",
      "  'setting alpha = %.1e' % _ALPHA_MIN)\n",
      "/anaconda3/envs/statenv/lib/python3.6/site-packages/sklearn/naive_bayes.py:485: UserWarning: alpha too small will result in numeric errors, setting alpha = 1.0e-10\n",
      "  'setting alpha = %.1e' % _ALPHA_MIN)\n",
      "/anaconda3/envs/statenv/lib/python3.6/site-packages/sklearn/naive_bayes.py:485: UserWarning: alpha too small will result in numeric errors, setting alpha = 1.0e-10\n",
      "  'setting alpha = %.1e' % _ALPHA_MIN)\n",
      "/anaconda3/envs/statenv/lib/python3.6/site-packages/sklearn/naive_bayes.py:485: UserWarning: alpha too small will result in numeric errors, setting alpha = 1.0e-10\n",
      "  'setting alpha = %.1e' % _ALPHA_MIN)\n",
      "/anaconda3/envs/statenv/lib/python3.6/site-packages/sklearn/naive_bayes.py:485: UserWarning: alpha too small will result in numeric errors, setting alpha = 1.0e-10\n",
      "  'setting alpha = %.1e' % _ALPHA_MIN)\n",
      "/anaconda3/envs/statenv/lib/python3.6/site-packages/sklearn/naive_bayes.py:485: UserWarning: alpha too small will result in numeric errors, setting alpha = 1.0e-10\n",
      "  'setting alpha = %.1e' % _ALPHA_MIN)\n",
      "/anaconda3/envs/statenv/lib/python3.6/site-packages/sklearn/naive_bayes.py:485: UserWarning: alpha too small will result in numeric errors, setting alpha = 1.0e-10\n",
      "  'setting alpha = %.1e' % _ALPHA_MIN)\n",
      "/anaconda3/envs/statenv/lib/python3.6/site-packages/sklearn/naive_bayes.py:485: UserWarning: alpha too small will result in numeric errors, setting alpha = 1.0e-10\n",
      "  'setting alpha = %.1e' % _ALPHA_MIN)\n",
      "/anaconda3/envs/statenv/lib/python3.6/site-packages/sklearn/naive_bayes.py:485: UserWarning: alpha too small will result in numeric errors, setting alpha = 1.0e-10\n",
      "  'setting alpha = %.1e' % _ALPHA_MIN)\n",
      "/anaconda3/envs/statenv/lib/python3.6/site-packages/sklearn/naive_bayes.py:485: UserWarning: alpha too small will result in numeric errors, setting alpha = 1.0e-10\n",
      "  'setting alpha = %.1e' % _ALPHA_MIN)\n",
      "/anaconda3/envs/statenv/lib/python3.6/site-packages/sklearn/naive_bayes.py:485: UserWarning: alpha too small will result in numeric errors, setting alpha = 1.0e-10\n",
      "  'setting alpha = %.1e' % _ALPHA_MIN)\n",
      "/anaconda3/envs/statenv/lib/python3.6/site-packages/sklearn/naive_bayes.py:485: UserWarning: alpha too small will result in numeric errors, setting alpha = 1.0e-10\n",
      "  'setting alpha = %.1e' % _ALPHA_MIN)\n",
      "/anaconda3/envs/statenv/lib/python3.6/site-packages/sklearn/naive_bayes.py:485: UserWarning: alpha too small will result in numeric errors, setting alpha = 1.0e-10\n",
      "  'setting alpha = %.1e' % _ALPHA_MIN)\n",
      "/anaconda3/envs/statenv/lib/python3.6/site-packages/sklearn/naive_bayes.py:485: UserWarning: alpha too small will result in numeric errors, setting alpha = 1.0e-10\n",
      "  'setting alpha = %.1e' % _ALPHA_MIN)\n",
      "/anaconda3/envs/statenv/lib/python3.6/site-packages/sklearn/naive_bayes.py:485: UserWarning: alpha too small will result in numeric errors, setting alpha = 1.0e-10\n",
      "  'setting alpha = %.1e' % _ALPHA_MIN)\n",
      "/anaconda3/envs/statenv/lib/python3.6/site-packages/sklearn/naive_bayes.py:485: UserWarning: alpha too small will result in numeric errors, setting alpha = 1.0e-10\n",
      "  'setting alpha = %.1e' % _ALPHA_MIN)\n",
      "/anaconda3/envs/statenv/lib/python3.6/site-packages/sklearn/naive_bayes.py:485: UserWarning: alpha too small will result in numeric errors, setting alpha = 1.0e-10\n",
      "  'setting alpha = %.1e' % _ALPHA_MIN)\n",
      "/anaconda3/envs/statenv/lib/python3.6/site-packages/sklearn/naive_bayes.py:485: UserWarning: alpha too small will result in numeric errors, setting alpha = 1.0e-10\n",
      "  'setting alpha = %.1e' % _ALPHA_MIN)\n",
      "/anaconda3/envs/statenv/lib/python3.6/site-packages/sklearn/naive_bayes.py:485: UserWarning: alpha too small will result in numeric errors, setting alpha = 1.0e-10\n",
      "  'setting alpha = %.1e' % _ALPHA_MIN)\n",
      "/anaconda3/envs/statenv/lib/python3.6/site-packages/sklearn/naive_bayes.py:485: UserWarning: alpha too small will result in numeric errors, setting alpha = 1.0e-10\n",
      "  'setting alpha = %.1e' % _ALPHA_MIN)\n",
      "/anaconda3/envs/statenv/lib/python3.6/site-packages/sklearn/naive_bayes.py:485: UserWarning: alpha too small will result in numeric errors, setting alpha = 1.0e-10\n",
      "  'setting alpha = %.1e' % _ALPHA_MIN)\n",
      "/anaconda3/envs/statenv/lib/python3.6/site-packages/sklearn/naive_bayes.py:485: UserWarning: alpha too small will result in numeric errors, setting alpha = 1.0e-10\n",
      "  'setting alpha = %.1e' % _ALPHA_MIN)\n",
      "/anaconda3/envs/statenv/lib/python3.6/site-packages/sklearn/naive_bayes.py:485: UserWarning: alpha too small will result in numeric errors, setting alpha = 1.0e-10\n",
      "  'setting alpha = %.1e' % _ALPHA_MIN)\n",
      "/anaconda3/envs/statenv/lib/python3.6/site-packages/sklearn/naive_bayes.py:485: UserWarning: alpha too small will result in numeric errors, setting alpha = 1.0e-10\n",
      "  'setting alpha = %.1e' % _ALPHA_MIN)\n",
      "/anaconda3/envs/statenv/lib/python3.6/site-packages/sklearn/naive_bayes.py:485: UserWarning: alpha too small will result in numeric errors, setting alpha = 1.0e-10\n",
      "  'setting alpha = %.1e' % _ALPHA_MIN)\n",
      "/anaconda3/envs/statenv/lib/python3.6/site-packages/sklearn/naive_bayes.py:485: UserWarning: alpha too small will result in numeric errors, setting alpha = 1.0e-10\n",
      "  'setting alpha = %.1e' % _ALPHA_MIN)\n",
      "/anaconda3/envs/statenv/lib/python3.6/site-packages/sklearn/naive_bayes.py:485: UserWarning: alpha too small will result in numeric errors, setting alpha = 1.0e-10\n",
      "  'setting alpha = %.1e' % _ALPHA_MIN)\n",
      "/anaconda3/envs/statenv/lib/python3.6/site-packages/sklearn/naive_bayes.py:485: UserWarning: alpha too small will result in numeric errors, setting alpha = 1.0e-10\n",
      "  'setting alpha = %.1e' % _ALPHA_MIN)\n",
      "/anaconda3/envs/statenv/lib/python3.6/site-packages/sklearn/naive_bayes.py:485: UserWarning: alpha too small will result in numeric errors, setting alpha = 1.0e-10\n",
      "  'setting alpha = %.1e' % _ALPHA_MIN)\n",
      "/anaconda3/envs/statenv/lib/python3.6/site-packages/sklearn/naive_bayes.py:485: UserWarning: alpha too small will result in numeric errors, setting alpha = 1.0e-10\n",
      "  'setting alpha = %.1e' % _ALPHA_MIN)\n",
      "/anaconda3/envs/statenv/lib/python3.6/site-packages/sklearn/naive_bayes.py:485: UserWarning: alpha too small will result in numeric errors, setting alpha = 1.0e-10\n",
      "  'setting alpha = %.1e' % _ALPHA_MIN)\n",
      "/anaconda3/envs/statenv/lib/python3.6/site-packages/sklearn/naive_bayes.py:485: UserWarning: alpha too small will result in numeric errors, setting alpha = 1.0e-10\n",
      "  'setting alpha = %.1e' % _ALPHA_MIN)\n",
      "/anaconda3/envs/statenv/lib/python3.6/site-packages/sklearn/naive_bayes.py:485: UserWarning: alpha too small will result in numeric errors, setting alpha = 1.0e-10\n",
      "  'setting alpha = %.1e' % _ALPHA_MIN)\n",
      "/anaconda3/envs/statenv/lib/python3.6/site-packages/sklearn/naive_bayes.py:485: UserWarning: alpha too small will result in numeric errors, setting alpha = 1.0e-10\n",
      "  'setting alpha = %.1e' % _ALPHA_MIN)\n",
      "/anaconda3/envs/statenv/lib/python3.6/site-packages/sklearn/naive_bayes.py:485: UserWarning: alpha too small will result in numeric errors, setting alpha = 1.0e-10\n",
      "  'setting alpha = %.1e' % _ALPHA_MIN)\n",
      "/anaconda3/envs/statenv/lib/python3.6/site-packages/sklearn/naive_bayes.py:485: UserWarning: alpha too small will result in numeric errors, setting alpha = 1.0e-10\n",
      "  'setting alpha = %.1e' % _ALPHA_MIN)\n",
      "/anaconda3/envs/statenv/lib/python3.6/site-packages/sklearn/naive_bayes.py:485: UserWarning: alpha too small will result in numeric errors, setting alpha = 1.0e-10\n",
      "  'setting alpha = %.1e' % _ALPHA_MIN)\n",
      "/anaconda3/envs/statenv/lib/python3.6/site-packages/sklearn/naive_bayes.py:485: UserWarning: alpha too small will result in numeric errors, setting alpha = 1.0e-10\n",
      "  'setting alpha = %.1e' % _ALPHA_MIN)\n",
      "/anaconda3/envs/statenv/lib/python3.6/site-packages/sklearn/naive_bayes.py:485: UserWarning: alpha too small will result in numeric errors, setting alpha = 1.0e-10\n",
      "  'setting alpha = %.1e' % _ALPHA_MIN)\n",
      "/anaconda3/envs/statenv/lib/python3.6/site-packages/sklearn/naive_bayes.py:485: UserWarning: alpha too small will result in numeric errors, setting alpha = 1.0e-10\n",
      "  'setting alpha = %.1e' % _ALPHA_MIN)\n",
      "/anaconda3/envs/statenv/lib/python3.6/site-packages/sklearn/naive_bayes.py:485: UserWarning: alpha too small will result in numeric errors, setting alpha = 1.0e-10\n",
      "  'setting alpha = %.1e' % _ALPHA_MIN)\n",
      "/anaconda3/envs/statenv/lib/python3.6/site-packages/sklearn/naive_bayes.py:485: UserWarning: alpha too small will result in numeric errors, setting alpha = 1.0e-10\n",
      "  'setting alpha = %.1e' % _ALPHA_MIN)\n",
      "/anaconda3/envs/statenv/lib/python3.6/site-packages/sklearn/naive_bayes.py:485: UserWarning: alpha too small will result in numeric errors, setting alpha = 1.0e-10\n",
      "  'setting alpha = %.1e' % _ALPHA_MIN)\n",
      "/anaconda3/envs/statenv/lib/python3.6/site-packages/sklearn/naive_bayes.py:485: UserWarning: alpha too small will result in numeric errors, setting alpha = 1.0e-10\n",
      "  'setting alpha = %.1e' % _ALPHA_MIN)\n",
      "/anaconda3/envs/statenv/lib/python3.6/site-packages/sklearn/naive_bayes.py:485: UserWarning: alpha too small will result in numeric errors, setting alpha = 1.0e-10\n",
      "  'setting alpha = %.1e' % _ALPHA_MIN)\n",
      "/anaconda3/envs/statenv/lib/python3.6/site-packages/sklearn/naive_bayes.py:485: UserWarning: alpha too small will result in numeric errors, setting alpha = 1.0e-10\n",
      "  'setting alpha = %.1e' % _ALPHA_MIN)\n",
      "/anaconda3/envs/statenv/lib/python3.6/site-packages/sklearn/naive_bayes.py:485: UserWarning: alpha too small will result in numeric errors, setting alpha = 1.0e-10\n",
      "  'setting alpha = %.1e' % _ALPHA_MIN)\n",
      "/anaconda3/envs/statenv/lib/python3.6/site-packages/sklearn/naive_bayes.py:485: UserWarning: alpha too small will result in numeric errors, setting alpha = 1.0e-10\n",
      "  'setting alpha = %.1e' % _ALPHA_MIN)\n",
      "/anaconda3/envs/statenv/lib/python3.6/site-packages/sklearn/naive_bayes.py:485: UserWarning: alpha too small will result in numeric errors, setting alpha = 1.0e-10\n",
      "  'setting alpha = %.1e' % _ALPHA_MIN)\n",
      "/anaconda3/envs/statenv/lib/python3.6/site-packages/sklearn/naive_bayes.py:485: UserWarning: alpha too small will result in numeric errors, setting alpha = 1.0e-10\n",
      "  'setting alpha = %.1e' % _ALPHA_MIN)\n",
      "/anaconda3/envs/statenv/lib/python3.6/site-packages/sklearn/naive_bayes.py:485: UserWarning: alpha too small will result in numeric errors, setting alpha = 1.0e-10\n",
      "  'setting alpha = %.1e' % _ALPHA_MIN)\n",
      "/anaconda3/envs/statenv/lib/python3.6/site-packages/sklearn/naive_bayes.py:485: UserWarning: alpha too small will result in numeric errors, setting alpha = 1.0e-10\n",
      "  'setting alpha = %.1e' % _ALPHA_MIN)\n",
      "/anaconda3/envs/statenv/lib/python3.6/site-packages/sklearn/naive_bayes.py:485: UserWarning: alpha too small will result in numeric errors, setting alpha = 1.0e-10\n",
      "  'setting alpha = %.1e' % _ALPHA_MIN)\n"
     ]
    }
   ],
   "source": [
    "# the grid of parameters to search over\n",
    "alphas = [0, 0.1, 1, 5, 10, 50]\n",
    "min_dfs = [0.001, 0.01, 0.1, 1, 2, 3, 5, 10, 15, 20, 50, 80] \n",
    "\n",
    "# find the best value for alpha and min_df, and the best classifier\n",
    "best_alpha = None\n",
    "best_min_df = None \n",
    "maxscore = -np.inf\n",
    "\n",
    "for alpha in alphas: \n",
    "    for min_df in min_dfs: \n",
    "        vectorizer = CountVectorizer(min_df = min_df)       \n",
    "        Xthis, ythis = make_xy(data_ratings_copy, vectorizer)\n",
    "        Xtrainthis = Xthis[mask]\n",
    "        ytrainthis = ythis[mask]\n",
    "        clf_IV = MultinomialNB(alpha = alpha)\n",
    "        cvscore = cv_score(clf_IV, Xtrainthis, ytrainthis, log_likelihood)\n",
    "\n",
    "        if cvscore > maxscore:\n",
    "            maxscore = cvscore\n",
    "            best_alpha = alpha \n",
    "            best_min_df = min_df"
   ]
  },
  {
   "cell_type": "code",
   "execution_count": 65,
   "metadata": {},
   "outputs": [
    {
     "name": "stdout",
     "output_type": "stream",
     "text": [
      "alpha: 50\n",
      "best min_df: 0.1\n",
      "best score: -1342.8486029583719\n"
     ]
    }
   ],
   "source": [
    "# print calculated best values\n",
    "print('alpha: {}'.format(best_alpha))\n",
    "print('best min_df: {}'.format(best_min_df))\n",
    "print('best score: {}'.format(maxscore))"
   ]
  },
  {
   "cell_type": "markdown",
   "metadata": {},
   "source": []
  },
  {
   "cell_type": "markdown",
   "metadata": {},
   "source": [
    "### 2. WORKING WITH THE BEST PARAMETERS"
   ]
  },
  {
   "cell_type": "code",
   "execution_count": 66,
   "metadata": {},
   "outputs": [
    {
     "name": "stdout",
     "output_type": "stream",
     "text": [
      "Accuracy on training data: 0.773378\n",
      "Accuracy on test data:     0.781714\n"
     ]
    }
   ],
   "source": [
    "# make a model from the best parameters\n",
    "vectorizer_3 = CountVectorizer(min_df=best_min_df)\n",
    "X, y = make_xy(data_ratings_copy, vectorizer_3)\n",
    "xtrain_2 = X[mask]\n",
    "ytrain_2 = y[mask]\n",
    "xtest_2 = X[~mask]\n",
    "ytest_2 = y[~mask]\n",
    "\n",
    "clf_3 = MultinomialNB(alpha=best_alpha).fit(xtrain_2, ytrain_2)\n",
    "\n",
    "# print the accuracy on the test and training dataset\n",
    "training_accuracy_3 = clf_3.score(xtrain_2, ytrain_2)\n",
    "test_accuracy_3 = clf_3.score(xtest_2, ytest_2)\n",
    "\n",
    "print('Accuracy on training data: {:2f}'.format(training_accuracy_3))\n",
    "print('Accuracy on test data:     {:2f}'.format(test_accuracy_3))"
   ]
  },
  {
   "cell_type": "markdown",
   "metadata": {},
   "source": []
  },
  {
   "cell_type": "markdown",
   "metadata": {},
   "source": [
    "#### 2.1. The confusion matrix"
   ]
  },
  {
   "cell_type": "code",
   "execution_count": 67,
   "metadata": {},
   "outputs": [
    {
     "name": "stdout",
     "output_type": "stream",
     "text": [
      "[[ 8259  3113]\n",
      " [ 2328 11226]]\n"
     ]
    }
   ],
   "source": [
    "# print confusion matrix \n",
    "print(confusion_matrix(ytest_2, clf_3.predict(xtest_2)))"
   ]
  },
  {
   "cell_type": "code",
   "execution_count": 68,
   "metadata": {},
   "outputs": [
    {
     "data": {
      "text/plain": [
       "<matplotlib.axes._subplots.AxesSubplot at 0x1a38d581d0>"
      ]
     },
     "execution_count": 68,
     "metadata": {},
     "output_type": "execute_result"
    },
    {
     "data": {
      "image/png": "[encoded data removed]",
      "text/plain": [
       "<Figure size 432x288 with 2 Axes>"
      ]
     },
     "metadata": {
      "needs_background": "light"
     },
     "output_type": "display_data"
    }
   ],
   "source": [
    "# plot the confusion matrix\n",
    "sns.heatmap(confusion_matrix(ytest_2, clf_3.predict(xtest_2)), annot=True, fmt='d')"
   ]
  },
  {
   "cell_type": "markdown",
   "metadata": {},
   "source": [
    "True Positive = 11226 (Observation is positive, and is predicted to be positive. Number of instances of positive class '1' correctly predicted.)\n",
    "\n",
    "True Negative = 8259 (Observation is negative, and is predicted to be negative. Number of instances of negative class '0' correctly predicted.)\n",
    "\n",
    "False Positive = 3113 (Observation is negative, but is predicted positive. Number of instances of negative class '0' incorrectly predicted as the positive class '1'.)\n",
    "\n",
    "False Negative = 2328 (Observation is positive, but is predicted negative. Number of instances of positive class '1' incorrectly predicted as the negative class '0'.)"
   ]
  },
  {
   "cell_type": "markdown",
   "metadata": {},
   "source": []
  },
  {
   "cell_type": "markdown",
   "metadata": {},
   "source": [
    "#### 2.2. Evaluating the precision and recall metric for our training data"
   ]
  },
  {
   "cell_type": "code",
   "execution_count": 69,
   "metadata": {},
   "outputs": [],
   "source": [
    "# instantiate the classifier\n",
    "nb_classifier = MultinomialNB(alpha=best_alpha)\n",
    "\n",
    "# fit to the training data\n",
    "nb_classifier.fit(xtrain_2, ytrain_2)\n",
    "\n",
    "# predict the labels\n",
    "pred_labels = nb_classifier.predict(xtest_2)"
   ]
  },
  {
   "cell_type": "code",
   "execution_count": 70,
   "metadata": {},
   "outputs": [],
   "source": [
    "# create a machine learning pipelines\n",
    "pipe_NB = make_pipeline(MultinomialNB())"
   ]
  },
  {
   "cell_type": "code",
   "execution_count": 71,
   "metadata": {},
   "outputs": [],
   "source": [
    "# compute predicted y's\n",
    "predicted_NB = cross_val_predict(pipe_NB, X, y, cv=3, n_jobs=-1)"
   ]
  },
  {
   "cell_type": "markdown",
   "metadata": {},
   "source": [
    "Let's check the Text summary of the precision, recall, F1 score for each recommended rating class (0, 1). \n",
    "\n",
    "A Classification report is used to measure the quality of predictions from a classification algorithm. How many predictions are True and how many are False. More specifically, True Positives, False Positives, True Negatives and False Negatives are used to predict the metrics of a classification report as shown below. "
   ]
  },
  {
   "cell_type": "code",
   "execution_count": 72,
   "metadata": {},
   "outputs": [
    {
     "name": "stdout",
     "output_type": "stream",
     "text": [
      "Multinomial Naive Bayes:\n",
      "              precision    recall  f1-score   support\n",
      "\n",
      "           0       0.78      0.72      0.75     16231\n",
      "           1       0.78      0.83      0.80     19378\n",
      "\n",
      "    accuracy                           0.78     35609\n",
      "   macro avg       0.78      0.77      0.77     35609\n",
      "weighted avg       0.78      0.78      0.78     35609\n",
      "\n",
      "\n",
      "\n"
     ]
    }
   ],
   "source": [
    "# classification report\n",
    "print('Multinomial Naive Bayes:') \n",
    "print(classification_report(y, predicted_NB)) \n",
    "print('\\n')"
   ]
  },
  {
   "cell_type": "markdown",
   "metadata": {},
   "source": [
    "First, let's refresh the meaning of each parameter in the report:\n",
    "The precision is the ratio between the number of true positives and the number of false positives. Precision is the ability of a classifier not to label an instance positive that is actually negative.\n",
    "\n",
    "The recall is the ratio between the number of true positives and the number of false negatives. Recall is the ability of a classifier to find all positive instances.\n",
    "\n",
    "The F-beta score can be interpreted as a weighted harmonic mean of precision and recall, where an F-beta score reaches its best value at 1 and worst score at 0.\n",
    "The F-beta score weights recall more than precision by a factor of beta. beta == 1.0 means recall and precision are equally important.\n",
    "\n",
    "The support is the number of occurrences of each class in y_true (correct target values).\n",
    "\n",
    "The reported averages include macro average, which represents averaging the unweighted mean per label. And weighted average, which is averaging the support-weighted mean per label.\n",
    "\n",
    "The precision and recall rates give us an idea about the discriminative ability of our classifier. In this case our average precision and recall rates are both 0.78. But if we look for each class, we can see that recall is higher for class 1 (travellers recommended airline).\n",
    "For the accuracy we get the similar result as we did above for the accuracy on the training set (in cell 66).\n",
    "\n"
   ]
  },
  {
   "cell_type": "markdown",
   "metadata": {},
   "source": []
  },
  {
   "cell_type": "markdown",
   "metadata": {},
   "source": [
    "#### 2.3. What are the strongly predictive features?"
   ]
  },
  {
   "cell_type": "code",
   "execution_count": 73,
   "metadata": {},
   "outputs": [
    {
     "name": "stdout",
     "output_type": "stream",
     "text": [
      "Good words\t     P(Yes | word)\n",
      "           excellent 0.90\n",
      "         comfortable 0.83\n",
      "               great 0.83\n",
      "            friendly 0.82\n",
      "                nice 0.82\n",
      "                good 0.81\n",
      "                well 0.69\n",
      "                 new 0.68\n",
      "               cabin 0.65\n",
      "                crew 0.64\n",
      "Bad words\t     P(Yes | word)\n",
      "               could 0.41\n",
      "                 got 0.40\n",
      "               delay 0.39\n",
      "                 get 0.37\n",
      "                next 0.36\n",
      "                 day 0.33\n",
      "                hour 0.33\n",
      "             delayed 0.31\n",
      "               never 0.24\n",
      "                told 0.15\n"
     ]
    }
   ],
   "source": [
    "# find good and bad words from the model with best parameters\n",
    "words_1 = np.array(vectorizer_3.get_feature_names())\n",
    "\n",
    "h = np.eye(xtest_2.shape[1])\n",
    "probs = clf_3.predict_log_proba(h)[:, 0]\n",
    "ind = np.argsort(probs)\n",
    "\n",
    "good_words = words_1[ind[:10]]\n",
    "bad_words = words_1[ind[-10:]]\n",
    "\n",
    "good_prob = probs[ind[:10]]\n",
    "bad_prob = probs[ind[-10:]]\n",
    "\n",
    "print('Good words\\t     P(Yes | word)')\n",
    "for w, p in zip(good_words, good_prob):\n",
    "    print('{:>20}'.format(w), '{:.2f}'.format(1 - np.exp(p)))\n",
    "    \n",
    "print('Bad words\\t     P(Yes | word)')\n",
    "for w, p in zip(bad_words, bad_prob):\n",
    "    print('{:>20}'.format(w), '{:.2f}'.format(1 - np.exp(p)))"
   ]
  },
  {
   "cell_type": "markdown",
   "metadata": {},
   "source": [
    "By looking at both categories of words, we can say that our classifier did correctly identified them. Words like 'excellent', 'great', 'nice', are definitely good/positive words. On the other hand, 'delay' and 'never' are words that are not associated with something good."
   ]
  },
  {
   "cell_type": "markdown",
   "metadata": {},
   "source": []
  },
  {
   "cell_type": "markdown",
   "metadata": {},
   "source": [
    "#### 2.4. Prediction errors\n",
    "\n",
    "We can see mis-predictions as well:"
   ]
  },
  {
   "cell_type": "code",
   "execution_count": 74,
   "metadata": {},
   "outputs": [
    {
     "name": "stdout",
     "output_type": "stream",
     "text": [
      "Mis-predicted Not recommended quotes\n",
      "---------------------------\n",
      "leg, airbus, club, europe, business, class, leg, time, seat, economy, seat, middle, seat, left, unsold, featuring, new, slim, seat, le, comfortable, reduced, seat, pitch, li, wa, handled, rather, surly, agent, wa, untypical, otherwise, friendly, airport, business, class, waiting, line, short, overall, wa, leg, wa, rather, lacklustre, inattentive, european, fleet, crew, initial, service, food, drink, service, consisted, clearing, dish, board, sale, business, class, flight, attendant, behind, curtain, reading, magazine, chatting, rather, attending, passenger, business, class, food, served, wa, plate, cold, cut, roll, three, thin, slice, fruit, basically, make, sandwich, plate, extremely, disappointing, poor, lunch, flight, scheduled, arrive, heathrow, pm, leg, service, wa, afternoon, tea, meaning, sandwich, however, time, least, wa, appropriate, due, time, day, full, bar, service, flight, french, white, wine, served, wa, mixed, fleet, crew, second, leg, wa, interested, job, ba, standard, regarding, friendliness, attentiveness, transfer, procedure, lhr, terminal, fast, friendly, even, extra, security, check, required, transfer, lhr, even, hassle, free, easy, ba, gallery, lounge, lhr, wa, oasis, rest, amid, busy, airport, comfortable, excellent, drink, selection, decent, food, selection, including, several, good, warm, choice, various, curry, lisbon, portela, ba, us, shared, blue, lounge, small, offering, rather, limited, limited, snack, ok, drink, least, good, nespresso, coffee, although, small, wa, crowded, plus, ba, delivered, good, basic, product, economy, standard, fail, see, real, business, class, service, offered, seat, wise, meal, wise, service, wise, saving, grace, wa, gallery, lounge, heathrow, better, service, leg, recommended, business, class, within, europe, based, experience, oneworld, sapphire\n",
      "\n",
      "upper, class, virgin, new, dream, suite, check, jfk, smooth, lounge, excellent, probably, best, jfk, great, service, excellent, food, good, start, boarding, time, easy, new, configuration, clean, quite, striking, first, bar, groovy, cabin, also, service, wa, discreet, casual, liked, food, ok, cooked, breakfast, wa, quite, good, nice, china, glassware, good, attentive, fa, excellent, entertainment, system, seat, dream, suite, nightmare, absolute, disaster, classic, case, style, substance, new, seat, incredibly, cramped, weigh, squeeze, horrible, seat, two, position, somewhat, reclined, flat, nothing, wa, daytime, flight, wanted, lie, back, relax, sleep, hugely, uncomfortable, one, small, flip, plastic, arm, rest, one, side, nothing, whoever, heard, business, class, seat, without, armrest, ridiculous, zero, storage, space, virgin, ha, got, rid, overhead, bin, center, plane, people, upper, class, seat, think, fighting, bin, space, bring, one, small, hand, bag, ridiculous, virgin, imagine, would, like, full, frill, nice, champagne, glass, nice, reason, people, buy, class, seat, space, comfort, new, suite, offer, neither, worst, new, generation, flat, bed, seat, premium, economy, seat, wider, two, armrest, novel, one, got, impression, fa, fully, aware, awful, product, changed, return, flight, old, never\n",
      "\n",
      "wife, flew, return, business, class, toronto, bangkok, via, dubai, toronto, dubai, leg, newer, provided, excellent, cabin, service, food, exception, hot, breakfast, wa, well, par, upon, arrival, dubai, found, business, class, lounge, comfortable, providing, good, selection, food, beverage, reading, material, dubai, leg, went, smoothly, except, hot, breakfast, proved, inedible, return, flight, bangkok, dubai, wa, older, series, wa, lot, le, comfortable, due, built, footrest, prevented, stretching, leg, found, debilitating, bad, knee, wa, uncomfortable, unless, put, seat, flat, bed, position, dubai, toronto, return, leg, wa, newer, provided, comfort, older, still, learned, earlier, hot, breakfast, experience, fell, third, time, wa, far, worst, three, breakfast, took, upon, complain, poached, egg, consistency, hockey, puck, cabin, crew, apologetic, acknowledged, wa, ongoing, issue, overall, emirate, business, class, experience, wa, expensive, mainly, pleasant, could, significantly, improved, chauffeur, service, wa, excellent, however, everything, else, need, yet, order, stop, shopping, around, alternative, comment, suggestion, listed, business, class, seat, narrow, uncomfortable, especially, seat, f, g, separated, armrest, wa, travelling, wife, need, use, privacy, screen, rise, vertically, armrest, unfortunately, even, use, still, protrudes, vertically, armrest, approximately, preventing, use, armrest, intended, purpose, even, holding, hand, significant, inclined, business, class, lounge, washroom, galley, stair, lower, level, rear, aircraft, make, busy, area, particularly, cabin, crew, coming, going, also, make, long, walk, washroom, seated, near, front, business, class, section, kudos, cabin, crew, delivered, food, tray, without, resorting, use, trolley, would, obviously, restrict, passenger, movement, clog, aisle, said, request, individual, item, met, comment, back, minute, mentioned, member, flight, crew, flight, tracker, program, wa, working, toronto, return, leg, wa, met, shrug, shoulder, explanation, biggest, beef, regarding, first, emirate, experience, never, saw, plane, purser, cabin, manager, flight, never, appeared, behind, curtain, separate, first, business, class\n",
      "\n",
      "stansted, la, vega, return, flight, excellent, stansted, security, problem, maxjet, lounge, stansted, wa, great, plenty, eat, drink, read, cabin, crew, flight, excellent, friendly, nothing, much, trouble, seat, comfortable, food, drink, excellent, personal, nice, touch, come, latest, film, video, tv, show, good, selection, music\n",
      "\n",
      "april, first, first, lounge, zrh, excellent, nice, decor, excellent, food, good, service, good, also, car, shuttle, gate, flight, old, layout, cabin, seat, old, dated, without, touch, luxury, limited, privacy, seat, tv, screen, small, seat, adjustment, panel, show, age, button, work, properly, toilet, also, absolutely, luxury, feature, look, like, economy, first, class, limited, amenity, one, hand, lotion, one, face, lotion, lip, balm, mouth, wash, etc, hour, tissue, use, paper, tissue, economy, style, amenity, ok, luxury, pyjama, good, quality, food, ok, first, standard, choice, quality, business, class, limited, choice, chicken, absolutely, taste, rice, also, tasteless, overall, really, good, good, quality, wine, flight, food, available, worse, business, class, serve, sandwich, etc, service, disappointing, empty, water, bottle, remained, hour, beside, maitre, de, cabin, however, wa, nice, tried, accommodate, u, much, possible, overall, disappointing, far, away, premium, airline, like, emirate, etihad, singapore, airline, first, experience, business, level, premium, airline, swiss, really, need, make, effort\n",
      "\n",
      "Mis-predicted Yes recommended quotes\n",
      "--------------------------\n",
      "gatwick, kefalonia, ticket, purchase, fairly, easy, online, printing, boarding, pas, online, could, made, simpler, due, early, departure, checked, luggage, night, arrived, next, morning, saw, still, full, shocked, security, gatwick, went, straight, machine, queue, eatery, rammed, wa, start, school, holiday, gate, announced, time, gate, called, reserved, seat, speedy, boarding, first, told, go, front, bus, cram, pax, got, bus, longest, journey, plane, round, back, airport, across, plane, driver, opened, front, door, speedy, pax, could, exit, first, easyjet, allocates, seat, get, disgusting, crush, rush, ryanair, clean, cabin, thanked, captain, boarding, quickly, told, flight, wa, delayed, due, air, traffic, control, giving, slot, later, missed, connecting, ferry, captain, came, said, slot, pushed, back, even, crew, came, free, water, couple, time, eventually, take, hour, late, fairly, uncomfortable, long, flight, add, extra, time, ground, crew, cheery, professional, chicken, wrap, got, limited, filling, wa, dry, box, crisp, salty, oily, next, time, buy, something, airport, bring, board, arriving, kefalonia, behind, another, flight, wait, clear, immigration, bit, bag, arrive, mine, wa, last, one, easyjet, preferable, ryanair, respect, charter, airline, fly, route, probably, fly, unless, old, bmi, charter, fly, ba, colour\n",
      "\n",
      "experience, flybe, ha, shocking, flight, southampton, newcastle, wa, cancelled, half, hour, boarded, due, technical, fault, flight, manchester, wa, also, cancelled, due, technical, fault, speaking, many, irate, customer, seems, regular, occurrence, flybe, second, time, thought, would, share, experience, cancelling, flight, told, collect, bag, proceed, flybe, desk, long, queue, eventually, offered, two, option, wait, hour, next, one, newcastle, go, gatwick, slightly, shorter, hour, wait, upon, complaining, desk, wa, told, rude, member, staff, happens, airline, u, worst, manager, duty, help, explain, empathy, consideration, anyone, else, felt, spent, hour, coach, gatwick, make, minute, spare, one, meet, u, end, help, direct, u, make, sure, given, priority, make, flight, planned, take, hand, luggage, flight, purchased, bottle, spirit, southampton, wa, told, would, checked, hand, luggage, wa, cheerfully, told, please, wa, directed, customer, service, desk, request, waive, charge, could, done, check, desk, long, queue, many, happy, customer, eventually, waived, charge, go, back, queue, check, bag, security, make, flight, disgraceful, customer, service\n",
      "\n",
      "raleigh, lhr, dec, initially, boarded, old, rust, bucket, disembarked, couple, hour, later, due, mechanical, problem, told, u, mechanic, would, problem, fixed, hour, inevitable, announcement, hour, later, could, fix, plane, would, depart, next, morning, aa, provide, hotel, overnight, wa, another, hour, ordeal, passenger, lining, see, one, representative, next, morning, made, way, gate, boarded, plane, captain, announced, fixed, tested, waited, departure, never, departed, one, hour, later, captain, announced, plane, wa, still, fit, fly, annoyance, u, passenger, wait, hour, airport, another, aa, rust, bucket, come, save, u, london, hour, delay, separate, boarding, flight, finally, made, london, christmas, morning, return, flight, london, lhr, new, york, jfk, operated, brand, new, wa, course, flawless, lesson, learned, tip, everything, avoid, flying, chance, wo, flying, good, plane, back, unreliable, day, moreover, want, entertainment, comfort, avoid, cost, ultimately, aa, good, airline, fly, right, plane\n",
      "\n",
      "flown, ryanair, many, time, without, problem, know, expect, wont, get, disappointed, however, upon, arriving, east, midland, airport, flight, tenerife, south, recently, plenty, time, spare, found, flight, departing, roughly, time, flight, people, needed, check, clear, security, boarding, seems, ryanair, bung, everyone, together, regardless, flight, people, panicking, flight, wa, taking, soon, stuck, check, asked, jump, queue, told, would, wait, like, everyone, else, took, u, hour, get, check, clear, security, queue, snaked, round, airport, although, admittedly, ryanair, fault, better, system, need, put, place, ryanair, check, managed, get, boarding, gate, time, albeit, end, queue, kept, waiting, minute, staff, needed, hand, luggage, put, hold, staff, member, wa, aggressive, rude, u, trying, grab, bag, put, hold, told, needed, bag, inflight, one, contained, valuable, wanted, keep, u, tried, snatch, husband, backpack, back, took, daughter, small, suitcase, took, back, eventually, offered, one, bag, remove, everything, wa, needed, carry, hand, would, even, give, u, carrier, bag, went, last, remaining, passenger, trying, grab, people, hand, luggage, nobody, else, would, offer, bag, came, back, u, telling, u, needed, bag, refused, wa, barked, u, choice, end, queue, put, hand, luggage, hold, would, fined, attitude, wa, appalling, asked, politely, may, tried, best, accommodate, request, would, let, last, people, departure, gate, thus, holding, flight, bag, way, giving, remaining, small, bag, eventually, got, bus, plane, flight, sat, another, minute, actually, taking, wa, never, made, clear, first, passenger, guaranteed, take, hand, luggage, yet, return, flight, home, everything, wa, smooth, queue, moved, quickly, staff, pleasant, helpful, polite, packed, bag, accordingly, offered, hand, luggage, hold, fly, ryanair, cheap, cheap, doe, mean, expect, spoken, like, dirt, someone, shoe\n",
      "\n",
      "delayed, hour, boarding, initially, told, delayed, minute, told, delayed, second, third, hour, told, delay, wa, dangerous, weather, route, would, lot, believable, seen, several, flight, beijing, depart, period, know, flight, going, delayed, especially, beijing, airline, need, straight, u, wa, happening, boarded, hour, late, pushed, back, told, wait, another, minute, turned, minute, could, take, flight, wa, fine, minute, new, clean, polite, service, delay, would, lot, bearable, tell, u, going\n",
      "\n"
     ]
    }
   ],
   "source": [
    "x, y = make_xy(data_ratings_copy, vectorizer_3)\n",
    "\n",
    "prob = clf_3.predict_proba(x)[:, 0]\n",
    "predict = clf_3.predict(x)\n",
    "\n",
    "bad_no = np.argsort(prob[y == 0])[:5]\n",
    "bad_yes = np.argsort(prob[y == 1])[-5:]\n",
    "\n",
    "print('Mis-predicted Not recommended quotes')\n",
    "print('---------------------------')\n",
    "for row in bad_no:\n",
    "    print(data_ratings_copy[y == 0].content.iloc[row])\n",
    "    print(\"\")\n",
    "\n",
    "print('Mis-predicted Yes recommended quotes')\n",
    "print('--------------------------')\n",
    "for row in bad_yes:\n",
    "    print(data_ratings_copy[y == 1].content.iloc[row])\n",
    "    print('')"
   ]
  },
  {
   "cell_type": "markdown",
   "metadata": {},
   "source": []
  },
  {
   "cell_type": "markdown",
   "metadata": {},
   "source": [
    "### 3. TERM-FREQUENCY x INVERSE DOCUMENT FREQUENCY"
   ]
  },
  {
   "cell_type": "markdown",
   "metadata": {},
   "source": [
    "We can use Tfidfvectorizer to compute tf-idf scores on documents within our training dataset.\n",
    "\n",
    "With Tfidfvectorizer we compute the word counts, idf and tf-idf values all at once:"
   ]
  },
  {
   "cell_type": "code",
   "execution_count": 77,
   "metadata": {},
   "outputs": [],
   "source": [
    "# initiate TfidfVectorizer to get the tf-idf scores of a set of documents\n",
    "tfidf_vectorizer = TfidfVectorizer(min_df=1, stop_words='english')\n",
    "Xtfidf = tfidf_vectorizer.fit_transform(data_ratings_copy.content)"
   ]
  },
  {
   "cell_type": "code",
   "execution_count": 78,
   "metadata": {},
   "outputs": [
    {
     "name": "stdout",
     "output_type": "stream",
     "text": [
      "(35609, 22662)\n"
     ]
    }
   ],
   "source": [
    "# check the shape \n",
    "print(Xtfidf.shape)"
   ]
  },
  {
   "cell_type": "markdown",
   "metadata": {},
   "source": [
    "Now let’s print the tfidf values for the first document from our collection:"
   ]
  },
  {
   "cell_type": "code",
   "execution_count": 79,
   "metadata": {},
   "outputs": [
    {
     "data": {
      "text/plain": [
       "'flight, larnaca, wa, joy, generous, legroom, nice, meal, fantastic, range, drink, choose, crew, wa, attentive, nice, aegean, leave, cockpit, door, open'"
      ]
     },
     "execution_count": 79,
     "metadata": {},
     "output_type": "execute_result"
    }
   ],
   "source": [
    "# print the first document from our dataset\n",
    "data_ratings_copy.content.iloc[0]"
   ]
  },
  {
   "cell_type": "code",
   "execution_count": 80,
   "metadata": {},
   "outputs": [
    {
     "data": {
      "text/html": [
       "<div>\n",
       "<style scoped>\n",
       "    .dataframe tbody tr th:only-of-type {\n",
       "        vertical-align: middle;\n",
       "    }\n",
       "\n",
       "    .dataframe tbody tr th {\n",
       "        vertical-align: top;\n",
       "    }\n",
       "\n",
       "    .dataframe thead th {\n",
       "        text-align: right;\n",
       "    }\n",
       "</style>\n",
       "<table border=\"1\" class=\"dataframe\">\n",
       "  <thead>\n",
       "    <tr style=\"text-align: right;\">\n",
       "      <th></th>\n",
       "      <th>tfidf</th>\n",
       "    </tr>\n",
       "  </thead>\n",
       "  <tbody>\n",
       "    <tr>\n",
       "      <th>larnaca</th>\n",
       "      <td>0.341738</td>\n",
       "    </tr>\n",
       "    <tr>\n",
       "      <th>joy</th>\n",
       "      <td>0.331779</td>\n",
       "    </tr>\n",
       "    <tr>\n",
       "      <th>aegean</th>\n",
       "      <td>0.313533</td>\n",
       "    </tr>\n",
       "    <tr>\n",
       "      <th>cockpit</th>\n",
       "      <td>0.296763</td>\n",
       "    </tr>\n",
       "    <tr>\n",
       "      <th>nice</th>\n",
       "      <td>0.296642</td>\n",
       "    </tr>\n",
       "    <tr>\n",
       "      <th>range</th>\n",
       "      <td>0.264392</td>\n",
       "    </tr>\n",
       "    <tr>\n",
       "      <th>generous</th>\n",
       "      <td>0.258298</td>\n",
       "    </tr>\n",
       "    <tr>\n",
       "      <th>door</th>\n",
       "      <td>0.234512</td>\n",
       "    </tr>\n",
       "    <tr>\n",
       "      <th>open</th>\n",
       "      <td>0.228498</td>\n",
       "    </tr>\n",
       "    <tr>\n",
       "      <th>fantastic</th>\n",
       "      <td>0.220248</td>\n",
       "    </tr>\n",
       "    <tr>\n",
       "      <th>choose</th>\n",
       "      <td>0.213646</td>\n",
       "    </tr>\n",
       "    <tr>\n",
       "      <th>leave</th>\n",
       "      <td>0.207829</td>\n",
       "    </tr>\n",
       "    <tr>\n",
       "      <th>attentive</th>\n",
       "      <td>0.173580</td>\n",
       "    </tr>\n",
       "    <tr>\n",
       "      <th>legroom</th>\n",
       "      <td>0.171445</td>\n",
       "    </tr>\n",
       "    <tr>\n",
       "      <th>drink</th>\n",
       "      <td>0.128123</td>\n",
       "    </tr>\n",
       "    <tr>\n",
       "      <th>meal</th>\n",
       "      <td>0.124327</td>\n",
       "    </tr>\n",
       "    <tr>\n",
       "      <th>wa</th>\n",
       "      <td>0.113379</td>\n",
       "    </tr>\n",
       "    <tr>\n",
       "      <th>crew</th>\n",
       "      <td>0.100899</td>\n",
       "    </tr>\n",
       "    <tr>\n",
       "      <th>flight</th>\n",
       "      <td>0.056247</td>\n",
       "    </tr>\n",
       "    <tr>\n",
       "      <th>preconception</th>\n",
       "      <td>0.000000</td>\n",
       "    </tr>\n",
       "    <tr>\n",
       "      <th>predatory</th>\n",
       "      <td>0.000000</td>\n",
       "    </tr>\n",
       "    <tr>\n",
       "      <th>precooked</th>\n",
       "      <td>0.000000</td>\n",
       "    </tr>\n",
       "    <tr>\n",
       "      <th>preclearance</th>\n",
       "      <td>0.000000</td>\n",
       "    </tr>\n",
       "    <tr>\n",
       "      <th>precocious</th>\n",
       "      <td>0.000000</td>\n",
       "    </tr>\n",
       "    <tr>\n",
       "      <th>precluded</th>\n",
       "      <td>0.000000</td>\n",
       "    </tr>\n",
       "    <tr>\n",
       "      <th>preclude</th>\n",
       "      <td>0.000000</td>\n",
       "    </tr>\n",
       "    <tr>\n",
       "      <th>predicament</th>\n",
       "      <td>0.000000</td>\n",
       "    </tr>\n",
       "    <tr>\n",
       "      <th>precision</th>\n",
       "      <td>0.000000</td>\n",
       "    </tr>\n",
       "    <tr>\n",
       "      <th>precisely</th>\n",
       "      <td>0.000000</td>\n",
       "    </tr>\n",
       "    <tr>\n",
       "      <th>precise</th>\n",
       "      <td>0.000000</td>\n",
       "    </tr>\n",
       "    <tr>\n",
       "      <th>...</th>\n",
       "      <td>...</td>\n",
       "    </tr>\n",
       "    <tr>\n",
       "      <th>finesse</th>\n",
       "      <td>0.000000</td>\n",
       "    </tr>\n",
       "    <tr>\n",
       "      <th>finer</th>\n",
       "      <td>0.000000</td>\n",
       "    </tr>\n",
       "    <tr>\n",
       "      <th>finely</th>\n",
       "      <td>0.000000</td>\n",
       "    </tr>\n",
       "    <tr>\n",
       "      <th>fined</th>\n",
       "      <td>0.000000</td>\n",
       "    </tr>\n",
       "    <tr>\n",
       "      <th>fine</th>\n",
       "      <td>0.000000</td>\n",
       "    </tr>\n",
       "    <tr>\n",
       "      <th>finding</th>\n",
       "      <td>0.000000</td>\n",
       "    </tr>\n",
       "    <tr>\n",
       "      <th>finder</th>\n",
       "      <td>0.000000</td>\n",
       "    </tr>\n",
       "    <tr>\n",
       "      <th>finland</th>\n",
       "      <td>0.000000</td>\n",
       "    </tr>\n",
       "    <tr>\n",
       "      <th>finnair</th>\n",
       "      <td>0.000000</td>\n",
       "    </tr>\n",
       "    <tr>\n",
       "      <th>firsthand</th>\n",
       "      <td>0.000000</td>\n",
       "    </tr>\n",
       "    <tr>\n",
       "      <th>firetrucks</th>\n",
       "      <td>0.000000</td>\n",
       "    </tr>\n",
       "    <tr>\n",
       "      <th>firstclass</th>\n",
       "      <td>0.000000</td>\n",
       "    </tr>\n",
       "    <tr>\n",
       "      <th>firmness</th>\n",
       "      <td>0.000000</td>\n",
       "    </tr>\n",
       "    <tr>\n",
       "      <th>firmly</th>\n",
       "      <td>0.000000</td>\n",
       "    </tr>\n",
       "    <tr>\n",
       "      <th>firmer</th>\n",
       "      <td>0.000000</td>\n",
       "    </tr>\n",
       "    <tr>\n",
       "      <th>firmed</th>\n",
       "      <td>0.000000</td>\n",
       "    </tr>\n",
       "    <tr>\n",
       "      <th>firm</th>\n",
       "      <td>0.000000</td>\n",
       "    </tr>\n",
       "    <tr>\n",
       "      <th>firing</th>\n",
       "      <td>0.000000</td>\n",
       "    </tr>\n",
       "    <tr>\n",
       "      <th>firework</th>\n",
       "      <td>0.000000</td>\n",
       "    </tr>\n",
       "    <tr>\n",
       "      <th>firetruck</th>\n",
       "      <td>0.000000</td>\n",
       "    </tr>\n",
       "    <tr>\n",
       "      <th>finnairs</th>\n",
       "      <td>0.000000</td>\n",
       "    </tr>\n",
       "    <tr>\n",
       "      <th>firefly</th>\n",
       "      <td>0.000000</td>\n",
       "    </tr>\n",
       "    <tr>\n",
       "      <th>fired</th>\n",
       "      <td>0.000000</td>\n",
       "    </tr>\n",
       "    <tr>\n",
       "      <th>firearm</th>\n",
       "      <td>0.000000</td>\n",
       "    </tr>\n",
       "    <tr>\n",
       "      <th>fir</th>\n",
       "      <td>0.000000</td>\n",
       "    </tr>\n",
       "    <tr>\n",
       "      <th>fiomicino</th>\n",
       "      <td>0.000000</td>\n",
       "    </tr>\n",
       "    <tr>\n",
       "      <th>finnish</th>\n",
       "      <td>0.000000</td>\n",
       "    </tr>\n",
       "    <tr>\n",
       "      <th>finnie</th>\n",
       "      <td>0.000000</td>\n",
       "    </tr>\n",
       "    <tr>\n",
       "      <th>finncomm</th>\n",
       "      <td>0.000000</td>\n",
       "    </tr>\n",
       "    <tr>\n",
       "      <th>ålesund</th>\n",
       "      <td>0.000000</td>\n",
       "    </tr>\n",
       "  </tbody>\n",
       "</table>\n",
       "<p>22662 rows × 1 columns</p>\n",
       "</div>"
      ],
      "text/plain": [
       "              tfidf\n",
       "larnaca    0.341738\n",
       "joy        0.331779\n",
       "aegean     0.313533\n",
       "cockpit    0.296763\n",
       "nice       0.296642\n",
       "...             ...\n",
       "fiomicino  0.000000\n",
       "finnish    0.000000\n",
       "finnie     0.000000\n",
       "finncomm   0.000000\n",
       "ålesund    0.000000\n",
       "\n",
       "[22662 rows x 1 columns]"
      ]
     },
     "execution_count": 80,
     "metadata": {},
     "output_type": "execute_result"
    }
   ],
   "source": [
    "# get the first vector out (for the first document)\n",
    "first_vector_tfidfvectorizer = Xtfidf[0]\n",
    " \n",
    "# place tf-idf values in a pandas dataframe\n",
    "df_Xtfidf = pd.DataFrame(first_vector_tfidfvectorizer.T.todense(), index=tfidf_vectorizer.get_feature_names(), columns=['tfidf'])\n",
    "df_Xtfidf.sort_values(by=['tfidf'], ascending=False)"
   ]
  },
  {
   "cell_type": "markdown",
   "metadata": {},
   "source": [
    "What we can notice that only certain words have scores. This is because our first document, printed above, has all the words that have a tf-idf score and everything else show up as zeroes. Words like 'a' or 'and' are missing from this list, because stop words are removed during processing.\n",
    "\n",
    "The scores above make sense. The more common the word across documents, the lower its score and the more unique a word is to our first document (e.g. ‘larnaca’ and ‘aegean’) the higher the score."
   ]
  },
  {
   "cell_type": "markdown",
   "metadata": {},
   "source": []
  },
  {
   "cell_type": "markdown",
   "metadata": {},
   "source": [
    "### 5 MODEL SELECTION \n",
    "\n",
    "We can also experiment with different machine learning models and evaluate their 'area under curve' score.\n",
    "\n",
    "We will use the following three models:\n",
    "\n",
    "    (Multinomial) Naive Bayes\n",
    "    Linear Support Vector Machine\n",
    "    Random Forest"
   ]
  },
  {
   "cell_type": "code",
   "execution_count": 85,
   "metadata": {},
   "outputs": [
    {
     "data": {
      "text/plain": [
       "(35609, 22662)"
      ]
     },
     "execution_count": 85,
     "metadata": {},
     "output_type": "execute_result"
    }
   ],
   "source": [
    "# define labels and features\n",
    "features_Xt = Xtfidf.toarray()\n",
    "labels_Xt = data_ratings_copy.recommended\n",
    "features_Xt.shape"
   ]
  },
  {
   "cell_type": "code",
   "execution_count": 87,
   "metadata": {},
   "outputs": [
    {
     "name": "stderr",
     "output_type": "stream",
     "text": [
      "/anaconda3/envs/statenv/lib/python3.6/site-packages/sklearn/ensemble/forest.py:245: FutureWarning: The default value of n_estimators will change from 10 in version 0.20 to 100 in 0.22.\n",
      "  \"10 in version 0.20 to 100 in 0.22.\", FutureWarning)\n",
      "/anaconda3/envs/statenv/lib/python3.6/site-packages/sklearn/ensemble/forest.py:245: FutureWarning: The default value of n_estimators will change from 10 in version 0.20 to 100 in 0.22.\n",
      "  \"10 in version 0.20 to 100 in 0.22.\", FutureWarning)\n",
      "/anaconda3/envs/statenv/lib/python3.6/site-packages/sklearn/ensemble/forest.py:245: FutureWarning: The default value of n_estimators will change from 10 in version 0.20 to 100 in 0.22.\n",
      "  \"10 in version 0.20 to 100 in 0.22.\", FutureWarning)\n",
      "/anaconda3/envs/statenv/lib/python3.6/site-packages/sklearn/ensemble/forest.py:245: FutureWarning: The default value of n_estimators will change from 10 in version 0.20 to 100 in 0.22.\n",
      "  \"10 in version 0.20 to 100 in 0.22.\", FutureWarning)\n",
      "/anaconda3/envs/statenv/lib/python3.6/site-packages/sklearn/ensemble/forest.py:245: FutureWarning: The default value of n_estimators will change from 10 in version 0.20 to 100 in 0.22.\n",
      "  \"10 in version 0.20 to 100 in 0.22.\", FutureWarning)\n"
     ]
    }
   ],
   "source": [
    "# cros validate selected classifiers\n",
    "models = [\n",
    "    RandomForestClassifier(),\n",
    "    LinearSVC(),\n",
    "    MultinomialNB()\n",
    "#    LogisticRegression(random_state=0),\n",
    "]\n",
    "\n",
    "CV = 5\n",
    "cv_df = pd.DataFrame(index=range(CV * len(models)))\n",
    "entries = []\n",
    "for model in models:\n",
    "    model_name = model.__class__.__name__\n",
    "    auc_Xt = cross_val_score(model, features_Xt, labels_Xt, scoring='roc_auc', cv=CV)\n",
    "    for fold_idx, auc in enumerate(auc_Xt):\n",
    "        entries.append((model_name, fold_idx, auc))\n",
    "cv_df = pd.DataFrame(entries, columns=['model_name', 'fold_idx', 'roc_auc'])\n"
   ]
  },
  {
   "cell_type": "code",
   "execution_count": 88,
   "metadata": {},
   "outputs": [
    {
     "data": {
      "text/html": [
       "<div>\n",
       "<style scoped>\n",
       "    .dataframe tbody tr th:only-of-type {\n",
       "        vertical-align: middle;\n",
       "    }\n",
       "\n",
       "    .dataframe tbody tr th {\n",
       "        vertical-align: top;\n",
       "    }\n",
       "\n",
       "    .dataframe thead th {\n",
       "        text-align: right;\n",
       "    }\n",
       "</style>\n",
       "<table border=\"1\" class=\"dataframe\">\n",
       "  <thead>\n",
       "    <tr style=\"text-align: right;\">\n",
       "      <th></th>\n",
       "      <th>model_name</th>\n",
       "      <th>fold_idx</th>\n",
       "      <th>roc_auc</th>\n",
       "    </tr>\n",
       "  </thead>\n",
       "  <tbody>\n",
       "    <tr>\n",
       "      <th>0</th>\n",
       "      <td>RandomForestClassifier</td>\n",
       "      <td>0</td>\n",
       "      <td>0.895426</td>\n",
       "    </tr>\n",
       "    <tr>\n",
       "      <th>1</th>\n",
       "      <td>RandomForestClassifier</td>\n",
       "      <td>1</td>\n",
       "      <td>0.878161</td>\n",
       "    </tr>\n",
       "    <tr>\n",
       "      <th>2</th>\n",
       "      <td>RandomForestClassifier</td>\n",
       "      <td>2</td>\n",
       "      <td>0.891623</td>\n",
       "    </tr>\n",
       "    <tr>\n",
       "      <th>3</th>\n",
       "      <td>RandomForestClassifier</td>\n",
       "      <td>3</td>\n",
       "      <td>0.903656</td>\n",
       "    </tr>\n",
       "    <tr>\n",
       "      <th>4</th>\n",
       "      <td>RandomForestClassifier</td>\n",
       "      <td>4</td>\n",
       "      <td>0.892179</td>\n",
       "    </tr>\n",
       "    <tr>\n",
       "      <th>5</th>\n",
       "      <td>LinearSVC</td>\n",
       "      <td>0</td>\n",
       "      <td>0.948371</td>\n",
       "    </tr>\n",
       "    <tr>\n",
       "      <th>6</th>\n",
       "      <td>LinearSVC</td>\n",
       "      <td>1</td>\n",
       "      <td>0.936337</td>\n",
       "    </tr>\n",
       "    <tr>\n",
       "      <th>7</th>\n",
       "      <td>LinearSVC</td>\n",
       "      <td>2</td>\n",
       "      <td>0.932137</td>\n",
       "    </tr>\n",
       "    <tr>\n",
       "      <th>8</th>\n",
       "      <td>LinearSVC</td>\n",
       "      <td>3</td>\n",
       "      <td>0.933093</td>\n",
       "    </tr>\n",
       "    <tr>\n",
       "      <th>9</th>\n",
       "      <td>LinearSVC</td>\n",
       "      <td>4</td>\n",
       "      <td>0.944574</td>\n",
       "    </tr>\n",
       "    <tr>\n",
       "      <th>10</th>\n",
       "      <td>MultinomialNB</td>\n",
       "      <td>0</td>\n",
       "      <td>0.928571</td>\n",
       "    </tr>\n",
       "    <tr>\n",
       "      <th>11</th>\n",
       "      <td>MultinomialNB</td>\n",
       "      <td>1</td>\n",
       "      <td>0.904952</td>\n",
       "    </tr>\n",
       "    <tr>\n",
       "      <th>12</th>\n",
       "      <td>MultinomialNB</td>\n",
       "      <td>2</td>\n",
       "      <td>0.907381</td>\n",
       "    </tr>\n",
       "    <tr>\n",
       "      <th>13</th>\n",
       "      <td>MultinomialNB</td>\n",
       "      <td>3</td>\n",
       "      <td>0.937158</td>\n",
       "    </tr>\n",
       "    <tr>\n",
       "      <th>14</th>\n",
       "      <td>MultinomialNB</td>\n",
       "      <td>4</td>\n",
       "      <td>0.903234</td>\n",
       "    </tr>\n",
       "  </tbody>\n",
       "</table>\n",
       "</div>"
      ],
      "text/plain": [
       "                model_name  fold_idx   roc_auc\n",
       "0   RandomForestClassifier         0  0.895426\n",
       "1   RandomForestClassifier         1  0.878161\n",
       "2   RandomForestClassifier         2  0.891623\n",
       "3   RandomForestClassifier         3  0.903656\n",
       "4   RandomForestClassifier         4  0.892179\n",
       "5                LinearSVC         0  0.948371\n",
       "6                LinearSVC         1  0.936337\n",
       "7                LinearSVC         2  0.932137\n",
       "8                LinearSVC         3  0.933093\n",
       "9                LinearSVC         4  0.944574\n",
       "10           MultinomialNB         0  0.928571\n",
       "11           MultinomialNB         1  0.904952\n",
       "12           MultinomialNB         2  0.907381\n",
       "13           MultinomialNB         3  0.937158\n",
       "14           MultinomialNB         4  0.903234"
      ]
     },
     "execution_count": 88,
     "metadata": {},
     "output_type": "execute_result"
    }
   ],
   "source": [
    "# print the scoring dataframe with results\n",
    "cv_df"
   ]
  },
  {
   "cell_type": "code",
   "execution_count": 89,
   "metadata": {},
   "outputs": [
    {
     "data": {
      "text/plain": [
       "model_name\n",
       "LinearSVC                 0.938902\n",
       "MultinomialNB             0.916259\n",
       "RandomForestClassifier    0.892209\n",
       "Name: roc_auc, dtype: float64"
      ]
     },
     "execution_count": 89,
     "metadata": {},
     "output_type": "execute_result"
    }
   ],
   "source": [
    "# print the score mean for each model\n",
    "cv_df.groupby('model_name').roc_auc.mean()"
   ]
  },
  {
   "cell_type": "code",
   "execution_count": null,
   "metadata": {},
   "outputs": [],
   "source": [
    "From this results we can see that on average LinearSVC model performed better than the other two classifiers."
   ]
  },
  {
   "cell_type": "code",
   "execution_count": null,
   "metadata": {},
   "outputs": [],
   "source": []
  },
  {
   "cell_type": "markdown",
   "metadata": {},
   "source": [
    "#### RANDOM FOREST"
   ]
  },
  {
   "cell_type": "code",
   "execution_count": 99,
   "metadata": {},
   "outputs": [],
   "source": [
    "# split dataset into training set and test set, 70% training and 30% test, features and labels are from cell 85\n",
    "X_train, X_test, y_train, y_test = train_test_split(features_Xt, labels_Xt, test_size=0.3)"
   ]
  },
  {
   "cell_type": "markdown",
   "metadata": {},
   "source": [
    "Let's first build a model on a smaller dataset by useing just first 100 rows."
   ]
  },
  {
   "cell_type": "code",
   "execution_count": 105,
   "metadata": {},
   "outputs": [],
   "source": [
    "# first 100 rows\n",
    "X_train_100 = X_train[:100]\n",
    "X_test_100 = X_test[:100]\n",
    "y_train_100 = y_train[:100]\n",
    "y_test_100 = y_test[:100]"
   ]
  },
  {
   "cell_type": "code",
   "execution_count": 134,
   "metadata": {},
   "outputs": [
    {
     "name": "stderr",
     "output_type": "stream",
     "text": [
      "/anaconda3/envs/statenv/lib/python3.6/site-packages/sklearn/ensemble/forest.py:245: FutureWarning: The default value of n_estimators will change from 10 in version 0.20 to 100 in 0.22.\n",
      "  \"10 in version 0.20 to 100 in 0.22.\", FutureWarning)\n"
     ]
    },
    {
     "data": {
      "text/plain": [
       "RandomForestClassifier(bootstrap=True, class_weight=None, criterion='gini',\n",
       "                       max_depth=None, max_features='auto', max_leaf_nodes=None,\n",
       "                       min_impurity_decrease=0.0, min_impurity_split=None,\n",
       "                       min_samples_leaf=1, min_samples_split=2,\n",
       "                       min_weight_fraction_leaf=0.0, n_estimators=10,\n",
       "                       n_jobs=None, oob_score=False, random_state=None,\n",
       "                       verbose=0, warm_start=False)"
      ]
     },
     "execution_count": 134,
     "metadata": {},
     "output_type": "execute_result"
    }
   ],
   "source": [
    "# instantiate model \n",
    "rand_forest = RandomForestClassifier()\n",
    "\n",
    "# train the model on training data\n",
    "rand_forest.fit(X_train_100, y_train_100)"
   ]
  },
  {
   "cell_type": "code",
   "execution_count": 135,
   "metadata": {},
   "outputs": [],
   "source": [
    "# use the forest's predict method on the test data\n",
    "rand_forest_pred = rand_forest.predict(X_test_100)"
   ]
  },
  {
   "cell_type": "code",
   "execution_count": 136,
   "metadata": {},
   "outputs": [
    {
     "name": "stdout",
     "output_type": "stream",
     "text": [
      "Actual recommended rating: 0 and Predicted recommended rating: 1\n",
      "Actual recommended rating: 1 and Predicted recommended rating: 1\n",
      "Actual recommended rating: 1 and Predicted recommended rating: 1\n",
      "Actual recommended rating: 1 and Predicted recommended rating: 1\n",
      "Actual recommended rating: 1 and Predicted recommended rating: 1\n",
      "Actual recommended rating: 1 and Predicted recommended rating: 1\n"
     ]
    }
   ],
   "source": [
    "# printing the first 6 values of y_test and the predicted results target\n",
    "for i in range(0, 6):\n",
    "    print('Actual recommended rating: {} and Predicted recommended rating: {}'.format(list(y_test_100)[i], rand_forest_pred[i]))"
   ]
  },
  {
   "cell_type": "code",
   "execution_count": 137,
   "metadata": {},
   "outputs": [
    {
     "name": "stdout",
     "output_type": "stream",
     "text": [
      "ROC AUC score:  0.6044471644226846\n"
     ]
    }
   ],
   "source": [
    "# calculate ROC AUC from prediction scores\n",
    "print('ROC AUC score: ', metrics.roc_auc_score(y_test_100, rand_forest_pred))"
   ]
  },
  {
   "cell_type": "code",
   "execution_count": 139,
   "metadata": {},
   "outputs": [
    {
     "name": "stdout",
     "output_type": "stream",
     "text": [
      "f1_score:  0.7517730496453902\n"
     ]
    }
   ],
   "source": [
    "# calculate F1 score from prediction scores\n",
    "print('f1_score: ', metrics.f1_score(y_test_100, rand_forest_pred))"
   ]
  },
  {
   "cell_type": "code",
   "execution_count": 152,
   "metadata": {},
   "outputs": [
    {
     "name": "stdout",
     "output_type": "stream",
     "text": [
      "[[12 31]\n",
      " [ 4 53]]\n"
     ]
    }
   ],
   "source": [
    "# print confusion matrix\n",
    "print(metrics.confusion_matrix(y_test_100, rand_forest_pred))"
   ]
  },
  {
   "cell_type": "markdown",
   "metadata": {},
   "source": [
    "True positive: 53, true negative: 12, false positive: 31, false negative: 4"
   ]
  },
  {
   "cell_type": "markdown",
   "metadata": {},
   "source": [
    "Now build Random Forest model on the whole dataset"
   ]
  },
  {
   "cell_type": "markdown",
   "metadata": {},
   "source": [
    "#### MODEL WITH THE WHOLE DATASET"
   ]
  },
  {
   "cell_type": "code",
   "execution_count": 131,
   "metadata": {},
   "outputs": [
    {
     "name": "stderr",
     "output_type": "stream",
     "text": [
      "/anaconda3/envs/statenv/lib/python3.6/site-packages/sklearn/ensemble/forest.py:245: FutureWarning: The default value of n_estimators will change from 10 in version 0.20 to 100 in 0.22.\n",
      "  \"10 in version 0.20 to 100 in 0.22.\", FutureWarning)\n"
     ]
    },
    {
     "data": {
      "text/plain": [
       "RandomForestClassifier(bootstrap=True, class_weight=None, criterion='gini',\n",
       "                       max_depth=None, max_features='auto', max_leaf_nodes=None,\n",
       "                       min_impurity_decrease=0.0, min_impurity_split=None,\n",
       "                       min_samples_leaf=1, min_samples_split=2,\n",
       "                       min_weight_fraction_leaf=0.0, n_estimators=10,\n",
       "                       n_jobs=None, oob_score=False, random_state=None,\n",
       "                       verbose=0, warm_start=False)"
      ]
     },
     "execution_count": 131,
     "metadata": {},
     "output_type": "execute_result"
    }
   ],
   "source": [
    "# instantiate model \n",
    "rand_forest_all = RandomForestClassifier()\n",
    "\n",
    "# train the model on training data\n",
    "rand_forest_all.fit(X_train, y_train)"
   ]
  },
  {
   "cell_type": "code",
   "execution_count": 132,
   "metadata": {},
   "outputs": [],
   "source": [
    "# use the forest's predict method on the test data\n",
    "rand_forest_all_pred = rand_forest_all.predict(X_test)"
   ]
  },
  {
   "cell_type": "code",
   "execution_count": 133,
   "metadata": {},
   "outputs": [
    {
     "name": "stdout",
     "output_type": "stream",
     "text": [
      "Actual recommended rating: 0 and Predicted recommended rating: 1\n",
      "Actual recommended rating: 1 and Predicted recommended rating: 0\n",
      "Actual recommended rating: 1 and Predicted recommended rating: 1\n",
      "Actual recommended rating: 1 and Predicted recommended rating: 1\n",
      "Actual recommended rating: 1 and Predicted recommended rating: 1\n",
      "Actual recommended rating: 1 and Predicted recommended rating: 1\n"
     ]
    }
   ],
   "source": [
    "# printing the first 6 values of y_test and the predicted results target\n",
    "for i in range(0, 6):\n",
    "    print('Actual recommended rating: {} and Predicted recommended rating: {}'.format(list(y_test)[i], rand_forest_all_pred[i]))"
   ]
  },
  {
   "cell_type": "code",
   "execution_count": 140,
   "metadata": {},
   "outputs": [
    {
     "name": "stdout",
     "output_type": "stream",
     "text": [
      "ROC AUC score:  0.8153164751944824\n"
     ]
    }
   ],
   "source": [
    "# calculate ROC AUC from predictions\n",
    "print('ROC AUC score: ', metrics.roc_auc_score(y_test, rand_forest_all_pred))"
   ]
  },
  {
   "cell_type": "code",
   "execution_count": 142,
   "metadata": {},
   "outputs": [
    {
     "name": "stdout",
     "output_type": "stream",
     "text": [
      "f1_score:  0.827898866608544\n"
     ]
    }
   ],
   "source": [
    "# calculate F1 score from predictions\n",
    "print('f1_score: ', metrics.f1_score(y_test, rand_forest_all_pred))"
   ]
  },
  {
   "cell_type": "code",
   "execution_count": 151,
   "metadata": {},
   "outputs": [
    {
     "name": "stdout",
     "output_type": "stream",
     "text": [
      "[[3961  891]\n",
      " [1083 4748]]\n"
     ]
    }
   ],
   "source": [
    "# print confusion matrix\n",
    "print(metrics.confusion_matrix(y_test, rand_forest_all_pred))"
   ]
  },
  {
   "cell_type": "markdown",
   "metadata": {},
   "source": [
    "True positive: 4748, true negative: 3961, false positive: 891, false negative: 1083"
   ]
  },
  {
   "cell_type": "markdown",
   "metadata": {},
   "source": []
  },
  {
   "cell_type": "markdown",
   "metadata": {},
   "source": [
    "### LINEAR SVC"
   ]
  },
  {
   "cell_type": "markdown",
   "metadata": {},
   "source": [
    "#### MODEL ON 100 ROWS"
   ]
  },
  {
   "cell_type": "code",
   "execution_count": 117,
   "metadata": {},
   "outputs": [],
   "source": [
    "# create a LinearSVC instance and fit the training data\n",
    "classifier_linear = LinearSVC()\n",
    "\n",
    "model_linear = classifier_linear.fit(X_train_100, y_train_100)"
   ]
  },
  {
   "cell_type": "code",
   "execution_count": 118,
   "metadata": {},
   "outputs": [],
   "source": [
    "# predict on the test data\n",
    "y_test_linear = model_linear.predict(X_test_100)"
   ]
  },
  {
   "cell_type": "code",
   "execution_count": 124,
   "metadata": {},
   "outputs": [
    {
     "name": "stdout",
     "output_type": "stream",
     "text": [
      "ROC AUC score:  0.65687474500204\n"
     ]
    }
   ],
   "source": [
    "# calculate ROC AUC from prediction scores\n",
    "print('ROC AUC score: ', metrics.roc_auc_score(y_test_100, y_test_linear))"
   ]
  },
  {
   "cell_type": "code",
   "execution_count": 128,
   "metadata": {},
   "outputs": [
    {
     "name": "stdout",
     "output_type": "stream",
     "text": [
      "f1_score:  0.7857142857142856\n"
     ]
    }
   ],
   "source": [
    "# calculate F1 score from prediction scores\n",
    "print('f1_score: ', metrics.f1_score(y_test_100, y_test_linear))"
   ]
  },
  {
   "cell_type": "code",
   "execution_count": 150,
   "metadata": {},
   "outputs": [
    {
     "name": "stdout",
     "output_type": "stream",
     "text": [
      "[[15 28]\n",
      " [ 2 55]]\n"
     ]
    }
   ],
   "source": [
    "# print confusion matrix\n",
    "print(metrics.confusion_matrix(y_test_100, y_test_linear))"
   ]
  },
  {
   "cell_type": "markdown",
   "metadata": {},
   "source": [
    "True positive: 55, true negative: 15, false positive: 28, false negative: 2"
   ]
  },
  {
   "cell_type": "markdown",
   "metadata": {},
   "source": []
  },
  {
   "cell_type": "markdown",
   "metadata": {},
   "source": [
    "#### MODEL ON THE WHOLE DATASET"
   ]
  },
  {
   "cell_type": "code",
   "execution_count": 143,
   "metadata": {},
   "outputs": [],
   "source": [
    "# create a LinearSVC instance and fit the training data\n",
    "classifier_linear_all = LinearSVC()\n",
    "\n",
    "model_linear_all = classifier_linear_all.fit(X_train, y_train)"
   ]
  },
  {
   "cell_type": "code",
   "execution_count": 145,
   "metadata": {},
   "outputs": [],
   "source": [
    "# predict on the test data\n",
    "y_test_linear_all = model_linear_all.predict(X_test)"
   ]
  },
  {
   "cell_type": "code",
   "execution_count": 146,
   "metadata": {},
   "outputs": [
    {
     "name": "stdout",
     "output_type": "stream",
     "text": [
      "ROC AUC score:  0.884595022793006\n"
     ]
    }
   ],
   "source": [
    "# calculate ROC AUC from prediction scores\n",
    "print('ROC AUC score: ', metrics.roc_auc_score(y_test, y_test_linear_all))"
   ]
  },
  {
   "cell_type": "code",
   "execution_count": 147,
   "metadata": {},
   "outputs": [
    {
     "name": "stdout",
     "output_type": "stream",
     "text": [
      "f1_score:  0.8945285615966965\n"
     ]
    }
   ],
   "source": [
    "# calculate F1 score from prediction scores\n",
    "print('f1_score: ', metrics.f1_score(y_test, y_test_linear_all))"
   ]
  },
  {
   "cell_type": "code",
   "execution_count": 149,
   "metadata": {},
   "outputs": [
    {
     "name": "stdout",
     "output_type": "stream",
     "text": [
      "[[4258  594]\n",
      " [ 632 5199]]\n"
     ]
    }
   ],
   "source": [
    "# print confusion matrix\n",
    "print(metrics.confusion_matrix(y_test, y_test_linear_all))"
   ]
  },
  {
   "cell_type": "markdown",
   "metadata": {},
   "source": [
    "True positive: 5199, true negative: 4258, false positive: 594, false negative: 632"
   ]
  },
  {
   "cell_type": "markdown",
   "metadata": {},
   "source": []
  },
  {
   "cell_type": "markdown",
   "metadata": {},
   "source": [
    "### PIPLINES"
   ]
  },
  {
   "cell_type": "markdown",
   "metadata": {},
   "source": [
    "Let's first take a small sample of 100 rows from dataset."
   ]
  },
  {
   "cell_type": "code",
   "execution_count": 219,
   "metadata": {},
   "outputs": [],
   "source": [
    "# select 100 rows from the dataframe\n",
    "data_100 = data_ratings_copy.iloc[:100]"
   ]
  },
  {
   "cell_type": "code",
   "execution_count": 221,
   "metadata": {},
   "outputs": [
    {
     "data": {
      "text/plain": [
       "(100, 21)"
      ]
     },
     "execution_count": 221,
     "metadata": {},
     "output_type": "execute_result"
    }
   ],
   "source": [
    "# check the length of the new dataframe\n",
    "data_100.shape"
   ]
  },
  {
   "cell_type": "code",
   "execution_count": 235,
   "metadata": {},
   "outputs": [],
   "source": [
    "# split data into training and test, only using 'content' column as an independable feature and 'recommended' as dependable\n",
    "data_train_T100, data_test_T100, y_train_T100, y_test_T100 = train_test_split(data_100['content'], data_100['recommended'], test_size=0.3)"
   ]
  },
  {
   "cell_type": "code",
   "execution_count": 236,
   "metadata": {},
   "outputs": [],
   "source": [
    "# create a pipeline to preprocess the data and instance for classifier\n",
    "clf_svc_100 = Pipeline([\n",
    "                    ('tfidf', TfidfVectorizer(stop_words='english')),\n",
    "                    ('clf', LinearSVC()),\n",
    "                    ])\n",
    "\n",
    "# fit the selected classifier with training data and predict on test \n",
    "model_clf_svc_100 = clf_svc_100.fit(data_train_T100, y_train_T100)\n",
    "predicted_svc_100 = model_clf_svc_100.predict(data_test_T100)"
   ]
  },
  {
   "cell_type": "code",
   "execution_count": 238,
   "metadata": {},
   "outputs": [
    {
     "name": "stdout",
     "output_type": "stream",
     "text": [
      "ROC AUC score:  0.6\n"
     ]
    }
   ],
   "source": [
    "# calculate ROC AUC from prediction scores\n",
    "print('ROC AUC score: ', metrics.roc_auc_score(y_test_T100, predicted_svc_100))"
   ]
  },
  {
   "cell_type": "code",
   "execution_count": 237,
   "metadata": {},
   "outputs": [
    {
     "name": "stdout",
     "output_type": "stream",
     "text": [
      "0.8666666666666667\n"
     ]
    }
   ],
   "source": [
    "print(np.mean(predicted_svc_100 == y_test_T100))"
   ]
  },
  {
   "cell_type": "markdown",
   "metadata": {},
   "source": [
    "Now, let's build a simple pipeline with Random Forest classifier."
   ]
  },
  {
   "cell_type": "code",
   "execution_count": 233,
   "metadata": {},
   "outputs": [
    {
     "name": "stderr",
     "output_type": "stream",
     "text": [
      "/anaconda3/envs/statenv/lib/python3.6/site-packages/sklearn/ensemble/forest.py:245: FutureWarning: The default value of n_estimators will change from 10 in version 0.20 to 100 in 0.22.\n",
      "  \"10 in version 0.20 to 100 in 0.22.\", FutureWarning)\n"
     ]
    }
   ],
   "source": [
    "# create a pipeline to preprocess the data and an instance for classifier\n",
    "clf_svc_100_rd = Pipeline([\n",
    "                    ('tfidf_100', TfidfVectorizer(stop_words='english')),\n",
    "                    ('rdc_100', RandomForestClassifier()),\n",
    "                    ])\n",
    "\n",
    "# fit the selected classifier with training data and predict on test\n",
    "model_clf_svc_100_rd = clf_svc_100_rd.fit(data_train_T100, y_train_T100)\n",
    "predicted_svc_100_rd = model_clf_svc_100_rd.predict(data_test_T100)"
   ]
  },
  {
   "cell_type": "code",
   "execution_count": 239,
   "metadata": {},
   "outputs": [
    {
     "name": "stdout",
     "output_type": "stream",
     "text": [
      "ROC AUC score:  0.4\n"
     ]
    }
   ],
   "source": [
    "# calculate ROC AUC from prediction scores\n",
    "print('ROC AUC score: ', metrics.roc_auc_score(y_test_T100, predicted_svc_100_rd))"
   ]
  },
  {
   "cell_type": "markdown",
   "metadata": {},
   "source": [
    "Let's check how will both classifiers perform on the whole dataframe."
   ]
  },
  {
   "cell_type": "code",
   "execution_count": 244,
   "metadata": {},
   "outputs": [],
   "source": [
    "# split data into training and test\n",
    "data_train_all, data_test_all, y_train_all, y_test_all = train_test_split(data_ratings_copy['content'], data_ratings_copy['recommended'], test_size=0.3)"
   ]
  },
  {
   "cell_type": "code",
   "execution_count": 245,
   "metadata": {},
   "outputs": [],
   "source": [
    "# create a pipeline to preprocess the data and an instance for classifier\n",
    "clf_svc_all_linear = Pipeline([\n",
    "                    ('tfidf', TfidfVectorizer(stop_words='english')),\n",
    "                    ('clf', LinearSVC()),\n",
    "                    ])\n",
    "\n",
    "# fit the selected classifier with training data and predict on test\n",
    "model_clf_svc_all_linear = clf_svc_all_linear.fit(data_train_all, y_train_all)\n",
    "predicted_svc_all_linear = model_clf_svc_all_linear.predict(data_test_all)"
   ]
  },
  {
   "cell_type": "code",
   "execution_count": 246,
   "metadata": {},
   "outputs": [
    {
     "name": "stdout",
     "output_type": "stream",
     "text": [
      "ROC AUC score:  0.8851564127395597\n"
     ]
    }
   ],
   "source": [
    "# calculate ROC AUC from prediction scores\n",
    "print('ROC AUC score: ', metrics.roc_auc_score(y_test_all, predicted_svc_all_linear))"
   ]
  },
  {
   "cell_type": "code",
   "execution_count": null,
   "metadata": {},
   "outputs": [],
   "source": [
    "We can see that LinearSVC performs much better on the larger dataset."
   ]
  },
  {
   "cell_type": "code",
   "execution_count": 247,
   "metadata": {},
   "outputs": [
    {
     "name": "stderr",
     "output_type": "stream",
     "text": [
      "/anaconda3/envs/statenv/lib/python3.6/site-packages/sklearn/ensemble/forest.py:245: FutureWarning: The default value of n_estimators will change from 10 in version 0.20 to 100 in 0.22.\n",
      "  \"10 in version 0.20 to 100 in 0.22.\", FutureWarning)\n"
     ]
    }
   ],
   "source": [
    "# create a pipeline to preprocess the data and an instance for classifier\n",
    "clf_svc_all_rf = Pipeline([\n",
    "                    ('tfidf_all', TfidfVectorizer(stop_words='english')),\n",
    "                    ('rdc_all', RandomForestClassifier()),\n",
    "                    ])\n",
    "\n",
    "# fit the selected classifier with training data and predict on test\n",
    "model_clf_svc_all_rf = clf_svc_all_rf.fit(data_train_all, y_train_all)\n",
    "predicted_svc_all_rf = model_clf_svc_all_rf.predict(data_test_all)"
   ]
  },
  {
   "cell_type": "code",
   "execution_count": 248,
   "metadata": {},
   "outputs": [
    {
     "name": "stdout",
     "output_type": "stream",
     "text": [
      "ROC AUC score:  0.8240331100293717\n"
     ]
    }
   ],
   "source": [
    "# calculate ROC AUC from prediction scores\n",
    "print('ROC AUC score: ', metrics.roc_auc_score(y_test_all, predicted_svc_all_rf))"
   ]
  },
  {
   "cell_type": "markdown",
   "metadata": {},
   "source": [
    "As expected classifier performs better on the larger dataset, but its performance is slightly worse than from LinearSVC."
   ]
  },
  {
   "cell_type": "code",
   "execution_count": null,
   "metadata": {},
   "outputs": [],
   "source": []
  },
  {
   "cell_type": "code",
   "execution_count": 251,
   "metadata": {},
   "outputs": [
    {
     "name": "stdout",
     "output_type": "stream",
     "text": [
      "<class 'pandas.core.frame.DataFrame'>\n",
      "Int64Index: 35609 entries, 0 to 35608\n",
      "Data columns (total 21 columns):\n",
      "airline_name                     35609 non-null object\n",
      "link                             35609 non-null object\n",
      "title                            35609 non-null object\n",
      "author                           35609 non-null object\n",
      "author_country                   35396 non-null object\n",
      "date                             35609 non-null object\n",
      "content                          35609 non-null object\n",
      "aircraft                         1153 non-null object\n",
      "type_traveller                   2164 non-null object\n",
      "cabin_flown                      34138 non-null object\n",
      "route                            2128 non-null object\n",
      "overall_rating                   32275 non-null float64\n",
      "seat_comfort_rating              31415 non-null float64\n",
      "cabin_staff_rating               31417 non-null float64\n",
      "food_beverages_rating            31020 non-null float64\n",
      "inflight_entertainment_rating    28980 non-null float64\n",
      "ground_service_rating            2003 non-null float64\n",
      "wifi_connectivity_rating         534 non-null float64\n",
      "value_money_rating               35314 non-null float64\n",
      "recommended                      35609 non-null int64\n",
      "recommended_2                    35609 non-null object\n",
      "dtypes: float64(8), int64(1), object(12)\n",
      "memory usage: 6.0+ MB\n"
     ]
    }
   ],
   "source": [
    "data_ratings_copy.info()"
   ]
  },
  {
   "cell_type": "code",
   "execution_count": 269,
   "metadata": {},
   "outputs": [],
   "source": [
    "# sample from the dataset (100 rows)\n",
    "X_s100 = data_100[['content', 'overall_rating', 'seat_comfort_rating', 'cabin_staff_rating', 'value_money_rating', 'food_beverages_rating']]\n",
    "y_s100 = data_100.recommended"
   ]
  },
  {
   "cell_type": "code",
   "execution_count": 624,
   "metadata": {},
   "outputs": [
    {
     "name": "stderr",
     "output_type": "stream",
     "text": [
      "/anaconda3/envs/statenv/lib/python3.6/site-packages/pandas/core/generic.py:5209: SettingWithCopyWarning: \n",
      "A value is trying to be set on a copy of a slice from a DataFrame.\n",
      "Try using .loc[row_indexer,col_indexer] = value instead\n",
      "\n",
      "See the caveats in the documentation: http://pandas.pydata.org/pandas-docs/stable/user_guide/indexing.html#returning-a-view-versus-a-copy\n",
      "  self[name] = value\n"
     ]
    }
   ],
   "source": [
    "# change float data into integer type\n",
    "X_s100.value_money_rating = X_s100.value_money_rating.astype(int)"
   ]
  },
  {
   "cell_type": "code",
   "execution_count": 633,
   "metadata": {},
   "outputs": [
    {
     "name": "stderr",
     "output_type": "stream",
     "text": [
      "/anaconda3/envs/statenv/lib/python3.6/site-packages/pandas/core/generic.py:5209: SettingWithCopyWarning: \n",
      "A value is trying to be set on a copy of a slice from a DataFrame.\n",
      "Try using .loc[row_indexer,col_indexer] = value instead\n",
      "\n",
      "See the caveats in the documentation: http://pandas.pydata.org/pandas-docs/stable/user_guide/indexing.html#returning-a-view-versus-a-copy\n",
      "  self[name] = value\n"
     ]
    }
   ],
   "source": [
    "# change float data into integer type\n",
    "X_s100.seat_comfort_rating = X_s100.seat_comfort_rating.astype(int)\n",
    "X_s100.cabin_staff_rating = X_s100.cabin_staff_rating.astype(int)"
   ]
  },
  {
   "cell_type": "code",
   "execution_count": 634,
   "metadata": {},
   "outputs": [
    {
     "name": "stdout",
     "output_type": "stream",
     "text": [
      "<class 'pandas.core.frame.DataFrame'>\n",
      "Int64Index: 100 entries, 0 to 99\n",
      "Data columns (total 6 columns):\n",
      "content                  100 non-null object\n",
      "overall_rating           95 non-null float64\n",
      "seat_comfort_rating      100 non-null int64\n",
      "cabin_staff_rating       100 non-null int64\n",
      "value_money_rating       100 non-null int64\n",
      "food_beverages_rating    95 non-null float64\n",
      "dtypes: float64(2), int64(3), object(1)\n",
      "memory usage: 10.5+ KB\n"
     ]
    }
   ],
   "source": [
    "# get info on dataframe\n",
    "X_s100.info()"
   ]
  },
  {
   "cell_type": "code",
   "execution_count": 635,
   "metadata": {},
   "outputs": [
    {
     "data": {
      "text/html": [
       "<div>\n",
       "<style scoped>\n",
       "    .dataframe tbody tr th:only-of-type {\n",
       "        vertical-align: middle;\n",
       "    }\n",
       "\n",
       "    .dataframe tbody tr th {\n",
       "        vertical-align: top;\n",
       "    }\n",
       "\n",
       "    .dataframe thead th {\n",
       "        text-align: right;\n",
       "    }\n",
       "</style>\n",
       "<table border=\"1\" class=\"dataframe\">\n",
       "  <thead>\n",
       "    <tr style=\"text-align: right;\">\n",
       "      <th></th>\n",
       "      <th>content</th>\n",
       "      <th>overall_rating</th>\n",
       "      <th>seat_comfort_rating</th>\n",
       "      <th>cabin_staff_rating</th>\n",
       "      <th>value_money_rating</th>\n",
       "      <th>food_beverages_rating</th>\n",
       "    </tr>\n",
       "  </thead>\n",
       "  <tbody>\n",
       "    <tr>\n",
       "      <th>0</th>\n",
       "      <td>flight, larnaca, wa, joy, generous, legroom, n...</td>\n",
       "      <td>10.0</td>\n",
       "      <td>5</td>\n",
       "      <td>5</td>\n",
       "      <td>5</td>\n",
       "      <td>5.0</td>\n",
       "    </tr>\n",
       "    <tr>\n",
       "      <th>1</th>\n",
       "      <td>flight, time, row, friendly, staff, attentive,...</td>\n",
       "      <td>8.0</td>\n",
       "      <td>4</td>\n",
       "      <td>5</td>\n",
       "      <td>4</td>\n",
       "      <td>4.0</td>\n",
       "    </tr>\n",
       "    <tr>\n",
       "      <th>2</th>\n",
       "      <td>good, flight, aegean, boarding, wa, quickly, c...</td>\n",
       "      <td>9.0</td>\n",
       "      <td>4</td>\n",
       "      <td>5</td>\n",
       "      <td>4</td>\n",
       "      <td>4.0</td>\n",
       "    </tr>\n",
       "    <tr>\n",
       "      <th>3</th>\n",
       "      <td>brand, new, interior, spotless, crew, immacula...</td>\n",
       "      <td>8.0</td>\n",
       "      <td>4</td>\n",
       "      <td>4</td>\n",
       "      <td>4</td>\n",
       "      <td>NaN</td>\n",
       "    </tr>\n",
       "    <tr>\n",
       "      <th>4</th>\n",
       "      <td>booked, premium, economy, ticket, suitcase, on...</td>\n",
       "      <td>8.0</td>\n",
       "      <td>4</td>\n",
       "      <td>5</td>\n",
       "      <td>3</td>\n",
       "      <td>4.0</td>\n",
       "    </tr>\n",
       "  </tbody>\n",
       "</table>\n",
       "</div>"
      ],
      "text/plain": [
       "                                             content  overall_rating  seat_comfort_rating  cabin_staff_rating  value_money_rating  food_beverages_rating\n",
       "0  flight, larnaca, wa, joy, generous, legroom, n...            10.0                    5                   5                   5                    5.0\n",
       "1  flight, time, row, friendly, staff, attentive,...             8.0                    4                   5                   4                    4.0\n",
       "2  good, flight, aegean, boarding, wa, quickly, c...             9.0                    4                   5                   4                    4.0\n",
       "3  brand, new, interior, spotless, crew, immacula...             8.0                    4                   4                   4                    NaN\n",
       "4  booked, premium, economy, ticket, suitcase, on...             8.0                    4                   5                   3                    4.0"
      ]
     },
     "execution_count": 635,
     "metadata": {},
     "output_type": "execute_result"
    }
   ],
   "source": [
    "# check first few rows\n",
    "X_s100.head()"
   ]
  },
  {
   "cell_type": "code",
   "execution_count": 637,
   "metadata": {},
   "outputs": [],
   "source": [
    "# function for selecting column from the dataframe\n",
    "class NumberSelector(BaseEstimator, TransformerMixin):\n",
    "    def __init__(self, field):\n",
    "        self.field = field\n",
    "    def fit(self, X_s100, y_s100 =None):\n",
    "        return self\n",
    "    def transform(self, X_s100):\n",
    "        return X_s100[[self.field]]"
   ]
  },
  {
   "cell_type": "code",
   "execution_count": 638,
   "metadata": {},
   "outputs": [],
   "source": [
    "# split the data into train and test\n",
    "X_train_s100, X_test_s100, y_train_s100, y_test_s100 = train_test_split(X_s100, y_s100, test_size=0.3, random_state=21)"
   ]
  },
  {
   "cell_type": "code",
   "execution_count": 640,
   "metadata": {},
   "outputs": [],
   "source": [
    "# build a pipeline with selected columns, you want to use as independent features, and instance for a classifier\n",
    "pipeline_value_seat_cabin = Pipeline([\n",
    "        ('features', FeatureUnion([\n",
    "                                    ('f1', NumberSelector('value_money_rating')),\n",
    "                                    ('f2', NumberSelector('seat_comfort_rating')),\n",
    "                                    ('f3', NumberSelector('cabin_staff_rating')),\n",
    "            ])),\n",
    "        ('clf_f', LinearSVC()),\n",
    "])"
   ]
  },
  {
   "cell_type": "code",
   "execution_count": 641,
   "metadata": {},
   "outputs": [
    {
     "name": "stdout",
     "output_type": "stream",
     "text": [
      "[0.93333333 1.         0.92857143 0.84615385 0.92307692]\n"
     ]
    },
    {
     "name": "stderr",
     "output_type": "stream",
     "text": [
      "/anaconda3/envs/statenv/lib/python3.6/site-packages/sklearn/svm/base.py:929: ConvergenceWarning: Liblinear failed to converge, increase the number of iterations.\n",
      "  \"the number of iterations.\", ConvergenceWarning)\n"
     ]
    }
   ],
   "source": [
    "# KFold cross validation with 5 folds\n",
    "# applying the classifier pipeline to the features and target data\n",
    "cv_result_value_seat_cabin = cross_val_score(pipeline_value_seat_cabin, X_train_s100, y_train_s100, cv=5)\n",
    "\n",
    "# print score\n",
    "print(cv_result_value_seat_cabin)"
   ]
  },
  {
   "cell_type": "code",
   "execution_count": 642,
   "metadata": {},
   "outputs": [],
   "source": [
    "# build a pipeline with selected columns, you want to use as independent features, and instance for a classifier\n",
    "pipeline_value_seat_cabin_rf = Pipeline([\n",
    "        ('features', FeatureUnion([\n",
    "                                    ('f1', NumberSelector('value_money_rating')), \n",
    "                                    ('f2', NumberSelector('seat_comfort_rating')),\n",
    "                                    ('f3', NumberSelector('cabin_staff_rating')),\n",
    "            ])),\n",
    "        ('clf_rf', RandomForestClassifier()),  \n",
    "])"
   ]
  },
  {
   "cell_type": "code",
   "execution_count": 643,
   "metadata": {},
   "outputs": [
    {
     "name": "stdout",
     "output_type": "stream",
     "text": [
      "[1.         0.93333333 1.         0.84615385 0.92307692]\n"
     ]
    },
    {
     "name": "stderr",
     "output_type": "stream",
     "text": [
      "/anaconda3/envs/statenv/lib/python3.6/site-packages/sklearn/ensemble/forest.py:245: FutureWarning: The default value of n_estimators will change from 10 in version 0.20 to 100 in 0.22.\n",
      "  \"10 in version 0.20 to 100 in 0.22.\", FutureWarning)\n",
      "/anaconda3/envs/statenv/lib/python3.6/site-packages/sklearn/ensemble/forest.py:245: FutureWarning: The default value of n_estimators will change from 10 in version 0.20 to 100 in 0.22.\n",
      "  \"10 in version 0.20 to 100 in 0.22.\", FutureWarning)\n",
      "/anaconda3/envs/statenv/lib/python3.6/site-packages/sklearn/ensemble/forest.py:245: FutureWarning: The default value of n_estimators will change from 10 in version 0.20 to 100 in 0.22.\n",
      "  \"10 in version 0.20 to 100 in 0.22.\", FutureWarning)\n",
      "/anaconda3/envs/statenv/lib/python3.6/site-packages/sklearn/ensemble/forest.py:245: FutureWarning: The default value of n_estimators will change from 10 in version 0.20 to 100 in 0.22.\n",
      "  \"10 in version 0.20 to 100 in 0.22.\", FutureWarning)\n",
      "/anaconda3/envs/statenv/lib/python3.6/site-packages/sklearn/ensemble/forest.py:245: FutureWarning: The default value of n_estimators will change from 10 in version 0.20 to 100 in 0.22.\n",
      "  \"10 in version 0.20 to 100 in 0.22.\", FutureWarning)\n"
     ]
    }
   ],
   "source": [
    "# KFold cross validation with 5 folds\n",
    "# applying the classifier pipeline to the features and target data\n",
    "cv_result_value_seat_cabin_rf = cross_val_score(pipeline_value_seat_cabin_rf, X_train_s100, y_train_s100, cv=5)\n",
    "\n",
    "# print score\n",
    "print(cv_result_value_seat_cabin_rf)"
   ]
  },
  {
   "cell_type": "markdown",
   "metadata": {},
   "source": []
  },
  {
   "cell_type": "markdown",
   "metadata": {},
   "source": [
    "#### Pipelines with small sample (100 rows)"
   ]
  },
  {
   "cell_type": "code",
   "execution_count": 424,
   "metadata": {},
   "outputs": [],
   "source": [
    "# define features (from string columns) and labels\n",
    "data_100_few_columns = data_100[['airline_name', 'author_country', 'aircraft', 'type_traveller', 'cabin_flown']]\n",
    "y_data_100_few_columns = data_100['recommended']"
   ]
  },
  {
   "cell_type": "code",
   "execution_count": 442,
   "metadata": {},
   "outputs": [
    {
     "name": "stdout",
     "output_type": "stream",
     "text": [
      "<class 'pandas.core.frame.DataFrame'>\n",
      "Int64Index: 100 entries, 0 to 99\n",
      "Data columns (total 5 columns):\n",
      "airline_name      100 non-null object\n",
      "author_country    100 non-null object\n",
      "aircraft          20 non-null object\n",
      "type_traveller    29 non-null object\n",
      "cabin_flown       100 non-null object\n",
      "dtypes: object(5)\n",
      "memory usage: 9.7+ KB\n"
     ]
    }
   ],
   "source": [
    "data_100_few_columns.info()"
   ]
  },
  {
   "cell_type": "code",
   "execution_count": 426,
   "metadata": {},
   "outputs": [],
   "source": [
    "# function to select column from dataframe\n",
    "class GetItemTransformer(BaseEstimator, TransformerMixin):\n",
    "    def __init__(self, field):\n",
    "        self.field = field\n",
    "    def fit(self, data_100_few_columns, y_data_100_few_columns=None):\n",
    "        return self\n",
    "    # assume default fit()\n",
    "    def transform(self, data_100_few_columns):\n",
    "        return data_100_few_columns[self.field]"
   ]
  },
  {
   "cell_type": "code",
   "execution_count": 432,
   "metadata": {},
   "outputs": [],
   "source": [
    "# split data into train and test\n",
    "data_train_few, data_test_few, y_train_few, y_test_few = train_test_split(data_100_few_columns, y_data_100_few_columns, test_size=0.3, random_state=21)"
   ]
  },
  {
   "cell_type": "code",
   "execution_count": 431,
   "metadata": {},
   "outputs": [
    {
     "data": {
      "text/plain": [
       "((70, 5), (30, 5), (70,), (30,))"
      ]
     },
     "execution_count": 431,
     "metadata": {},
     "output_type": "execute_result"
    }
   ],
   "source": [
    "# check length of train and test features and labels\n",
    "data_train_few.shape, data_test_few.shape, y_train_few.shape, y_test_few.shape"
   ]
  },
  {
   "cell_type": "code",
   "execution_count": 488,
   "metadata": {},
   "outputs": [],
   "source": [
    "# pipeline with random forest classifier and with airline and cabin flown as independent features\n",
    "test_airline_cabin_flown_V2 = Pipeline([\n",
    "    ('features', FeatureUnion([\n",
    "                            ('f1', Pipeline([\n",
    "                                    ('get', GetItemTransformer('airline_name')),\n",
    "                                    ('tfidf', CountVectorizer(stop_words='english')),\n",
    "                                    ])),\n",
    "                            ('f2', Pipeline([\n",
    "                                    ('get', GetItemTransformer('cabin_flown')),\n",
    "                                    ('tfidf', CountVectorizer(stop_words='english')),\n",
    "                                    ])),\n",
    "                            ])),\n",
    "    ('clf', RandomForestClassifier()),\n",
    "    ])"
   ]
  },
  {
   "cell_type": "code",
   "execution_count": 489,
   "metadata": {},
   "outputs": [
    {
     "name": "stdout",
     "output_type": "stream",
     "text": [
      "[0.73333333 0.66666667 0.78571429 0.76923077 0.69230769]\n"
     ]
    },
    {
     "name": "stderr",
     "output_type": "stream",
     "text": [
      "/anaconda3/envs/statenv/lib/python3.6/site-packages/sklearn/ensemble/forest.py:245: FutureWarning: The default value of n_estimators will change from 10 in version 0.20 to 100 in 0.22.\n",
      "  \"10 in version 0.20 to 100 in 0.22.\", FutureWarning)\n",
      "/anaconda3/envs/statenv/lib/python3.6/site-packages/sklearn/ensemble/forest.py:245: FutureWarning: The default value of n_estimators will change from 10 in version 0.20 to 100 in 0.22.\n",
      "  \"10 in version 0.20 to 100 in 0.22.\", FutureWarning)\n",
      "/anaconda3/envs/statenv/lib/python3.6/site-packages/sklearn/ensemble/forest.py:245: FutureWarning: The default value of n_estimators will change from 10 in version 0.20 to 100 in 0.22.\n",
      "  \"10 in version 0.20 to 100 in 0.22.\", FutureWarning)\n",
      "/anaconda3/envs/statenv/lib/python3.6/site-packages/sklearn/ensemble/forest.py:245: FutureWarning: The default value of n_estimators will change from 10 in version 0.20 to 100 in 0.22.\n",
      "  \"10 in version 0.20 to 100 in 0.22.\", FutureWarning)\n",
      "/anaconda3/envs/statenv/lib/python3.6/site-packages/sklearn/ensemble/forest.py:245: FutureWarning: The default value of n_estimators will change from 10 in version 0.20 to 100 in 0.22.\n",
      "  \"10 in version 0.20 to 100 in 0.22.\", FutureWarning)\n"
     ]
    }
   ],
   "source": [
    "# KFold cross validation with 5 folds\n",
    "# applying the classifier pipeline to the features and target data\n",
    "cv_result_airline_cabin_rf_V2 = cross_val_score(test_airline_cabin_flown_V2, data_train_few, y_train_few, cv=5)\n",
    "\n",
    "# print score\n",
    "print(cv_result_airline_cabin_rf_V2)"
   ]
  },
  {
   "cell_type": "code",
   "execution_count": 490,
   "metadata": {},
   "outputs": [
    {
     "name": "stderr",
     "output_type": "stream",
     "text": [
      "/anaconda3/envs/statenv/lib/python3.6/site-packages/sklearn/ensemble/forest.py:245: FutureWarning: The default value of n_estimators will change from 10 in version 0.20 to 100 in 0.22.\n",
      "  \"10 in version 0.20 to 100 in 0.22.\", FutureWarning)\n"
     ]
    }
   ],
   "source": [
    "# fit the classifier with train data nad predict on test data\n",
    "model_few_airline_cabin_flown_rf_V2 = test_airline_cabin_flown_V2.fit(data_train_few, y_train_few)\n",
    "predicted_few_airline_cabin_flown_rf_V2 = model_few_airline_cabin_flown_rf_V2.predict(data_test_few)"
   ]
  },
  {
   "cell_type": "code",
   "execution_count": 491,
   "metadata": {},
   "outputs": [
    {
     "name": "stdout",
     "output_type": "stream",
     "text": [
      "ROC AUC score:  0.5\n"
     ]
    }
   ],
   "source": [
    "# calculate ROC AUC from prediction scores\n",
    "print('ROC AUC score: ', metrics.roc_auc_score(y_test_few, predicted_few_airline_cabin_flown_rf_V2))"
   ]
  },
  {
   "cell_type": "markdown",
   "metadata": {},
   "source": []
  },
  {
   "cell_type": "code",
   "execution_count": 484,
   "metadata": {},
   "outputs": [],
   "source": [
    "# pipeline with LinearSVC classifier and with airline and cabin flown as features\n",
    "test_airline_cabin_flown_V4 = Pipeline([\n",
    "    ('features', FeatureUnion([\n",
    "                            ('f1', Pipeline([\n",
    "                                    ('get', GetItemTransformer('airline_name')),\n",
    "                                    ('tfidf', CountVectorizer(stop_words='english')),\n",
    "                                    ])),\n",
    "                            ('f2', Pipeline([\n",
    "                                    ('get', GetItemTransformer('cabin_flown')),\n",
    "                                    ('tfidf', CountVectorizer(stop_words='english')),\n",
    "                                    ])),\n",
    "                            ])),\n",
    "    ('clf', LinearSVC()),\n",
    "    ])"
   ]
  },
  {
   "cell_type": "code",
   "execution_count": 485,
   "metadata": {},
   "outputs": [
    {
     "name": "stdout",
     "output_type": "stream",
     "text": [
      "[0.73333333 0.73333333 0.78571429 0.76923077 0.76923077]\n"
     ]
    }
   ],
   "source": [
    "# KFold cross validation with 5 folds\n",
    "# applying the classifier pipeline to the features and target data\n",
    "cv_result_airline_cabin_linear_V4 = cross_val_score(test_airline_cabin_flown_V4, data_train_few, y_train_few, cv=5)\n",
    "\n",
    "# print score\n",
    "print(cv_result_airline_cabin_linear_V4)"
   ]
  },
  {
   "cell_type": "markdown",
   "metadata": {},
   "source": []
  },
  {
   "cell_type": "code",
   "execution_count": 492,
   "metadata": {},
   "outputs": [],
   "source": [
    "# pipeline with LinearSVC classifier with airline cabin flown and author's country as independent features\n",
    "test_airline_cabin_country_linear = Pipeline([\n",
    "    ('features', FeatureUnion([\n",
    "                            ('f1', Pipeline([\n",
    "                                    ('get', GetItemTransformer('airline_name')),\n",
    "                                    ('ctvr', CountVectorizer(stop_words='english')),\n",
    "                                    ])),\n",
    "                            ('f2', Pipeline([\n",
    "                                    ('get', GetItemTransformer('cabin_flown')),\n",
    "                                    ('ctvr', CountVectorizer(stop_words='english')),\n",
    "                                    ])),\n",
    "                            ('f3', Pipeline([\n",
    "                                    ('get', GetItemTransformer('author_country')),\n",
    "                                    ('ctvr', CountVectorizer(stop_words='english')),\n",
    "                                    ])),\n",
    "                            ])),\n",
    "    ('clf', LinearSVC()),\n",
    "    ])"
   ]
  },
  {
   "cell_type": "code",
   "execution_count": 493,
   "metadata": {},
   "outputs": [
    {
     "name": "stdout",
     "output_type": "stream",
     "text": [
      "5 KFold cross validation with LinearSVC classifier:  [0.6        0.66666667 0.64285714 0.76923077 0.69230769]\n"
     ]
    }
   ],
   "source": [
    "# split the data into five folds, then execute the classifier pipeline on the dataset\n",
    "cv_result_airline_cabin_country_linear = cross_val_score(test_airline_cabin_country_linear, data_train_few, y_train_few, cv=5)\n",
    "\n",
    "# print result\n",
    "print('5 KFold cross validation with LinearSVC classifier: ', cv_result_airline_cabin_country_linear)"
   ]
  },
  {
   "cell_type": "code",
   "execution_count": 494,
   "metadata": {},
   "outputs": [
    {
     "data": {
      "text/plain": [
       "0.6742124542124541"
      ]
     },
     "execution_count": 494,
     "metadata": {},
     "output_type": "execute_result"
    }
   ],
   "source": [
    "# compute average of CV scores\n",
    "cv_result_airline_cabin_country_linear.mean()"
   ]
  },
  {
   "cell_type": "markdown",
   "metadata": {},
   "source": [
    "To get an good measure of the model’s accuracy, we calculate the mean of the three scores. This is our measure of model accuracy."
   ]
  },
  {
   "cell_type": "markdown",
   "metadata": {},
   "source": []
  },
  {
   "cell_type": "code",
   "execution_count": 495,
   "metadata": {},
   "outputs": [],
   "source": [
    "# pipeline with Random Forest classifier with airline, cabin flown and author's country as features\n",
    "test_airline_cabin_country_rf = Pipeline([\n",
    "    ('features', FeatureUnion([\n",
    "                            ('f1', Pipeline([\n",
    "                                    ('get', GetItemTransformer('airline_name')),\n",
    "                                    ('ctvr', CountVectorizer(stop_words='english')),\n",
    "                                    ])),\n",
    "                            ('f2', Pipeline([\n",
    "                                    ('get', GetItemTransformer('cabin_flown')),\n",
    "                                    ('ctvr', CountVectorizer(stop_words='english')),\n",
    "                                    ])),\n",
    "                            ('f3', Pipeline([\n",
    "                                    ('get', GetItemTransformer('author_country')),\n",
    "                                    ('ctvr', CountVectorizer(stop_words='english')),\n",
    "                                    ])),\n",
    "                            ])),\n",
    "    ('clf', RandomForestClassifier()),\n",
    "    ])"
   ]
  },
  {
   "cell_type": "code",
   "execution_count": 496,
   "metadata": {},
   "outputs": [
    {
     "name": "stdout",
     "output_type": "stream",
     "text": [
      "5 KFold cross validation with Random Forest classifier:  [0.6        0.66666667 0.71428571 0.69230769 0.53846154]\n"
     ]
    },
    {
     "name": "stderr",
     "output_type": "stream",
     "text": [
      "/anaconda3/envs/statenv/lib/python3.6/site-packages/sklearn/ensemble/forest.py:245: FutureWarning: The default value of n_estimators will change from 10 in version 0.20 to 100 in 0.22.\n",
      "  \"10 in version 0.20 to 100 in 0.22.\", FutureWarning)\n",
      "/anaconda3/envs/statenv/lib/python3.6/site-packages/sklearn/ensemble/forest.py:245: FutureWarning: The default value of n_estimators will change from 10 in version 0.20 to 100 in 0.22.\n",
      "  \"10 in version 0.20 to 100 in 0.22.\", FutureWarning)\n",
      "/anaconda3/envs/statenv/lib/python3.6/site-packages/sklearn/ensemble/forest.py:245: FutureWarning: The default value of n_estimators will change from 10 in version 0.20 to 100 in 0.22.\n",
      "  \"10 in version 0.20 to 100 in 0.22.\", FutureWarning)\n",
      "/anaconda3/envs/statenv/lib/python3.6/site-packages/sklearn/ensemble/forest.py:245: FutureWarning: The default value of n_estimators will change from 10 in version 0.20 to 100 in 0.22.\n",
      "  \"10 in version 0.20 to 100 in 0.22.\", FutureWarning)\n",
      "/anaconda3/envs/statenv/lib/python3.6/site-packages/sklearn/ensemble/forest.py:245: FutureWarning: The default value of n_estimators will change from 10 in version 0.20 to 100 in 0.22.\n",
      "  \"10 in version 0.20 to 100 in 0.22.\", FutureWarning)\n"
     ]
    }
   ],
   "source": [
    "# split the data into five folds, then execute the classifier pipeline on the dataset\n",
    "cv_result_airline_cabin_country_rf = cross_val_score(test_airline_cabin_country_rf, data_train_few, y_train_few, cv=5)\n",
    "\n",
    "# print result\n",
    "print('5 KFold cross validation with Random Forest classifier: ', cv_result_airline_cabin_country_rf)"
   ]
  },
  {
   "cell_type": "code",
   "execution_count": 499,
   "metadata": {},
   "outputs": [
    {
     "name": "stdout",
     "output_type": "stream",
     "text": [
      "Average value for model's accuracy:  0.6423443223443224\n"
     ]
    }
   ],
   "source": [
    "# compute average of CV scores\n",
    "print(\"Average value for model's accuracy: \",  cv_result_airline_cabin_country_rf.mean())"
   ]
  },
  {
   "cell_type": "markdown",
   "metadata": {},
   "source": [
    "We can see that that this model has lower average accuracy compare to the LinearSVC classifier."
   ]
  },
  {
   "cell_type": "markdown",
   "metadata": {},
   "source": []
  },
  {
   "cell_type": "code",
   "execution_count": 646,
   "metadata": {},
   "outputs": [
    {
     "name": "stdout",
     "output_type": "stream",
     "text": [
      "<class 'pandas.core.frame.DataFrame'>\n",
      "Int64Index: 100 entries, 0 to 99\n",
      "Data columns (total 21 columns):\n",
      "airline_name                     100 non-null object\n",
      "link                             100 non-null object\n",
      "title                            100 non-null object\n",
      "author                           100 non-null object\n",
      "author_country                   100 non-null object\n",
      "date                             100 non-null object\n",
      "content                          100 non-null object\n",
      "aircraft                         20 non-null object\n",
      "type_traveller                   29 non-null object\n",
      "cabin_flown                      100 non-null object\n",
      "route                            29 non-null object\n",
      "overall_rating                   95 non-null float64\n",
      "seat_comfort_rating              100 non-null int64\n",
      "cabin_staff_rating               100 non-null int64\n",
      "food_beverages_rating            95 non-null float64\n",
      "inflight_entertainment_rating    81 non-null float64\n",
      "ground_service_rating            27 non-null float64\n",
      "wifi_connectivity_rating         2 non-null float64\n",
      "value_money_rating               100 non-null int64\n",
      "recommended                      100 non-null int64\n",
      "recommended_2                    100 non-null object\n",
      "dtypes: float64(5), int64(4), object(12)\n",
      "memory usage: 22.2+ KB\n"
     ]
    }
   ],
   "source": [
    "data_100.info()"
   ]
  },
  {
   "cell_type": "code",
   "execution_count": 645,
   "metadata": {},
   "outputs": [
    {
     "name": "stderr",
     "output_type": "stream",
     "text": [
      "/anaconda3/envs/statenv/lib/python3.6/site-packages/pandas/core/generic.py:5209: SettingWithCopyWarning: \n",
      "A value is trying to be set on a copy of a slice from a DataFrame.\n",
      "Try using .loc[row_indexer,col_indexer] = value instead\n",
      "\n",
      "See the caveats in the documentation: http://pandas.pydata.org/pandas-docs/stable/user_guide/indexing.html#returning-a-view-versus-a-copy\n",
      "  self[name] = value\n"
     ]
    }
   ],
   "source": [
    "# change float type into integer\n",
    "data_100.seat_comfort_rating = data_100.seat_comfort_rating.astype(int)\n",
    "data_100.cabin_staff_rating = data_100.cabin_staff_rating.astype(int)\n",
    "data_100.value_money_rating = data_100.value_money_rating.astype(int)"
   ]
  },
  {
   "cell_type": "code",
   "execution_count": 647,
   "metadata": {},
   "outputs": [],
   "source": [
    "# define features and labels for new set of training\n",
    "data_100_all_columns = data_100.drop(['recommended', 'recommended_2'], axis=1)\n",
    "data_100_y = data_100.recommended"
   ]
  },
  {
   "cell_type": "code",
   "execution_count": 648,
   "metadata": {},
   "outputs": [],
   "source": [
    "# split data into training and test set\n",
    "data_train_100_all, data_test_100_all, y_train_100_all, y_test_100_all = train_test_split(data_100_all_columns, data_100_y, test_size=0.3, random_state=21)"
   ]
  },
  {
   "cell_type": "code",
   "execution_count": 649,
   "metadata": {},
   "outputs": [],
   "source": [
    "# function to select column from a dataframe\n",
    "class GetItemTransformer_2(BaseEstimator, TransformerMixin):\n",
    "    def __init__(self, field):\n",
    "        self.field = field\n",
    "    def fit(self, data_100_all_columns, data_100_y=None):\n",
    "        return self\n",
    "    def transform(self, data_100_all_columns):\n",
    "        return data_100_all_columns[self.field]"
   ]
  },
  {
   "cell_type": "code",
   "execution_count": 654,
   "metadata": {},
   "outputs": [],
   "source": [
    "# function to select integer column from a dataframe\n",
    "class NumberSelector_2(BaseEstimator, TransformerMixin):\n",
    "    def __init__(self, field):\n",
    "        self.field = field\n",
    "    def fit(self, data_100_all_columns, data_100_y =None):\n",
    "        return self\n",
    "    def transform(self, data_100_all_columns):\n",
    "        return data_100_all_columns[[self.field]]"
   ]
  },
  {
   "cell_type": "code",
   "execution_count": 657,
   "metadata": {},
   "outputs": [],
   "source": [
    "# pipeline with LinearSVC classifier with airline and cabin flown as features\n",
    "test_airline_cabin_money_linear = Pipeline([\n",
    "    ('features', FeatureUnion([\n",
    "                            ('f1', Pipeline([\n",
    "                                    ('get', GetItemTransformer_2('airline_name')),\n",
    "                                    ('ctvr', CountVectorizer(stop_words='english')),\n",
    "                                    ])),\n",
    "                            ('f2', Pipeline([\n",
    "                                    ('get', GetItemTransformer_2('cabin_flown')),\n",
    "                                    ('ctvr', CountVectorizer(stop_words='english')),\n",
    "                                    ])),\n",
    "                            ('f3', Pipeline([\n",
    "                                    ('get', NumberSelector_2('value_money_rating')),\n",
    "                                    ])),\n",
    "                            ])),\n",
    "    ('clf', LinearSVC()),\n",
    "    ])"
   ]
  },
  {
   "cell_type": "code",
   "execution_count": 658,
   "metadata": {},
   "outputs": [
    {
     "name": "stdout",
     "output_type": "stream",
     "text": [
      "5 KFold cross validation with LinearSVC classifier:  [0.93333333 1.         1.         0.84615385 0.84615385]\n"
     ]
    }
   ],
   "source": [
    "# split the data into five folds, then execute the classifier pipeline on the dataset\n",
    "cv_result_airline_cabin_money_linear = cross_val_score(test_airline_cabin_money_linear, data_train_100_all, y_train_100_all, cv=5)\n",
    "\n",
    "# print result\n",
    "print('5 KFold cross validation with LinearSVC classifier: ', cv_result_airline_cabin_money_linear)"
   ]
  },
  {
   "cell_type": "code",
   "execution_count": 663,
   "metadata": {},
   "outputs": [
    {
     "name": "stdout",
     "output_type": "stream",
     "text": [
      "Average value for model's accuracy:  0.9251282051282053\n"
     ]
    }
   ],
   "source": [
    "# compute average of CV scores\n",
    "print(\"Average value for model's accuracy: \",  cv_result_airline_cabin_money_linear.mean())"
   ]
  },
  {
   "cell_type": "markdown",
   "metadata": {},
   "source": []
  },
  {
   "cell_type": "code",
   "execution_count": 659,
   "metadata": {},
   "outputs": [],
   "source": [
    "# pipeline with Random Forest classifier and with airline and cabin flown as features\n",
    "test_airline_cabin_money_rf = Pipeline([\n",
    "    ('features', FeatureUnion([\n",
    "                            ('f1', Pipeline([\n",
    "                                    ('get', GetItemTransformer_2('airline_name')),\n",
    "                                    ('ctvr', CountVectorizer(stop_words='english')),\n",
    "                                    ])),\n",
    "                            ('f2', Pipeline([\n",
    "                                    ('get', GetItemTransformer_2('cabin_flown')),\n",
    "                                    ('ctvr', CountVectorizer(stop_words='english')),\n",
    "                                    ])),\n",
    "                            ('f3', Pipeline([\n",
    "                                    ('get', NumberSelector_2('value_money_rating')),\n",
    "                                    ])),\n",
    "                            ])),\n",
    "    ('clf', RandomForestClassifier()),\n",
    "    ])"
   ]
  },
  {
   "cell_type": "code",
   "execution_count": 661,
   "metadata": {},
   "outputs": [
    {
     "name": "stdout",
     "output_type": "stream",
     "text": [
      "5 KFold cross validation with Random Forest classifier:  [1.         0.93333333 1.         0.84615385 0.84615385]\n"
     ]
    },
    {
     "name": "stderr",
     "output_type": "stream",
     "text": [
      "/anaconda3/envs/statenv/lib/python3.6/site-packages/sklearn/ensemble/forest.py:245: FutureWarning: The default value of n_estimators will change from 10 in version 0.20 to 100 in 0.22.\n",
      "  \"10 in version 0.20 to 100 in 0.22.\", FutureWarning)\n",
      "/anaconda3/envs/statenv/lib/python3.6/site-packages/sklearn/ensemble/forest.py:245: FutureWarning: The default value of n_estimators will change from 10 in version 0.20 to 100 in 0.22.\n",
      "  \"10 in version 0.20 to 100 in 0.22.\", FutureWarning)\n",
      "/anaconda3/envs/statenv/lib/python3.6/site-packages/sklearn/ensemble/forest.py:245: FutureWarning: The default value of n_estimators will change from 10 in version 0.20 to 100 in 0.22.\n",
      "  \"10 in version 0.20 to 100 in 0.22.\", FutureWarning)\n",
      "/anaconda3/envs/statenv/lib/python3.6/site-packages/sklearn/ensemble/forest.py:245: FutureWarning: The default value of n_estimators will change from 10 in version 0.20 to 100 in 0.22.\n",
      "  \"10 in version 0.20 to 100 in 0.22.\", FutureWarning)\n",
      "/anaconda3/envs/statenv/lib/python3.6/site-packages/sklearn/ensemble/forest.py:245: FutureWarning: The default value of n_estimators will change from 10 in version 0.20 to 100 in 0.22.\n",
      "  \"10 in version 0.20 to 100 in 0.22.\", FutureWarning)\n"
     ]
    }
   ],
   "source": [
    "# split the data into five folds, then execute the classifier pipeline on the dataset\n",
    "cv_result_airline_cabin_money_rf = cross_val_score(test_airline_cabin_money_rf, data_train_100_all, y_train_100_all, cv=5)\n",
    "\n",
    "# print result\n",
    "print('5 KFold cross validation with Random Forest classifier: ', cv_result_airline_cabin_money_rf)"
   ]
  },
  {
   "cell_type": "code",
   "execution_count": 662,
   "metadata": {},
   "outputs": [
    {
     "name": "stdout",
     "output_type": "stream",
     "text": [
      "Average value for model's accuracy:  0.9251282051282053\n"
     ]
    }
   ],
   "source": [
    "# compute average of CV scores\n",
    "print(\"Average value for model's accuracy: \",  cv_result_airline_cabin_money_rf.mean())"
   ]
  },
  {
   "cell_type": "markdown",
   "metadata": {},
   "source": []
  },
  {
   "cell_type": "markdown",
   "metadata": {},
   "source": [
    "#### All non null rows"
   ]
  },
  {
   "cell_type": "code",
   "execution_count": 534,
   "metadata": {},
   "outputs": [],
   "source": [
    "# select all rows with no empty values in 'aircraft' or 'cabin_flown' or 'type_traveller' columns\n",
    "data_non_null = data_ratings_copy.dropna(subset=['aircraft', 'cabin_flown', 'type_traveller'])"
   ]
  },
  {
   "cell_type": "code",
   "execution_count": 535,
   "metadata": {},
   "outputs": [],
   "source": [
    "# define features and labels from the dataframe\n",
    "data_non_null_few_columns = data_non_null[['airline_name', 'author_country', 'aircraft', 'type_traveller', 'cabin_flown']]\n",
    "y_data_non_null = data_non_null['recommended']"
   ]
  },
  {
   "cell_type": "code",
   "execution_count": 536,
   "metadata": {},
   "outputs": [
    {
     "name": "stdout",
     "output_type": "stream",
     "text": [
      "<class 'pandas.core.frame.DataFrame'>\n",
      "Int64Index: 1148 entries, 0 to 34938\n",
      "Data columns (total 5 columns):\n",
      "airline_name      1148 non-null object\n",
      "author_country    1148 non-null object\n",
      "aircraft          1148 non-null object\n",
      "type_traveller    1148 non-null object\n",
      "cabin_flown       1148 non-null object\n",
      "dtypes: object(5)\n",
      "memory usage: 53.8+ KB\n"
     ]
    }
   ],
   "source": [
    "# check info for features\n",
    "data_non_null_few_columns.info()"
   ]
  },
  {
   "cell_type": "code",
   "execution_count": 537,
   "metadata": {},
   "outputs": [],
   "source": [
    "# split data into training and test set\n",
    "data_train_non_null, data_test_non_null, y_train_non_null, y_test_non_null = train_test_split(data_non_null_few_columns, y_data_non_null, test_size=0.3, random_state=21)"
   ]
  },
  {
   "cell_type": "code",
   "execution_count": 538,
   "metadata": {},
   "outputs": [],
   "source": [
    "# function to select column\n",
    "class GetItemTransformer_3(BaseEstimator, TransformerMixin):\n",
    "    def __init__(self, field):\n",
    "        self.field = field\n",
    "    def fit(self, data_non_null_few_columns, y_data_non_null=None):\n",
    "        return self\n",
    "    def transform(self, data_non_null_few_columns):\n",
    "        return data_non_null_few_columns[self.field]"
   ]
  },
  {
   "cell_type": "code",
   "execution_count": 539,
   "metadata": {},
   "outputs": [],
   "source": [
    "# pipeline with LinearSVC classifier with 5 features\n",
    "test_five_object_features = Pipeline([\n",
    "    ('features', FeatureUnion([\n",
    "                            ('f1', Pipeline([\n",
    "                                    ('get', GetItemTransformer_3('airline_name')),\n",
    "                                    ('ctvr', CountVectorizer(stop_words='english')),\n",
    "                                    ])),\n",
    "                            ('f2', Pipeline([\n",
    "                                    ('get', GetItemTransformer_3('cabin_flown')),\n",
    "                                    ('ctvr', CountVectorizer(stop_words='english')),\n",
    "                                    ])),\n",
    "                            ('f3', Pipeline([\n",
    "                                    ('get', GetItemTransformer_3('aircraft')),\n",
    "                                    ('ctvr', CountVectorizer(stop_words='english')),\n",
    "                                    ])),\n",
    "                            ('f4', Pipeline([\n",
    "                                    ('get', GetItemTransformer_3('author_country')),\n",
    "                                    ('ctvr', CountVectorizer(stop_words='english')),\n",
    "                                    ])),\n",
    "                            ('f5', Pipeline([\n",
    "                                    ('get', GetItemTransformer_3('type_traveller')),\n",
    "                                    ('ctvr', CountVectorizer(stop_words='english')),\n",
    "                                    ])),\n",
    "                            ])),\n",
    "    ('clf', LinearSVC()),\n",
    "    ])"
   ]
  },
  {
   "cell_type": "code",
   "execution_count": 540,
   "metadata": {},
   "outputs": [
    {
     "name": "stdout",
     "output_type": "stream",
     "text": [
      "5 KFold cross validation with LinearSVC classifier:  [0.64197531 0.61490683 0.71875    0.64375    0.7       ]\n"
     ]
    }
   ],
   "source": [
    "# split the data into five folds, then execute the classifier pipeline on the dataset\n",
    "cv_result_five_object_features_linear = cross_val_score(test_five_object_features, data_train_non_null, y_train_non_null, cv=5)\n",
    "\n",
    "# print result\n",
    "print('5 KFold cross validation with LinearSVC classifier: ', cv_result_five_object_features_linear)"
   ]
  },
  {
   "cell_type": "code",
   "execution_count": 541,
   "metadata": {},
   "outputs": [
    {
     "name": "stdout",
     "output_type": "stream",
     "text": [
      "Average value for model's accuracy:  0.6638764281880224\n"
     ]
    }
   ],
   "source": [
    "# compute average of CV scores\n",
    "print(\"Average value for model's accuracy: \",  cv_result_five_object_features_linear.mean())"
   ]
  },
  {
   "cell_type": "markdown",
   "metadata": {},
   "source": []
  },
  {
   "cell_type": "code",
   "execution_count": 543,
   "metadata": {},
   "outputs": [],
   "source": [
    "# pipeline with Random Forest classifier with 5 features\n",
    "test_five_object_features_rf = Pipeline([\n",
    "    ('features', FeatureUnion([\n",
    "                            ('f1', Pipeline([\n",
    "                                    ('get', GetItemTransformer_3('airline_name')),\n",
    "                                    ('ctvr', CountVectorizer(stop_words='english')),\n",
    "                                    ])),\n",
    "                            ('f2', Pipeline([\n",
    "                                    ('get', GetItemTransformer_3('cabin_flown')),\n",
    "                                    ('ctvr', CountVectorizer(stop_words='english')),\n",
    "                                    ])),\n",
    "                            ('f3', Pipeline([\n",
    "                                    ('get', GetItemTransformer_3('aircraft')),\n",
    "                                    ('ctvr', CountVectorizer(stop_words='english')),\n",
    "                                    ])),\n",
    "                            ('f4', Pipeline([\n",
    "                                    ('get', GetItemTransformer_3('author_country')),\n",
    "                                    ('ctvr', CountVectorizer(stop_words='english')),\n",
    "                                    ])),\n",
    "                            ('f5', Pipeline([\n",
    "                                    ('get', GetItemTransformer_3('type_traveller')),\n",
    "                                    ('ctvr', CountVectorizer(stop_words='english')),\n",
    "                                    ])),\n",
    "                            ])),\n",
    "    ('clf', RandomForestClassifier()),\n",
    "    ])"
   ]
  },
  {
   "cell_type": "code",
   "execution_count": 545,
   "metadata": {},
   "outputs": [
    {
     "name": "stderr",
     "output_type": "stream",
     "text": [
      "/anaconda3/envs/statenv/lib/python3.6/site-packages/sklearn/ensemble/forest.py:245: FutureWarning: The default value of n_estimators will change from 10 in version 0.20 to 100 in 0.22.\n",
      "  \"10 in version 0.20 to 100 in 0.22.\", FutureWarning)\n",
      "/anaconda3/envs/statenv/lib/python3.6/site-packages/sklearn/ensemble/forest.py:245: FutureWarning: The default value of n_estimators will change from 10 in version 0.20 to 100 in 0.22.\n",
      "  \"10 in version 0.20 to 100 in 0.22.\", FutureWarning)\n",
      "/anaconda3/envs/statenv/lib/python3.6/site-packages/sklearn/ensemble/forest.py:245: FutureWarning: The default value of n_estimators will change from 10 in version 0.20 to 100 in 0.22.\n",
      "  \"10 in version 0.20 to 100 in 0.22.\", FutureWarning)\n",
      "/anaconda3/envs/statenv/lib/python3.6/site-packages/sklearn/ensemble/forest.py:245: FutureWarning: The default value of n_estimators will change from 10 in version 0.20 to 100 in 0.22.\n",
      "  \"10 in version 0.20 to 100 in 0.22.\", FutureWarning)\n"
     ]
    },
    {
     "name": "stdout",
     "output_type": "stream",
     "text": [
      "5 KFold cross validation with Random Forest classifier:  [0.67283951 0.65217391 0.69375    0.6875     0.66875   ]\n"
     ]
    },
    {
     "name": "stderr",
     "output_type": "stream",
     "text": [
      "/anaconda3/envs/statenv/lib/python3.6/site-packages/sklearn/ensemble/forest.py:245: FutureWarning: The default value of n_estimators will change from 10 in version 0.20 to 100 in 0.22.\n",
      "  \"10 in version 0.20 to 100 in 0.22.\", FutureWarning)\n"
     ]
    }
   ],
   "source": [
    "# split the data into five folds, then execute the classifier pipeline on the dataset\n",
    "cv_result_five_object_features_rf = cross_val_score(test_five_object_features_rf, data_train_non_null, y_train_non_null, cv=5)\n",
    "\n",
    "# print result\n",
    "print('5 KFold cross validation with Random Forest classifier: ', cv_result_five_object_features_rf)"
   ]
  },
  {
   "cell_type": "code",
   "execution_count": 546,
   "metadata": {},
   "outputs": [
    {
     "name": "stdout",
     "output_type": "stream",
     "text": [
      "Average value for model's accuracy:  0.6750026838432636\n"
     ]
    }
   ],
   "source": [
    "# compute average of CV scores\n",
    "print(\"Average value for model's accuracy: \",  cv_result_five_object_features_rf.mean())"
   ]
  },
  {
   "cell_type": "markdown",
   "metadata": {},
   "source": []
  },
  {
   "cell_type": "code",
   "execution_count": 664,
   "metadata": {},
   "outputs": [
    {
     "name": "stdout",
     "output_type": "stream",
     "text": [
      "<class 'pandas.core.frame.DataFrame'>\n",
      "Int64Index: 35609 entries, 0 to 35608\n",
      "Data columns (total 21 columns):\n",
      "airline_name                     35609 non-null object\n",
      "link                             35609 non-null object\n",
      "title                            35609 non-null object\n",
      "author                           35609 non-null object\n",
      "author_country                   35396 non-null object\n",
      "date                             35609 non-null object\n",
      "content                          35609 non-null object\n",
      "aircraft                         1153 non-null object\n",
      "type_traveller                   2164 non-null object\n",
      "cabin_flown                      34138 non-null object\n",
      "route                            2128 non-null object\n",
      "overall_rating                   32275 non-null float64\n",
      "seat_comfort_rating              31415 non-null float64\n",
      "cabin_staff_rating               31417 non-null float64\n",
      "food_beverages_rating            31020 non-null float64\n",
      "inflight_entertainment_rating    28980 non-null float64\n",
      "ground_service_rating            2003 non-null float64\n",
      "wifi_connectivity_rating         534 non-null float64\n",
      "value_money_rating               35314 non-null float64\n",
      "recommended                      35609 non-null int64\n",
      "recommended_2                    35609 non-null object\n",
      "dtypes: float64(8), int64(1), object(12)\n",
      "memory usage: 6.0+ MB\n"
     ]
    }
   ],
   "source": [
    "data_ratings_copy.info()"
   ]
  },
  {
   "cell_type": "code",
   "execution_count": 548,
   "metadata": {},
   "outputs": [],
   "source": [
    "# drop rows where 'cabin_flown', 'airline_name' columns are not empty\n",
    "data_non_null_two_cols = data_ratings_copy.dropna(subset=['cabin_flown', 'airline_name'])"
   ]
  },
  {
   "cell_type": "code",
   "execution_count": 549,
   "metadata": {},
   "outputs": [
    {
     "name": "stdout",
     "output_type": "stream",
     "text": [
      "<class 'pandas.core.frame.DataFrame'>\n",
      "Int64Index: 34138 entries, 0 to 35608\n",
      "Data columns (total 21 columns):\n",
      "airline_name                     34138 non-null object\n",
      "link                             34138 non-null object\n",
      "title                            34138 non-null object\n",
      "author                           34138 non-null object\n",
      "author_country                   34099 non-null object\n",
      "date                             34138 non-null object\n",
      "content                          34138 non-null object\n",
      "aircraft                         1149 non-null object\n",
      "type_traveller                   2153 non-null object\n",
      "cabin_flown                      34138 non-null object\n",
      "route                            2117 non-null object\n",
      "overall_rating                   30995 non-null float64\n",
      "seat_comfort_rating              30295 non-null float64\n",
      "cabin_staff_rating               30297 non-null float64\n",
      "food_beverages_rating            29905 non-null float64\n",
      "inflight_entertainment_rating    27867 non-null float64\n",
      "ground_service_rating            1992 non-null float64\n",
      "wifi_connectivity_rating         528 non-null float64\n",
      "value_money_rating               34029 non-null float64\n",
      "recommended                      34138 non-null int64\n",
      "recommended_2                    34138 non-null object\n",
      "dtypes: float64(8), int64(1), object(12)\n",
      "memory usage: 5.7+ MB\n"
     ]
    }
   ],
   "source": [
    "data_non_null_two_cols.info()"
   ]
  },
  {
   "cell_type": "code",
   "execution_count": 550,
   "metadata": {},
   "outputs": [],
   "source": [
    "# define features and labels\n",
    "X_data = data_non_null_two_cols[['airline_name', 'cabin_flown']]\n",
    "y_data = data_non_null_two_cols['recommended']"
   ]
  },
  {
   "cell_type": "code",
   "execution_count": 551,
   "metadata": {},
   "outputs": [],
   "source": [
    "# split data into training and test set\n",
    "X_data_train, X_data_test, y_data_train, y_data_test = train_test_split(X_data, y_data, test_size=0.3, random_state=21)"
   ]
  },
  {
   "cell_type": "code",
   "execution_count": 552,
   "metadata": {},
   "outputs": [],
   "source": [
    "# function that selects column, fit and transforms training data\n",
    "class GetItemTransformer_4(BaseEstimator, TransformerMixin):\n",
    "    def __init__(self, field):\n",
    "        self.field = field\n",
    "    def fit(self, X_data, y_data=None):\n",
    "        return self\n",
    "    def transform(self, X_data):\n",
    "        return X_data[self.field]"
   ]
  },
  {
   "cell_type": "code",
   "execution_count": 553,
   "metadata": {},
   "outputs": [],
   "source": [
    "# pipeline with LinearSVC classifier with 2 features\n",
    "test_airline_cabin_all = Pipeline([\n",
    "    ('features', FeatureUnion([\n",
    "                            ('f1', Pipeline([\n",
    "                                    ('get', GetItemTransformer_4('airline_name')),\n",
    "                                    ('ctvr', CountVectorizer(stop_words='english')),\n",
    "                                    ])),\n",
    "                            ('f2', Pipeline([\n",
    "                                    ('get', GetItemTransformer_4('cabin_flown')),\n",
    "                                    ('ctvr', CountVectorizer(stop_words='english')),\n",
    "                                    ])),\n",
    "                            ])),\n",
    "    ('clf', LinearSVC()),\n",
    "    ])"
   ]
  },
  {
   "cell_type": "code",
   "execution_count": 554,
   "metadata": {},
   "outputs": [
    {
     "name": "stdout",
     "output_type": "stream",
     "text": [
      "5 KFold cross validation with LinearSVC classifier:  [0.6539749  0.64142259 0.64867127 0.6342331  0.64148179]\n"
     ]
    }
   ],
   "source": [
    "# split the data into five folds, then execute the classifier pipeline on the dataset\n",
    "cv_result_airline_cabin_all = cross_val_score(test_airline_cabin_all, X_data_train, y_data_train, cv=5)\n",
    "\n",
    "# print result\n",
    "print('5 KFold cross validation with LinearSVC classifier: ', cv_result_airline_cabin_all)"
   ]
  },
  {
   "cell_type": "code",
   "execution_count": 555,
   "metadata": {},
   "outputs": [
    {
     "name": "stdout",
     "output_type": "stream",
     "text": [
      "Average value for model's accuracy:  0.6439567308768364\n"
     ]
    }
   ],
   "source": [
    "# compute average of CV scores\n",
    "print(\"Average value for model's accuracy: \",  cv_result_airline_cabin_all.mean())"
   ]
  },
  {
   "cell_type": "markdown",
   "metadata": {},
   "source": []
  },
  {
   "cell_type": "code",
   "execution_count": 556,
   "metadata": {},
   "outputs": [],
   "source": [
    "# pipeline with Random Forest classifier and 2 features\n",
    "test_airline_cabin_all_rf = Pipeline([\n",
    "    ('features', FeatureUnion([\n",
    "                            ('f1', Pipeline([\n",
    "                                    ('get', GetItemTransformer_4('airline_name')),\n",
    "                                    ('ctvr', CountVectorizer(stop_words='english')),\n",
    "                                    ])),\n",
    "                            ('f2', Pipeline([\n",
    "                                    ('get', GetItemTransformer_4('cabin_flown')),\n",
    "                                    ('ctvr', CountVectorizer(stop_words='english')),\n",
    "                                    ])),\n",
    "                            ])),\n",
    "    ('clf', RandomForestClassifier()),\n",
    "    ])"
   ]
  },
  {
   "cell_type": "code",
   "execution_count": 557,
   "metadata": {},
   "outputs": [
    {
     "name": "stderr",
     "output_type": "stream",
     "text": [
      "/anaconda3/envs/statenv/lib/python3.6/site-packages/sklearn/ensemble/forest.py:245: FutureWarning: The default value of n_estimators will change from 10 in version 0.20 to 100 in 0.22.\n",
      "  \"10 in version 0.20 to 100 in 0.22.\", FutureWarning)\n",
      "/anaconda3/envs/statenv/lib/python3.6/site-packages/sklearn/ensemble/forest.py:245: FutureWarning: The default value of n_estimators will change from 10 in version 0.20 to 100 in 0.22.\n",
      "  \"10 in version 0.20 to 100 in 0.22.\", FutureWarning)\n",
      "/anaconda3/envs/statenv/lib/python3.6/site-packages/sklearn/ensemble/forest.py:245: FutureWarning: The default value of n_estimators will change from 10 in version 0.20 to 100 in 0.22.\n",
      "  \"10 in version 0.20 to 100 in 0.22.\", FutureWarning)\n",
      "/anaconda3/envs/statenv/lib/python3.6/site-packages/sklearn/ensemble/forest.py:245: FutureWarning: The default value of n_estimators will change from 10 in version 0.20 to 100 in 0.22.\n",
      "  \"10 in version 0.20 to 100 in 0.22.\", FutureWarning)\n",
      "/anaconda3/envs/statenv/lib/python3.6/site-packages/sklearn/ensemble/forest.py:245: FutureWarning: The default value of n_estimators will change from 10 in version 0.20 to 100 in 0.22.\n",
      "  \"10 in version 0.20 to 100 in 0.22.\", FutureWarning)\n"
     ]
    },
    {
     "name": "stdout",
     "output_type": "stream",
     "text": [
      "5 KFold cross validation with Random Forest classifier:  [0.66338912 0.65104603 0.65327474 0.63402385 0.65048137]\n"
     ]
    }
   ],
   "source": [
    "# split the data into five folds, then execute the classifier pipeline on the dataset\n",
    "cv_result_airline_cabin_all_rf = cross_val_score(test_airline_cabin_all_rf, X_data_train, y_data_train, cv=5)\n",
    "\n",
    "# print result\n",
    "print('5 KFold cross validation with Random Forest classifier: ', cv_result_airline_cabin_all_rf)"
   ]
  },
  {
   "cell_type": "code",
   "execution_count": 558,
   "metadata": {},
   "outputs": [
    {
     "name": "stdout",
     "output_type": "stream",
     "text": [
      "Average value for model's accuracy:  0.6504430234871946\n"
     ]
    }
   ],
   "source": [
    "# compute average of CV scores\n",
    "print(\"Average value for model's accuracy: \",  cv_result_airline_cabin_all_rf.mean())"
   ]
  },
  {
   "cell_type": "code",
   "execution_count": 559,
   "metadata": {},
   "outputs": [],
   "source": [
    "# define features and labels\n",
    "X_data_three = data_non_null_two_cols[['airline_name', 'cabin_flown', 'content']]\n",
    "y_data = data_non_null_two_cols['recommended']"
   ]
  },
  {
   "cell_type": "code",
   "execution_count": 560,
   "metadata": {},
   "outputs": [],
   "source": [
    "# split data into training and test set\n",
    "X_data_train_3, X_data_test_3, y_data_train_3, y_data_test_3 = train_test_split(X_data_three, y_data, test_size=0.3, random_state=21)"
   ]
  },
  {
   "cell_type": "code",
   "execution_count": 561,
   "metadata": {},
   "outputs": [],
   "source": [
    "# function to extract a column from dataframe and fit and transform them\n",
    "class GetItemTransformer_5(BaseEstimator, TransformerMixin):\n",
    "    def __init__(self, field):\n",
    "        self.field = field\n",
    "    def fit(self, X_data_three, y_data=None):\n",
    "        return self\n",
    "    def transform(self, X_data_three):\n",
    "        return X_data_three[self.field]"
   ]
  },
  {
   "cell_type": "code",
   "execution_count": 676,
   "metadata": {},
   "outputs": [],
   "source": [
    "# pipeline with LinearSVC classifier with 3 features\n",
    "test_airline_cabin_content_all_linear = Pipeline([\n",
    "    ('features', FeatureUnion([\n",
    "                            ('f1', Pipeline([\n",
    "                                    ('get', GetItemTransformer_5('airline_name')),\n",
    "                                    ('ctvr', CountVectorizer(stop_words='english')),\n",
    "                                    ])),\n",
    "                            ('f2', Pipeline([\n",
    "                                    ('get', GetItemTransformer_5('cabin_flown')),\n",
    "                                    ('ctvr', CountVectorizer(stop_words='english')),\n",
    "                                    ])),\n",
    "                            ('f3', Pipeline([\n",
    "                                    ('get', GetItemTransformer_5('content')),\n",
    "                                    ('tfidf', TfidfVectorizer(stop_words='english')),\n",
    "                                    ])),\n",
    "                            ])),\n",
    "    ('clf', LinearSVC()),\n",
    "    ])"
   ]
  },
  {
   "cell_type": "code",
   "execution_count": 567,
   "metadata": {},
   "outputs": [
    {
     "name": "stdout",
     "output_type": "stream",
     "text": [
      "5 KFold cross validation with LinearSVC classifier:  [0.8790795  0.88451883 0.88826114 0.88386692 0.87756383]\n"
     ]
    }
   ],
   "source": [
    "# split the data into five folds, then execute the classifier pipeline on the dataset\n",
    "cv_result_airline_cabin_content_all_linear = cross_val_score(test_airline_cabin_content_all_linear, X_data_train_3, y_data_train_3, cv=5)\n",
    "\n",
    "# print result\n",
    "print('5 KFold cross validation with LinearSVC classifier: ', cv_result_airline_cabin_content_all_linear)"
   ]
  },
  {
   "cell_type": "code",
   "execution_count": 569,
   "metadata": {},
   "outputs": [
    {
     "name": "stdout",
     "output_type": "stream",
     "text": [
      "Average value for model's accuracy:  0.8826580441727507\n"
     ]
    }
   ],
   "source": [
    "# compute average of CV scores\n",
    "print(\"Average value for model's accuracy: \",  cv_result_airline_cabin_content_all_linear.mean())"
   ]
  },
  {
   "cell_type": "markdown",
   "metadata": {},
   "source": []
  },
  {
   "cell_type": "code",
   "execution_count": 562,
   "metadata": {},
   "outputs": [],
   "source": [
    "# pipeline with Random Forest classifier with 3 features\n",
    "test_airline_cabin_content_all_rf = Pipeline([\n",
    "    ('features', FeatureUnion([\n",
    "                            ('f1', Pipeline([\n",
    "                                    ('get', GetItemTransformer_5('airline_name')),\n",
    "                                    ('ctvr', CountVectorizer(stop_words='english')),\n",
    "                                    ])),\n",
    "                            ('f2', Pipeline([\n",
    "                                    ('get', GetItemTransformer_5('cabin_flown')),\n",
    "                                    ('ctvr', CountVectorizer(stop_words='english')),\n",
    "                                    ])),\n",
    "                            ('f3', Pipeline([\n",
    "                                    ('get', GetItemTransformer_5('content')),\n",
    "                                    ('tfidf', TfidfVectorizer(stop_words='english')),\n",
    "                                    ])),\n",
    "                            ])),\n",
    "    ('clf', RandomForestClassifier()),\n",
    "    ])"
   ]
  },
  {
   "cell_type": "code",
   "execution_count": 563,
   "metadata": {},
   "outputs": [
    {
     "name": "stderr",
     "output_type": "stream",
     "text": [
      "/anaconda3/envs/statenv/lib/python3.6/site-packages/sklearn/ensemble/forest.py:245: FutureWarning: The default value of n_estimators will change from 10 in version 0.20 to 100 in 0.22.\n",
      "  \"10 in version 0.20 to 100 in 0.22.\", FutureWarning)\n",
      "/anaconda3/envs/statenv/lib/python3.6/site-packages/sklearn/ensemble/forest.py:245: FutureWarning: The default value of n_estimators will change from 10 in version 0.20 to 100 in 0.22.\n",
      "  \"10 in version 0.20 to 100 in 0.22.\", FutureWarning)\n",
      "/anaconda3/envs/statenv/lib/python3.6/site-packages/sklearn/ensemble/forest.py:245: FutureWarning: The default value of n_estimators will change from 10 in version 0.20 to 100 in 0.22.\n",
      "  \"10 in version 0.20 to 100 in 0.22.\", FutureWarning)\n",
      "/anaconda3/envs/statenv/lib/python3.6/site-packages/sklearn/ensemble/forest.py:245: FutureWarning: The default value of n_estimators will change from 10 in version 0.20 to 100 in 0.22.\n",
      "  \"10 in version 0.20 to 100 in 0.22.\", FutureWarning)\n",
      "/anaconda3/envs/statenv/lib/python3.6/site-packages/sklearn/ensemble/forest.py:245: FutureWarning: The default value of n_estimators will change from 10 in version 0.20 to 100 in 0.22.\n",
      "  \"10 in version 0.20 to 100 in 0.22.\", FutureWarning)\n"
     ]
    },
    {
     "name": "stdout",
     "output_type": "stream",
     "text": [
      "5 KFold cross validation with Random Forest classifier:  [0.82468619 0.83619247 0.81962754 0.82297552 0.82670573]\n"
     ]
    }
   ],
   "source": [
    "# split the data into five folds, then execute the classifier pipeline on the dataset\n",
    "cv_result_airline_cabin_content_all_rf = cross_val_score(test_airline_cabin_content_all_rf, X_data_train_3, y_data_train_3, cv=5)\n",
    "\n",
    "# print result\n",
    "print('5 KFold cross validation with Random Forest classifier: ', cv_result_airline_cabin_content_all_rf)"
   ]
  },
  {
   "cell_type": "code",
   "execution_count": 564,
   "metadata": {},
   "outputs": [
    {
     "name": "stdout",
     "output_type": "stream",
     "text": [
      "Average value for model's accuracy:  0.8260374901474588\n"
     ]
    }
   ],
   "source": [
    "# compute average of CV scores\n",
    "print(\"Average value for model's accuracy: \",  cv_result_airline_cabin_content_all_rf.mean())"
   ]
  },
  {
   "cell_type": "markdown",
   "metadata": {},
   "source": []
  },
  {
   "cell_type": "markdown",
   "metadata": {},
   "source": [
    "Let's create models with few columns that have the least empty rows."
   ]
  },
  {
   "cell_type": "code",
   "execution_count": 665,
   "metadata": {},
   "outputs": [],
   "source": [
    "# create a dataframe with selected columns\n",
    "df_many_cols = data_ratings_copy[['airline_name', 'author_country', 'content', 'cabin_flown', 'overall_rating', 'value_money_rating', 'recommended']]"
   ]
  },
  {
   "cell_type": "code",
   "execution_count": 670,
   "metadata": {},
   "outputs": [
    {
     "name": "stdout",
     "output_type": "stream",
     "text": [
      "<class 'pandas.core.frame.DataFrame'>\n",
      "Int64Index: 30859 entries, 0 to 35608\n",
      "Data columns (total 7 columns):\n",
      "airline_name          30859 non-null object\n",
      "author_country        30859 non-null object\n",
      "content               30859 non-null object\n",
      "cabin_flown           30859 non-null object\n",
      "overall_rating        30859 non-null int64\n",
      "value_money_rating    30859 non-null int64\n",
      "recommended           30859 non-null int64\n",
      "dtypes: int64(3), object(4)\n",
      "memory usage: 1.9+ MB\n"
     ]
    }
   ],
   "source": [
    "df_many_cols.info()"
   ]
  },
  {
   "cell_type": "code",
   "execution_count": 667,
   "metadata": {},
   "outputs": [],
   "source": [
    "# drop rows where 'author_country', 'cabin_flown', 'overall_rating', 'value_money_rating' columns are not empty\n",
    "df_many_cols = df_many_cols.dropna(subset=['author_country', 'cabin_flown', 'overall_rating', 'value_money_rating'])"
   ]
  },
  {
   "cell_type": "code",
   "execution_count": 669,
   "metadata": {},
   "outputs": [],
   "source": [
    "# change float type into integer\n",
    "df_many_cols.overall_rating = df_many_cols.overall_rating.astype(int)\n",
    "df_many_cols.value_money_rating = df_many_cols.value_money_rating.astype(int)"
   ]
  },
  {
   "cell_type": "code",
   "execution_count": 671,
   "metadata": {},
   "outputs": [],
   "source": [
    "# define features and labels\n",
    "X_data_many = df_many_cols.drop('recommended', axis=1)\n",
    "y_data_many = df_many_cols['recommended']"
   ]
  },
  {
   "cell_type": "code",
   "execution_count": 672,
   "metadata": {},
   "outputs": [],
   "source": [
    "# split data into training and test set\n",
    "X_data_train_6, X_data_test_6, y_data_train_6, y_data_test_6 = train_test_split(X_data_many, y_data_many, test_size=0.3, random_state=21)"
   ]
  },
  {
   "cell_type": "code",
   "execution_count": 673,
   "metadata": {},
   "outputs": [],
   "source": [
    "# function to extract a column from dataframe and fit and transform it\n",
    "class GetItemTransformer_6(BaseEstimator, TransformerMixin):\n",
    "    def __init__(self, field):\n",
    "        self.field = field\n",
    "    def fit(self, X_data_many, y_data_many=None):\n",
    "        return self\n",
    "    def transform(self, X_data_many):\n",
    "        return X_data_many[self.field]"
   ]
  },
  {
   "cell_type": "code",
   "execution_count": 674,
   "metadata": {},
   "outputs": [],
   "source": [
    "# function to select integer column from a dataframe\n",
    "class NumberSelector_6(BaseEstimator, TransformerMixin):\n",
    "    def __init__(self, field):\n",
    "        self.field = field\n",
    "    def fit(self, X_data_many, y_data_many=None):\n",
    "        return self\n",
    "    def transform(self, X_data_many):\n",
    "        return X_data_many[[self.field]]"
   ]
  },
  {
   "cell_type": "code",
   "execution_count": 677,
   "metadata": {},
   "outputs": [],
   "source": [
    "# pipeline with LinearSVC classifier with 6 features\n",
    "test_many_linear_6 = Pipeline([\n",
    "    ('features', FeatureUnion([\n",
    "                            ('f1', Pipeline([\n",
    "                                    ('get', GetItemTransformer_6('airline_name')),\n",
    "                                    ('ctvr', CountVectorizer(stop_words='english')),\n",
    "                                    ])),\n",
    "                            ('f2', Pipeline([\n",
    "                                    ('get', GetItemTransformer_6('cabin_flown')),\n",
    "                                    ('ctvr', CountVectorizer(stop_words='english')),\n",
    "                                    ])),\n",
    "                            ('f3', Pipeline([\n",
    "                                    ('get', GetItemTransformer_6('author_country')),\n",
    "                                    ('ctvr', CountVectorizer(stop_words='english')),\n",
    "                                    ])),\n",
    "                            ('f4', Pipeline([\n",
    "                                    ('get', GetItemTransformer_6('content')),\n",
    "                                    ('tfidf', TfidfVectorizer(stop_words='english')),\n",
    "                                    ])),\n",
    "                            ('f5', Pipeline([\n",
    "                                    ('get', NumberSelector_6('value_money_rating')),\n",
    "                                    ])),\n",
    "                            ('f6', Pipeline([\n",
    "                                    ('get', NumberSelector_6('overall_rating')),\n",
    "                                    ])),\n",
    "                            ])),\n",
    "    ('clf', LinearSVC()),\n",
    "    ])"
   ]
  },
  {
   "cell_type": "code",
   "execution_count": 679,
   "metadata": {},
   "outputs": [
    {
     "name": "stderr",
     "output_type": "stream",
     "text": [
      "/anaconda3/envs/statenv/lib/python3.6/site-packages/sklearn/svm/base.py:929: ConvergenceWarning: Liblinear failed to converge, increase the number of iterations.\n",
      "  \"the number of iterations.\", ConvergenceWarning)\n",
      "/anaconda3/envs/statenv/lib/python3.6/site-packages/sklearn/svm/base.py:929: ConvergenceWarning: Liblinear failed to converge, increase the number of iterations.\n",
      "  \"the number of iterations.\", ConvergenceWarning)\n",
      "/anaconda3/envs/statenv/lib/python3.6/site-packages/sklearn/svm/base.py:929: ConvergenceWarning: Liblinear failed to converge, increase the number of iterations.\n",
      "  \"the number of iterations.\", ConvergenceWarning)\n",
      "/anaconda3/envs/statenv/lib/python3.6/site-packages/sklearn/svm/base.py:929: ConvergenceWarning: Liblinear failed to converge, increase the number of iterations.\n",
      "  \"the number of iterations.\", ConvergenceWarning)\n",
      "/anaconda3/envs/statenv/lib/python3.6/site-packages/sklearn/svm/base.py:929: ConvergenceWarning: Liblinear failed to converge, increase the number of iterations.\n",
      "  \"the number of iterations.\", ConvergenceWarning)\n"
     ]
    },
    {
     "name": "stdout",
     "output_type": "stream",
     "text": [
      "5 KFold cross validation with LinearSVC classifier:  [0.94538301 0.94652778 0.93981481 0.94699074 0.93912037]\n"
     ]
    }
   ],
   "source": [
    "# split the data into five folds, then execute the classifier pipeline on the dataset\n",
    "cv_result_many_linear_6 = cross_val_score(test_many_linear_6, X_data_train_6, y_data_train_6, cv=5)\n",
    "\n",
    "# print result\n",
    "print('5 KFold cross validation with LinearSVC classifier: ', cv_result_many_linear_6)"
   ]
  },
  {
   "cell_type": "code",
   "execution_count": 681,
   "metadata": {},
   "outputs": [
    {
     "name": "stdout",
     "output_type": "stream",
     "text": [
      "Average value for model's accuracy:  0.9435673433790189\n"
     ]
    }
   ],
   "source": [
    "# compute average of CV scores\n",
    "print(\"Average value for model's accuracy: \",  cv_result_many_linear_6.mean())"
   ]
  },
  {
   "cell_type": "code",
   "execution_count": 682,
   "metadata": {},
   "outputs": [],
   "source": [
    "# pipeline with Random Forest classifier with 6 features\n",
    "test_many_rf_6 = Pipeline([\n",
    "    ('features', FeatureUnion([\n",
    "                            ('f1', Pipeline([\n",
    "                                    ('get', GetItemTransformer_6('airline_name')),\n",
    "                                    ('ctvr', CountVectorizer(stop_words='english')),\n",
    "                                    ])),\n",
    "                            ('f2', Pipeline([\n",
    "                                    ('get', GetItemTransformer_6('cabin_flown')),\n",
    "                                    ('ctvr', CountVectorizer(stop_words='english')),\n",
    "                                    ])),\n",
    "                            ('f3', Pipeline([\n",
    "                                    ('get', GetItemTransformer_6('author_country')),\n",
    "                                    ('ctvr', CountVectorizer(stop_words='english')),\n",
    "                                    ])),\n",
    "                            ('f4', Pipeline([\n",
    "                                    ('get', GetItemTransformer_6('content')),\n",
    "                                    ('tfidf', TfidfVectorizer(stop_words='english')),\n",
    "                                    ])),\n",
    "                            ('f5', Pipeline([\n",
    "                                    ('get', NumberSelector_6('value_money_rating')),\n",
    "                                    ])),\n",
    "                            ('f6', Pipeline([\n",
    "                                    ('get', NumberSelector_6('overall_rating')),\n",
    "                                    ])),\n",
    "                            ])),\n",
    "    ('clf', RandomForestClassifier()),\n",
    "    ])"
   ]
  },
  {
   "cell_type": "code",
   "execution_count": 683,
   "metadata": {},
   "outputs": [
    {
     "name": "stderr",
     "output_type": "stream",
     "text": [
      "/anaconda3/envs/statenv/lib/python3.6/site-packages/sklearn/ensemble/forest.py:245: FutureWarning: The default value of n_estimators will change from 10 in version 0.20 to 100 in 0.22.\n",
      "  \"10 in version 0.20 to 100 in 0.22.\", FutureWarning)\n",
      "/anaconda3/envs/statenv/lib/python3.6/site-packages/sklearn/ensemble/forest.py:245: FutureWarning: The default value of n_estimators will change from 10 in version 0.20 to 100 in 0.22.\n",
      "  \"10 in version 0.20 to 100 in 0.22.\", FutureWarning)\n",
      "/anaconda3/envs/statenv/lib/python3.6/site-packages/sklearn/ensemble/forest.py:245: FutureWarning: The default value of n_estimators will change from 10 in version 0.20 to 100 in 0.22.\n",
      "  \"10 in version 0.20 to 100 in 0.22.\", FutureWarning)\n",
      "/anaconda3/envs/statenv/lib/python3.6/site-packages/sklearn/ensemble/forest.py:245: FutureWarning: The default value of n_estimators will change from 10 in version 0.20 to 100 in 0.22.\n",
      "  \"10 in version 0.20 to 100 in 0.22.\", FutureWarning)\n",
      "/anaconda3/envs/statenv/lib/python3.6/site-packages/sklearn/ensemble/forest.py:245: FutureWarning: The default value of n_estimators will change from 10 in version 0.20 to 100 in 0.22.\n",
      "  \"10 in version 0.20 to 100 in 0.22.\", FutureWarning)\n"
     ]
    },
    {
     "name": "stdout",
     "output_type": "stream",
     "text": [
      "5 KFold cross validation with Random Forest classifier:  [0.93126591 0.93171296 0.92337963 0.91967593 0.90486111]\n"
     ]
    }
   ],
   "source": [
    "# split the data into five folds, then execute the classifier pipeline on the dataset\n",
    "cv_result_many_rf_6 = cross_val_score(test_many_rf_6, X_data_train_6, y_data_train_6, cv=5)\n",
    "\n",
    "# print result\n",
    "print('5 KFold cross validation with Random Forest classifier: ', cv_result_many_rf_6)"
   ]
  },
  {
   "cell_type": "code",
   "execution_count": 684,
   "metadata": {},
   "outputs": [
    {
     "name": "stdout",
     "output_type": "stream",
     "text": [
      "Average value for model's accuracy:  0.9221791080596912\n"
     ]
    }
   ],
   "source": [
    "# compute average of CV scores\n",
    "print(\"Average value for model's accuracy: \",  cv_result_many_rf_6.mean())"
   ]
  },
  {
   "cell_type": "markdown",
   "metadata": {},
   "source": []
  },
  {
   "cell_type": "markdown",
   "metadata": {},
   "source": [
    "Let's create models by including traveller type feature. But first we have to exclude all rows that don't have value for this feature."
   ]
  },
  {
   "cell_type": "code",
   "execution_count": 685,
   "metadata": {},
   "outputs": [
    {
     "name": "stdout",
     "output_type": "stream",
     "text": [
      "<class 'pandas.core.frame.DataFrame'>\n",
      "Int64Index: 35609 entries, 0 to 35608\n",
      "Data columns (total 21 columns):\n",
      "airline_name                     35609 non-null object\n",
      "link                             35609 non-null object\n",
      "title                            35609 non-null object\n",
      "author                           35609 non-null object\n",
      "author_country                   35396 non-null object\n",
      "date                             35609 non-null object\n",
      "content                          35609 non-null object\n",
      "aircraft                         1153 non-null object\n",
      "type_traveller                   2164 non-null object\n",
      "cabin_flown                      34138 non-null object\n",
      "route                            2128 non-null object\n",
      "overall_rating                   32275 non-null float64\n",
      "seat_comfort_rating              31415 non-null float64\n",
      "cabin_staff_rating               31417 non-null float64\n",
      "food_beverages_rating            31020 non-null float64\n",
      "inflight_entertainment_rating    28980 non-null float64\n",
      "ground_service_rating            2003 non-null float64\n",
      "wifi_connectivity_rating         534 non-null float64\n",
      "value_money_rating               35314 non-null float64\n",
      "recommended                      35609 non-null int64\n",
      "recommended_2                    35609 non-null object\n",
      "dtypes: float64(8), int64(1), object(12)\n",
      "memory usage: 6.0+ MB\n"
     ]
    }
   ],
   "source": [
    "data_ratings_copy.info()"
   ]
  },
  {
   "cell_type": "code",
   "execution_count": 686,
   "metadata": {},
   "outputs": [],
   "source": [
    "df_eight = data_ratings_copy[['airline_name', 'author_country', 'content', 'type_traveller', 'cabin_flown', 'overall_rating', 'value_money_rating', 'recommended']]"
   ]
  },
  {
   "cell_type": "code",
   "execution_count": 687,
   "metadata": {},
   "outputs": [],
   "source": [
    "# drop rows where 'author_country', 'cabin_flown', 'overall_rating', 'value_money_rating' columns are not empty\n",
    "df_eight_cols = df_eight.dropna(subset=['author_country', 'cabin_flown', 'overall_rating', 'value_money_rating', 'type_traveller'])"
   ]
  },
  {
   "cell_type": "code",
   "execution_count": 689,
   "metadata": {},
   "outputs": [
    {
     "name": "stderr",
     "output_type": "stream",
     "text": [
      "/anaconda3/envs/statenv/lib/python3.6/site-packages/pandas/core/generic.py:5209: SettingWithCopyWarning: \n",
      "A value is trying to be set on a copy of a slice from a DataFrame.\n",
      "Try using .loc[row_indexer,col_indexer] = value instead\n",
      "\n",
      "See the caveats in the documentation: http://pandas.pydata.org/pandas-docs/stable/user_guide/indexing.html#returning-a-view-versus-a-copy\n",
      "  self[name] = value\n"
     ]
    }
   ],
   "source": [
    "# change float type into integer\n",
    "df_eight_cols.overall_rating = df_eight_cols.overall_rating.astype(int)\n",
    "df_eight_cols.value_money_rating = df_eight_cols.value_money_rating.astype(int)"
   ]
  },
  {
   "cell_type": "code",
   "execution_count": 690,
   "metadata": {},
   "outputs": [
    {
     "name": "stdout",
     "output_type": "stream",
     "text": [
      "<class 'pandas.core.frame.DataFrame'>\n",
      "Int64Index: 2150 entries, 0 to 34961\n",
      "Data columns (total 8 columns):\n",
      "airline_name          2150 non-null object\n",
      "author_country        2150 non-null object\n",
      "content               2150 non-null object\n",
      "type_traveller        2150 non-null object\n",
      "cabin_flown           2150 non-null object\n",
      "overall_rating        2150 non-null int64\n",
      "value_money_rating    2150 non-null int64\n",
      "recommended           2150 non-null int64\n",
      "dtypes: int64(3), object(5)\n",
      "memory usage: 151.2+ KB\n"
     ]
    }
   ],
   "source": [
    "df_eight_cols.info()"
   ]
  },
  {
   "cell_type": "code",
   "execution_count": 691,
   "metadata": {},
   "outputs": [],
   "source": [
    "# define features and labels\n",
    "X_data_8 = df_eight_cols.drop('recommended', axis=1)\n",
    "y_data_8 = df_eight_cols['recommended']"
   ]
  },
  {
   "cell_type": "code",
   "execution_count": 692,
   "metadata": {},
   "outputs": [],
   "source": [
    "# split data into training and test set\n",
    "X_data_train_8, X_data_test_8, y_data_train_8, y_data_test_8 = train_test_split(X_data_8, y_data_8, test_size=0.3, random_state=21)"
   ]
  },
  {
   "cell_type": "code",
   "execution_count": 693,
   "metadata": {},
   "outputs": [],
   "source": [
    "# function to extract a column from dataframe and fit and transform it\n",
    "class GetItemTransformer_8(BaseEstimator, TransformerMixin):\n",
    "    def __init__(self, field):\n",
    "        self.field = field\n",
    "    def fit(self, X_data_8, y_data_8=None):\n",
    "        return self\n",
    "    def transform(self, X_data_8):\n",
    "        return X_data_8[self.field]"
   ]
  },
  {
   "cell_type": "code",
   "execution_count": 694,
   "metadata": {},
   "outputs": [],
   "source": [
    "# function to select integer column from a dataframe\n",
    "class NumberSelector_8(BaseEstimator, TransformerMixin):\n",
    "    def __init__(self, field):\n",
    "        self.field = field\n",
    "    def fit(self, X_data_8, y_data_8=None):\n",
    "        return self\n",
    "    def transform(self, X_data_8):\n",
    "        return X_data_8[[self.field]]"
   ]
  },
  {
   "cell_type": "code",
   "execution_count": 695,
   "metadata": {},
   "outputs": [],
   "source": [
    "# pipeline with LinearSVC classifier with 7 features\n",
    "test_many_linear_8 = Pipeline([\n",
    "    ('features', FeatureUnion([\n",
    "                            ('f1', Pipeline([\n",
    "                                    ('get', GetItemTransformer_8('airline_name')),\n",
    "                                    ('ctvr', CountVectorizer(stop_words='english')),\n",
    "                                    ])),\n",
    "                            ('f2', Pipeline([\n",
    "                                    ('get', GetItemTransformer_8('cabin_flown')),\n",
    "                                    ('ctvr', CountVectorizer(stop_words='english')),\n",
    "                                    ])),\n",
    "                            ('f3', Pipeline([\n",
    "                                    ('get', GetItemTransformer_8('author_country')),\n",
    "                                    ('ctvr', CountVectorizer(stop_words='english')),\n",
    "                                    ])),\n",
    "                            ('f4', Pipeline([\n",
    "                                    ('get', GetItemTransformer_8('content')),\n",
    "                                    ('tfidf', TfidfVectorizer(stop_words='english')),\n",
    "                                    ])),\n",
    "                            ('f5', Pipeline([\n",
    "                                    ('get', GetItemTransformer_8('type_traveller')),\n",
    "                                    ('ctvr', CountVectorizer(stop_words='english')),\n",
    "                                    ])),\n",
    "                            ('f6', Pipeline([\n",
    "                                    ('get', NumberSelector_8('value_money_rating')),\n",
    "                                    ])),\n",
    "                            ('f7', Pipeline([\n",
    "                                    ('get', NumberSelector_8('overall_rating')),\n",
    "                                    ])),\n",
    "                            ])),\n",
    "    ('clf', LinearSVC()),\n",
    "    ])"
   ]
  },
  {
   "cell_type": "code",
   "execution_count": 696,
   "metadata": {},
   "outputs": [
    {
     "name": "stderr",
     "output_type": "stream",
     "text": [
      "/anaconda3/envs/statenv/lib/python3.6/site-packages/sklearn/svm/base.py:929: ConvergenceWarning: Liblinear failed to converge, increase the number of iterations.\n",
      "  \"the number of iterations.\", ConvergenceWarning)\n"
     ]
    },
    {
     "name": "stdout",
     "output_type": "stream",
     "text": [
      "5 KFold cross validation with LinearSVC classifier:  [0.97019868 0.96345515 0.95016611 0.97009967 0.96333333]\n"
     ]
    }
   ],
   "source": [
    "# split the data into five folds, then execute the classifier pipeline on the dataset\n",
    "cv_result_many_linear_8 = cross_val_score(test_many_linear_8, X_data_train_8, y_data_train_8, cv=5)\n",
    "\n",
    "# print result\n",
    "print('5 KFold cross validation with LinearSVC classifier: ', cv_result_many_linear_8)"
   ]
  },
  {
   "cell_type": "code",
   "execution_count": 697,
   "metadata": {},
   "outputs": [
    {
     "name": "stdout",
     "output_type": "stream",
     "text": [
      "Average value for model's accuracy:  0.9634505878125161\n"
     ]
    }
   ],
   "source": [
    "# compute average of CV scores\n",
    "print(\"Average value for model's accuracy: \",  cv_result_many_linear_8.mean())"
   ]
  },
  {
   "cell_type": "code",
   "execution_count": 698,
   "metadata": {},
   "outputs": [],
   "source": [
    "# pipeline with Random Forest classifier with 7 features\n",
    "test_many_rf_8 = Pipeline([\n",
    "    ('features', FeatureUnion([\n",
    "                            ('f1', Pipeline([\n",
    "                                    ('get', GetItemTransformer_8('airline_name')),\n",
    "                                    ('ctvr', CountVectorizer(stop_words='english')),\n",
    "                                    ])),\n",
    "                            ('f2', Pipeline([\n",
    "                                    ('get', GetItemTransformer_8('cabin_flown')),\n",
    "                                    ('ctvr', CountVectorizer(stop_words='english')),\n",
    "                                    ])),\n",
    "                            ('f3', Pipeline([\n",
    "                                    ('get', GetItemTransformer_8('author_country')),\n",
    "                                    ('ctvr', CountVectorizer(stop_words='english')),\n",
    "                                    ])),\n",
    "                            ('f4', Pipeline([\n",
    "                                    ('get', GetItemTransformer_8('content')),\n",
    "                                    ('tfidf', TfidfVectorizer(stop_words='english')),\n",
    "                                    ])),\n",
    "                            ('f5', Pipeline([\n",
    "                                    ('get', GetItemTransformer_8('type_traveller')),\n",
    "                                    ('ctvr', CountVectorizer(stop_words='english')),\n",
    "                                    ])),\n",
    "                            ('f6', Pipeline([\n",
    "                                    ('get', NumberSelector_8('value_money_rating')),\n",
    "                                    ])),\n",
    "                            ('f7', Pipeline([\n",
    "                                    ('get', NumberSelector_8('overall_rating')),\n",
    "                                    ])),\n",
    "                            ])),\n",
    "    ('clf', RandomForestClassifier()),\n",
    "    ])"
   ]
  },
  {
   "cell_type": "code",
   "execution_count": 699,
   "metadata": {},
   "outputs": [
    {
     "name": "stderr",
     "output_type": "stream",
     "text": [
      "/anaconda3/envs/statenv/lib/python3.6/site-packages/sklearn/ensemble/forest.py:245: FutureWarning: The default value of n_estimators will change from 10 in version 0.20 to 100 in 0.22.\n",
      "  \"10 in version 0.20 to 100 in 0.22.\", FutureWarning)\n",
      "/anaconda3/envs/statenv/lib/python3.6/site-packages/sklearn/ensemble/forest.py:245: FutureWarning: The default value of n_estimators will change from 10 in version 0.20 to 100 in 0.22.\n",
      "  \"10 in version 0.20 to 100 in 0.22.\", FutureWarning)\n",
      "/anaconda3/envs/statenv/lib/python3.6/site-packages/sklearn/ensemble/forest.py:245: FutureWarning: The default value of n_estimators will change from 10 in version 0.20 to 100 in 0.22.\n",
      "  \"10 in version 0.20 to 100 in 0.22.\", FutureWarning)\n",
      "/anaconda3/envs/statenv/lib/python3.6/site-packages/sklearn/ensemble/forest.py:245: FutureWarning: The default value of n_estimators will change from 10 in version 0.20 to 100 in 0.22.\n",
      "  \"10 in version 0.20 to 100 in 0.22.\", FutureWarning)\n"
     ]
    },
    {
     "name": "stdout",
     "output_type": "stream",
     "text": [
      "5 KFold cross validation with Random Forest classifier:  [0.91059603 0.94352159 0.87707641 0.92026578 0.92      ]\n"
     ]
    },
    {
     "name": "stderr",
     "output_type": "stream",
     "text": [
      "/anaconda3/envs/statenv/lib/python3.6/site-packages/sklearn/ensemble/forest.py:245: FutureWarning: The default value of n_estimators will change from 10 in version 0.20 to 100 in 0.22.\n",
      "  \"10 in version 0.20 to 100 in 0.22.\", FutureWarning)\n"
     ]
    }
   ],
   "source": [
    "# split the data into five folds, then execute the classifier pipeline on the dataset\n",
    "cv_result_many_rf_8 = cross_val_score(test_many_rf_8, X_data_train_8, y_data_train_8, cv=5)\n",
    "\n",
    "# print result\n",
    "print('5 KFold cross validation with Random Forest classifier: ', cv_result_many_rf_8)"
   ]
  },
  {
   "cell_type": "code",
   "execution_count": 700,
   "metadata": {},
   "outputs": [
    {
     "name": "stdout",
     "output_type": "stream",
     "text": [
      "Average value for model's accuracy:  0.9142919627730963\n"
     ]
    }
   ],
   "source": [
    "# compute average of CV scores\n",
    "print(\"Average value for model's accuracy: \",  cv_result_many_rf_8.mean())"
   ]
  },
  {
   "cell_type": "code",
   "execution_count": null,
   "metadata": {},
   "outputs": [],
   "source": []
  }
 ],
 "metadata": {
  "kernelspec": {
   "display_name": "Python 3",
   "language": "python",
   "name": "python3"
  },
  "language_info": {
   "codemirror_mode": {
    "name": "ipython",
    "version": 3
   },
   "file_extension": ".py",
   "mimetype": "text/x-python",
   "name": "python",
   "nbconvert_exporter": "python",
   "pygments_lexer": "ipython3",
   "version": "3.6.8"
  }
 },
 "nbformat": 4,
 "nbformat_minor": 2
}
