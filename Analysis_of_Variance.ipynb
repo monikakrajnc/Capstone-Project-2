{
 "cells": [
  {
   "cell_type": "code",
   "execution_count": 3,
   "metadata": {},
   "outputs": [],
   "source": [
    "# import libraries\n",
    "import numpy as np\n",
    "import pandas as pd\n",
    "\n",
    "import matplotlib.pyplot as plt\n",
    "import copy"
   ]
  },
  {
   "cell_type": "code",
   "execution_count": 2,
   "metadata": {},
   "outputs": [],
   "source": [
    "import statsmodels.api as sm\n",
    "from statsmodels.formula.api import ols\n",
    "import scipy.stats as stats"
   ]
  },
  {
   "cell_type": "code",
   "execution_count": 15,
   "metadata": {},
   "outputs": [],
   "source": [
    "from statsmodels.stats.multicomp import pairwise_tukeyhsd\n",
    "from statsmodels.stats.multicomp import MultiComparison"
   ]
  },
  {
   "cell_type": "code",
   "execution_count": 4,
   "metadata": {},
   "outputs": [],
   "source": [
    "# import data and make copy\n",
    "data = pd.read_csv('Data_rating_112_airlines.csv').copy()"
   ]
  },
  {
   "cell_type": "code",
   "execution_count": 5,
   "metadata": {},
   "outputs": [
    {
     "data": {
      "text/html": [
       "<div>\n",
       "<style scoped>\n",
       "    .dataframe tbody tr th:only-of-type {\n",
       "        vertical-align: middle;\n",
       "    }\n",
       "\n",
       "    .dataframe tbody tr th {\n",
       "        vertical-align: top;\n",
       "    }\n",
       "\n",
       "    .dataframe thead th {\n",
       "        text-align: right;\n",
       "    }\n",
       "</style>\n",
       "<table border=\"1\" class=\"dataframe\">\n",
       "  <thead>\n",
       "    <tr style=\"text-align: right;\">\n",
       "      <th></th>\n",
       "      <th>airline_name</th>\n",
       "      <th>link</th>\n",
       "      <th>title</th>\n",
       "      <th>author</th>\n",
       "      <th>author_country</th>\n",
       "      <th>date</th>\n",
       "      <th>content</th>\n",
       "      <th>aircraft</th>\n",
       "      <th>type_traveller</th>\n",
       "      <th>cabin_flown</th>\n",
       "      <th>route</th>\n",
       "      <th>overall_rating</th>\n",
       "      <th>seat_comfort_rating</th>\n",
       "      <th>cabin_staff_rating</th>\n",
       "      <th>food_beverages_rating</th>\n",
       "      <th>inflight_entertainment_rating</th>\n",
       "      <th>ground_service_rating</th>\n",
       "      <th>wifi_connectivity_rating</th>\n",
       "      <th>value_money_rating</th>\n",
       "      <th>recommended</th>\n",
       "    </tr>\n",
       "  </thead>\n",
       "  <tbody>\n",
       "    <tr>\n",
       "      <th>0</th>\n",
       "      <td>aegean-airlines</td>\n",
       "      <td>/airline-reviews/aegean-airlines</td>\n",
       "      <td>Aegean Airlines customer review</td>\n",
       "      <td>P Vlogianitis</td>\n",
       "      <td>Australia</td>\n",
       "      <td>2015-08-01</td>\n",
       "      <td>Flight to Larnaca was a joy. Generous legroom,...</td>\n",
       "      <td>A321</td>\n",
       "      <td>FamilyLeisure</td>\n",
       "      <td>Business Class</td>\n",
       "      <td>Athens to Larnaca</td>\n",
       "      <td>10.0</td>\n",
       "      <td>5.0</td>\n",
       "      <td>5.0</td>\n",
       "      <td>5.0</td>\n",
       "      <td>NaN</td>\n",
       "      <td>3.0</td>\n",
       "      <td>NaN</td>\n",
       "      <td>5.0</td>\n",
       "      <td>1</td>\n",
       "    </tr>\n",
       "    <tr>\n",
       "      <th>1</th>\n",
       "      <td>aegean-airlines</td>\n",
       "      <td>/airline-reviews/aegean-airlines</td>\n",
       "      <td>Aegean Airlines customer review</td>\n",
       "      <td>Eric Botha</td>\n",
       "      <td>United Kingdom</td>\n",
       "      <td>2015-07-28</td>\n",
       "      <td>Flight on time, row 1 - Friendly staff and ver...</td>\n",
       "      <td>A321</td>\n",
       "      <td>Couple Leisure</td>\n",
       "      <td>Business Class</td>\n",
       "      <td>Athens to London</td>\n",
       "      <td>8.0</td>\n",
       "      <td>4.0</td>\n",
       "      <td>5.0</td>\n",
       "      <td>4.0</td>\n",
       "      <td>2.0</td>\n",
       "      <td>4.0</td>\n",
       "      <td>NaN</td>\n",
       "      <td>4.0</td>\n",
       "      <td>1</td>\n",
       "    </tr>\n",
       "    <tr>\n",
       "      <th>2</th>\n",
       "      <td>aegean-airlines</td>\n",
       "      <td>/airline-reviews/aegean-airlines</td>\n",
       "      <td>Aegean Airlines customer review</td>\n",
       "      <td>Nathan Vermeulen</td>\n",
       "      <td>Belgium</td>\n",
       "      <td>2015-07-26</td>\n",
       "      <td>Very good flight with Aegean. The boarding was...</td>\n",
       "      <td>A320-232</td>\n",
       "      <td>FamilyLeisure</td>\n",
       "      <td>Economy</td>\n",
       "      <td>Brussels to Heraklion</td>\n",
       "      <td>9.0</td>\n",
       "      <td>4.0</td>\n",
       "      <td>5.0</td>\n",
       "      <td>4.0</td>\n",
       "      <td>NaN</td>\n",
       "      <td>4.0</td>\n",
       "      <td>NaN</td>\n",
       "      <td>4.0</td>\n",
       "      <td>1</td>\n",
       "    </tr>\n",
       "    <tr>\n",
       "      <th>3</th>\n",
       "      <td>aegean-airlines</td>\n",
       "      <td>/airline-reviews/aegean-airlines</td>\n",
       "      <td>Aegean Airlines customer review</td>\n",
       "      <td>N Sunder</td>\n",
       "      <td>United States</td>\n",
       "      <td>2015-07-21</td>\n",
       "      <td>Brand new A320, interior spotless. Crew immacu...</td>\n",
       "      <td>A320</td>\n",
       "      <td>Solo Leisure</td>\n",
       "      <td>Economy</td>\n",
       "      <td>Mykonos to Athens</td>\n",
       "      <td>8.0</td>\n",
       "      <td>4.0</td>\n",
       "      <td>4.0</td>\n",
       "      <td>NaN</td>\n",
       "      <td>NaN</td>\n",
       "      <td>4.0</td>\n",
       "      <td>NaN</td>\n",
       "      <td>4.0</td>\n",
       "      <td>1</td>\n",
       "    </tr>\n",
       "    <tr>\n",
       "      <th>4</th>\n",
       "      <td>aegean-airlines</td>\n",
       "      <td>/airline-reviews/aegean-airlines</td>\n",
       "      <td>Aegean Airlines customer review</td>\n",
       "      <td>Dimitrios Chrysos-Gklavas</td>\n",
       "      <td>Greece</td>\n",
       "      <td>2015-07-21</td>\n",
       "      <td>I booked a premium economy ticket so I can hav...</td>\n",
       "      <td>Dash 8 Q400</td>\n",
       "      <td>Solo Leisure</td>\n",
       "      <td>Economy</td>\n",
       "      <td>Athens to Santorini</td>\n",
       "      <td>8.0</td>\n",
       "      <td>4.0</td>\n",
       "      <td>5.0</td>\n",
       "      <td>4.0</td>\n",
       "      <td>NaN</td>\n",
       "      <td>2.0</td>\n",
       "      <td>NaN</td>\n",
       "      <td>3.0</td>\n",
       "      <td>1</td>\n",
       "    </tr>\n",
       "  </tbody>\n",
       "</table>\n",
       "</div>"
      ],
      "text/plain": [
       "      airline_name                              link  \\\n",
       "0  aegean-airlines  /airline-reviews/aegean-airlines   \n",
       "1  aegean-airlines  /airline-reviews/aegean-airlines   \n",
       "2  aegean-airlines  /airline-reviews/aegean-airlines   \n",
       "3  aegean-airlines  /airline-reviews/aegean-airlines   \n",
       "4  aegean-airlines  /airline-reviews/aegean-airlines   \n",
       "\n",
       "                             title                     author  author_country  \\\n",
       "0  Aegean Airlines customer review              P Vlogianitis       Australia   \n",
       "1  Aegean Airlines customer review                 Eric Botha  United Kingdom   \n",
       "2  Aegean Airlines customer review           Nathan Vermeulen         Belgium   \n",
       "3  Aegean Airlines customer review                   N Sunder   United States   \n",
       "4  Aegean Airlines customer review  Dimitrios Chrysos-Gklavas          Greece   \n",
       "\n",
       "         date                                            content     aircraft  \\\n",
       "0  2015-08-01  Flight to Larnaca was a joy. Generous legroom,...         A321   \n",
       "1  2015-07-28  Flight on time, row 1 - Friendly staff and ver...         A321   \n",
       "2  2015-07-26  Very good flight with Aegean. The boarding was...     A320-232   \n",
       "3  2015-07-21  Brand new A320, interior spotless. Crew immacu...         A320   \n",
       "4  2015-07-21  I booked a premium economy ticket so I can hav...  Dash 8 Q400   \n",
       "\n",
       "   type_traveller     cabin_flown                  route  overall_rating  \\\n",
       "0   FamilyLeisure  Business Class      Athens to Larnaca            10.0   \n",
       "1  Couple Leisure  Business Class       Athens to London             8.0   \n",
       "2   FamilyLeisure         Economy  Brussels to Heraklion             9.0   \n",
       "3    Solo Leisure         Economy      Mykonos to Athens             8.0   \n",
       "4    Solo Leisure         Economy    Athens to Santorini             8.0   \n",
       "\n",
       "   seat_comfort_rating  cabin_staff_rating  food_beverages_rating  \\\n",
       "0                  5.0                 5.0                    5.0   \n",
       "1                  4.0                 5.0                    4.0   \n",
       "2                  4.0                 5.0                    4.0   \n",
       "3                  4.0                 4.0                    NaN   \n",
       "4                  4.0                 5.0                    4.0   \n",
       "\n",
       "   inflight_entertainment_rating  ground_service_rating  \\\n",
       "0                            NaN                    3.0   \n",
       "1                            2.0                    4.0   \n",
       "2                            NaN                    4.0   \n",
       "3                            NaN                    4.0   \n",
       "4                            NaN                    2.0   \n",
       "\n",
       "   wifi_connectivity_rating  value_money_rating  recommended  \n",
       "0                       NaN                 5.0            1  \n",
       "1                       NaN                 4.0            1  \n",
       "2                       NaN                 4.0            1  \n",
       "3                       NaN                 4.0            1  \n",
       "4                       NaN                 3.0            1  "
      ]
     },
     "execution_count": 5,
     "metadata": {},
     "output_type": "execute_result"
    }
   ],
   "source": [
    "# check first few rows\n",
    "data.head()"
   ]
  },
  {
   "cell_type": "code",
   "execution_count": 6,
   "metadata": {},
   "outputs": [
    {
     "data": {
      "text/html": [
       "<div>\n",
       "<style scoped>\n",
       "    .dataframe tbody tr th:only-of-type {\n",
       "        vertical-align: middle;\n",
       "    }\n",
       "\n",
       "    .dataframe tbody tr th {\n",
       "        vertical-align: top;\n",
       "    }\n",
       "\n",
       "    .dataframe thead th {\n",
       "        text-align: right;\n",
       "    }\n",
       "</style>\n",
       "<table border=\"1\" class=\"dataframe\">\n",
       "  <thead>\n",
       "    <tr style=\"text-align: right;\">\n",
       "      <th></th>\n",
       "      <th>overall_rating</th>\n",
       "      <th>seat_comfort_rating</th>\n",
       "      <th>cabin_staff_rating</th>\n",
       "      <th>food_beverages_rating</th>\n",
       "      <th>inflight_entertainment_rating</th>\n",
       "      <th>ground_service_rating</th>\n",
       "      <th>wifi_connectivity_rating</th>\n",
       "      <th>value_money_rating</th>\n",
       "      <th>recommended</th>\n",
       "    </tr>\n",
       "  </thead>\n",
       "  <tbody>\n",
       "    <tr>\n",
       "      <th>count</th>\n",
       "      <td>32275.000000</td>\n",
       "      <td>31415.000000</td>\n",
       "      <td>31417.000000</td>\n",
       "      <td>31020.000000</td>\n",
       "      <td>28980.000000</td>\n",
       "      <td>2003.000000</td>\n",
       "      <td>534.000000</td>\n",
       "      <td>35314.000000</td>\n",
       "      <td>35609.000000</td>\n",
       "    </tr>\n",
       "    <tr>\n",
       "      <th>mean</th>\n",
       "      <td>6.033369</td>\n",
       "      <td>3.109056</td>\n",
       "      <td>3.335742</td>\n",
       "      <td>2.827176</td>\n",
       "      <td>2.463285</td>\n",
       "      <td>2.719421</td>\n",
       "      <td>2.284644</td>\n",
       "      <td>3.181090</td>\n",
       "      <td>0.544188</td>\n",
       "    </tr>\n",
       "    <tr>\n",
       "      <th>std</th>\n",
       "      <td>3.244976</td>\n",
       "      <td>1.392464</td>\n",
       "      <td>1.529093</td>\n",
       "      <td>1.568518</td>\n",
       "      <td>1.697691</td>\n",
       "      <td>1.566430</td>\n",
       "      <td>1.552541</td>\n",
       "      <td>1.517891</td>\n",
       "      <td>0.498051</td>\n",
       "    </tr>\n",
       "    <tr>\n",
       "      <th>min</th>\n",
       "      <td>1.000000</td>\n",
       "      <td>0.000000</td>\n",
       "      <td>0.000000</td>\n",
       "      <td>0.000000</td>\n",
       "      <td>0.000000</td>\n",
       "      <td>1.000000</td>\n",
       "      <td>1.000000</td>\n",
       "      <td>0.000000</td>\n",
       "      <td>0.000000</td>\n",
       "    </tr>\n",
       "    <tr>\n",
       "      <th>25%</th>\n",
       "      <td>3.000000</td>\n",
       "      <td>2.000000</td>\n",
       "      <td>2.000000</td>\n",
       "      <td>1.000000</td>\n",
       "      <td>1.000000</td>\n",
       "      <td>1.000000</td>\n",
       "      <td>1.000000</td>\n",
       "      <td>2.000000</td>\n",
       "      <td>0.000000</td>\n",
       "    </tr>\n",
       "    <tr>\n",
       "      <th>50%</th>\n",
       "      <td>7.000000</td>\n",
       "      <td>3.000000</td>\n",
       "      <td>4.000000</td>\n",
       "      <td>3.000000</td>\n",
       "      <td>3.000000</td>\n",
       "      <td>3.000000</td>\n",
       "      <td>1.000000</td>\n",
       "      <td>4.000000</td>\n",
       "      <td>1.000000</td>\n",
       "    </tr>\n",
       "    <tr>\n",
       "      <th>75%</th>\n",
       "      <td>9.000000</td>\n",
       "      <td>4.000000</td>\n",
       "      <td>5.000000</td>\n",
       "      <td>4.000000</td>\n",
       "      <td>4.000000</td>\n",
       "      <td>4.000000</td>\n",
       "      <td>4.000000</td>\n",
       "      <td>4.000000</td>\n",
       "      <td>1.000000</td>\n",
       "    </tr>\n",
       "    <tr>\n",
       "      <th>max</th>\n",
       "      <td>10.000000</td>\n",
       "      <td>5.000000</td>\n",
       "      <td>5.000000</td>\n",
       "      <td>5.000000</td>\n",
       "      <td>5.000000</td>\n",
       "      <td>5.000000</td>\n",
       "      <td>5.000000</td>\n",
       "      <td>5.000000</td>\n",
       "      <td>1.000000</td>\n",
       "    </tr>\n",
       "  </tbody>\n",
       "</table>\n",
       "</div>"
      ],
      "text/plain": [
       "       overall_rating  seat_comfort_rating  cabin_staff_rating  \\\n",
       "count    32275.000000         31415.000000        31417.000000   \n",
       "mean         6.033369             3.109056            3.335742   \n",
       "std          3.244976             1.392464            1.529093   \n",
       "min          1.000000             0.000000            0.000000   \n",
       "25%          3.000000             2.000000            2.000000   \n",
       "50%          7.000000             3.000000            4.000000   \n",
       "75%          9.000000             4.000000            5.000000   \n",
       "max         10.000000             5.000000            5.000000   \n",
       "\n",
       "       food_beverages_rating  inflight_entertainment_rating  \\\n",
       "count           31020.000000                   28980.000000   \n",
       "mean                2.827176                       2.463285   \n",
       "std                 1.568518                       1.697691   \n",
       "min                 0.000000                       0.000000   \n",
       "25%                 1.000000                       1.000000   \n",
       "50%                 3.000000                       3.000000   \n",
       "75%                 4.000000                       4.000000   \n",
       "max                 5.000000                       5.000000   \n",
       "\n",
       "       ground_service_rating  wifi_connectivity_rating  value_money_rating  \\\n",
       "count            2003.000000                534.000000        35314.000000   \n",
       "mean                2.719421                  2.284644            3.181090   \n",
       "std                 1.566430                  1.552541            1.517891   \n",
       "min                 1.000000                  1.000000            0.000000   \n",
       "25%                 1.000000                  1.000000            2.000000   \n",
       "50%                 3.000000                  1.000000            4.000000   \n",
       "75%                 4.000000                  4.000000            4.000000   \n",
       "max                 5.000000                  5.000000            5.000000   \n",
       "\n",
       "        recommended  \n",
       "count  35609.000000  \n",
       "mean       0.544188  \n",
       "std        0.498051  \n",
       "min        0.000000  \n",
       "25%        0.000000  \n",
       "50%        1.000000  \n",
       "75%        1.000000  \n",
       "max        1.000000  "
      ]
     },
     "execution_count": 6,
     "metadata": {},
     "output_type": "execute_result"
    }
   ],
   "source": [
    "# check summary statistics\n",
    "data.describe()"
   ]
  },
  {
   "cell_type": "code",
   "execution_count": 7,
   "metadata": {},
   "outputs": [
    {
     "name": "stdout",
     "output_type": "stream",
     "text": [
      "<class 'pandas.core.frame.DataFrame'>\n",
      "RangeIndex: 35609 entries, 0 to 35608\n",
      "Data columns (total 20 columns):\n",
      "airline_name                     35609 non-null object\n",
      "link                             35609 non-null object\n",
      "title                            35609 non-null object\n",
      "author                           35609 non-null object\n",
      "author_country                   35396 non-null object\n",
      "date                             35609 non-null object\n",
      "content                          35609 non-null object\n",
      "aircraft                         1153 non-null object\n",
      "type_traveller                   2164 non-null object\n",
      "cabin_flown                      34138 non-null object\n",
      "route                            2128 non-null object\n",
      "overall_rating                   32275 non-null float64\n",
      "seat_comfort_rating              31415 non-null float64\n",
      "cabin_staff_rating               31417 non-null float64\n",
      "food_beverages_rating            31020 non-null float64\n",
      "inflight_entertainment_rating    28980 non-null float64\n",
      "ground_service_rating            2003 non-null float64\n",
      "wifi_connectivity_rating         534 non-null float64\n",
      "value_money_rating               35314 non-null float64\n",
      "recommended                      35609 non-null int64\n",
      "dtypes: float64(8), int64(1), object(11)\n",
      "memory usage: 5.4+ MB\n"
     ]
    }
   ],
   "source": [
    "# check additional information\n",
    "data.info()"
   ]
  },
  {
   "cell_type": "markdown",
   "metadata": {},
   "source": []
  },
  {
   "cell_type": "markdown",
   "metadata": {},
   "source": [
    "### 1. GROUP BY TRAVELLER TYPE"
   ]
  },
  {
   "cell_type": "code",
   "execution_count": 12,
   "metadata": {},
   "outputs": [
    {
     "data": {
      "text/plain": [
       "type_traveller\n",
       "Business          329\n",
       "Couple Leisure    544\n",
       "FamilyLeisure     559\n",
       "Solo Leisure      732\n",
       "Name: recommended, dtype: int64"
      ]
     },
     "execution_count": 12,
     "metadata": {},
     "output_type": "execute_result"
    }
   ],
   "source": [
    "# group data by traveller type and count number of rows for recommended reviews\n",
    "data.groupby('type_traveller')['recommended'].count()"
   ]
  },
  {
   "cell_type": "code",
   "execution_count": 13,
   "metadata": {},
   "outputs": [
    {
     "data": {
      "text/plain": [
       "type_traveller\n",
       "Business          0.431611\n",
       "Couple Leisure    0.443015\n",
       "FamilyLeisure     0.423971\n",
       "Solo Leisure      0.524590\n",
       "Name: recommended, dtype: float64"
      ]
     },
     "execution_count": 13,
     "metadata": {},
     "output_type": "execute_result"
    }
   ],
   "source": [
    "# group data by traveller type and calculate average for recommended reviews\n",
    "data.groupby('type_traveller')['recommended'].mean()"
   ]
  },
  {
   "cell_type": "markdown",
   "metadata": {},
   "source": [
    "null hypothesis: There is no difference in means of recommended rating between passengers based on traveller type.\n",
    "\n",
    "alternative hypothesis: There is difference between means of recommended rating between passengers based on traveller type."
   ]
  },
  {
   "cell_type": "code",
   "execution_count": 5,
   "metadata": {},
   "outputs": [
    {
     "data": {
      "text/plain": [
       "F_onewayResult(statistic=5.619120334066824, pvalue=0.0007784730472595241)"
      ]
     },
     "execution_count": 5,
     "metadata": {},
     "output_type": "execute_result"
    }
   ],
   "source": [
    "# ANOVA using scipy.stats\n",
    "stats.f_oneway(data['recommended'][data['type_traveller'] == 'Business'], \n",
    "               data['recommended'][data['type_traveller'] == 'Couple Leisure'],\n",
    "               data['recommended'][data['type_traveller'] == 'FamilyLeisure'],\n",
    "               data['recommended'][data['type_traveller'] == 'Solo Leisure'])"
   ]
  },
  {
   "cell_type": "markdown",
   "metadata": {},
   "source": [
    "The F-statistic = 5.619 and the p-value = 0.0008 which is indicating that there is an overall significant effect of traveller type on recommended rating. "
   ]
  },
  {
   "cell_type": "code",
   "execution_count": 8,
   "metadata": {},
   "outputs": [
    {
     "data": {
      "text/html": [
       "<table class=\"simpletable\">\n",
       "<caption>OLS Regression Results</caption>\n",
       "<tr>\n",
       "  <th>Dep. Variable:</th>       <td>recommended</td>   <th>  R-squared:         </th> <td>   0.008</td>\n",
       "</tr>\n",
       "<tr>\n",
       "  <th>Model:</th>                   <td>OLS</td>       <th>  Adj. R-squared:    </th> <td>   0.006</td>\n",
       "</tr>\n",
       "<tr>\n",
       "  <th>Method:</th>             <td>Least Squares</td>  <th>  F-statistic:       </th> <td>   5.619</td>\n",
       "</tr>\n",
       "<tr>\n",
       "  <th>Date:</th>             <td>Thu, 14 Nov 2019</td> <th>  Prob (F-statistic):</th> <td>0.000778</td>\n",
       "</tr>\n",
       "<tr>\n",
       "  <th>Time:</th>                 <td>09:58:06</td>     <th>  Log-Likelihood:    </th> <td> -1556.6</td>\n",
       "</tr>\n",
       "<tr>\n",
       "  <th>No. Observations:</th>      <td>  2164</td>      <th>  AIC:               </th> <td>   3121.</td>\n",
       "</tr>\n",
       "<tr>\n",
       "  <th>Df Residuals:</th>          <td>  2160</td>      <th>  BIC:               </th> <td>   3144.</td>\n",
       "</tr>\n",
       "<tr>\n",
       "  <th>Df Model:</th>              <td>     3</td>      <th>                     </th>     <td> </td>   \n",
       "</tr>\n",
       "<tr>\n",
       "  <th>Covariance Type:</th>      <td>nonrobust</td>    <th>                     </th>     <td> </td>   \n",
       "</tr>\n",
       "</table>\n",
       "<table class=\"simpletable\">\n",
       "<tr>\n",
       "                   <td></td>                      <th>coef</th>     <th>std err</th>      <th>t</th>      <th>P>|t|</th>  <th>[0.025</th>    <th>0.975]</th>  \n",
       "</tr>\n",
       "<tr>\n",
       "  <th>Intercept</th>                           <td>    0.4316</td> <td>    0.027</td> <td>   15.745</td> <td> 0.000</td> <td>    0.378</td> <td>    0.485</td>\n",
       "</tr>\n",
       "<tr>\n",
       "  <th>C(type_traveller)[T.Couple Leisure]</th> <td>    0.0114</td> <td>    0.035</td> <td>    0.328</td> <td> 0.743</td> <td>   -0.057</td> <td>    0.080</td>\n",
       "</tr>\n",
       "<tr>\n",
       "  <th>C(type_traveller)[T.FamilyLeisure]</th>  <td>   -0.0076</td> <td>    0.035</td> <td>   -0.221</td> <td> 0.825</td> <td>   -0.075</td> <td>    0.060</td>\n",
       "</tr>\n",
       "<tr>\n",
       "  <th>C(type_traveller)[T.Solo Leisure]</th>   <td>    0.0930</td> <td>    0.033</td> <td>    2.817</td> <td> 0.005</td> <td>    0.028</td> <td>    0.158</td>\n",
       "</tr>\n",
       "</table>\n",
       "<table class=\"simpletable\">\n",
       "<tr>\n",
       "  <th>Omnibus:</th>       <td>7974.880</td> <th>  Durbin-Watson:     </th> <td>   1.521</td>\n",
       "</tr>\n",
       "<tr>\n",
       "  <th>Prob(Omnibus):</th>  <td> 0.000</td>  <th>  Jarque-Bera (JB):  </th> <td> 349.580</td>\n",
       "</tr>\n",
       "<tr>\n",
       "  <th>Skew:</th>           <td> 0.144</td>  <th>  Prob(JB):          </th> <td>1.23e-76</td>\n",
       "</tr>\n",
       "<tr>\n",
       "  <th>Kurtosis:</th>       <td> 1.052</td>  <th>  Cond. No.          </th> <td>    6.04</td>\n",
       "</tr>\n",
       "</table><br/><br/>Warnings:<br/>[1] Standard Errors assume that the covariance matrix of the errors is correctly specified."
      ],
      "text/plain": [
       "<class 'statsmodels.iolib.summary.Summary'>\n",
       "\"\"\"\n",
       "                            OLS Regression Results                            \n",
       "==============================================================================\n",
       "Dep. Variable:            recommended   R-squared:                       0.008\n",
       "Model:                            OLS   Adj. R-squared:                  0.006\n",
       "Method:                 Least Squares   F-statistic:                     5.619\n",
       "Date:                Thu, 14 Nov 2019   Prob (F-statistic):           0.000778\n",
       "Time:                        09:58:06   Log-Likelihood:                -1556.6\n",
       "No. Observations:                2164   AIC:                             3121.\n",
       "Df Residuals:                    2160   BIC:                             3144.\n",
       "Df Model:                           3                                         \n",
       "Covariance Type:            nonrobust                                         \n",
       "=======================================================================================================\n",
       "                                          coef    std err          t      P>|t|      [0.025      0.975]\n",
       "-------------------------------------------------------------------------------------------------------\n",
       "Intercept                               0.4316      0.027     15.745      0.000       0.378       0.485\n",
       "C(type_traveller)[T.Couple Leisure]     0.0114      0.035      0.328      0.743      -0.057       0.080\n",
       "C(type_traveller)[T.FamilyLeisure]     -0.0076      0.035     -0.221      0.825      -0.075       0.060\n",
       "C(type_traveller)[T.Solo Leisure]       0.0930      0.033      2.817      0.005       0.028       0.158\n",
       "==============================================================================\n",
       "Omnibus:                     7974.880   Durbin-Watson:                   1.521\n",
       "Prob(Omnibus):                  0.000   Jarque-Bera (JB):              349.580\n",
       "Skew:                           0.144   Prob(JB):                     1.23e-76\n",
       "Kurtosis:                       1.052   Cond. No.                         6.04\n",
       "==============================================================================\n",
       "\n",
       "Warnings:\n",
       "[1] Standard Errors assume that the covariance matrix of the errors is correctly specified.\n",
       "\"\"\""
      ]
     },
     "execution_count": 8,
     "metadata": {},
     "output_type": "execute_result"
    }
   ],
   "source": [
    "# ANOVA using statsmodels (regression formula)\n",
    "results_traveller = ols('recommended ~ C(type_traveller)', data=data).fit()\n",
    "results_traveller.summary()"
   ]
  },
  {
   "cell_type": "markdown",
   "metadata": {},
   "source": [
    "Overall the model is significant, F(3,2160)= 5.619, p = 0.0008. This tells us that there is a significant difference in the group means. The coefficients are the difference in means between the control group and the respective group listed. The Intercept is the mean for the Business traveller type group. Family Leisure group has a negative coefficient, which means it has an average value lower than Business group. In other words, on average Family Leisure will less likely to recommend airline than Business type of traveller.\n",
    "Looking at the p-values (P>|t|), we can see the difference between the Business group and Solo Leisure group is significant, p = 0.005, but the difference between the Business group and any other two groups is not, (p = 0.743 and p = 0.825).\n"
   ]
  },
  {
   "cell_type": "code",
   "execution_count": 9,
   "metadata": {},
   "outputs": [
    {
     "data": {
      "text/html": [
       "<div>\n",
       "<style scoped>\n",
       "    .dataframe tbody tr th:only-of-type {\n",
       "        vertical-align: middle;\n",
       "    }\n",
       "\n",
       "    .dataframe tbody tr th {\n",
       "        vertical-align: top;\n",
       "    }\n",
       "\n",
       "    .dataframe thead th {\n",
       "        text-align: right;\n",
       "    }\n",
       "</style>\n",
       "<table border=\"1\" class=\"dataframe\">\n",
       "  <thead>\n",
       "    <tr style=\"text-align: right;\">\n",
       "      <th></th>\n",
       "      <th>sum_sq</th>\n",
       "      <th>df</th>\n",
       "      <th>F</th>\n",
       "      <th>PR(&gt;F)</th>\n",
       "    </tr>\n",
       "  </thead>\n",
       "  <tbody>\n",
       "    <tr>\n",
       "      <th>C(type_traveller)</th>\n",
       "      <td>4.167677</td>\n",
       "      <td>3.0</td>\n",
       "      <td>5.61912</td>\n",
       "      <td>0.000778</td>\n",
       "    </tr>\n",
       "    <tr>\n",
       "      <th>Residual</th>\n",
       "      <td>534.020863</td>\n",
       "      <td>2160.0</td>\n",
       "      <td>NaN</td>\n",
       "      <td>NaN</td>\n",
       "    </tr>\n",
       "  </tbody>\n",
       "</table>\n",
       "</div>"
      ],
      "text/plain": [
       "                       sum_sq      df        F    PR(>F)\n",
       "C(type_traveller)    4.167677     3.0  5.61912  0.000778\n",
       "Residual           534.020863  2160.0      NaN       NaN"
      ]
     },
     "execution_count": 9,
     "metadata": {},
     "output_type": "execute_result"
    }
   ],
   "source": [
    "# getting ANOVA table\n",
    "aov_table_traveller = sm.stats.anova_lm(results_traveller, typ=2)\n",
    "aov_table_traveller"
   ]
  },
  {
   "cell_type": "markdown",
   "metadata": {},
   "source": [
    "The type traveller row is the between groups effect which is the overall experimental effect. The sum of squares for the model (sum_sq = 4.168) is how much variance is explained by the model. The model explains a significant amount of variance, F(3,2160)= 5.619, p < 0.05. The Residual row is the unexplained variance in the data (sum_sq = 534.021). In this case, the unexplained variance represents the individual differences in recommendation and different reactions to a traveller type."
   ]
  },
  {
   "cell_type": "markdown",
   "metadata": {},
   "source": [
    "\n",
    "#### 1.1. Calculating Model Effect Size\n",
    "\n",
    "The effect size tells us how much of an impact the experiment will have in the real world.\n"
   ]
  },
  {
   "cell_type": "code",
   "execution_count": 10,
   "metadata": {},
   "outputs": [
    {
     "data": {
      "text/plain": [
       "(4.16767706703947, 534.0208626741805)"
      ]
     },
     "execution_count": 10,
     "metadata": {},
     "output_type": "execute_result"
    }
   ],
   "source": [
    "# extract sum_sq column values from ANOVA table\n",
    "aov_table_traveller.sum_sq[0], aov_table_traveller.sum_sq[1]"
   ]
  },
  {
   "cell_type": "code",
   "execution_count": 71,
   "metadata": {},
   "outputs": [
    {
     "name": "stdout",
     "output_type": "stream",
     "text": [
      "The current model accounts for 0.77% of the variance in contributing to recommended rating.\n"
     ]
    }
   ],
   "source": [
    "# calculating eta squared - R2\n",
    "# formula: R2 and eta squared = SS_m/SS_r\n",
    "R2_and_eta_squared = aov_table_traveller.sum_sq[0]/(aov_table_traveller.sum_sq[0]+aov_table_traveller.sum_sq[1])\n",
    "print('The current model accounts for '+ str(round(R2_and_eta_squared,4)*100) + '% of the variance in contributing to recommended rating.')"
   ]
  },
  {
   "cell_type": "code",
   "execution_count": 12,
   "metadata": {},
   "outputs": [
    {
     "name": "stdout",
     "output_type": "stream",
     "text": [
      "1.3892256890131567 is the average amount of variance explained by the current model.\n",
      "0.24723188086767617 is the average amount of variance unexplained by the current model.\n"
     ]
    }
   ],
   "source": [
    "# calculate the mean squares\n",
    "# formulas: \n",
    "# MS_m = SS_m/df_m, MS_r = SS_r/df_r\n",
    "MSm_traveller = aov_table_traveller.sum_sq[0]/aov_table_traveller.df[0]\n",
    "MSr_traveller = aov_table_traveller.sum_sq[1]/aov_table_traveller.df[1]\n",
    "print(MSm_traveller, 'is the average amount of variance explained by the current model.') \n",
    "print(MSr_traveller, 'is the average amount of variance unexplained by the current model.')"
   ]
  },
  {
   "cell_type": "code",
   "execution_count": 13,
   "metadata": {},
   "outputs": [
    {
     "data": {
      "text/html": [
       "<div>\n",
       "<style scoped>\n",
       "    .dataframe tbody tr th:only-of-type {\n",
       "        vertical-align: middle;\n",
       "    }\n",
       "\n",
       "    .dataframe tbody tr th {\n",
       "        vertical-align: top;\n",
       "    }\n",
       "\n",
       "    .dataframe thead th {\n",
       "        text-align: right;\n",
       "    }\n",
       "</style>\n",
       "<table border=\"1\" class=\"dataframe\">\n",
       "  <thead>\n",
       "    <tr style=\"text-align: right;\">\n",
       "      <th></th>\n",
       "      <th>sum_sq</th>\n",
       "      <th>df</th>\n",
       "      <th>mean_sq</th>\n",
       "      <th>F</th>\n",
       "      <th>PR(&gt;F)</th>\n",
       "      <th>eta_sq</th>\n",
       "      <th>omega_sq</th>\n",
       "    </tr>\n",
       "  </thead>\n",
       "  <tbody>\n",
       "    <tr>\n",
       "      <th>C(type_traveller)</th>\n",
       "      <td>4.167677</td>\n",
       "      <td>3.0</td>\n",
       "      <td>1.389226</td>\n",
       "      <td>5.61912</td>\n",
       "      <td>0.000778</td>\n",
       "      <td>0.007744</td>\n",
       "      <td>0.006363</td>\n",
       "    </tr>\n",
       "    <tr>\n",
       "      <th>Residual</th>\n",
       "      <td>534.020863</td>\n",
       "      <td>2160.0</td>\n",
       "      <td>0.247232</td>\n",
       "      <td>NaN</td>\n",
       "      <td>NaN</td>\n",
       "      <td>NaN</td>\n",
       "      <td>NaN</td>\n",
       "    </tr>\n",
       "  </tbody>\n",
       "</table>\n",
       "</div>"
      ],
      "text/plain": [
       "                       sum_sq      df   mean_sq        F    PR(>F)    eta_sq  \\\n",
       "C(type_traveller)    4.167677     3.0  1.389226  5.61912  0.000778  0.007744   \n",
       "Residual           534.020863  2160.0  0.247232      NaN       NaN       NaN   \n",
       "\n",
       "                   omega_sq  \n",
       "C(type_traveller)  0.006363  \n",
       "Residual                NaN  "
      ]
     },
     "execution_count": 13,
     "metadata": {},
     "output_type": "execute_result"
    }
   ],
   "source": [
    "# the function to calculate the effect sizes, the mean squares and then updates the table\n",
    "def anova_table(aov):\n",
    "    aov['mean_sq'] = aov[:]['sum_sq']/aov[:]['df']\n",
    "    \n",
    "    aov['eta_sq'] = aov[:-1]['sum_sq']/sum(aov['sum_sq'])\n",
    "    \n",
    "    aov['omega_sq'] = (aov[:-1]['sum_sq']-(aov[:-1]['df']*aov['mean_sq'][-1]))/(sum(aov['sum_sq'])+aov['mean_sq'][-1])\n",
    "    \n",
    "    cols = ['sum_sq', 'df', 'mean_sq', 'F', 'PR(>F)', 'eta_sq', 'omega_sq']\n",
    "    aov = aov[cols]\n",
    "    return aov\n",
    "\n",
    "anova_table(aov_table_traveller)"
   ]
  },
  {
   "cell_type": "markdown",
   "metadata": {},
   "source": [
    "From the anova_table we get the same values for the average amounts (mean_sq) as calculated above (MSm_traveller and MSr_traveller). F-statistic represents the ratio of MSm_traveller to MSr_traveller. eta_sq is also called R2 (calculated above), and can be interpreted as the amount of explained variance, as well as an effect size measure."
   ]
  },
  {
   "cell_type": "markdown",
   "metadata": {},
   "source": [
    "#### 1.2. Homogeneity of Variance\n",
    "\n",
    "We can use the Levene’s test to test for equal variances between groups."
   ]
  },
  {
   "cell_type": "code",
   "execution_count": 14,
   "metadata": {},
   "outputs": [
    {
     "data": {
      "text/plain": [
       "LeveneResult(statistic=1.3126570838357872, pvalue=0.26853625706562273)"
      ]
     },
     "execution_count": 14,
     "metadata": {},
     "output_type": "execute_result"
    }
   ],
   "source": [
    "stats.levene(data['recommended'][data['type_traveller'] == 'Business'], \n",
    "               data['recommended'][data['type_traveller'] == 'Couple Leisure'],\n",
    "               data['recommended'][data['type_traveller'] == 'FamilyLeisure'],\n",
    "               data['recommended'][data['type_traveller'] == 'Solo Leisure'])"
   ]
  },
  {
   "cell_type": "markdown",
   "metadata": {},
   "source": [
    "Levene’s test for homogeneity of variance is not statistically significant, which indicates that the groups have equal variances."
   ]
  },
  {
   "cell_type": "markdown",
   "metadata": {},
   "source": [
    "To test between groups, we need to do some post-hoc testing where we can compare all groups against each other. "
   ]
  },
  {
   "cell_type": "markdown",
   "metadata": {},
   "source": [
    "#### 1.3. Tukey’s HSD Post-hoc comparison\n",
    "\n",
    "Using Tukey’s HSD to test which groups differ."
   ]
  },
  {
   "cell_type": "code",
   "execution_count": 34,
   "metadata": {},
   "outputs": [],
   "source": [
    "# create a list with unique type travellers\n",
    "list_traveller = list(data['type_traveller'].unique())"
   ]
  },
  {
   "cell_type": "code",
   "execution_count": 38,
   "metadata": {},
   "outputs": [
    {
     "data": {
      "text/plain": [
       "['FamilyLeisure', 'Couple Leisure', 'Solo Leisure', 'Business', nan]"
      ]
     },
     "execution_count": 38,
     "metadata": {},
     "output_type": "execute_result"
    }
   ],
   "source": [
    "list_traveller"
   ]
  },
  {
   "cell_type": "code",
   "execution_count": 39,
   "metadata": {},
   "outputs": [],
   "source": [
    "# create dataframe where traveller type doesn't have an empty row\n",
    "data_traveller = data.loc[data['type_traveller'].isin(['FamilyLeisure', 'Couple Leisure', 'Solo Leisure', 'Business'])]"
   ]
  },
  {
   "cell_type": "code",
   "execution_count": 40,
   "metadata": {},
   "outputs": [
    {
     "name": "stdout",
     "output_type": "stream",
     "text": [
      "        Multiple Comparison of Means - Tukey HSD, FWER=0.05        \n",
      "===================================================================\n",
      "    group1         group2     meandiff p-adj   lower  upper  reject\n",
      "-------------------------------------------------------------------\n",
      "      Business Couple Leisure   0.0114    0.9 -0.0779 0.1007  False\n",
      "      Business  FamilyLeisure  -0.0076    0.9 -0.0965 0.0812  False\n",
      "      Business   Solo Leisure    0.093 0.0252  0.0081 0.1778   True\n",
      "Couple Leisure  FamilyLeisure   -0.019    0.9  -0.096 0.0579  False\n",
      "Couple Leisure   Solo Leisure   0.0816 0.0198  0.0092 0.1539   True\n",
      " FamilyLeisure   Solo Leisure   0.1006 0.0018  0.0288 0.1724   True\n",
      "-------------------------------------------------------------------\n"
     ]
    }
   ],
   "source": [
    "# Tukey HSD post-hoc comparison test between different group means\n",
    "mc_traveller = MultiComparison(data_traveller['recommended'], data_traveller['type_traveller'])\n",
    "mc_results_traveller = mc_traveller.tukeyhsd()\n",
    "print(mc_results_traveller)"
   ]
  },
  {
   "cell_type": "markdown",
   "metadata": {},
   "source": [
    "The group1 and group2 columns are the groups being compared, the meandiff column is the difference in means of the two groups being calculated as group2 – group1, the lower/upper columns are the lower/upper boundaries of the 95% confidence interval, and the reject column states whether or not the null hypothesis should be rejected.\n",
    "Based on that we can reject the null hypothesis for three comparisons: There is a difference in means for recommended rating between Business and Couple Leisure traveller type. There is also a difference in means for recommended rating between Business and Family Leisure traveller type. We can also reject for comparison between Couple Leisure and Family Leisure traveller type.\n"
   ]
  },
  {
   "cell_type": "markdown",
   "metadata": {},
   "source": []
  },
  {
   "cell_type": "markdown",
   "metadata": {},
   "source": [
    "### 2. GROUP BY FLIGHT CLASS"
   ]
  },
  {
   "cell_type": "code",
   "execution_count": 14,
   "metadata": {},
   "outputs": [
    {
     "data": {
      "text/plain": [
       "cabin_flown\n",
       "Business Class      5962\n",
       "Economy            25862\n",
       "First Class          841\n",
       "Premium Economy     1473\n",
       "Name: recommended, dtype: int64"
      ]
     },
     "execution_count": 14,
     "metadata": {},
     "output_type": "execute_result"
    }
   ],
   "source": [
    "# group data by flight class and count number of rows for recommended reviews\n",
    "data.groupby('cabin_flown')['recommended'].count()"
   ]
  },
  {
   "cell_type": "code",
   "execution_count": 18,
   "metadata": {},
   "outputs": [
    {
     "data": {
      "text/plain": [
       "cabin_flown\n",
       "Business Class      4108\n",
       "Economy            13409\n",
       "First Class          537\n",
       "Premium Economy      792\n",
       "Name: recommended, dtype: int64"
      ]
     },
     "execution_count": 18,
     "metadata": {},
     "output_type": "execute_result"
    }
   ],
   "source": [
    "# group data by flight class and count number of rows for recommended reviews\n",
    "data.groupby('cabin_flown')['recommended'].sum()"
   ]
  },
  {
   "cell_type": "code",
   "execution_count": 15,
   "metadata": {},
   "outputs": [
    {
     "data": {
      "text/plain": [
       "cabin_flown\n",
       "Business Class     0.689031\n",
       "Economy            0.518483\n",
       "First Class        0.638526\n",
       "Premium Economy    0.537678\n",
       "Name: recommended, dtype: float64"
      ]
     },
     "execution_count": 15,
     "metadata": {},
     "output_type": "execute_result"
    }
   ],
   "source": [
    "# group data by flight class and calculate average for recommended reviews\n",
    "data.groupby('cabin_flown')['recommended'].mean()"
   ]
  },
  {
   "cell_type": "markdown",
   "metadata": {},
   "source": []
  },
  {
   "cell_type": "markdown",
   "metadata": {},
   "source": [
    "null hypothesis: There is no difference in means of recommended rating between passengers based on the cabin flown (flight class).\n",
    "\n",
    "alternative hypothesis: There is difference between means of recommended rating passengers based on the cabin flown (flight class)."
   ]
  },
  {
   "cell_type": "code",
   "execution_count": 6,
   "metadata": {},
   "outputs": [
    {
     "data": {
      "text/plain": [
       "F_onewayResult(statistic=202.47664595260855, pvalue=3.5377794911393746e-130)"
      ]
     },
     "execution_count": 6,
     "metadata": {},
     "output_type": "execute_result"
    }
   ],
   "source": [
    "# ANOVA using scipy.stats\n",
    "stats.f_oneway(data['recommended'][data['cabin_flown'] == 'Business Class'], \n",
    "               data['recommended'][data['cabin_flown'] == 'Economy'],\n",
    "               data['recommended'][data['cabin_flown'] == 'First Class'],\n",
    "               data['recommended'][data['cabin_flown'] == 'Premium Economy'])"
   ]
  },
  {
   "cell_type": "markdown",
   "metadata": {},
   "source": [
    "The F-statistic = 202.477 and the p-value = 3.5377794911393746e-130 which is indicating that there is an overall significant effect of the cabin flown on recommended rating. "
   ]
  },
  {
   "cell_type": "code",
   "execution_count": 44,
   "metadata": {},
   "outputs": [
    {
     "data": {
      "text/html": [
       "<table class=\"simpletable\">\n",
       "<caption>OLS Regression Results</caption>\n",
       "<tr>\n",
       "  <th>Dep. Variable:</th>       <td>recommended</td>   <th>  R-squared:         </th> <td>   0.017</td> \n",
       "</tr>\n",
       "<tr>\n",
       "  <th>Model:</th>                   <td>OLS</td>       <th>  Adj. R-squared:    </th> <td>   0.017</td> \n",
       "</tr>\n",
       "<tr>\n",
       "  <th>Method:</th>             <td>Least Squares</td>  <th>  F-statistic:       </th> <td>   202.5</td> \n",
       "</tr>\n",
       "<tr>\n",
       "  <th>Date:</th>             <td>Thu, 14 Nov 2019</td> <th>  Prob (F-statistic):</th> <td>3.54e-130</td>\n",
       "</tr>\n",
       "<tr>\n",
       "  <th>Time:</th>                 <td>11:22:43</td>     <th>  Log-Likelihood:    </th> <td> -24290.</td> \n",
       "</tr>\n",
       "<tr>\n",
       "  <th>No. Observations:</th>      <td> 34138</td>      <th>  AIC:               </th> <td>4.859e+04</td>\n",
       "</tr>\n",
       "<tr>\n",
       "  <th>Df Residuals:</th>          <td> 34134</td>      <th>  BIC:               </th> <td>4.862e+04</td>\n",
       "</tr>\n",
       "<tr>\n",
       "  <th>Df Model:</th>              <td>     3</td>      <th>                     </th>     <td> </td>    \n",
       "</tr>\n",
       "<tr>\n",
       "  <th>Covariance Type:</th>      <td>nonrobust</td>    <th>                     </th>     <td> </td>    \n",
       "</tr>\n",
       "</table>\n",
       "<table class=\"simpletable\">\n",
       "<tr>\n",
       "                  <td></td>                     <th>coef</th>     <th>std err</th>      <th>t</th>      <th>P>|t|</th>  <th>[0.025</th>    <th>0.975]</th>  \n",
       "</tr>\n",
       "<tr>\n",
       "  <th>Intercept</th>                         <td>    0.6890</td> <td>    0.006</td> <td>  107.928</td> <td> 0.000</td> <td>    0.677</td> <td>    0.702</td>\n",
       "</tr>\n",
       "<tr>\n",
       "  <th>C(cabin_flown)[T.Economy]</th>         <td>   -0.1705</td> <td>    0.007</td> <td>  -24.082</td> <td> 0.000</td> <td>   -0.184</td> <td>   -0.157</td>\n",
       "</tr>\n",
       "<tr>\n",
       "  <th>C(cabin_flown)[T.First Class]</th>     <td>   -0.0505</td> <td>    0.018</td> <td>   -2.781</td> <td> 0.005</td> <td>   -0.086</td> <td>   -0.015</td>\n",
       "</tr>\n",
       "<tr>\n",
       "  <th>C(cabin_flown)[T.Premium Economy]</th> <td>   -0.1514</td> <td>    0.014</td> <td>  -10.552</td> <td> 0.000</td> <td>   -0.179</td> <td>   -0.123</td>\n",
       "</tr>\n",
       "</table>\n",
       "<table class=\"simpletable\">\n",
       "<tr>\n",
       "  <th>Omnibus:</th>       <td>124709.880</td> <th>  Durbin-Watson:     </th> <td>   1.818</td>\n",
       "</tr>\n",
       "<tr>\n",
       "  <th>Prob(Omnibus):</th>   <td> 0.000</td>   <th>  Jarque-Bera (JB):  </th> <td>5319.327</td>\n",
       "</tr>\n",
       "<tr>\n",
       "  <th>Skew:</th>            <td>-0.196</td>   <th>  Prob(JB):          </th> <td>    0.00</td>\n",
       "</tr>\n",
       "<tr>\n",
       "  <th>Kurtosis:</th>        <td> 1.107</td>   <th>  Cond. No.          </th> <td>    9.14</td>\n",
       "</tr>\n",
       "</table><br/><br/>Warnings:<br/>[1] Standard Errors assume that the covariance matrix of the errors is correctly specified."
      ],
      "text/plain": [
       "<class 'statsmodels.iolib.summary.Summary'>\n",
       "\"\"\"\n",
       "                            OLS Regression Results                            \n",
       "==============================================================================\n",
       "Dep. Variable:            recommended   R-squared:                       0.017\n",
       "Model:                            OLS   Adj. R-squared:                  0.017\n",
       "Method:                 Least Squares   F-statistic:                     202.5\n",
       "Date:                Thu, 14 Nov 2019   Prob (F-statistic):          3.54e-130\n",
       "Time:                        11:22:43   Log-Likelihood:                -24290.\n",
       "No. Observations:               34138   AIC:                         4.859e+04\n",
       "Df Residuals:                   34134   BIC:                         4.862e+04\n",
       "Df Model:                           3                                         \n",
       "Covariance Type:            nonrobust                                         \n",
       "=====================================================================================================\n",
       "                                        coef    std err          t      P>|t|      [0.025      0.975]\n",
       "-----------------------------------------------------------------------------------------------------\n",
       "Intercept                             0.6890      0.006    107.928      0.000       0.677       0.702\n",
       "C(cabin_flown)[T.Economy]            -0.1705      0.007    -24.082      0.000      -0.184      -0.157\n",
       "C(cabin_flown)[T.First Class]        -0.0505      0.018     -2.781      0.005      -0.086      -0.015\n",
       "C(cabin_flown)[T.Premium Economy]    -0.1514      0.014    -10.552      0.000      -0.179      -0.123\n",
       "==============================================================================\n",
       "Omnibus:                   124709.880   Durbin-Watson:                   1.818\n",
       "Prob(Omnibus):                  0.000   Jarque-Bera (JB):             5319.327\n",
       "Skew:                          -0.196   Prob(JB):                         0.00\n",
       "Kurtosis:                       1.107   Cond. No.                         9.14\n",
       "==============================================================================\n",
       "\n",
       "Warnings:\n",
       "[1] Standard Errors assume that the covariance matrix of the errors is correctly specified.\n",
       "\"\"\""
      ]
     },
     "execution_count": 44,
     "metadata": {},
     "output_type": "execute_result"
    }
   ],
   "source": [
    "# ANOVA using statsmodels (regression formula)\n",
    "results_class = ols('recommended ~ C(cabin_flown)', data=data).fit()\n",
    "results_class.summary()"
   ]
  },
  {
   "cell_type": "markdown",
   "metadata": {},
   "source": [
    "Overall the model is significant, F(3,34134)= 202.5, p = 3.54e-130. This tells us that there is a significant difference in the group means. The Intercept is the mean for the Business flight class group. Since all coefficients are negative, all groups have lower mean compared to the Business class group. Looking at the p-values (P>|t|), we can see the differences between the Business class group and any other three groups are significant."
   ]
  },
  {
   "cell_type": "markdown",
   "metadata": {},
   "source": [
    "#### 2.1. Calculating Model Effect Size"
   ]
  },
  {
   "cell_type": "code",
   "execution_count": 45,
   "metadata": {},
   "outputs": [
    {
     "data": {
      "text/html": [
       "<div>\n",
       "<style scoped>\n",
       "    .dataframe tbody tr th:only-of-type {\n",
       "        vertical-align: middle;\n",
       "    }\n",
       "\n",
       "    .dataframe tbody tr th {\n",
       "        vertical-align: top;\n",
       "    }\n",
       "\n",
       "    .dataframe thead th {\n",
       "        text-align: right;\n",
       "    }\n",
       "</style>\n",
       "<table border=\"1\" class=\"dataframe\">\n",
       "  <thead>\n",
       "    <tr style=\"text-align: right;\">\n",
       "      <th></th>\n",
       "      <th>sum_sq</th>\n",
       "      <th>df</th>\n",
       "      <th>F</th>\n",
       "      <th>PR(&gt;F)</th>\n",
       "    </tr>\n",
       "  </thead>\n",
       "  <tbody>\n",
       "    <tr>\n",
       "      <th>C(cabin_flown)</th>\n",
       "      <td>147.602565</td>\n",
       "      <td>3.0</td>\n",
       "      <td>202.476646</td>\n",
       "      <td>3.537779e-130</td>\n",
       "    </tr>\n",
       "    <tr>\n",
       "      <th>Residual</th>\n",
       "      <td>8294.398489</td>\n",
       "      <td>34134.0</td>\n",
       "      <td>NaN</td>\n",
       "      <td>NaN</td>\n",
       "    </tr>\n",
       "  </tbody>\n",
       "</table>\n",
       "</div>"
      ],
      "text/plain": [
       "                     sum_sq       df           F         PR(>F)\n",
       "C(cabin_flown)   147.602565      3.0  202.476646  3.537779e-130\n",
       "Residual        8294.398489  34134.0         NaN            NaN"
      ]
     },
     "execution_count": 45,
     "metadata": {},
     "output_type": "execute_result"
    }
   ],
   "source": [
    "# getting ANOVA table\n",
    "aov_table_class = sm.stats.anova_lm(results_class, typ=2)\n",
    "aov_table_class"
   ]
  },
  {
   "cell_type": "markdown",
   "metadata": {},
   "source": [
    "The cabin flown row is the between groups effect which is the overall experimental effect. The sum of squares for the model (sum_sq = 147.602) is how much variance is explained by the model. The model explains a significant amount of variance, F(3,34134)= 202.477, p < 0.05. The Residual row is the unexplained variance in the data (sum_sq = 8294.398). In this case, the unexplained variance represents the individual differences in recommended rating and different reactions to a cabin flown."
   ]
  },
  {
   "cell_type": "code",
   "execution_count": 46,
   "metadata": {},
   "outputs": [
    {
     "data": {
      "text/html": [
       "<div>\n",
       "<style scoped>\n",
       "    .dataframe tbody tr th:only-of-type {\n",
       "        vertical-align: middle;\n",
       "    }\n",
       "\n",
       "    .dataframe tbody tr th {\n",
       "        vertical-align: top;\n",
       "    }\n",
       "\n",
       "    .dataframe thead th {\n",
       "        text-align: right;\n",
       "    }\n",
       "</style>\n",
       "<table border=\"1\" class=\"dataframe\">\n",
       "  <thead>\n",
       "    <tr style=\"text-align: right;\">\n",
       "      <th></th>\n",
       "      <th>sum_sq</th>\n",
       "      <th>df</th>\n",
       "      <th>mean_sq</th>\n",
       "      <th>F</th>\n",
       "      <th>PR(&gt;F)</th>\n",
       "      <th>eta_sq</th>\n",
       "      <th>omega_sq</th>\n",
       "    </tr>\n",
       "  </thead>\n",
       "  <tbody>\n",
       "    <tr>\n",
       "      <th>C(cabin_flown)</th>\n",
       "      <td>147.602565</td>\n",
       "      <td>3.0</td>\n",
       "      <td>49.200855</td>\n",
       "      <td>202.476646</td>\n",
       "      <td>3.537779e-130</td>\n",
       "      <td>0.017484</td>\n",
       "      <td>0.017397</td>\n",
       "    </tr>\n",
       "    <tr>\n",
       "      <th>Residual</th>\n",
       "      <td>8294.398489</td>\n",
       "      <td>34134.0</td>\n",
       "      <td>0.242995</td>\n",
       "      <td>NaN</td>\n",
       "      <td>NaN</td>\n",
       "      <td>NaN</td>\n",
       "      <td>NaN</td>\n",
       "    </tr>\n",
       "  </tbody>\n",
       "</table>\n",
       "</div>"
      ],
      "text/plain": [
       "                     sum_sq       df    mean_sq           F         PR(>F)  \\\n",
       "C(cabin_flown)   147.602565      3.0  49.200855  202.476646  3.537779e-130   \n",
       "Residual        8294.398489  34134.0   0.242995         NaN            NaN   \n",
       "\n",
       "                  eta_sq  omega_sq  \n",
       "C(cabin_flown)  0.017484  0.017397  \n",
       "Residual             NaN       NaN  "
      ]
     },
     "execution_count": 46,
     "metadata": {},
     "output_type": "execute_result"
    }
   ],
   "source": [
    "# updateting ANOVA table\n",
    "anova_table(aov_table_class)"
   ]
  },
  {
   "cell_type": "markdown",
   "metadata": {},
   "source": [
    "In addition to the above explained values, eta_sq means the model accounts for 1.75% of the variance in contributing to recommended rating. The mean_sq = 49.201 is the average amount of variance explained by the model, the mean_sq = 0.243 is the average amount of variance unexplained by the model."
   ]
  },
  {
   "cell_type": "markdown",
   "metadata": {},
   "source": [
    "#### 2.2. Homogeneity of Variance"
   ]
  },
  {
   "cell_type": "code",
   "execution_count": 47,
   "metadata": {},
   "outputs": [
    {
     "data": {
      "text/plain": [
       "LeveneResult(statistic=202.47664595260858, pvalue=3.5377794911393746e-130)"
      ]
     },
     "execution_count": 47,
     "metadata": {},
     "output_type": "execute_result"
    }
   ],
   "source": [
    "stats.levene(data['recommended'][data['cabin_flown'] == 'Business Class'], \n",
    "               data['recommended'][data['cabin_flown'] == 'Economy'],\n",
    "               data['recommended'][data['cabin_flown'] == 'First Class'],\n",
    "               data['recommended'][data['cabin_flown'] == 'Premium Economy'])"
   ]
  },
  {
   "cell_type": "markdown",
   "metadata": {},
   "source": [
    "Levene’s test for homogeneity of variance is statistically significant, which indicates that the groups don't have equal variances."
   ]
  },
  {
   "cell_type": "markdown",
   "metadata": {},
   "source": [
    "#### 2.3. Tukey’s HSD Post-hoc comparison"
   ]
  },
  {
   "cell_type": "code",
   "execution_count": 48,
   "metadata": {},
   "outputs": [
    {
     "data": {
      "text/plain": [
       "array(['Business Class', 'Economy', 'Premium Economy', 'First Class', nan],\n",
       "      dtype=object)"
      ]
     },
     "execution_count": 48,
     "metadata": {},
     "output_type": "execute_result"
    }
   ],
   "source": [
    "# check unique values for cabin flown\n",
    "data['cabin_flown'].unique()"
   ]
  },
  {
   "cell_type": "code",
   "execution_count": 49,
   "metadata": {},
   "outputs": [],
   "source": [
    "# create a dataframe without NaN values\n",
    "data_class = data.loc[data['cabin_flown'].isin(['Business Class', 'Economy', 'Premium Economy', 'First Class'])]"
   ]
  },
  {
   "cell_type": "code",
   "execution_count": 50,
   "metadata": {},
   "outputs": [
    {
     "name": "stdout",
     "output_type": "stream",
     "text": [
      "         Multiple Comparison of Means - Tukey HSD, FWER=0.05         \n",
      "=====================================================================\n",
      "    group1          group2     meandiff p-adj   lower   upper  reject\n",
      "---------------------------------------------------------------------\n",
      "Business Class         Economy  -0.1705  0.001 -0.1887 -0.1524   True\n",
      "Business Class     First Class  -0.0505 0.0278 -0.0972 -0.0039   True\n",
      "Business Class Premium Economy  -0.1514  0.001 -0.1882 -0.1145   True\n",
      "       Economy     First Class     0.12  0.001  0.0757  0.1644   True\n",
      "       Economy Premium Economy   0.0192 0.4669 -0.0147  0.0531  False\n",
      "   First Class Premium Economy  -0.1008  0.001 -0.1556 -0.0461   True\n",
      "---------------------------------------------------------------------\n"
     ]
    }
   ],
   "source": [
    "# test which groups differ\n",
    "# Tukey HSD post-hoc comparison test between different group means\n",
    "mc_class = MultiComparison(data_class['recommended'], data_class['cabin_flown'])\n",
    "mc_results_class = mc_class.tukeyhsd()\n",
    "print(mc_results_class)"
   ]
  },
  {
   "cell_type": "markdown",
   "metadata": {},
   "source": [
    "From the comparison test, we can reject the null hypothesis for comparison between Economy and Premium Economy class. Which means there is not a statistically significant difference in the mean values for recommended rating between these two groups/classes."
   ]
  },
  {
   "cell_type": "markdown",
   "metadata": {},
   "source": []
  },
  {
   "cell_type": "markdown",
   "metadata": {},
   "source": [
    "### 3. GROUP BY TRAVELLER TYPE AND FLIGHT CLASS (2-way ANOVA)"
   ]
  },
  {
   "cell_type": "code",
   "execution_count": 9,
   "metadata": {},
   "outputs": [
    {
     "data": {
      "text/plain": [
       "type_traveller  cabin_flown    \n",
       "Business        Business Class     129\n",
       "                Economy            176\n",
       "                First Class         19\n",
       "                Premium Economy      4\n",
       "Couple Leisure  Business Class      79\n",
       "                Economy            424\n",
       "                First Class         11\n",
       "                Premium Economy     24\n",
       "FamilyLeisure   Business Class      35\n",
       "                Economy            507\n",
       "                First Class         13\n",
       "                Premium Economy      4\n",
       "Solo Leisure    Business Class      99\n",
       "                Economy            578\n",
       "                First Class         32\n",
       "                Premium Economy     19\n",
       "Name: recommended, dtype: int64"
      ]
     },
     "execution_count": 9,
     "metadata": {},
     "output_type": "execute_result"
    }
   ],
   "source": [
    "# group data by traveller type and flight class and count number of rows for recommended reviews\n",
    "data.groupby(['type_traveller', 'cabin_flown'])['recommended'].count()"
   ]
  },
  {
   "cell_type": "code",
   "execution_count": 11,
   "metadata": {},
   "outputs": [
    {
     "data": {
      "text/plain": [
       "type_traveller  cabin_flown    \n",
       "Business        Business Class     0.635659\n",
       "                Economy            0.284091\n",
       "                First Class        0.473684\n",
       "                Premium Economy    0.250000\n",
       "Couple Leisure  Business Class     0.632911\n",
       "                Economy            0.389151\n",
       "                First Class        0.818182\n",
       "                Premium Economy    0.666667\n",
       "FamilyLeisure   Business Class     0.742857\n",
       "                Economy            0.402367\n",
       "                First Class        0.384615\n",
       "                Premium Economy    0.500000\n",
       "Solo Leisure    Business Class     0.787879\n",
       "                Economy            0.461938\n",
       "                First Class        0.718750\n",
       "                Premium Economy    0.789474\n",
       "Name: recommended, dtype: float64"
      ]
     },
     "execution_count": 11,
     "metadata": {},
     "output_type": "execute_result"
    }
   ],
   "source": [
    "# group data by traveller type and flight class and count number of rows for recommended reviews\n",
    "data.groupby(['type_traveller', 'cabin_flown'])['recommended'].mean()"
   ]
  },
  {
   "cell_type": "markdown",
   "metadata": {},
   "source": [
    "Since we have already tested for significance for each factor separately, we can also test for the significance of the interaction between traveller type and cabin flown.\n",
    "If the interaction is significant, the sole main effects of traveller type or cabin flown are not really interpretable by themselves since the significant interaction indicates that the effect of factor traveller type depends on the level of factor traveller type and the level of factor cabin flown, and vise versa. If the interaction effect between factors traveller type and factor cabin flown is not significant, then we remove the interaction from the model and use test for significant main effects by themselves.\n",
    "\n",
    "null hypothesis: The factors, traveller type and cabin flown, are independent. There is no interaction between them.\n",
    "\n",
    "alternative hypothesis: The factors, traveller type and cabin flown, are dependent. There is interaction between them.\n"
   ]
  },
  {
   "cell_type": "code",
   "execution_count": 53,
   "metadata": {},
   "outputs": [
    {
     "data": {
      "text/html": [
       "<table class=\"simpletable\">\n",
       "<caption>OLS Regression Results</caption>\n",
       "<tr>\n",
       "  <th>Dep. Variable:</th>       <td>recommended</td>   <th>  R-squared:         </th> <td>   0.067</td>\n",
       "</tr>\n",
       "<tr>\n",
       "  <th>Model:</th>                   <td>OLS</td>       <th>  Adj. R-squared:    </th> <td>   0.060</td>\n",
       "</tr>\n",
       "<tr>\n",
       "  <th>Method:</th>             <td>Least Squares</td>  <th>  F-statistic:       </th> <td>   10.23</td>\n",
       "</tr>\n",
       "<tr>\n",
       "  <th>Date:</th>             <td>Thu, 14 Nov 2019</td> <th>  Prob (F-statistic):</th> <td>4.52e-24</td>\n",
       "</tr>\n",
       "<tr>\n",
       "  <th>Time:</th>                 <td>15:26:57</td>     <th>  Log-Likelihood:    </th> <td> -1482.8</td>\n",
       "</tr>\n",
       "<tr>\n",
       "  <th>No. Observations:</th>      <td>  2153</td>      <th>  AIC:               </th> <td>   2998.</td>\n",
       "</tr>\n",
       "<tr>\n",
       "  <th>Df Residuals:</th>          <td>  2137</td>      <th>  BIC:               </th> <td>   3088.</td>\n",
       "</tr>\n",
       "<tr>\n",
       "  <th>Df Model:</th>              <td>    15</td>      <th>                     </th>     <td> </td>   \n",
       "</tr>\n",
       "<tr>\n",
       "  <th>Covariance Type:</th>      <td>nonrobust</td>    <th>                     </th>     <td> </td>   \n",
       "</tr>\n",
       "</table>\n",
       "<table class=\"simpletable\">\n",
       "<tr>\n",
       "                                    <td></td>                                       <th>coef</th>     <th>std err</th>      <th>t</th>      <th>P>|t|</th>  <th>[0.025</th>    <th>0.975]</th>  \n",
       "</tr>\n",
       "<tr>\n",
       "  <th>Intercept</th>                                                             <td>    0.6357</td> <td>    0.043</td> <td>   14.929</td> <td> 0.000</td> <td>    0.552</td> <td>    0.719</td>\n",
       "</tr>\n",
       "<tr>\n",
       "  <th>C(type_traveller)[T.Couple Leisure]</th>                                   <td>   -0.0027</td> <td>    0.069</td> <td>   -0.040</td> <td> 0.968</td> <td>   -0.138</td> <td>    0.133</td>\n",
       "</tr>\n",
       "<tr>\n",
       "  <th>C(type_traveller)[T.FamilyLeisure]</th>                                    <td>    0.1072</td> <td>    0.092</td> <td>    1.163</td> <td> 0.245</td> <td>   -0.074</td> <td>    0.288</td>\n",
       "</tr>\n",
       "<tr>\n",
       "  <th>C(type_traveller)[T.Solo Leisure]</th>                                     <td>    0.1522</td> <td>    0.065</td> <td>    2.356</td> <td> 0.019</td> <td>    0.026</td> <td>    0.279</td>\n",
       "</tr>\n",
       "<tr>\n",
       "  <th>C(cabin_flown)[T.Economy]</th>                                             <td>   -0.3516</td> <td>    0.056</td> <td>   -6.272</td> <td> 0.000</td> <td>   -0.461</td> <td>   -0.242</td>\n",
       "</tr>\n",
       "<tr>\n",
       "  <th>C(cabin_flown)[T.First Class]</th>                                         <td>   -0.1620</td> <td>    0.119</td> <td>   -1.363</td> <td> 0.173</td> <td>   -0.395</td> <td>    0.071</td>\n",
       "</tr>\n",
       "<tr>\n",
       "  <th>C(cabin_flown)[T.Premium Economy]</th>                                     <td>   -0.3857</td> <td>    0.246</td> <td>   -1.571</td> <td> 0.116</td> <td>   -0.867</td> <td>    0.096</td>\n",
       "</tr>\n",
       "<tr>\n",
       "  <th>C(type_traveller)[T.Couple Leisure]:C(cabin_flown)[T.Economy]</th>         <td>    0.1078</td> <td>    0.082</td> <td>    1.322</td> <td> 0.186</td> <td>   -0.052</td> <td>    0.268</td>\n",
       "</tr>\n",
       "<tr>\n",
       "  <th>C(type_traveller)[T.FamilyLeisure]:C(cabin_flown)[T.Economy]</th>          <td>    0.0111</td> <td>    0.101</td> <td>    0.109</td> <td> 0.913</td> <td>   -0.188</td> <td>    0.210</td>\n",
       "</tr>\n",
       "<tr>\n",
       "  <th>C(type_traveller)[T.Solo Leisure]:C(cabin_flown)[T.Economy]</th>           <td>    0.0256</td> <td>    0.077</td> <td>    0.333</td> <td> 0.739</td> <td>   -0.125</td> <td>    0.176</td>\n",
       "</tr>\n",
       "<tr>\n",
       "  <th>C(type_traveller)[T.Couple Leisure]:C(cabin_flown)[T.First Class]</th>     <td>    0.3472</td> <td>    0.196</td> <td>    1.773</td> <td> 0.076</td> <td>   -0.037</td> <td>    0.731</td>\n",
       "</tr>\n",
       "<tr>\n",
       "  <th>C(type_traveller)[T.FamilyLeisure]:C(cabin_flown)[T.First Class]</th>      <td>   -0.1963</td> <td>    0.197</td> <td>   -0.996</td> <td> 0.319</td> <td>   -0.583</td> <td>    0.190</td>\n",
       "</tr>\n",
       "<tr>\n",
       "  <th>C(type_traveller)[T.Solo Leisure]:C(cabin_flown)[T.First Class]</th>       <td>    0.0928</td> <td>    0.154</td> <td>    0.602</td> <td> 0.547</td> <td>   -0.210</td> <td>    0.395</td>\n",
       "</tr>\n",
       "<tr>\n",
       "  <th>C(type_traveller)[T.Couple Leisure]:C(cabin_flown)[T.Premium Economy]</th> <td>    0.4194</td> <td>    0.270</td> <td>    1.552</td> <td> 0.121</td> <td>   -0.110</td> <td>    0.949</td>\n",
       "</tr>\n",
       "<tr>\n",
       "  <th>C(type_traveller)[T.FamilyLeisure]:C(cabin_flown)[T.Premium Economy]</th>  <td>    0.1428</td> <td>    0.354</td> <td>    0.403</td> <td> 0.687</td> <td>   -0.552</td> <td>    0.837</td>\n",
       "</tr>\n",
       "<tr>\n",
       "  <th>C(type_traveller)[T.Solo Leisure]:C(cabin_flown)[T.Premium Economy]</th>   <td>    0.3873</td> <td>    0.274</td> <td>    1.414</td> <td> 0.157</td> <td>   -0.150</td> <td>    0.924</td>\n",
       "</tr>\n",
       "</table>\n",
       "<table class=\"simpletable\">\n",
       "<tr>\n",
       "  <th>Omnibus:</th>       <td>9581.415</td> <th>  Durbin-Watson:     </th> <td>   1.584</td>\n",
       "</tr>\n",
       "<tr>\n",
       "  <th>Prob(Omnibus):</th>  <td> 0.000</td>  <th>  Jarque-Bera (JB):  </th> <td> 275.265</td>\n",
       "</tr>\n",
       "<tr>\n",
       "  <th>Skew:</th>           <td> 0.169</td>  <th>  Prob(JB):          </th> <td>1.69e-60</td>\n",
       "</tr>\n",
       "<tr>\n",
       "  <th>Kurtosis:</th>       <td> 1.281</td>  <th>  Cond. No.          </th> <td>    72.7</td>\n",
       "</tr>\n",
       "</table><br/><br/>Warnings:<br/>[1] Standard Errors assume that the covariance matrix of the errors is correctly specified."
      ],
      "text/plain": [
       "<class 'statsmodels.iolib.summary.Summary'>\n",
       "\"\"\"\n",
       "                            OLS Regression Results                            \n",
       "==============================================================================\n",
       "Dep. Variable:            recommended   R-squared:                       0.067\n",
       "Model:                            OLS   Adj. R-squared:                  0.060\n",
       "Method:                 Least Squares   F-statistic:                     10.23\n",
       "Date:                Thu, 14 Nov 2019   Prob (F-statistic):           4.52e-24\n",
       "Time:                        15:26:57   Log-Likelihood:                -1482.8\n",
       "No. Observations:                2153   AIC:                             2998.\n",
       "Df Residuals:                    2137   BIC:                             3088.\n",
       "Df Model:                          15                                         \n",
       "Covariance Type:            nonrobust                                         \n",
       "=========================================================================================================================================\n",
       "                                                                            coef    std err          t      P>|t|      [0.025      0.975]\n",
       "-----------------------------------------------------------------------------------------------------------------------------------------\n",
       "Intercept                                                                 0.6357      0.043     14.929      0.000       0.552       0.719\n",
       "C(type_traveller)[T.Couple Leisure]                                      -0.0027      0.069     -0.040      0.968      -0.138       0.133\n",
       "C(type_traveller)[T.FamilyLeisure]                                        0.1072      0.092      1.163      0.245      -0.074       0.288\n",
       "C(type_traveller)[T.Solo Leisure]                                         0.1522      0.065      2.356      0.019       0.026       0.279\n",
       "C(cabin_flown)[T.Economy]                                                -0.3516      0.056     -6.272      0.000      -0.461      -0.242\n",
       "C(cabin_flown)[T.First Class]                                            -0.1620      0.119     -1.363      0.173      -0.395       0.071\n",
       "C(cabin_flown)[T.Premium Economy]                                        -0.3857      0.246     -1.571      0.116      -0.867       0.096\n",
       "C(type_traveller)[T.Couple Leisure]:C(cabin_flown)[T.Economy]             0.1078      0.082      1.322      0.186      -0.052       0.268\n",
       "C(type_traveller)[T.FamilyLeisure]:C(cabin_flown)[T.Economy]              0.0111      0.101      0.109      0.913      -0.188       0.210\n",
       "C(type_traveller)[T.Solo Leisure]:C(cabin_flown)[T.Economy]               0.0256      0.077      0.333      0.739      -0.125       0.176\n",
       "C(type_traveller)[T.Couple Leisure]:C(cabin_flown)[T.First Class]         0.3472      0.196      1.773      0.076      -0.037       0.731\n",
       "C(type_traveller)[T.FamilyLeisure]:C(cabin_flown)[T.First Class]         -0.1963      0.197     -0.996      0.319      -0.583       0.190\n",
       "C(type_traveller)[T.Solo Leisure]:C(cabin_flown)[T.First Class]           0.0928      0.154      0.602      0.547      -0.210       0.395\n",
       "C(type_traveller)[T.Couple Leisure]:C(cabin_flown)[T.Premium Economy]     0.4194      0.270      1.552      0.121      -0.110       0.949\n",
       "C(type_traveller)[T.FamilyLeisure]:C(cabin_flown)[T.Premium Economy]      0.1428      0.354      0.403      0.687      -0.552       0.837\n",
       "C(type_traveller)[T.Solo Leisure]:C(cabin_flown)[T.Premium Economy]       0.3873      0.274      1.414      0.157      -0.150       0.924\n",
       "==============================================================================\n",
       "Omnibus:                     9581.415   Durbin-Watson:                   1.584\n",
       "Prob(Omnibus):                  0.000   Jarque-Bera (JB):              275.265\n",
       "Skew:                           0.169   Prob(JB):                     1.69e-60\n",
       "Kurtosis:                       1.281   Cond. No.                         72.7\n",
       "==============================================================================\n",
       "\n",
       "Warnings:\n",
       "[1] Standard Errors assume that the covariance matrix of the errors is correctly specified.\n",
       "\"\"\""
      ]
     },
     "execution_count": 53,
     "metadata": {},
     "output_type": "execute_result"
    }
   ],
   "source": [
    "# ANOVA using statsmodels (regression formula)\n",
    "results_travell_class_1 = ols('recommended ~ C(type_traveller) * C(cabin_flown)', data=data).fit()\n",
    "results_travell_class_1.summary()"
   ]
  },
  {
   "cell_type": "markdown",
   "metadata": {},
   "source": [
    "Overall the model is significant, F(15,2137)= 10.23, p = 4.52e-24. This tells us that there is a significant difference in the group means. The Intercept is the mean for the Business flight class and Business traveller type. The only group that has lower average recommended rating in comparison with Business travellers in Business flight class, is a group of Family travellers who fly in First flight class. Looking at the p-values (P>|t|) for combination groups, we can see the differences between the control group and any other group are not significant."
   ]
  },
  {
   "cell_type": "code",
   "execution_count": 55,
   "metadata": {},
   "outputs": [
    {
     "data": {
      "text/html": [
       "<div>\n",
       "<style scoped>\n",
       "    .dataframe tbody tr th:only-of-type {\n",
       "        vertical-align: middle;\n",
       "    }\n",
       "\n",
       "    .dataframe tbody tr th {\n",
       "        vertical-align: top;\n",
       "    }\n",
       "\n",
       "    .dataframe thead th {\n",
       "        text-align: right;\n",
       "    }\n",
       "</style>\n",
       "<table border=\"1\" class=\"dataframe\">\n",
       "  <thead>\n",
       "    <tr style=\"text-align: right;\">\n",
       "      <th></th>\n",
       "      <th>sum_sq</th>\n",
       "      <th>df</th>\n",
       "      <th>F</th>\n",
       "      <th>PR(&gt;F)</th>\n",
       "    </tr>\n",
       "  </thead>\n",
       "  <tbody>\n",
       "    <tr>\n",
       "      <th>C(type_traveller)</th>\n",
       "      <td>6.840535</td>\n",
       "      <td>3.0</td>\n",
       "      <td>9.749635</td>\n",
       "      <td>2.178153e-06</td>\n",
       "    </tr>\n",
       "    <tr>\n",
       "      <th>C(cabin_flown)</th>\n",
       "      <td>29.343894</td>\n",
       "      <td>3.0</td>\n",
       "      <td>41.823083</td>\n",
       "      <td>2.930372e-26</td>\n",
       "    </tr>\n",
       "    <tr>\n",
       "      <th>C(type_traveller):C(cabin_flown)</th>\n",
       "      <td>2.353190</td>\n",
       "      <td>9.0</td>\n",
       "      <td>1.117980</td>\n",
       "      <td>3.460803e-01</td>\n",
       "    </tr>\n",
       "    <tr>\n",
       "      <th>Residual</th>\n",
       "      <td>499.787013</td>\n",
       "      <td>2137.0</td>\n",
       "      <td>NaN</td>\n",
       "      <td>NaN</td>\n",
       "    </tr>\n",
       "  </tbody>\n",
       "</table>\n",
       "</div>"
      ],
      "text/plain": [
       "                                      sum_sq      df          F        PR(>F)\n",
       "C(type_traveller)                   6.840535     3.0   9.749635  2.178153e-06\n",
       "C(cabin_flown)                     29.343894     3.0  41.823083  2.930372e-26\n",
       "C(type_traveller):C(cabin_flown)    2.353190     9.0   1.117980  3.460803e-01\n",
       "Residual                          499.787013  2137.0        NaN           NaN"
      ]
     },
     "execution_count": 55,
     "metadata": {},
     "output_type": "execute_result"
    }
   ],
   "source": [
    "# Creates the ANOVA table\n",
    "anova_travell_class_1 = sm.stats.anova_lm(results_travell_class_1, typ= 2)\n",
    "anova_travell_class_1"
   ]
  },
  {
   "cell_type": "markdown",
   "metadata": {},
   "source": [
    "The interaction term is not significant (p > 0.05). This indicates that there is no interaction effect between the type of traveller and the cabin flown (flight class) on the mean value for recommended rating.\n",
    "Since this is not significant, the interaction term is to be removed from the model and it needs to be re-ran so we can look at the main effects of each factor independently.\n"
   ]
  },
  {
   "cell_type": "code",
   "execution_count": null,
   "metadata": {},
   "outputs": [],
   "source": []
  },
  {
   "cell_type": "code",
   "execution_count": 56,
   "metadata": {},
   "outputs": [
    {
     "data": {
      "text/html": [
       "<table class=\"simpletable\">\n",
       "<caption>OLS Regression Results</caption>\n",
       "<tr>\n",
       "  <th>Dep. Variable:</th>       <td>recommended</td>   <th>  R-squared:         </th> <td>   0.063</td>\n",
       "</tr>\n",
       "<tr>\n",
       "  <th>Model:</th>                   <td>OLS</td>       <th>  Adj. R-squared:    </th> <td>   0.060</td>\n",
       "</tr>\n",
       "<tr>\n",
       "  <th>Method:</th>             <td>Least Squares</td>  <th>  F-statistic:       </th> <td>   23.88</td>\n",
       "</tr>\n",
       "<tr>\n",
       "  <th>Date:</th>             <td>Thu, 14 Nov 2019</td> <th>  Prob (F-statistic):</th> <td>1.75e-27</td>\n",
       "</tr>\n",
       "<tr>\n",
       "  <th>Time:</th>                 <td>15:41:40</td>     <th>  Log-Likelihood:    </th> <td> -1487.9</td>\n",
       "</tr>\n",
       "<tr>\n",
       "  <th>No. Observations:</th>      <td>  2153</td>      <th>  AIC:               </th> <td>   2990.</td>\n",
       "</tr>\n",
       "<tr>\n",
       "  <th>Df Residuals:</th>          <td>  2146</td>      <th>  BIC:               </th> <td>   3029.</td>\n",
       "</tr>\n",
       "<tr>\n",
       "  <th>Df Model:</th>              <td>     6</td>      <th>                     </th>     <td> </td>   \n",
       "</tr>\n",
       "<tr>\n",
       "  <th>Covariance Type:</th>      <td>nonrobust</td>    <th>                     </th>     <td> </td>   \n",
       "</tr>\n",
       "</table>\n",
       "<table class=\"simpletable\">\n",
       "<tr>\n",
       "                   <td></td>                      <th>coef</th>     <th>std err</th>      <th>t</th>      <th>P>|t|</th>  <th>[0.025</th>    <th>0.975]</th>  \n",
       "</tr>\n",
       "<tr>\n",
       "  <th>Intercept</th>                           <td>    0.6083</td> <td>    0.032</td> <td>   18.846</td> <td> 0.000</td> <td>    0.545</td> <td>    0.672</td>\n",
       "</tr>\n",
       "<tr>\n",
       "  <th>C(type_traveller)[T.Couple Leisure]</th> <td>    0.0904</td> <td>    0.035</td> <td>    2.596</td> <td> 0.010</td> <td>    0.022</td> <td>    0.159</td>\n",
       "</tr>\n",
       "<tr>\n",
       "  <th>C(type_traveller)[T.FamilyLeisure]</th>  <td>    0.1038</td> <td>    0.035</td> <td>    2.950</td> <td> 0.003</td> <td>    0.035</td> <td>    0.173</td>\n",
       "</tr>\n",
       "<tr>\n",
       "  <th>C(type_traveller)[T.Solo Leisure]</th>   <td>    0.1736</td> <td>    0.033</td> <td>    5.242</td> <td> 0.000</td> <td>    0.109</td> <td>    0.238</td>\n",
       "</tr>\n",
       "<tr>\n",
       "  <th>C(cabin_flown)[T.Economy]</th>           <td>   -0.3147</td> <td>    0.030</td> <td>  -10.487</td> <td> 0.000</td> <td>   -0.374</td> <td>   -0.256</td>\n",
       "</tr>\n",
       "<tr>\n",
       "  <th>C(cabin_flown)[T.First Class]</th>       <td>   -0.1003</td> <td>    0.062</td> <td>   -1.621</td> <td> 0.105</td> <td>   -0.222</td> <td>    0.021</td>\n",
       "</tr>\n",
       "<tr>\n",
       "  <th>C(cabin_flown)[T.Premium Economy]</th>   <td>   -0.0570</td> <td>    0.073</td> <td>   -0.778</td> <td> 0.437</td> <td>   -0.201</td> <td>    0.087</td>\n",
       "</tr>\n",
       "</table>\n",
       "<table class=\"simpletable\">\n",
       "<tr>\n",
       "  <th>Omnibus:</th>       <td>9438.353</td> <th>  Durbin-Watson:     </th> <td>   1.586</td>\n",
       "</tr>\n",
       "<tr>\n",
       "  <th>Prob(Omnibus):</th>  <td> 0.000</td>  <th>  Jarque-Bera (JB):  </th> <td> 278.854</td>\n",
       "</tr>\n",
       "<tr>\n",
       "  <th>Skew:</th>           <td> 0.162</td>  <th>  Prob(JB):          </th> <td>2.80e-61</td>\n",
       "</tr>\n",
       "<tr>\n",
       "  <th>Kurtosis:</th>       <td> 1.267</td>  <th>  Cond. No.          </th> <td>    10.4</td>\n",
       "</tr>\n",
       "</table><br/><br/>Warnings:<br/>[1] Standard Errors assume that the covariance matrix of the errors is correctly specified."
      ],
      "text/plain": [
       "<class 'statsmodels.iolib.summary.Summary'>\n",
       "\"\"\"\n",
       "                            OLS Regression Results                            \n",
       "==============================================================================\n",
       "Dep. Variable:            recommended   R-squared:                       0.063\n",
       "Model:                            OLS   Adj. R-squared:                  0.060\n",
       "Method:                 Least Squares   F-statistic:                     23.88\n",
       "Date:                Thu, 14 Nov 2019   Prob (F-statistic):           1.75e-27\n",
       "Time:                        15:41:40   Log-Likelihood:                -1487.9\n",
       "No. Observations:                2153   AIC:                             2990.\n",
       "Df Residuals:                    2146   BIC:                             3029.\n",
       "Df Model:                           6                                         \n",
       "Covariance Type:            nonrobust                                         \n",
       "=======================================================================================================\n",
       "                                          coef    std err          t      P>|t|      [0.025      0.975]\n",
       "-------------------------------------------------------------------------------------------------------\n",
       "Intercept                               0.6083      0.032     18.846      0.000       0.545       0.672\n",
       "C(type_traveller)[T.Couple Leisure]     0.0904      0.035      2.596      0.010       0.022       0.159\n",
       "C(type_traveller)[T.FamilyLeisure]      0.1038      0.035      2.950      0.003       0.035       0.173\n",
       "C(type_traveller)[T.Solo Leisure]       0.1736      0.033      5.242      0.000       0.109       0.238\n",
       "C(cabin_flown)[T.Economy]              -0.3147      0.030    -10.487      0.000      -0.374      -0.256\n",
       "C(cabin_flown)[T.First Class]          -0.1003      0.062     -1.621      0.105      -0.222       0.021\n",
       "C(cabin_flown)[T.Premium Economy]      -0.0570      0.073     -0.778      0.437      -0.201       0.087\n",
       "==============================================================================\n",
       "Omnibus:                     9438.353   Durbin-Watson:                   1.586\n",
       "Prob(Omnibus):                  0.000   Jarque-Bera (JB):              278.854\n",
       "Skew:                           0.162   Prob(JB):                     2.80e-61\n",
       "Kurtosis:                       1.267   Cond. No.                         10.4\n",
       "==============================================================================\n",
       "\n",
       "Warnings:\n",
       "[1] Standard Errors assume that the covariance matrix of the errors is correctly specified.\n",
       "\"\"\""
      ]
     },
     "execution_count": 56,
     "metadata": {},
     "output_type": "execute_result"
    }
   ],
   "source": [
    "# ANOVA using statsmodels (regression formula)\n",
    "results_travell_class_3 = ols('recommended ~ C(type_traveller) + C(cabin_flown)', data=data).fit()\n",
    "results_travell_class_3.summary()"
   ]
  },
  {
   "cell_type": "markdown",
   "metadata": {},
   "source": [
    "Overall, the model is statistically significant.  This tells us that there is a significant difference in the group means. The Intercept is the mean for the Business flight class and Business traveller type. All cabin flown groups have lower average values compared to the Intercept. Looking at the p-values (P>|t|) only First class and Premium Economy groups aren't statistically significant (less likely to affect the recommended rating)."
   ]
  },
  {
   "cell_type": "code",
   "execution_count": 57,
   "metadata": {},
   "outputs": [
    {
     "data": {
      "text/html": [
       "<div>\n",
       "<style scoped>\n",
       "    .dataframe tbody tr th:only-of-type {\n",
       "        vertical-align: middle;\n",
       "    }\n",
       "\n",
       "    .dataframe tbody tr th {\n",
       "        vertical-align: top;\n",
       "    }\n",
       "\n",
       "    .dataframe thead th {\n",
       "        text-align: right;\n",
       "    }\n",
       "</style>\n",
       "<table border=\"1\" class=\"dataframe\">\n",
       "  <thead>\n",
       "    <tr style=\"text-align: right;\">\n",
       "      <th></th>\n",
       "      <th>sum_sq</th>\n",
       "      <th>df</th>\n",
       "      <th>F</th>\n",
       "      <th>PR(&gt;F)</th>\n",
       "    </tr>\n",
       "  </thead>\n",
       "  <tbody>\n",
       "    <tr>\n",
       "      <th>C(type_traveller)</th>\n",
       "      <td>6.840535</td>\n",
       "      <td>3.0</td>\n",
       "      <td>9.744814</td>\n",
       "      <td>2.192404e-06</td>\n",
       "    </tr>\n",
       "    <tr>\n",
       "      <th>C(cabin_flown)</th>\n",
       "      <td>29.343894</td>\n",
       "      <td>3.0</td>\n",
       "      <td>41.802399</td>\n",
       "      <td>2.995672e-26</td>\n",
       "    </tr>\n",
       "    <tr>\n",
       "      <th>Residual</th>\n",
       "      <td>502.140204</td>\n",
       "      <td>2146.0</td>\n",
       "      <td>NaN</td>\n",
       "      <td>NaN</td>\n",
       "    </tr>\n",
       "  </tbody>\n",
       "</table>\n",
       "</div>"
      ],
      "text/plain": [
       "                       sum_sq      df          F        PR(>F)\n",
       "C(type_traveller)    6.840535     3.0   9.744814  2.192404e-06\n",
       "C(cabin_flown)      29.343894     3.0  41.802399  2.995672e-26\n",
       "Residual           502.140204  2146.0        NaN           NaN"
      ]
     },
     "execution_count": 57,
     "metadata": {},
     "output_type": "execute_result"
    }
   ],
   "source": [
    "# create the ANOVA table\n",
    "anova_travell_class_3 = sm.stats.anova_lm(results_travell_class_3, typ= 2)\n",
    "anova_travell_class_3"
   ]
  },
  {
   "cell_type": "markdown",
   "metadata": {},
   "source": [
    "Each factor has an independent significant effect on the recommended rating mean. "
   ]
  },
  {
   "cell_type": "code",
   "execution_count": 58,
   "metadata": {},
   "outputs": [
    {
     "data": {
      "text/html": [
       "<div>\n",
       "<style scoped>\n",
       "    .dataframe tbody tr th:only-of-type {\n",
       "        vertical-align: middle;\n",
       "    }\n",
       "\n",
       "    .dataframe tbody tr th {\n",
       "        vertical-align: top;\n",
       "    }\n",
       "\n",
       "    .dataframe thead th {\n",
       "        text-align: right;\n",
       "    }\n",
       "</style>\n",
       "<table border=\"1\" class=\"dataframe\">\n",
       "  <thead>\n",
       "    <tr style=\"text-align: right;\">\n",
       "      <th></th>\n",
       "      <th>sum_sq</th>\n",
       "      <th>df</th>\n",
       "      <th>mean_sq</th>\n",
       "      <th>F</th>\n",
       "      <th>PR(&gt;F)</th>\n",
       "      <th>eta_sq</th>\n",
       "      <th>omega_sq</th>\n",
       "    </tr>\n",
       "  </thead>\n",
       "  <tbody>\n",
       "    <tr>\n",
       "      <th>C(type_traveller)</th>\n",
       "      <td>6.840535</td>\n",
       "      <td>3.0</td>\n",
       "      <td>2.280178</td>\n",
       "      <td>9.744814</td>\n",
       "      <td>2.192404e-06</td>\n",
       "      <td>0.012707</td>\n",
       "      <td>0.011398</td>\n",
       "    </tr>\n",
       "    <tr>\n",
       "      <th>C(cabin_flown)</th>\n",
       "      <td>29.343894</td>\n",
       "      <td>3.0</td>\n",
       "      <td>9.781298</td>\n",
       "      <td>41.802399</td>\n",
       "      <td>2.995672e-26</td>\n",
       "      <td>0.054510</td>\n",
       "      <td>0.053183</td>\n",
       "    </tr>\n",
       "    <tr>\n",
       "      <th>Residual</th>\n",
       "      <td>502.140204</td>\n",
       "      <td>2146.0</td>\n",
       "      <td>0.233989</td>\n",
       "      <td>NaN</td>\n",
       "      <td>NaN</td>\n",
       "      <td>NaN</td>\n",
       "      <td>NaN</td>\n",
       "    </tr>\n",
       "  </tbody>\n",
       "</table>\n",
       "</div>"
      ],
      "text/plain": [
       "                       sum_sq      df   mean_sq          F        PR(>F)  \\\n",
       "C(type_traveller)    6.840535     3.0  2.280178   9.744814  2.192404e-06   \n",
       "C(cabin_flown)      29.343894     3.0  9.781298  41.802399  2.995672e-26   \n",
       "Residual           502.140204  2146.0  0.233989        NaN           NaN   \n",
       "\n",
       "                     eta_sq  omega_sq  \n",
       "C(type_traveller)  0.012707  0.011398  \n",
       "C(cabin_flown)     0.054510  0.053183  \n",
       "Residual                NaN       NaN  "
      ]
     },
     "execution_count": 58,
     "metadata": {},
     "output_type": "execute_result"
    }
   ],
   "source": [
    "# calculate the effect size\n",
    "anova_table(anova_travell_class_3)"
   ]
  },
  {
   "cell_type": "markdown",
   "metadata": {},
   "source": [
    "Each factor, traveller type and cabin flown, has an effect on the recommended rating mean.\n",
    "\n",
    "To find if there are any differences between type of traveller or cabin flown we can do post-hoc testing, which we already this above. In the above post-hoc testing we discover there are some differences between the traveller type groups as well as between cabin flown groups (Economy and Premium Economy).\n"
   ]
  },
  {
   "cell_type": "markdown",
   "metadata": {},
   "source": []
  },
  {
   "cell_type": "markdown",
   "metadata": {},
   "source": [
    "### 4. ONLY BUSINESS FLIGHT CLASS"
   ]
  },
  {
   "cell_type": "code",
   "execution_count": 59,
   "metadata": {},
   "outputs": [],
   "source": [
    "# getting data just for the business traveller type\n",
    "data_business = data.loc[data['type_traveller'] == 'Business']"
   ]
  },
  {
   "cell_type": "markdown",
   "metadata": {},
   "source": [
    "null hypothesis: There is no difference in means of recommended rating between flight classes for Business traveller type passengers.\n",
    "\n",
    "alternative hypothesis: There is a difference between the means of recommended rating between flight classes for Business traveller type passengers.\n"
   ]
  },
  {
   "cell_type": "code",
   "execution_count": 61,
   "metadata": {},
   "outputs": [
    {
     "data": {
      "text/plain": [
       "F_onewayResult(statistic=14.21537537152095, pvalue=1.0024981166881016e-08)"
      ]
     },
     "execution_count": 61,
     "metadata": {},
     "output_type": "execute_result"
    }
   ],
   "source": [
    "# using scipy.stats, the method needed is stats.f_oneway()\n",
    "stats.f_oneway(data_business['recommended'][data_business['cabin_flown'] == 'Business Class'], \n",
    "               data_business['recommended'][data_business['cabin_flown'] == 'Economy'],\n",
    "               data_business['recommended'][data_business['cabin_flown'] == 'First Class'],\n",
    "               data_business['recommended'][data_business['cabin_flown'] == 'Premium Economy'])"
   ]
  },
  {
   "cell_type": "code",
   "execution_count": 60,
   "metadata": {},
   "outputs": [
    {
     "data": {
      "text/html": [
       "<table class=\"simpletable\">\n",
       "<caption>OLS Regression Results</caption>\n",
       "<tr>\n",
       "  <th>Dep. Variable:</th>       <td>recommended</td>   <th>  R-squared:         </th> <td>   0.116</td>\n",
       "</tr>\n",
       "<tr>\n",
       "  <th>Model:</th>                   <td>OLS</td>       <th>  Adj. R-squared:    </th> <td>   0.108</td>\n",
       "</tr>\n",
       "<tr>\n",
       "  <th>Method:</th>             <td>Least Squares</td>  <th>  F-statistic:       </th> <td>   14.22</td>\n",
       "</tr>\n",
       "<tr>\n",
       "  <th>Date:</th>             <td>Thu, 14 Nov 2019</td> <th>  Prob (F-statistic):</th> <td>1.00e-08</td>\n",
       "</tr>\n",
       "<tr>\n",
       "  <th>Time:</th>                 <td>20:09:54</td>     <th>  Log-Likelihood:    </th> <td> -214.80</td>\n",
       "</tr>\n",
       "<tr>\n",
       "  <th>No. Observations:</th>      <td>   328</td>      <th>  AIC:               </th> <td>   437.6</td>\n",
       "</tr>\n",
       "<tr>\n",
       "  <th>Df Residuals:</th>          <td>   324</td>      <th>  BIC:               </th> <td>   452.8</td>\n",
       "</tr>\n",
       "<tr>\n",
       "  <th>Df Model:</th>              <td>     3</td>      <th>                     </th>     <td> </td>   \n",
       "</tr>\n",
       "<tr>\n",
       "  <th>Covariance Type:</th>      <td>nonrobust</td>    <th>                     </th>     <td> </td>   \n",
       "</tr>\n",
       "</table>\n",
       "<table class=\"simpletable\">\n",
       "<tr>\n",
       "                  <td></td>                     <th>coef</th>     <th>std err</th>      <th>t</th>      <th>P>|t|</th>  <th>[0.025</th>    <th>0.975]</th>  \n",
       "</tr>\n",
       "<tr>\n",
       "  <th>Intercept</th>                         <td>    0.6357</td> <td>    0.041</td> <td>   15.406</td> <td> 0.000</td> <td>    0.554</td> <td>    0.717</td>\n",
       "</tr>\n",
       "<tr>\n",
       "  <th>C(cabin_flown)[T.Economy]</th>         <td>   -0.3516</td> <td>    0.054</td> <td>   -6.472</td> <td> 0.000</td> <td>   -0.458</td> <td>   -0.245</td>\n",
       "</tr>\n",
       "<tr>\n",
       "  <th>C(cabin_flown)[T.First Class]</th>     <td>   -0.1620</td> <td>    0.115</td> <td>   -1.407</td> <td> 0.161</td> <td>   -0.389</td> <td>    0.065</td>\n",
       "</tr>\n",
       "<tr>\n",
       "  <th>C(cabin_flown)[T.Premium Economy]</th> <td>   -0.3857</td> <td>    0.238</td> <td>   -1.621</td> <td> 0.106</td> <td>   -0.854</td> <td>    0.082</td>\n",
       "</tr>\n",
       "</table>\n",
       "<table class=\"simpletable\">\n",
       "<tr>\n",
       "  <th>Omnibus:</th>       <td>2356.915</td> <th>  Durbin-Watson:     </th> <td>   1.735</td>\n",
       "</tr>\n",
       "<tr>\n",
       "  <th>Prob(Omnibus):</th>  <td> 0.000</td>  <th>  Jarque-Bera (JB):  </th> <td>  30.212</td>\n",
       "</tr>\n",
       "<tr>\n",
       "  <th>Skew:</th>           <td> 0.241</td>  <th>  Prob(JB):          </th> <td>2.75e-07</td>\n",
       "</tr>\n",
       "<tr>\n",
       "  <th>Kurtosis:</th>       <td> 1.593</td>  <th>  Cond. No.          </th> <td>    10.7</td>\n",
       "</tr>\n",
       "</table><br/><br/>Warnings:<br/>[1] Standard Errors assume that the covariance matrix of the errors is correctly specified."
      ],
      "text/plain": [
       "<class 'statsmodels.iolib.summary.Summary'>\n",
       "\"\"\"\n",
       "                            OLS Regression Results                            \n",
       "==============================================================================\n",
       "Dep. Variable:            recommended   R-squared:                       0.116\n",
       "Model:                            OLS   Adj. R-squared:                  0.108\n",
       "Method:                 Least Squares   F-statistic:                     14.22\n",
       "Date:                Thu, 14 Nov 2019   Prob (F-statistic):           1.00e-08\n",
       "Time:                        20:09:54   Log-Likelihood:                -214.80\n",
       "No. Observations:                 328   AIC:                             437.6\n",
       "Df Residuals:                     324   BIC:                             452.8\n",
       "Df Model:                           3                                         \n",
       "Covariance Type:            nonrobust                                         \n",
       "=====================================================================================================\n",
       "                                        coef    std err          t      P>|t|      [0.025      0.975]\n",
       "-----------------------------------------------------------------------------------------------------\n",
       "Intercept                             0.6357      0.041     15.406      0.000       0.554       0.717\n",
       "C(cabin_flown)[T.Economy]            -0.3516      0.054     -6.472      0.000      -0.458      -0.245\n",
       "C(cabin_flown)[T.First Class]        -0.1620      0.115     -1.407      0.161      -0.389       0.065\n",
       "C(cabin_flown)[T.Premium Economy]    -0.3857      0.238     -1.621      0.106      -0.854       0.082\n",
       "==============================================================================\n",
       "Omnibus:                     2356.915   Durbin-Watson:                   1.735\n",
       "Prob(Omnibus):                  0.000   Jarque-Bera (JB):               30.212\n",
       "Skew:                           0.241   Prob(JB):                     2.75e-07\n",
       "Kurtosis:                       1.593   Cond. No.                         10.7\n",
       "==============================================================================\n",
       "\n",
       "Warnings:\n",
       "[1] Standard Errors assume that the covariance matrix of the errors is correctly specified.\n",
       "\"\"\""
      ]
     },
     "execution_count": 60,
     "metadata": {},
     "output_type": "execute_result"
    }
   ],
   "source": [
    "# ANOVA using statsmodels (regression formula)\n",
    "results_business = ols('recommended ~ C(cabin_flown)', data=data_business).fit()\n",
    "results_business.summary()"
   ]
  },
  {
   "cell_type": "markdown",
   "metadata": {},
   "source": [
    "Overall the model is statistically significant, F(3, 324)=14.22, p<0.05. This tells us that there is a significant difference in the group means. The Intercept is the mean for the Business flight class. All cabin flown groups have lower average values compared to the Intercept. Looking at the p-values (P>|t|) First class and Premium Economy groups aren't statistically significant (less likely to affect the recommended rating)."
   ]
  },
  {
   "cell_type": "code",
   "execution_count": 62,
   "metadata": {},
   "outputs": [
    {
     "data": {
      "text/html": [
       "<div>\n",
       "<style scoped>\n",
       "    .dataframe tbody tr th:only-of-type {\n",
       "        vertical-align: middle;\n",
       "    }\n",
       "\n",
       "    .dataframe tbody tr th {\n",
       "        vertical-align: top;\n",
       "    }\n",
       "\n",
       "    .dataframe thead th {\n",
       "        text-align: right;\n",
       "    }\n",
       "</style>\n",
       "<table border=\"1\" class=\"dataframe\">\n",
       "  <thead>\n",
       "    <tr style=\"text-align: right;\">\n",
       "      <th></th>\n",
       "      <th>sum_sq</th>\n",
       "      <th>df</th>\n",
       "      <th>F</th>\n",
       "      <th>PR(&gt;F)</th>\n",
       "    </tr>\n",
       "  </thead>\n",
       "  <tbody>\n",
       "    <tr>\n",
       "      <th>C(cabin_flown)</th>\n",
       "      <td>9.366125</td>\n",
       "      <td>3.0</td>\n",
       "      <td>14.215375</td>\n",
       "      <td>1.002498e-08</td>\n",
       "    </tr>\n",
       "    <tr>\n",
       "      <th>Residual</th>\n",
       "      <td>71.158266</td>\n",
       "      <td>324.0</td>\n",
       "      <td>NaN</td>\n",
       "      <td>NaN</td>\n",
       "    </tr>\n",
       "  </tbody>\n",
       "</table>\n",
       "</div>"
      ],
      "text/plain": [
       "                   sum_sq     df          F        PR(>F)\n",
       "C(cabin_flown)   9.366125    3.0  14.215375  1.002498e-08\n",
       "Residual        71.158266  324.0        NaN           NaN"
      ]
     },
     "execution_count": 62,
     "metadata": {},
     "output_type": "execute_result"
    }
   ],
   "source": [
    "# create anova table\n",
    "aov_table_business = sm.stats.anova_lm(results_business, typ=2)\n",
    "aov_table_business"
   ]
  },
  {
   "cell_type": "markdown",
   "metadata": {},
   "source": [
    "The cabin_flown row is the between groups effect which is the overall experimental effect. The sum of squares for the model (sum_s q= 9.366) is how much variance is explained by the model. The model explains a significant amount of variance, F(3,324)= 14.215, p < 0.05. The residual row is the unexplained variance in the data (sum_sq = 71.158)."
   ]
  },
  {
   "cell_type": "markdown",
   "metadata": {},
   "source": [
    "#### 4.1 Calculating Model Effect Size"
   ]
  },
  {
   "cell_type": "code",
   "execution_count": 63,
   "metadata": {},
   "outputs": [
    {
     "data": {
      "text/html": [
       "<div>\n",
       "<style scoped>\n",
       "    .dataframe tbody tr th:only-of-type {\n",
       "        vertical-align: middle;\n",
       "    }\n",
       "\n",
       "    .dataframe tbody tr th {\n",
       "        vertical-align: top;\n",
       "    }\n",
       "\n",
       "    .dataframe thead th {\n",
       "        text-align: right;\n",
       "    }\n",
       "</style>\n",
       "<table border=\"1\" class=\"dataframe\">\n",
       "  <thead>\n",
       "    <tr style=\"text-align: right;\">\n",
       "      <th></th>\n",
       "      <th>sum_sq</th>\n",
       "      <th>df</th>\n",
       "      <th>mean_sq</th>\n",
       "      <th>F</th>\n",
       "      <th>PR(&gt;F)</th>\n",
       "      <th>eta_sq</th>\n",
       "      <th>omega_sq</th>\n",
       "    </tr>\n",
       "  </thead>\n",
       "  <tbody>\n",
       "    <tr>\n",
       "      <th>C(cabin_flown)</th>\n",
       "      <td>9.366125</td>\n",
       "      <td>3.0</td>\n",
       "      <td>3.122042</td>\n",
       "      <td>14.215375</td>\n",
       "      <td>1.002498e-08</td>\n",
       "      <td>0.116314</td>\n",
       "      <td>0.107838</td>\n",
       "    </tr>\n",
       "    <tr>\n",
       "      <th>Residual</th>\n",
       "      <td>71.158266</td>\n",
       "      <td>324.0</td>\n",
       "      <td>0.219624</td>\n",
       "      <td>NaN</td>\n",
       "      <td>NaN</td>\n",
       "      <td>NaN</td>\n",
       "      <td>NaN</td>\n",
       "    </tr>\n",
       "  </tbody>\n",
       "</table>\n",
       "</div>"
      ],
      "text/plain": [
       "                   sum_sq     df   mean_sq          F        PR(>F)    eta_sq  \\\n",
       "C(cabin_flown)   9.366125    3.0  3.122042  14.215375  1.002498e-08  0.116314   \n",
       "Residual        71.158266  324.0  0.219624        NaN           NaN       NaN   \n",
       "\n",
       "                omega_sq  \n",
       "C(cabin_flown)  0.107838  \n",
       "Residual             NaN  "
      ]
     },
     "execution_count": 63,
     "metadata": {},
     "output_type": "execute_result"
    }
   ],
   "source": [
    "# updating anova table\n",
    "anova_table(aov_table_business)"
   ]
  },
  {
   "cell_type": "markdown",
   "metadata": {},
   "source": [
    "In addition to the above explained values, eta_sq means the model accounts for 11.63% of the variance in contributing to recommended rating. The mean_sq = 3.122 is the average amount of variance explained by the model, the mean_sq = 0.22 is the average amount of variance unexplained by the model."
   ]
  },
  {
   "cell_type": "markdown",
   "metadata": {},
   "source": [
    "#### 4.2 Homogeneity of Variance"
   ]
  },
  {
   "cell_type": "code",
   "execution_count": 64,
   "metadata": {},
   "outputs": [
    {
     "data": {
      "text/plain": [
       "LeveneResult(statistic=1.4209821827334477, pvalue=0.23652329183204437)"
      ]
     },
     "execution_count": 64,
     "metadata": {},
     "output_type": "execute_result"
    }
   ],
   "source": [
    "# using the Levene’s test to test for equal variances between groups\n",
    "stats.levene(data_business['recommended'][data_business['cabin_flown'] == 'Business Class'], \n",
    "               data_business['recommended'][data_business['cabin_flown'] == 'Economy'],\n",
    "               data_business['recommended'][data_business['cabin_flown'] == 'First Class'],\n",
    "               data_business['recommended'][data_business['cabin_flown'] == 'Premium Economy'])"
   ]
  },
  {
   "cell_type": "markdown",
   "metadata": {},
   "source": [
    "Levene’s test for homogeneity of variance is not significant which indicates that the groups have equal variances."
   ]
  },
  {
   "cell_type": "markdown",
   "metadata": {},
   "source": [
    "#### 4.3. Tukey’s HSD Post-hoc comparison"
   ]
  },
  {
   "cell_type": "code",
   "execution_count": 67,
   "metadata": {},
   "outputs": [],
   "source": [
    "# create a dataframe without NaN values\n",
    "data_business_class = data_business.loc[data_business['cabin_flown'].isin(['Business Class', 'Economy', 'Premium Economy', 'First Class'])]"
   ]
  },
  {
   "cell_type": "code",
   "execution_count": 68,
   "metadata": {},
   "outputs": [
    {
     "name": "stdout",
     "output_type": "stream",
     "text": [
      "         Multiple Comparison of Means - Tukey HSD, FWER=0.05         \n",
      "=====================================================================\n",
      "    group1          group2     meandiff p-adj   lower   upper  reject\n",
      "---------------------------------------------------------------------\n",
      "Business Class         Economy  -0.3516  0.001 -0.4918 -0.2113   True\n",
      "Business Class     First Class   -0.162 0.4962 -0.4594  0.1354  False\n",
      "Business Class Premium Economy  -0.3857  0.369 -1.0001  0.2288  False\n",
      "       Economy     First Class   0.1896 0.3387 -0.1027  0.4819  False\n",
      "       Economy Premium Economy  -0.0341    0.9 -0.6461  0.5779  False\n",
      "   First Class Premium Economy  -0.2237 0.7984 -0.8895  0.4421  False\n",
      "---------------------------------------------------------------------\n"
     ]
    }
   ],
   "source": [
    "# comparing groups means\n",
    "mc_business = MultiComparison(data_business_class['recommended'], data_business_class['cabin_flown'])\n",
    "mc_business_results = mc_business.tukeyhsd()\n",
    "print(mc_business_results)"
   ]
  },
  {
   "cell_type": "markdown",
   "metadata": {},
   "source": [
    "The reject column tells us that we should reject the null hypothesis for all comparisons except for the comparison between Business class and Economy class. There is a statistically significant difference between the mean recommended rating between Business class and Economy class. Business class rates/recommends a significantly higher recommended rating than Economy class."
   ]
  },
  {
   "cell_type": "code",
   "execution_count": null,
   "metadata": {},
   "outputs": [],
   "source": []
  }
 ],
 "metadata": {
  "kernelspec": {
   "display_name": "Python 3",
   "language": "python",
   "name": "python3"
  },
  "language_info": {
   "codemirror_mode": {
    "name": "ipython",
    "version": 3
   },
   "file_extension": ".py",
   "mimetype": "text/x-python",
   "name": "python",
   "nbconvert_exporter": "python",
   "pygments_lexer": "ipython3",
   "version": "3.6.8"
  }
 },
 "nbformat": 4,
 "nbformat_minor": 2
}
