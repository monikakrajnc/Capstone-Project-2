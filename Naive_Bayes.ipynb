{
 "cells": [
  {
   "cell_type": "markdown",
   "metadata": {},
   "source": [
    "## NAIVE BAYES"
   ]
  },
  {
   "cell_type": "code",
   "execution_count": 1,
   "metadata": {},
   "outputs": [],
   "source": [
    "%matplotlib inline\n",
    "\n",
    "# import libraries\n",
    "import copy\n",
    "import numpy as np\n",
    "import scipy as sp\n",
    "#import matplotlib as mpl\n",
    "#import matplotlib.cm as cm\n",
    "import matplotlib.pyplot as plt\n",
    "import pandas as pd\n",
    "import seaborn as sns\n",
    "from six.moves import range\n",
    "\n",
    "# setup Pandas\n",
    "pd.set_option('display.width', 500)\n",
    "pd.set_option('display.max_columns', 100)\n",
    "pd.set_option('display.notebook_repr_html', True)\n",
    "\n",
    "# setup Seaborn\n",
    "sns.set_style('whitegrid')\n",
    "sns.set_context('poster')"
   ]
  },
  {
   "cell_type": "code",
   "execution_count": 2,
   "metadata": {},
   "outputs": [],
   "source": [
    "# machine learning libraries \n",
    "from sklearn.pipeline import make_pipeline\n",
    "from sklearn.metrics import classification_report, roc_curve, roc_auc_score\n",
    "from sklearn.model_selection import cross_val_predict\n",
    "\n",
    "from sklearn.metrics import confusion_matrix\n",
    "from sklearn.feature_extraction.text import CountVectorizer\n",
    "from sklearn.feature_extraction.text import TfidfVectorizer\n",
    "from sklearn.naive_bayes import MultinomialNB\n",
    "from sklearn.model_selection import train_test_split\n",
    "from sklearn.model_selection import KFold"
   ]
  },
  {
   "cell_type": "code",
   "execution_count": 3,
   "metadata": {},
   "outputs": [],
   "source": [
    "# import data\n",
    "data_reviews = pd.read_csv('Data_rating_112_airlines_V2.csv')"
   ]
  },
  {
   "cell_type": "code",
   "execution_count": 4,
   "metadata": {},
   "outputs": [],
   "source": [
    "# make a copy of the data\n",
    "data_ratings = data_reviews.copy()"
   ]
  },
  {
   "cell_type": "code",
   "execution_count": 5,
   "metadata": {},
   "outputs": [],
   "source": [
    "# adding second recommended column\n",
    "data_ratings['recommended_2'] = data_ratings['recommended']"
   ]
  },
  {
   "cell_type": "code",
   "execution_count": 6,
   "metadata": {},
   "outputs": [],
   "source": [
    "# replace values in recommended_2 column\n",
    "data_ratings = data_ratings.replace({'recommended_2': {0: 'No', 1: 'Yes'}})"
   ]
  },
  {
   "cell_type": "code",
   "execution_count": 7,
   "metadata": {},
   "outputs": [
    {
     "data": {
      "text/html": [
       "<div>\n",
       "<style scoped>\n",
       "    .dataframe tbody tr th:only-of-type {\n",
       "        vertical-align: middle;\n",
       "    }\n",
       "\n",
       "    .dataframe tbody tr th {\n",
       "        vertical-align: top;\n",
       "    }\n",
       "\n",
       "    .dataframe thead th {\n",
       "        text-align: right;\n",
       "    }\n",
       "</style>\n",
       "<table border=\"1\" class=\"dataframe\">\n",
       "  <thead>\n",
       "    <tr style=\"text-align: right;\">\n",
       "      <th></th>\n",
       "      <th>airline_name</th>\n",
       "      <th>link</th>\n",
       "      <th>title</th>\n",
       "      <th>author</th>\n",
       "      <th>author_country</th>\n",
       "      <th>date</th>\n",
       "      <th>content</th>\n",
       "      <th>aircraft</th>\n",
       "      <th>type_traveller</th>\n",
       "      <th>cabin_flown</th>\n",
       "      <th>route</th>\n",
       "      <th>overall_rating</th>\n",
       "      <th>seat_comfort_rating</th>\n",
       "      <th>cabin_staff_rating</th>\n",
       "      <th>food_beverages_rating</th>\n",
       "      <th>inflight_entertainment_rating</th>\n",
       "      <th>ground_service_rating</th>\n",
       "      <th>wifi_connectivity_rating</th>\n",
       "      <th>value_money_rating</th>\n",
       "      <th>recommended</th>\n",
       "      <th>recommended_2</th>\n",
       "    </tr>\n",
       "  </thead>\n",
       "  <tbody>\n",
       "    <tr>\n",
       "      <th>0</th>\n",
       "      <td>aegean-airlines</td>\n",
       "      <td>/airline-reviews/aegean-airlines</td>\n",
       "      <td>Aegean Airlines customer review</td>\n",
       "      <td>P Vlogianitis</td>\n",
       "      <td>Australia</td>\n",
       "      <td>2015-08-01</td>\n",
       "      <td>Flight to Larnaca was a joy. Generous legroom,...</td>\n",
       "      <td>A321</td>\n",
       "      <td>Family Leisure</td>\n",
       "      <td>Business Class</td>\n",
       "      <td>Athens to Larnaca</td>\n",
       "      <td>10.0</td>\n",
       "      <td>5.0</td>\n",
       "      <td>5.0</td>\n",
       "      <td>5.0</td>\n",
       "      <td>NaN</td>\n",
       "      <td>3.0</td>\n",
       "      <td>NaN</td>\n",
       "      <td>5.0</td>\n",
       "      <td>1</td>\n",
       "      <td>Yes</td>\n",
       "    </tr>\n",
       "    <tr>\n",
       "      <th>1</th>\n",
       "      <td>aegean-airlines</td>\n",
       "      <td>/airline-reviews/aegean-airlines</td>\n",
       "      <td>Aegean Airlines customer review</td>\n",
       "      <td>Eric Botha</td>\n",
       "      <td>United Kingdom</td>\n",
       "      <td>2015-07-28</td>\n",
       "      <td>Flight on time, row 1 - Friendly staff and ver...</td>\n",
       "      <td>A321</td>\n",
       "      <td>Couple Leisure</td>\n",
       "      <td>Business Class</td>\n",
       "      <td>Athens to London</td>\n",
       "      <td>8.0</td>\n",
       "      <td>4.0</td>\n",
       "      <td>5.0</td>\n",
       "      <td>4.0</td>\n",
       "      <td>2.0</td>\n",
       "      <td>4.0</td>\n",
       "      <td>NaN</td>\n",
       "      <td>4.0</td>\n",
       "      <td>1</td>\n",
       "      <td>Yes</td>\n",
       "    </tr>\n",
       "    <tr>\n",
       "      <th>2</th>\n",
       "      <td>aegean-airlines</td>\n",
       "      <td>/airline-reviews/aegean-airlines</td>\n",
       "      <td>Aegean Airlines customer review</td>\n",
       "      <td>Nathan Vermeulen</td>\n",
       "      <td>Belgium</td>\n",
       "      <td>2015-07-26</td>\n",
       "      <td>Very good flight with Aegean. The boarding was...</td>\n",
       "      <td>A320-232</td>\n",
       "      <td>Family Leisure</td>\n",
       "      <td>Economy</td>\n",
       "      <td>Brussels to Heraklion</td>\n",
       "      <td>9.0</td>\n",
       "      <td>4.0</td>\n",
       "      <td>5.0</td>\n",
       "      <td>4.0</td>\n",
       "      <td>NaN</td>\n",
       "      <td>4.0</td>\n",
       "      <td>NaN</td>\n",
       "      <td>4.0</td>\n",
       "      <td>1</td>\n",
       "      <td>Yes</td>\n",
       "    </tr>\n",
       "    <tr>\n",
       "      <th>3</th>\n",
       "      <td>aegean-airlines</td>\n",
       "      <td>/airline-reviews/aegean-airlines</td>\n",
       "      <td>Aegean Airlines customer review</td>\n",
       "      <td>N Sunder</td>\n",
       "      <td>United States</td>\n",
       "      <td>2015-07-21</td>\n",
       "      <td>Brand new A320, interior spotless. Crew immacu...</td>\n",
       "      <td>A320</td>\n",
       "      <td>Solo Leisure</td>\n",
       "      <td>Economy</td>\n",
       "      <td>Mykonos to Athens</td>\n",
       "      <td>8.0</td>\n",
       "      <td>4.0</td>\n",
       "      <td>4.0</td>\n",
       "      <td>NaN</td>\n",
       "      <td>NaN</td>\n",
       "      <td>4.0</td>\n",
       "      <td>NaN</td>\n",
       "      <td>4.0</td>\n",
       "      <td>1</td>\n",
       "      <td>Yes</td>\n",
       "    </tr>\n",
       "    <tr>\n",
       "      <th>4</th>\n",
       "      <td>aegean-airlines</td>\n",
       "      <td>/airline-reviews/aegean-airlines</td>\n",
       "      <td>Aegean Airlines customer review</td>\n",
       "      <td>Dimitrios Chrysos-Gklavas</td>\n",
       "      <td>Greece</td>\n",
       "      <td>2015-07-21</td>\n",
       "      <td>I booked a premium economy ticket so I can hav...</td>\n",
       "      <td>Dash 8 Q400</td>\n",
       "      <td>Solo Leisure</td>\n",
       "      <td>Economy</td>\n",
       "      <td>Athens to Santorini</td>\n",
       "      <td>8.0</td>\n",
       "      <td>4.0</td>\n",
       "      <td>5.0</td>\n",
       "      <td>4.0</td>\n",
       "      <td>NaN</td>\n",
       "      <td>2.0</td>\n",
       "      <td>NaN</td>\n",
       "      <td>3.0</td>\n",
       "      <td>1</td>\n",
       "      <td>Yes</td>\n",
       "    </tr>\n",
       "  </tbody>\n",
       "</table>\n",
       "</div>"
      ],
      "text/plain": [
       "      airline_name                              link                            title                     author  author_country        date                                            content     aircraft  type_traveller     cabin_flown                  route  overall_rating  seat_comfort_rating  cabin_staff_rating  food_beverages_rating  inflight_entertainment_rating  ground_service_rating  wifi_connectivity_rating  value_money_rating  recommended recommended_2\n",
       "0  aegean-airlines  /airline-reviews/aegean-airlines  Aegean Airlines customer review              P Vlogianitis       Australia  2015-08-01  Flight to Larnaca was a joy. Generous legroom,...         A321  Family Leisure  Business Class      Athens to Larnaca            10.0                  5.0                 5.0                    5.0                            NaN                    3.0                       NaN                 5.0            1           Yes\n",
       "1  aegean-airlines  /airline-reviews/aegean-airlines  Aegean Airlines customer review                 Eric Botha  United Kingdom  2015-07-28  Flight on time, row 1 - Friendly staff and ver...         A321  Couple Leisure  Business Class       Athens to London             8.0                  4.0                 5.0                    4.0                            2.0                    4.0                       NaN                 4.0            1           Yes\n",
       "2  aegean-airlines  /airline-reviews/aegean-airlines  Aegean Airlines customer review           Nathan Vermeulen         Belgium  2015-07-26  Very good flight with Aegean. The boarding was...     A320-232  Family Leisure         Economy  Brussels to Heraklion             9.0                  4.0                 5.0                    4.0                            NaN                    4.0                       NaN                 4.0            1           Yes\n",
       "3  aegean-airlines  /airline-reviews/aegean-airlines  Aegean Airlines customer review                   N Sunder   United States  2015-07-21  Brand new A320, interior spotless. Crew immacu...         A320    Solo Leisure         Economy      Mykonos to Athens             8.0                  4.0                 4.0                    NaN                            NaN                    4.0                       NaN                 4.0            1           Yes\n",
       "4  aegean-airlines  /airline-reviews/aegean-airlines  Aegean Airlines customer review  Dimitrios Chrysos-Gklavas          Greece  2015-07-21  I booked a premium economy ticket so I can hav...  Dash 8 Q400    Solo Leisure         Economy    Athens to Santorini             8.0                  4.0                 5.0                    4.0                            NaN                    2.0                       NaN                 3.0            1           Yes"
      ]
     },
     "execution_count": 7,
     "metadata": {},
     "output_type": "execute_result"
    }
   ],
   "source": [
    "# drop rows with missing content\n",
    "data_ratings = data_ratings[~data_ratings.content.isnull()]\n",
    "data_ratings.head()"
   ]
  },
  {
   "cell_type": "markdown",
   "metadata": {},
   "source": []
  },
  {
   "cell_type": "markdown",
   "metadata": {},
   "source": [
    "### 1. DATA EXPLORATION"
   ]
  },
  {
   "cell_type": "code",
   "execution_count": 8,
   "metadata": {},
   "outputs": [
    {
     "name": "stdout",
     "output_type": "stream",
     "text": [
      "<class 'pandas.core.frame.DataFrame'>\n",
      "Int64Index: 35609 entries, 0 to 35608\n",
      "Data columns (total 21 columns):\n",
      "airline_name                     35609 non-null object\n",
      "link                             35609 non-null object\n",
      "title                            35609 non-null object\n",
      "author                           35609 non-null object\n",
      "author_country                   35396 non-null object\n",
      "date                             35609 non-null object\n",
      "content                          35609 non-null object\n",
      "aircraft                         1153 non-null object\n",
      "type_traveller                   2164 non-null object\n",
      "cabin_flown                      34138 non-null object\n",
      "route                            2128 non-null object\n",
      "overall_rating                   32275 non-null float64\n",
      "seat_comfort_rating              31415 non-null float64\n",
      "cabin_staff_rating               31417 non-null float64\n",
      "food_beverages_rating            31020 non-null float64\n",
      "inflight_entertainment_rating    28980 non-null float64\n",
      "ground_service_rating            2003 non-null float64\n",
      "wifi_connectivity_rating         534 non-null float64\n",
      "value_money_rating               35314 non-null float64\n",
      "recommended                      35609 non-null int64\n",
      "recommended_2                    35609 non-null object\n",
      "dtypes: float64(8), int64(1), object(12)\n",
      "memory usage: 6.0+ MB\n"
     ]
    }
   ],
   "source": [
    "# get more information about columns in dataframe\n",
    "data_ratings.info()"
   ]
  },
  {
   "cell_type": "code",
   "execution_count": 9,
   "metadata": {},
   "outputs": [
    {
     "name": "stdout",
     "output_type": "stream",
     "text": [
      "Number of reviews: 35609\n",
      "Number of authors: 25938\n",
      "Number of airlines:  112\n"
     ]
    }
   ],
   "source": [
    "# check number of reviews, number of authors and number of airlines\n",
    "n_reviews = len(data_ratings)\n",
    "n_airlines = data_ratings.airline_name.unique().size\n",
    "n_authors = data_ratings.author.unique().size\n",
    "\n",
    "\n",
    "print('Number of reviews: {:d}'.format(n_reviews))\n",
    "print('Number of authors: {:d}'.format(n_authors))\n",
    "print('Number of airlines:  {:d}'.format(n_airlines))"
   ]
  },
  {
   "cell_type": "code",
   "execution_count": 10,
   "metadata": {},
   "outputs": [
    {
     "data": {
      "image/png": "[encoded data removed]",
      "text/plain": [
       "<Figure size 576x432 with 1 Axes>"
      ]
     },
     "metadata": {
      "needs_background": "light"
     },
     "output_type": "display_data"
    }
   ],
   "source": [
    "# create a copy of dataframe\n",
    "df_copy = data_ratings.copy()\n",
    "\n",
    "# change values in recommended_2 column to True if the value is Yes and False if it isn't\n",
    "df_copy['recommended_2'] = df_copy.recommended_2 == 'Yes'\n",
    "\n",
    "# group dataframe by author\n",
    "grouped_author = df_copy.groupby('author')\n",
    "\n",
    "# number of reviews by each author\n",
    "grouped_author_counts = grouped_author.author.count()\n",
    "\n",
    "# average recommended rating for each author\n",
    "grouped_author_means = grouped_author.recommended_2.mean()     \n",
    "\n",
    "# plot a histogram for authors with more than 1 review\n",
    "grouped_author_means[grouped_author_counts > 1].hist(bins=10, edgecolor='w', lw=1, figsize=(8,6))\n",
    "plt.xlabel('Average rating per author', fontsize=15)\n",
    "plt.ylabel('Number of authors', fontsize=15)\n",
    "plt.show()"
   ]
  },
  {
   "cell_type": "markdown",
   "metadata": {},
   "source": [
    "By looking at the histogram, we can see that many authors on average recommended an airline they flew with. And on average around 500 authors didn't recommend an airline. Around 900 authors gave on average half the time recommended rate 1 and half the time rate 0. "
   ]
  },
  {
   "cell_type": "markdown",
   "metadata": {},
   "source": []
  },
  {
   "cell_type": "markdown",
   "metadata": {},
   "source": [
    "### 2. MULTINOMINAL NAIVE BAYES"
   ]
  },
  {
   "cell_type": "code",
   "execution_count": 12,
   "metadata": {},
   "outputs": [],
   "source": [
    "# define X and y from dataframe\n",
    "def make_xy(data_ratings, vectorizer=None):   \n",
    "    if vectorizer is None:\n",
    "        vectorizer = CountVectorizer()\n",
    "    X = vectorizer.fit_transform(data_ratings.content)\n",
    "    X = X.tocsc()  # some versions of sklearn return COO format\n",
    "    y = (data_ratings.recommended_2 == 'Yes').values.astype(np.int)\n",
    "    return X, y\n",
    "X, y = make_xy(data_ratings)"
   ]
  },
  {
   "cell_type": "code",
   "execution_count": 13,
   "metadata": {},
   "outputs": [],
   "source": [
    "# split the dataframe into a training and test set\n",
    "xtrain_1, xtest_1, ytrain_1, ytest_1 = train_test_split(X, y)"
   ]
  },
  {
   "cell_type": "code",
   "execution_count": 14,
   "metadata": {},
   "outputs": [
    {
     "data": {
      "text/plain": [
       "MultinomialNB(alpha=1.0, class_prior=None, fit_prior=True)"
      ]
     },
     "execution_count": 14,
     "metadata": {},
     "output_type": "execute_result"
    }
   ],
   "source": [
    "# use `scikit-learn`'s `MultinomialNB()` classifier with default parameters\n",
    "clf = MultinomialNB()\n",
    "\n",
    "# train the classifier over the training set\n",
    "clf.fit(xtrain_1, ytrain_1)"
   ]
  },
  {
   "cell_type": "code",
   "execution_count": 15,
   "metadata": {},
   "outputs": [],
   "source": [
    "# test on the test set\n",
    "predict_1 = clf.predict(xtest_1)"
   ]
  },
  {
   "cell_type": "code",
   "execution_count": 17,
   "metadata": {},
   "outputs": [
    {
     "name": "stdout",
     "output_type": "stream",
     "text": [
      "Accuracy on training set:  0.8600314536059313\n",
      "Accuracy on test set:  0.8423003481972369\n"
     ]
    }
   ],
   "source": [
    "# print the accuracy scores for both the training and the test sets\n",
    "print('Accuracy on training set: ', clf.score(xtrain_1, ytrain_1))\n",
    "print('Accuracy on test set: ', clf.score(xtest_1, ytest_1))"
   ]
  },
  {
   "cell_type": "markdown",
   "metadata": {},
   "source": []
  },
  {
   "cell_type": "markdown",
   "metadata": {},
   "source": [
    "#### 1.1 Picking hyperparameters for Naive Bayes and text maintenance"
   ]
  },
  {
   "cell_type": "code",
   "execution_count": 18,
   "metadata": {},
   "outputs": [],
   "source": [
    "# create a list of word count\n",
    "doc_freq = sorted((X > 0).sum(axis=0).tolist()[0])"
   ]
  },
  {
   "cell_type": "code",
   "execution_count": 19,
   "metadata": {},
   "outputs": [
    {
     "data": {
      "image/png": "[encoded data removed]",
      "text/plain": [
       "<Figure size 864x864 with 1 Axes>"
      ]
     },
     "metadata": {
      "needs_background": "light"
     },
     "output_type": "display_data"
    }
   ],
   "source": [
    "# plot the cumulative distribution of document frequencies\n",
    "plt.figure(figsize=(12,12))\n",
    "_ = plt.hist(pd.Series(doc_freq), np.arange(pd.Series(doc_freq).sum()), cumulative=True, histtype='stepfilled', density=True)\n",
    "_ = plt.xlabel('Document count', fontsize=15)\n",
    "_ = plt.ylabel('Percentage of words that appear in x or fewer documents', fontsize=15)\n",
    "_ = plt.xlim(-1, 500)\n",
    "plt.show()"
   ]
  },
  {
   "cell_type": "code",
   "execution_count": 35,
   "metadata": {},
   "outputs": [
    {
     "data": {
      "image/png": "[encoded data removed]",
      "text/plain": [
       "<Figure size 864x864 with 1 Axes>"
      ]
     },
     "metadata": {
      "needs_background": "light"
     },
     "output_type": "display_data"
    }
   ],
   "source": [
    "# plot the  cumulative distribution of document frequencies on a smaller scale\n",
    "plt.figure(figsize=(12,12))\n",
    "_ = plt.hist(pd.Series(doc_freq), np.arange(pd.Series(doc_freq).sum()), cumulative=True, histtype='stepfilled', density=True)\n",
    "_ = plt.xlabel('Document count', fontsize=15)\n",
    "_ = plt.ylabel('Percentage of words that appear in x or fewer documents', fontsize=15)\n",
    "_ = plt.xlim(-1, 200)\n",
    "plt.show()"
   ]
  },
  {
   "cell_type": "code",
   "execution_count": 36,
   "metadata": {},
   "outputs": [
    {
     "data": {
      "image/png": "[encoded data removed]",
      "text/plain": [
       "<Figure size 864x864 with 1 Axes>"
      ]
     },
     "metadata": {
      "needs_background": "light"
     },
     "output_type": "display_data"
    }
   ],
   "source": [
    "# plot the  cumulative distribution of document frequencies on a smaller scale\n",
    "plt.figure(figsize=(12,12))\n",
    "_ = plt.hist(pd.Series(doc_freq), np.arange(pd.Series(doc_freq).sum()), cumulative=True, histtype='stepfilled', density=True)\n",
    "_ = plt.xlabel('Document count', fontsize=15)\n",
    "_ = plt.ylabel('Percentage of words that appear in x or fewer documents', fontsize=15)\n",
    "_ = plt.xlim(-1, 10)\n",
    "plt.show()"
   ]
  },
  {
   "cell_type": "markdown",
   "metadata": {},
   "source": [
    "If we look at the above graphs, we can see that at x=2 the curve begins climbing steeply, this could be our value for best 'min_df'. "
   ]
  },
  {
   "cell_type": "code",
   "execution_count": 24,
   "metadata": {},
   "outputs": [],
   "source": [
    "# create a score function\n",
    "# the function cv_score performs the K-fold cross-validation algorithm\n",
    "def cv_score(clf, X, y, scorefunc):\n",
    "    result = 0.\n",
    "    nfold = 5\n",
    "    for train, test in KFold(nfold).split(X): # split data into train/test groups, 5 times\n",
    "        clf.fit(X[train], y[train]) # fit the classifier, passed in as clf\n",
    "        result += scorefunc(clf, X[test], y[test]) # evaluate score function on held-out data\n",
    "    return result / nfold #  return the average"
   ]
  },
  {
   "cell_type": "code",
   "execution_count": 25,
   "metadata": {},
   "outputs": [],
   "source": [
    "# define the log-likelihood function\n",
    "def log_likelihood(clf, x, y):\n",
    "    prob = clf.predict_log_proba(x)\n",
    "    No = y == 0\n",
    "    Yes = ~No\n",
    "    return prob[No, 0].sum() + prob[Yes, 1].sum()"
   ]
  },
  {
   "cell_type": "code",
   "execution_count": 26,
   "metadata": {},
   "outputs": [],
   "source": [
    "# set up the train and test masks\n",
    "_, itest = train_test_split(range(data_ratings.shape[0]), train_size=0.7)\n",
    "mask = np.zeros(data_ratings.shape[0], dtype=np.bool)\n",
    "mask[itest] = True"
   ]
  },
  {
   "cell_type": "code",
   "execution_count": 27,
   "metadata": {},
   "outputs": [
    {
     "name": "stdout",
     "output_type": "stream",
     "text": [
      "alpha: 0.1 score: -4034.0845220611604\n",
      "alpha: 1 score: -3680.3588753597737\n",
      "alpha: 5 score: -3406.3464512192927\n",
      "alpha: 10 score: -3273.990701777825\n",
      "alpha: 50 score: -3275.252131630498\n",
      "With min_df = 1, the best alpha is: 10 and has max score: -3273.990701777825\n"
     ]
    }
   ],
   "source": [
    "# the grid of parameters to search over\n",
    "alphas_2 = [.1, 1, 5, 10, 50]\n",
    "best_min_df_2 = 2 # value we chose from plotted histogram above\n",
    "\n",
    "# find the best value for alpha and min_df, and the best classifier\n",
    "best_alpha_2 = None\n",
    "maxscore_2 = -np.inf\n",
    "for alpha in alphas_2:        \n",
    "    vectorizer_2 = CountVectorizer(min_df=best_min_df_2)       \n",
    "    Xthis_2, ythis_2 = make_xy(data_ratings, vectorizer_2)\n",
    "    Xtrainthis_2 = Xthis_2[mask]\n",
    "    ytrainthis_2 = ythis_2[mask]\n",
    "    clf_2 = MultinomialNB(alpha=alpha)\n",
    "    score_2 = cv_score(clf_2, Xtrainthis_2, ytrainthis_2, log_likelihood)\n",
    "    print('alpha:', alpha, 'score:', score_2)\n",
    "    if score_2 > maxscore_2:\n",
    "        maxscore_2 = score_2\n",
    "        best_alpha_2 = alpha\n",
    "print('With min_df = 1, the best alpha is:', best_alpha_2 ,'and has max score:', maxscore_2)"
   ]
  },
  {
   "cell_type": "code",
   "execution_count": 28,
   "metadata": {},
   "outputs": [
    {
     "name": "stderr",
     "output_type": "stream",
     "text": [
      "/anaconda3/envs/statenv/lib/python3.6/site-packages/sklearn/naive_bayes.py:485: UserWarning: alpha too small will result in numeric errors, setting alpha = 1.0e-10\n",
      "  'setting alpha = %.1e' % _ALPHA_MIN)\n",
      "/anaconda3/envs/statenv/lib/python3.6/site-packages/sklearn/naive_bayes.py:485: UserWarning: alpha too small will result in numeric errors, setting alpha = 1.0e-10\n",
      "  'setting alpha = %.1e' % _ALPHA_MIN)\n",
      "/anaconda3/envs/statenv/lib/python3.6/site-packages/sklearn/naive_bayes.py:485: UserWarning: alpha too small will result in numeric errors, setting alpha = 1.0e-10\n",
      "  'setting alpha = %.1e' % _ALPHA_MIN)\n",
      "/anaconda3/envs/statenv/lib/python3.6/site-packages/sklearn/naive_bayes.py:485: UserWarning: alpha too small will result in numeric errors, setting alpha = 1.0e-10\n",
      "  'setting alpha = %.1e' % _ALPHA_MIN)\n",
      "/anaconda3/envs/statenv/lib/python3.6/site-packages/sklearn/naive_bayes.py:485: UserWarning: alpha too small will result in numeric errors, setting alpha = 1.0e-10\n",
      "  'setting alpha = %.1e' % _ALPHA_MIN)\n",
      "/anaconda3/envs/statenv/lib/python3.6/site-packages/sklearn/naive_bayes.py:485: UserWarning: alpha too small will result in numeric errors, setting alpha = 1.0e-10\n",
      "  'setting alpha = %.1e' % _ALPHA_MIN)\n",
      "/anaconda3/envs/statenv/lib/python3.6/site-packages/sklearn/naive_bayes.py:485: UserWarning: alpha too small will result in numeric errors, setting alpha = 1.0e-10\n",
      "  'setting alpha = %.1e' % _ALPHA_MIN)\n",
      "/anaconda3/envs/statenv/lib/python3.6/site-packages/sklearn/naive_bayes.py:485: UserWarning: alpha too small will result in numeric errors, setting alpha = 1.0e-10\n",
      "  'setting alpha = %.1e' % _ALPHA_MIN)\n",
      "/anaconda3/envs/statenv/lib/python3.6/site-packages/sklearn/naive_bayes.py:485: UserWarning: alpha too small will result in numeric errors, setting alpha = 1.0e-10\n",
      "  'setting alpha = %.1e' % _ALPHA_MIN)\n",
      "/anaconda3/envs/statenv/lib/python3.6/site-packages/sklearn/naive_bayes.py:485: UserWarning: alpha too small will result in numeric errors, setting alpha = 1.0e-10\n",
      "  'setting alpha = %.1e' % _ALPHA_MIN)\n",
      "/anaconda3/envs/statenv/lib/python3.6/site-packages/sklearn/naive_bayes.py:485: UserWarning: alpha too small will result in numeric errors, setting alpha = 1.0e-10\n",
      "  'setting alpha = %.1e' % _ALPHA_MIN)\n",
      "/anaconda3/envs/statenv/lib/python3.6/site-packages/sklearn/naive_bayes.py:485: UserWarning: alpha too small will result in numeric errors, setting alpha = 1.0e-10\n",
      "  'setting alpha = %.1e' % _ALPHA_MIN)\n",
      "/anaconda3/envs/statenv/lib/python3.6/site-packages/sklearn/naive_bayes.py:485: UserWarning: alpha too small will result in numeric errors, setting alpha = 1.0e-10\n",
      "  'setting alpha = %.1e' % _ALPHA_MIN)\n",
      "/anaconda3/envs/statenv/lib/python3.6/site-packages/sklearn/naive_bayes.py:485: UserWarning: alpha too small will result in numeric errors, setting alpha = 1.0e-10\n",
      "  'setting alpha = %.1e' % _ALPHA_MIN)\n",
      "/anaconda3/envs/statenv/lib/python3.6/site-packages/sklearn/naive_bayes.py:485: UserWarning: alpha too small will result in numeric errors, setting alpha = 1.0e-10\n",
      "  'setting alpha = %.1e' % _ALPHA_MIN)\n",
      "/anaconda3/envs/statenv/lib/python3.6/site-packages/sklearn/naive_bayes.py:485: UserWarning: alpha too small will result in numeric errors, setting alpha = 1.0e-10\n",
      "  'setting alpha = %.1e' % _ALPHA_MIN)\n",
      "/anaconda3/envs/statenv/lib/python3.6/site-packages/sklearn/naive_bayes.py:485: UserWarning: alpha too small will result in numeric errors, setting alpha = 1.0e-10\n",
      "  'setting alpha = %.1e' % _ALPHA_MIN)\n",
      "/anaconda3/envs/statenv/lib/python3.6/site-packages/sklearn/naive_bayes.py:485: UserWarning: alpha too small will result in numeric errors, setting alpha = 1.0e-10\n",
      "  'setting alpha = %.1e' % _ALPHA_MIN)\n",
      "/anaconda3/envs/statenv/lib/python3.6/site-packages/sklearn/naive_bayes.py:485: UserWarning: alpha too small will result in numeric errors, setting alpha = 1.0e-10\n",
      "  'setting alpha = %.1e' % _ALPHA_MIN)\n",
      "/anaconda3/envs/statenv/lib/python3.6/site-packages/sklearn/naive_bayes.py:485: UserWarning: alpha too small will result in numeric errors, setting alpha = 1.0e-10\n",
      "  'setting alpha = %.1e' % _ALPHA_MIN)\n",
      "/anaconda3/envs/statenv/lib/python3.6/site-packages/sklearn/naive_bayes.py:485: UserWarning: alpha too small will result in numeric errors, setting alpha = 1.0e-10\n",
      "  'setting alpha = %.1e' % _ALPHA_MIN)\n",
      "/anaconda3/envs/statenv/lib/python3.6/site-packages/sklearn/naive_bayes.py:485: UserWarning: alpha too small will result in numeric errors, setting alpha = 1.0e-10\n",
      "  'setting alpha = %.1e' % _ALPHA_MIN)\n",
      "/anaconda3/envs/statenv/lib/python3.6/site-packages/sklearn/naive_bayes.py:485: UserWarning: alpha too small will result in numeric errors, setting alpha = 1.0e-10\n",
      "  'setting alpha = %.1e' % _ALPHA_MIN)\n",
      "/anaconda3/envs/statenv/lib/python3.6/site-packages/sklearn/naive_bayes.py:485: UserWarning: alpha too small will result in numeric errors, setting alpha = 1.0e-10\n",
      "  'setting alpha = %.1e' % _ALPHA_MIN)\n",
      "/anaconda3/envs/statenv/lib/python3.6/site-packages/sklearn/naive_bayes.py:485: UserWarning: alpha too small will result in numeric errors, setting alpha = 1.0e-10\n",
      "  'setting alpha = %.1e' % _ALPHA_MIN)\n",
      "/anaconda3/envs/statenv/lib/python3.6/site-packages/sklearn/naive_bayes.py:485: UserWarning: alpha too small will result in numeric errors, setting alpha = 1.0e-10\n",
      "  'setting alpha = %.1e' % _ALPHA_MIN)\n",
      "/anaconda3/envs/statenv/lib/python3.6/site-packages/sklearn/naive_bayes.py:485: UserWarning: alpha too small will result in numeric errors, setting alpha = 1.0e-10\n",
      "  'setting alpha = %.1e' % _ALPHA_MIN)\n",
      "/anaconda3/envs/statenv/lib/python3.6/site-packages/sklearn/naive_bayes.py:485: UserWarning: alpha too small will result in numeric errors, setting alpha = 1.0e-10\n",
      "  'setting alpha = %.1e' % _ALPHA_MIN)\n",
      "/anaconda3/envs/statenv/lib/python3.6/site-packages/sklearn/naive_bayes.py:485: UserWarning: alpha too small will result in numeric errors, setting alpha = 1.0e-10\n",
      "  'setting alpha = %.1e' % _ALPHA_MIN)\n",
      "/anaconda3/envs/statenv/lib/python3.6/site-packages/sklearn/naive_bayes.py:485: UserWarning: alpha too small will result in numeric errors, setting alpha = 1.0e-10\n",
      "  'setting alpha = %.1e' % _ALPHA_MIN)\n",
      "/anaconda3/envs/statenv/lib/python3.6/site-packages/sklearn/naive_bayes.py:485: UserWarning: alpha too small will result in numeric errors, setting alpha = 1.0e-10\n",
      "  'setting alpha = %.1e' % _ALPHA_MIN)\n",
      "/anaconda3/envs/statenv/lib/python3.6/site-packages/sklearn/naive_bayes.py:485: UserWarning: alpha too small will result in numeric errors, setting alpha = 1.0e-10\n",
      "  'setting alpha = %.1e' % _ALPHA_MIN)\n",
      "/anaconda3/envs/statenv/lib/python3.6/site-packages/sklearn/naive_bayes.py:485: UserWarning: alpha too small will result in numeric errors, setting alpha = 1.0e-10\n",
      "  'setting alpha = %.1e' % _ALPHA_MIN)\n",
      "/anaconda3/envs/statenv/lib/python3.6/site-packages/sklearn/naive_bayes.py:485: UserWarning: alpha too small will result in numeric errors, setting alpha = 1.0e-10\n",
      "  'setting alpha = %.1e' % _ALPHA_MIN)\n",
      "/anaconda3/envs/statenv/lib/python3.6/site-packages/sklearn/naive_bayes.py:485: UserWarning: alpha too small will result in numeric errors, setting alpha = 1.0e-10\n",
      "  'setting alpha = %.1e' % _ALPHA_MIN)\n",
      "/anaconda3/envs/statenv/lib/python3.6/site-packages/sklearn/naive_bayes.py:485: UserWarning: alpha too small will result in numeric errors, setting alpha = 1.0e-10\n",
      "  'setting alpha = %.1e' % _ALPHA_MIN)\n",
      "/anaconda3/envs/statenv/lib/python3.6/site-packages/sklearn/naive_bayes.py:485: UserWarning: alpha too small will result in numeric errors, setting alpha = 1.0e-10\n",
      "  'setting alpha = %.1e' % _ALPHA_MIN)\n",
      "/anaconda3/envs/statenv/lib/python3.6/site-packages/sklearn/naive_bayes.py:485: UserWarning: alpha too small will result in numeric errors, setting alpha = 1.0e-10\n",
      "  'setting alpha = %.1e' % _ALPHA_MIN)\n",
      "/anaconda3/envs/statenv/lib/python3.6/site-packages/sklearn/naive_bayes.py:485: UserWarning: alpha too small will result in numeric errors, setting alpha = 1.0e-10\n",
      "  'setting alpha = %.1e' % _ALPHA_MIN)\n",
      "/anaconda3/envs/statenv/lib/python3.6/site-packages/sklearn/naive_bayes.py:485: UserWarning: alpha too small will result in numeric errors, setting alpha = 1.0e-10\n",
      "  'setting alpha = %.1e' % _ALPHA_MIN)\n",
      "/anaconda3/envs/statenv/lib/python3.6/site-packages/sklearn/naive_bayes.py:485: UserWarning: alpha too small will result in numeric errors, setting alpha = 1.0e-10\n",
      "  'setting alpha = %.1e' % _ALPHA_MIN)\n",
      "/anaconda3/envs/statenv/lib/python3.6/site-packages/sklearn/naive_bayes.py:485: UserWarning: alpha too small will result in numeric errors, setting alpha = 1.0e-10\n",
      "  'setting alpha = %.1e' % _ALPHA_MIN)\n",
      "/anaconda3/envs/statenv/lib/python3.6/site-packages/sklearn/naive_bayes.py:485: UserWarning: alpha too small will result in numeric errors, setting alpha = 1.0e-10\n",
      "  'setting alpha = %.1e' % _ALPHA_MIN)\n",
      "/anaconda3/envs/statenv/lib/python3.6/site-packages/sklearn/naive_bayes.py:485: UserWarning: alpha too small will result in numeric errors, setting alpha = 1.0e-10\n",
      "  'setting alpha = %.1e' % _ALPHA_MIN)\n",
      "/anaconda3/envs/statenv/lib/python3.6/site-packages/sklearn/naive_bayes.py:485: UserWarning: alpha too small will result in numeric errors, setting alpha = 1.0e-10\n",
      "  'setting alpha = %.1e' % _ALPHA_MIN)\n",
      "/anaconda3/envs/statenv/lib/python3.6/site-packages/sklearn/naive_bayes.py:485: UserWarning: alpha too small will result in numeric errors, setting alpha = 1.0e-10\n",
      "  'setting alpha = %.1e' % _ALPHA_MIN)\n",
      "/anaconda3/envs/statenv/lib/python3.6/site-packages/sklearn/naive_bayes.py:485: UserWarning: alpha too small will result in numeric errors, setting alpha = 1.0e-10\n",
      "  'setting alpha = %.1e' % _ALPHA_MIN)\n",
      "/anaconda3/envs/statenv/lib/python3.6/site-packages/sklearn/naive_bayes.py:485: UserWarning: alpha too small will result in numeric errors, setting alpha = 1.0e-10\n",
      "  'setting alpha = %.1e' % _ALPHA_MIN)\n",
      "/anaconda3/envs/statenv/lib/python3.6/site-packages/sklearn/naive_bayes.py:485: UserWarning: alpha too small will result in numeric errors, setting alpha = 1.0e-10\n",
      "  'setting alpha = %.1e' % _ALPHA_MIN)\n",
      "/anaconda3/envs/statenv/lib/python3.6/site-packages/sklearn/naive_bayes.py:485: UserWarning: alpha too small will result in numeric errors, setting alpha = 1.0e-10\n",
      "  'setting alpha = %.1e' % _ALPHA_MIN)\n",
      "/anaconda3/envs/statenv/lib/python3.6/site-packages/sklearn/naive_bayes.py:485: UserWarning: alpha too small will result in numeric errors, setting alpha = 1.0e-10\n",
      "  'setting alpha = %.1e' % _ALPHA_MIN)\n",
      "/anaconda3/envs/statenv/lib/python3.6/site-packages/sklearn/naive_bayes.py:485: UserWarning: alpha too small will result in numeric errors, setting alpha = 1.0e-10\n",
      "  'setting alpha = %.1e' % _ALPHA_MIN)\n",
      "/anaconda3/envs/statenv/lib/python3.6/site-packages/sklearn/naive_bayes.py:485: UserWarning: alpha too small will result in numeric errors, setting alpha = 1.0e-10\n",
      "  'setting alpha = %.1e' % _ALPHA_MIN)\n",
      "/anaconda3/envs/statenv/lib/python3.6/site-packages/sklearn/naive_bayes.py:485: UserWarning: alpha too small will result in numeric errors, setting alpha = 1.0e-10\n",
      "  'setting alpha = %.1e' % _ALPHA_MIN)\n",
      "/anaconda3/envs/statenv/lib/python3.6/site-packages/sklearn/naive_bayes.py:485: UserWarning: alpha too small will result in numeric errors, setting alpha = 1.0e-10\n",
      "  'setting alpha = %.1e' % _ALPHA_MIN)\n",
      "/anaconda3/envs/statenv/lib/python3.6/site-packages/sklearn/naive_bayes.py:485: UserWarning: alpha too small will result in numeric errors, setting alpha = 1.0e-10\n",
      "  'setting alpha = %.1e' % _ALPHA_MIN)\n",
      "/anaconda3/envs/statenv/lib/python3.6/site-packages/sklearn/naive_bayes.py:485: UserWarning: alpha too small will result in numeric errors, setting alpha = 1.0e-10\n",
      "  'setting alpha = %.1e' % _ALPHA_MIN)\n",
      "/anaconda3/envs/statenv/lib/python3.6/site-packages/sklearn/naive_bayes.py:485: UserWarning: alpha too small will result in numeric errors, setting alpha = 1.0e-10\n",
      "  'setting alpha = %.1e' % _ALPHA_MIN)\n",
      "/anaconda3/envs/statenv/lib/python3.6/site-packages/sklearn/naive_bayes.py:485: UserWarning: alpha too small will result in numeric errors, setting alpha = 1.0e-10\n",
      "  'setting alpha = %.1e' % _ALPHA_MIN)\n",
      "/anaconda3/envs/statenv/lib/python3.6/site-packages/sklearn/naive_bayes.py:485: UserWarning: alpha too small will result in numeric errors, setting alpha = 1.0e-10\n",
      "  'setting alpha = %.1e' % _ALPHA_MIN)\n"
     ]
    }
   ],
   "source": [
    "# the grid of parameters to search over\n",
    "alphas = [0, 0.1, 1, 5, 10, 50]\n",
    "min_dfs = [0.001, 0.01, 0.1, 1, 2, 3, 5, 10, 15, 20, 50, 80] \n",
    "\n",
    "# find the best value for alpha and min_df, and the best classifier\n",
    "best_alpha = None\n",
    "best_min_df = None \n",
    "maxscore = -np.inf\n",
    "\n",
    "for alpha in alphas: \n",
    "    for min_df in min_dfs: \n",
    "        vectorizer = CountVectorizer(min_df = min_df)       \n",
    "        Xthis, ythis = make_xy(data_ratings, vectorizer)\n",
    "        Xtrainthis = Xthis[mask]\n",
    "        ytrainthis = ythis[mask]\n",
    "        clf_IV = MultinomialNB(alpha = alpha)\n",
    "        cvscore = cv_score(clf_IV, Xtrainthis, ytrainthis, log_likelihood)\n",
    "\n",
    "        if cvscore > maxscore:\n",
    "            maxscore = cvscore\n",
    "            best_alpha = alpha \n",
    "            best_min_df = min_df"
   ]
  },
  {
   "cell_type": "code",
   "execution_count": 29,
   "metadata": {},
   "outputs": [
    {
     "name": "stdout",
     "output_type": "stream",
     "text": [
      "alpha: 50\n",
      "best min_df: 0.1\n",
      "best score: -1860.8521335315781\n"
     ]
    }
   ],
   "source": [
    "# print calculated best values\n",
    "print('alpha: {}'.format(best_alpha))\n",
    "print('best min_df: {}'.format(best_min_df))\n",
    "print('best score: {}'.format(maxscore))"
   ]
  },
  {
   "cell_type": "markdown",
   "metadata": {},
   "source": []
  },
  {
   "cell_type": "markdown",
   "metadata": {},
   "source": [
    "### 2. WORKING WITH THE BEST PARAMETERS"
   ]
  },
  {
   "cell_type": "code",
   "execution_count": 30,
   "metadata": {},
   "outputs": [
    {
     "name": "stdout",
     "output_type": "stream",
     "text": [
      "Accuracy on training data: 0.792380\n",
      "Accuracy on test data:     0.788975\n"
     ]
    }
   ],
   "source": [
    "# make a model from the best parameters\n",
    "vectorizer_3 = CountVectorizer(min_df=best_min_df)\n",
    "X, y = make_xy(data_ratings, vectorizer_3)\n",
    "xtrain_2 = X[mask]\n",
    "ytrain_2 = y[mask]\n",
    "xtest_2 = X[~mask]\n",
    "ytest_2 = y[~mask]\n",
    "\n",
    "clf_3 = MultinomialNB(alpha=best_alpha).fit(xtrain_2, ytrain_2)\n",
    "\n",
    "# print the accuracy on the test and training dataset\n",
    "training_accuracy_3 = clf_3.score(xtrain_2, ytrain_2)\n",
    "test_accuracy_3 = clf_3.score(xtest_2, ytest_2)\n",
    "\n",
    "print('Accuracy on training data: {:2f}'.format(training_accuracy_3))\n",
    "print('Accuracy on test data:     {:2f}'.format(test_accuracy_3))"
   ]
  },
  {
   "cell_type": "markdown",
   "metadata": {},
   "source": []
  },
  {
   "cell_type": "markdown",
   "metadata": {},
   "source": [
    "#### 2.1. The confusion matrix"
   ]
  },
  {
   "cell_type": "code",
   "execution_count": 34,
   "metadata": {},
   "outputs": [
    {
     "name": "stdout",
     "output_type": "stream",
     "text": [
      "[[ 8362  3011]\n",
      " [ 2249 11304]]\n"
     ]
    }
   ],
   "source": [
    "# print confusion matrix \n",
    "print(confusion_matrix(ytest_2, clf_3.predict(xtest_2)))"
   ]
  },
  {
   "cell_type": "code",
   "execution_count": 35,
   "metadata": {},
   "outputs": [
    {
     "data": {
      "text/plain": [
       "<matplotlib.axes._subplots.AxesSubplot at 0x1a1ac60fd0>"
      ]
     },
     "execution_count": 35,
     "metadata": {},
     "output_type": "execute_result"
    },
    {
     "data": {
      "image/png": "[encoded data removed]",
      "text/plain": [
       "<Figure size 432x288 with 2 Axes>"
      ]
     },
     "metadata": {
      "needs_background": "light"
     },
     "output_type": "display_data"
    }
   ],
   "source": [
    "# plot the confusion matrix\n",
    "sns.heatmap(confusion_matrix(ytest_2, clf_3.predict(xtest_2)), annot=True, fmt='d')"
   ]
  },
  {
   "cell_type": "markdown",
   "metadata": {},
   "source": [
    "True Positive = 11304 (Observation is positive, and is predicted to be positive. Number of instances of positive class '1' correctly predicted.)\n",
    "\n",
    "True Negative = 8362 (Observation is negative, and is predicted to be negative. Number of instances of negative class '0' correctly predicted.)\n",
    "\n",
    "False Positive = 3011 (Observation is negative, but is predicted positive. Number of instances of negative class '0' incorrectly predicted as the positive class '1'.)\n",
    "\n",
    "False Negative = 2249 (Observation is positive, but is predicted negative. Number of instances of positive class '1' incorrectly predicted as the negative class '0'.)"
   ]
  },
  {
   "cell_type": "markdown",
   "metadata": {},
   "source": []
  },
  {
   "cell_type": "markdown",
   "metadata": {},
   "source": [
    "#### 2.2. Evaluating the precision and recall metric for our training data"
   ]
  },
  {
   "cell_type": "code",
   "execution_count": 36,
   "metadata": {},
   "outputs": [],
   "source": [
    "# instantiate the classifier\n",
    "nb_classifier = MultinomialNB(alpha=best_alpha)\n",
    "\n",
    "# fit to the training data\n",
    "nb_classifier.fit(xtrain_2, ytrain_2)\n",
    "\n",
    "# predict the labels\n",
    "pred_labels = nb_classifier.predict(xtest_2)"
   ]
  },
  {
   "cell_type": "code",
   "execution_count": 37,
   "metadata": {},
   "outputs": [],
   "source": [
    "# create a machine learning pipelines\n",
    "pipe_NB = make_pipeline(MultinomialNB())"
   ]
  },
  {
   "cell_type": "code",
   "execution_count": 38,
   "metadata": {},
   "outputs": [],
   "source": [
    "# compute predicted y's\n",
    "predicted_NB = cross_val_predict(pipe_NB, X, y, cv=3, n_jobs=-1)"
   ]
  },
  {
   "cell_type": "markdown",
   "metadata": {},
   "source": [
    "Let's check the Text summary of the precision, recall, F1 score for each recommended rating class (0, 1). \n",
    "\n",
    "A Classification report is used to measure the quality of predictions from a classification algorithm. How many predictions are True and how many are False. More specifically, True Positives, False Positives, True Negatives and False Negatives are used to predict the metrics of a classification report as shown below. "
   ]
  },
  {
   "cell_type": "code",
   "execution_count": 39,
   "metadata": {},
   "outputs": [
    {
     "name": "stdout",
     "output_type": "stream",
     "text": [
      "Multinomial Naive Bayes:\n",
      "              precision    recall  f1-score   support\n",
      "\n",
      "           0       0.79      0.73      0.76     16231\n",
      "           1       0.79      0.84      0.81     19378\n",
      "\n",
      "    accuracy                           0.79     35609\n",
      "   macro avg       0.79      0.79      0.79     35609\n",
      "weighted avg       0.79      0.79      0.79     35609\n",
      "\n",
      "\n",
      "\n"
     ]
    }
   ],
   "source": [
    "# classification report\n",
    "print('Multinomial Naive Bayes:') \n",
    "print(classification_report(y, predicted_NB)) \n",
    "print('\\n')"
   ]
  },
  {
   "cell_type": "markdown",
   "metadata": {},
   "source": [
    "First, let's refresh the meaning of each parameter in the report:\n",
    "The precision is the ratio between the number of true positives and the number of false positives. Precision is the ability of a classifier not to label an instance positive that is actually negative.\n",
    "\n",
    "The recall is the ratio between the number of true positives and the number of false negatives. Recall is the ability of a classifier to find all positive instances.\n",
    "\n",
    "The F-beta score can be interpreted as a weighted harmonic mean of precision and recall, where an F-beta score reaches its best value at 1 and worst score at 0.\n",
    "The F-beta score weights recall more than precision by a factor of beta. beta == 1.0 means recall and precision are equally important.\n",
    "\n",
    "The support is the number of occurrences of each class in y_true (correct target values).\n",
    "\n",
    "The reported averages include macro average, which represents averaging the unweighted mean per label. And weighted average, which is averaging the support-weighted mean per label.\n",
    "\n",
    "The precision and recall rates give us an idea about the discriminative ability of our classifier. In this case our average precision and recall rates are both 0.79. But if we look for each class, we can see that recall is higher for class 1 (travellers recommended airline).\n",
    "For the accuracy we get the similar result as we did above for the accuracy on the training set (in cell 30).\n",
    "\n"
   ]
  },
  {
   "cell_type": "markdown",
   "metadata": {},
   "source": []
  },
  {
   "cell_type": "markdown",
   "metadata": {},
   "source": [
    "#### 2.3. What are the strongly predictive features?"
   ]
  },
  {
   "cell_type": "code",
   "execution_count": 40,
   "metadata": {},
   "outputs": [
    {
     "name": "stdout",
     "output_type": "stream",
     "text": [
      "Good words\t     P(Yes | word)\n",
      "           excellent 0.91\n",
      "         comfortable 0.86\n",
      "               great 0.85\n",
      "            friendly 0.84\n",
      "                nice 0.84\n",
      "                good 0.83\n",
      "                well 0.75\n",
      "                both 0.75\n",
      "              drinks 0.71\n",
      "                very 0.71\n",
      "Bad words\t     P(Yes | word)\n",
      "                  no 0.40\n",
      "                  we 0.39\n",
      "                then 0.39\n",
      "             because 0.38\n",
      "                next 0.38\n",
      "                 our 0.36\n",
      "             delayed 0.35\n",
      "               hours 0.33\n",
      "               never 0.27\n",
      "                told 0.17\n"
     ]
    }
   ],
   "source": [
    "# find good and bad words from the model with best parameters\n",
    "words_1 = np.array(vectorizer_3.get_feature_names())\n",
    "\n",
    "h = np.eye(xtest_2.shape[1])\n",
    "probs = clf_3.predict_log_proba(h)[:, 0]\n",
    "ind = np.argsort(probs)\n",
    "\n",
    "good_words = words_1[ind[:10]]\n",
    "bad_words = words_1[ind[-10:]]\n",
    "\n",
    "good_prob = probs[ind[:10]]\n",
    "bad_prob = probs[ind[-10:]]\n",
    "\n",
    "print('Good words\\t     P(Yes | word)')\n",
    "for w, p in zip(good_words, good_prob):\n",
    "    print('{:>20}'.format(w), '{:.2f}'.format(1 - np.exp(p)))\n",
    "    \n",
    "print('Bad words\\t     P(Yes | word)')\n",
    "for w, p in zip(bad_words, bad_prob):\n",
    "    print('{:>20}'.format(w), '{:.2f}'.format(1 - np.exp(p)))"
   ]
  },
  {
   "cell_type": "markdown",
   "metadata": {},
   "source": [
    "By looking at both categories of words, we can say that our classifier did correctly identified them. Words like 'excellent', 'great', 'nice', are definitely good/positive words. On the other hand, 'no', 'delayed' and 'never' are words that are not associated with something good."
   ]
  },
  {
   "cell_type": "markdown",
   "metadata": {},
   "source": []
  },
  {
   "cell_type": "markdown",
   "metadata": {},
   "source": [
    "#### 2.4. Prediction errors\n",
    "\n",
    "We can see mis-predictions as well:"
   ]
  },
  {
   "cell_type": "code",
   "execution_count": 41,
   "metadata": {},
   "outputs": [
    {
     "name": "stdout",
     "output_type": "stream",
     "text": [
      "Mis-predicted Not recommended quotes\n",
      "---------------------------\n",
      "LIS-LHR-VIE on Dec. 8 both legs on an Airbus 320 in Club Europe (Business Class) - both legs on time seats were Economy seats with the middle seat left unsold and featuring the new slim seats which are less comfortable and have a reduced seat pitch – Check-in in LIS was handled by rather surly agents which was untypical for an otherwise friendly airport but Business class waiting lines were very short so overall it was OK. LIS-LHR leg was with a rather lacklustre and inattentive European fleet crew after the initial service of food and drinks further service consisted of clearing the dishes and on board sales. Other than that Business class flight attendants were behind the curtain reading magazines chatting and rather attending to themselves than the passengers. At 11 am the Business Class food served was a plate cold cuts a roll and three thin slices of fruit (basically a make yourself sandwich on a plate). Extremely disappointing and poor for a lunch flight scheduled to arrive in Heathrow after 1 pm. On the LHR-VIE leg service was“afternoon tea”meaning again sandwiches. However this time at least it was more appropriate due to time of day. Full bar service on both flights and the French white wine served was ok. The mixed fleet crew on the second leg was more interested in its job and up to BA standards regarding friendliness and attentiveness. Transfer procedures in LHR Terminal 3 were fast and friendly even the extra security checks required for all transfers at LHR (even Intra-EU) were hassle free and easy. BA’s Galleries Lounge in LHR T3 was again an oasis of rest amid a busy airport; comfortable with excellent drink selection and decent food selection including several good warm choices such as various curries. In Lisbon Portela BA uses the shared Blue Lounge which is small and offerings are rather limited; some limited snacks ok drinks but at least good Nespresso coffee. Although small it was not crowded which is a plus. So BA delivered a good basic product for economy standards but I fail to see any real Business Class service offered here (not seat wise not meal wise not service wise). The only saving grace was the Galleries Lounge in Heathrow T3 and the better service on the LHR-VIE leg. Not recommended for Business Class within Europe based on this experience. (Oneworld Sapphire).\n",
      "\n",
      "A330 JFK-LHR Upper Class. Virgins new Dream Suite. Check in at JFK very smooth Lounge is excellent - probably the best at JFK - great service and excellent food - a very good start! Boarding on time and easy A330 with new configuration clean and quite striking at first the bar is groovy and the cabin also. Service was discreet and casual which I liked food just OK but the cooked breakfast was quite good - nice china and glassware - very good and attentive FA's. Excellent entertainment system. The seat: The Dream Suite is a nightmare an absolute disaster! A classic case of style over substance. The new seat is incredibly cramped I am 6ft and weigh 175lbs - I had to squeeze myself into this horrible seat! The are two positions - somewhat reclined and flat no leg-rest - nothing in between - this was a daytime flight I wanted to lie back and relax but not sleep - hugely uncomfortable. There is one very small flip out plastic arm rest on one side - nothing on the other - whoever heard of a business class seat without an armrest - ridiculous. There is zero storage space and Virgin has got rid of the overhead bins in the center of the plane - there were about 15 people in upper class - it seats 32 I think - we were fighting over bin space and I only bring one small hand bag - again ridiculous Virgin cannot imagine what it would be like if full. Frills are nice champagne glasses are nice but the reason people buy business/upper class seats is for space and comfort - these new suites offer neither - they have to be the very worst of the new generation flat bed seats. Premium economy seats are wider and have two armrests - how novel! One got the impression that the FA's are fully aware that this is an awful product. I have changed my return flight to the 747 with the old seats- never again!\n",
      "\n",
      "ZRH-SFO April 26 2014 in First: First Lounge in ZRH excellent very nice decor excellent food and good service. Very good is also the car shuttle to the gate. Flight: Very old layout of cabin seats are very old and dated without any touch of luxury. There is very limited privacy between the seats. The TV screen is very small. The seat adjustment panel shows its age some buttons do not work properly. The toilets have also absolutely no luxury features they look more like economy than first class very limited amenities (only one hand lotion and one face lotion but no lip balm no mouth wash etc.) after some hours they are out of tissues so you have to use paper tissues - very economy style! Amenities OK but again no luxury. The pyjamas are good quality. Food is OK but not on First standard (same choice and quality as Business Class). Limited choice. The chicken had absolutely no taste the rice also tasteless - overall really not good. Good is the quality of the wines. During the flight there is no food available - worse than in Business Class where they serve sandwiches etc. Service very disappointing: 3 empty water bottles remained for more than 5 hours beside me. The maitre de cabin however was nice and tried to accommodate us as much as possible. Overall very disappointing far away from Premium airlines like Emirates Etihad and Singapore Airlines. The First experience is at most on Business level of these Premium airlines. SWISS really needs to make an effort.\n",
      "\n",
      "VIE-AMS on Jan 2 and return AMS-VIE on Jan 20 both straight forward point to point evening flights both flights on a tired Fokker 100. VIE-AMS in Business (Upgrade due to Star Alliance status as Economy was overbooked) AMS- VIE in Economy VIE-AMS delayed 15 minutes due to ATC return flight on time – Not really much to distinguish Business Class service on the outward leg except for a simple and small but tasty evening snack (warm chicken skewer on salad). Also only one drink was served. Seats were rather uncomfortable economy Recaro slim seats with the middle seat left unsold. Service was very poor. Only two flight attendants for the whole full plane meant that after the initial service of meal and drink both FA's dealt with Economy and were not be seen in Business again for a very long time. On the return flight in Economy one drink (including beer and wine) and a no food just small pack of pretzels or a small chocolate bar was served. On both flights FA's were not exactly unpleasant but not attentive. Web check-in for VIE-AMS went smooth with almost no line for the premium bag drop. In AMS check-in for the return flight was handled by very friendly and helpful LH agents with no lines. Boarding in VIE was later than indicated with no information given resulting in a cattle call once the boarding actually started. Boarding in AMS was uneventful. Flagship OS Senator Lounge in VIE a bit of disappointment as well. Packed and with limited food offerings and just ok drink options. Obviously savings all over the place. In AMS OS uses the shared Servisair lounge which although comfortable offers just an OK drinks selection and a very limited to almost non-existent food selection. Overall definitely not a terrible but distinctly mediocre experience. (Star Alliance Gold).\n",
      "\n",
      "Stansted to Las Vegas return. Check-in for both flights excellent. At Stansted fast-tracked through security with no problems. Maxjet lounge at Stansted was great plenty to eat drink and read. The cabin crew on both flights were excellent very friendly nothing too much trouble. The seats were very comfortable food and drinks excellent. Personal media-player is a nice touch and comes pre-loaded with latest films videos TV shows and a good selection of music.\n",
      "\n",
      "Mis-predicted Yes recommended quotes\n",
      "--------------------------\n",
      "Mar 26 to Apr 9 2015. This was our first time using Sunwing and it was their first year offering direct flights from Moncton N.B. to Orlando Florida. Our trip to Orlando went without a hitch. Staff were extremely friendly and service was good. Inflight entertainment wasn't anything to brag about but I had come prepared and had my own music and magazine therefore I would not factor that into the equation whatsoever. Except for the aborted landing on the first try the flight was very enjoyable. Our return trip was like it was with a totally different airline. Firstly we were disappointed in the way they handled and failed to inform us of the delay in processing and checking us in. We were standing in line for at least one hour without the line moving at all. We finally heard from someone in the lineup that he heard that their computer system was down. It would only have taken 1 employee to speak up nice and loud telling us that their system was down instead of letting us stand in line like that. Needless to say that made us late in getting checked in. We were finally onboard and ready for take off when the captain came on the line informing us that there was a light on that he needed to go back to the station and turn it off and that it would only take a few short minutes. Approximately 1/2 hour later he comes back on informing us that they needed the services of a mechanic and that once the mechanic arrived it wouldn't take long to fix but that it could take a while for the mechanic to arrive at the airport to fix it. We are now over 1.5 hours late for our return flight. Nothing was offered to compensate the passengers for this delay. We were all starved by then. Once we arrived in Moncton we were unable to disembark because there was another plane boarding then we were unable to disembark because another plane had arrived and they were going through customs so we spent another hour just sitting there. So what should have been a 3 hour 15 minute stay in the plane ended up being almost six hours. Not good. I would still recommend Sunwing if only for the fact that this was their first year offering the service direct from Moncton to Orlando but from reading all of the other reviews just remember it is buyer beware.\n",
      "\n",
      "My wife and I have flown Spirit to several destinations over many years. Most recently we traveled to San Francisco via Las Vegas. I wish we could get direct flights to the Bay Area but an overnight stay in Las Vegas is not too hard to take. Our return trip was not so un-troubled. It's true that the current policy of \"your fare entitles you to a seat on the plane - all else is an extra charge\" seems unfair to some travelers but Spirit is up front about it and nobody should feel they were trapped into unexpected charges for e.g. luggage. We travel with one checked bag (just under the 40 lb. limit) and each have a free backpack as carry-on. Those back packs are big enough to hold water bottles snacks a change of clothes in case of \"delayed luggage\" medication toiletries books etc. We only reserve seats together on longer flights and take our chances on the short hops. That saves us $40 on a round-trip. We have never been treated by any Spirit employee in any way but a courteous and helpful manner. I wish I could say the same about major airline personnel. I don't mind paying $8 for a gin and tonic while flying (it's cheaper if my wife joins me). I've paid more than that at airport bars. Our last return trip from Oakland to Philadelphia was our worst experience. We had anticipated about a 7 hour layover in Las Vegas and planned to hop a shuttle to one of the hotels have dinner and maybe spend some time in the casino before getting a shuttle back to the airport. Weather conditions all over the country played havoc with those plans and the schedules of all airlines as well. There were a few passengers embarrassingly stupid enough to take out their frustration caused by the weather on the crew. We arrived at Las Vegas with just about enough time to check in for the LAS to PHL flight. Since I could not book the trip as a fight from OAK to PHL changing planes in LAS I had to book it as two separate flights. I doubt if Spirit or any airline would take responsibility for us if we missed our flight from LAS to PHL since they did not schedule it as a connection they planned for our journey. If we missed the plane we had designated as a \"connection\" the fault would be ours. That's something to keep in mind if you are planning a trip on Spirit or any airline that uses a lot of \"hub and spokes\" in designing their routes. Overall we have been pleased with the service and prices that Spirit offers the public. The \"hardships\" we have had to endure have been minor and well worth the savings. I hope to start planning our next trip very soon.\n",
      "\n",
      "We have flown Ryanair many times without problems. If you know what to expect then you wont get disappointed. However upon arriving at East Midlands airport for our flight to Tenerife South recently with plenty of time to spare we found that there were 12 flights departing at roughly the same time. 12 flights of people that needed to check in and clear security before boarding. It seems that Ryanair just bung everyone together regardless of which flight you are on Some people were panicking as their flight was taking off soon and were stuck at check in when asked to jump the queue were told they would have to wait like everyone else! It took us 2 hours to get through check in and clear security. Queues were snaked round the airport (although admittedly this is not Ryanair's fault!) but a better system needs put in place for Ryanair check in. We managed to get to the boarding gates just in time albeit at the end of the queue. There we were kept waiting for 20 minutes as staff now needed hand luggage to put on the hold. The staff member was very aggressive and rude to us trying to grab our bags to put in the hold we told her that we needed the bags for inflight and one contained valuables that we wanted to keep with us. She tried to snatch my husbands backpack from his back and took my daughters small suitcase from her before I took it back. We eventually offered one bag but I had to remove everything that was needed and carry it in my hands she wouldn't even give us a carrier bag. She went up and down the last remaining passengers trying to grab peoples hand luggage but as nobody else would offer a bag she came back to us telling us she needed our bags we refused but She wasn't having any of it and barked at us we didn't have a choice as we were at the end of the queue and if we didn't put our hand luggage in the hold we would be fined £60. Her attitude was appalling and if she'd have asked politely we may have tried our best to accommodate her request. She wouldn't let the last people through the departure gate thus holding up the flight until she had the bags But no way were we giving up our remaining (small) bags. We eventually got on the bus to the plane and on the flight there we sat for another 20 minutes before actually taking off! It was never made clear that only the first 60 passengers were guaranteed to take their hand luggage. Yet on our return flight home everything was smooth queues moved quickly and staff were very pleasant helpful and polite. We packed our bags accordingly and offered our hand luggage for the hold. We fly Ryanair because it is cheap but cheap doesn't mean but I expect to be spoken to like dirt from someone's shoe!\n",
      "\n",
      "Once again my experience with Flybe has been shocking! My flight from Southampton to Newcastle was cancelled half an hour before we boarded due to a technical fault again! The flight before me to Manchester was also cancelled due to a technical fault and after speaking with many irate customers it seems that this is a regular occurrence with Flybe. This being my second time I thought I would share my experience. After cancelling my flight we were told to collect our bags and proceed to the Flybe check-in desk long queue eventually offered two options - wait 5 hours until the next one to Newcastle or go to Gatwick for a slightly shorter 4 hour wait. Upon complaining at the desk I was told by a very rude member of staff that \"this happens with all other airlines not just us and we are not the worst\". No manager on duty to help explain no empathy or consideration for how I or anyone else felt. I then spent 2 hours on a coach to Gatwick only to make it with 10 minutes to spare no one to meet us at the other end to help direct us or make sure we were given priority to make the flight. I had planned to only take hand luggage on the flight and had purchased a bottle of spirits at Southampton. I was told this would have to be checked in with my hand luggage and was then cheerfully told \"that will be £40 please\"! Then I was directed to the customer service desk to request that they waive the charge - why could this not be done at the Check In desk? Again a long queue with many other \"happy\" customers eventually they waived the charge had to go back and queue up again to check my bag in then through security to just make the flight. Disgraceful customer service.\n",
      "\n",
      "I was travelling from Toronto to Punta Cana for 1 week for vacation the flight down to Punta Cana was great it left on time no problems at the airport and good service. But on the way back our flight was originally supposed to take off at 11.25 am we went down to the lobby for 7.30 am for our transfer to the airport we waited for about half an hour then we received a phone call saying that our flight had been delayed a couple of hours. We waited again then we were informed that it had been delayed again for another couple of hours. We again waited and then a Sunwing representative told us that the flight had been delayed until the next day - 4.00 am the next day. They then transferred us to a different resort where it took about 3 hours to get our rooms. Then later that day we had found out that it is being delayed again for a 5.15 am flight. I have flown with Sunwing once before and there was no issue but this was very annoying having my flight home be delayed 4 times.\n",
      "\n"
     ]
    }
   ],
   "source": [
    "x, y = make_xy(data_ratings, vectorizer_3)\n",
    "\n",
    "prob = clf_3.predict_proba(x)[:, 0]\n",
    "predict = clf_3.predict(x)\n",
    "\n",
    "bad_no = np.argsort(prob[y == 0])[:5]\n",
    "bad_yes = np.argsort(prob[y == 1])[-5:]\n",
    "\n",
    "print('Mis-predicted Not recommended quotes')\n",
    "print('---------------------------')\n",
    "for row in bad_no:\n",
    "    print(data_ratings[y == 0].content.iloc[row])\n",
    "    print(\"\")\n",
    "\n",
    "print('Mis-predicted Yes recommended quotes')\n",
    "print('--------------------------')\n",
    "for row in bad_yes:\n",
    "    print(data_ratings[y == 1].content.iloc[row])\n",
    "    print('')"
   ]
  },
  {
   "cell_type": "markdown",
   "metadata": {},
   "source": []
  },
  {
   "cell_type": "markdown",
   "metadata": {},
   "source": [
    "### 3. TERM-FREQUENCY x INVERSE DOCUMENT FREQUENCY"
   ]
  },
  {
   "cell_type": "markdown",
   "metadata": {},
   "source": [
    "We can use Tfidfvectorizer to compute tf-idf scores on documents within our training dataset.\n",
    "\n",
    "With Tfidfvectorizer we compute the word counts, idf and tf-idf values all at once:"
   ]
  },
  {
   "cell_type": "code",
   "execution_count": 54,
   "metadata": {},
   "outputs": [],
   "source": [
    "# initiate TfidfVectorizer to get the tf-idf scores of a set of documents\n",
    "tfidf_vectorizer = TfidfVectorizer(min_df=1, stop_words='english')\n",
    "Xtfidf = tfidf_vectorizer.fit_transform(data_ratings.content)"
   ]
  },
  {
   "cell_type": "code",
   "execution_count": 57,
   "metadata": {},
   "outputs": [
    {
     "name": "stdout",
     "output_type": "stream",
     "text": [
      "(35609, 33348)\n"
     ]
    }
   ],
   "source": [
    "# check the shape \n",
    "print(Xtfidf.shape)"
   ]
  },
  {
   "cell_type": "markdown",
   "metadata": {},
   "source": [
    "Now let’s print the tfidf values for the first document from our collection:"
   ]
  },
  {
   "cell_type": "code",
   "execution_count": 71,
   "metadata": {},
   "outputs": [
    {
     "data": {
      "text/plain": [
       "'Flight to Larnaca was a joy. Generous legroom, nice meals and a fantastic range of drinks to choose from. Crew was attentive and it is nice that Aegean leave the cockpit door open during boarding..'"
      ]
     },
     "execution_count": 71,
     "metadata": {},
     "output_type": "execute_result"
    }
   ],
   "source": [
    "# print the first document from our dataset\n",
    "data_ratings.content.iloc[0]"
   ]
  },
  {
   "cell_type": "code",
   "execution_count": 59,
   "metadata": {},
   "outputs": [
    {
     "data": {
      "text/html": [
       "<div>\n",
       "<style scoped>\n",
       "    .dataframe tbody tr th:only-of-type {\n",
       "        vertical-align: middle;\n",
       "    }\n",
       "\n",
       "    .dataframe tbody tr th {\n",
       "        vertical-align: top;\n",
       "    }\n",
       "\n",
       "    .dataframe thead th {\n",
       "        text-align: right;\n",
       "    }\n",
       "</style>\n",
       "<table border=\"1\" class=\"dataframe\">\n",
       "  <thead>\n",
       "    <tr style=\"text-align: right;\">\n",
       "      <th></th>\n",
       "      <th>tfidf</th>\n",
       "    </tr>\n",
       "  </thead>\n",
       "  <tbody>\n",
       "    <tr>\n",
       "      <th>larnaca</th>\n",
       "      <td>0.334086</td>\n",
       "    </tr>\n",
       "    <tr>\n",
       "      <th>joy</th>\n",
       "      <td>0.329226</td>\n",
       "    </tr>\n",
       "    <tr>\n",
       "      <th>aegean</th>\n",
       "      <td>0.308871</td>\n",
       "    </tr>\n",
       "    <tr>\n",
       "      <th>cockpit</th>\n",
       "      <td>0.293046</td>\n",
       "    </tr>\n",
       "    <tr>\n",
       "      <th>nice</th>\n",
       "      <td>0.292326</td>\n",
       "    </tr>\n",
       "    <tr>\n",
       "      <th>range</th>\n",
       "      <td>0.260963</td>\n",
       "    </tr>\n",
       "    <tr>\n",
       "      <th>generous</th>\n",
       "      <td>0.254805</td>\n",
       "    </tr>\n",
       "    <tr>\n",
       "      <th>door</th>\n",
       "      <td>0.244539</td>\n",
       "    </tr>\n",
       "    <tr>\n",
       "      <th>open</th>\n",
       "      <td>0.226837</td>\n",
       "    </tr>\n",
       "    <tr>\n",
       "      <th>fantastic</th>\n",
       "      <td>0.217214</td>\n",
       "    </tr>\n",
       "    <tr>\n",
       "      <th>choose</th>\n",
       "      <td>0.210708</td>\n",
       "    </tr>\n",
       "    <tr>\n",
       "      <th>leave</th>\n",
       "      <td>0.204848</td>\n",
       "    </tr>\n",
       "    <tr>\n",
       "      <th>attentive</th>\n",
       "      <td>0.171172</td>\n",
       "    </tr>\n",
       "    <tr>\n",
       "      <th>legroom</th>\n",
       "      <td>0.169010</td>\n",
       "    </tr>\n",
       "    <tr>\n",
       "      <th>meals</th>\n",
       "      <td>0.159835</td>\n",
       "    </tr>\n",
       "    <tr>\n",
       "      <th>drinks</th>\n",
       "      <td>0.142238</td>\n",
       "    </tr>\n",
       "    <tr>\n",
       "      <th>boarding</th>\n",
       "      <td>0.133729</td>\n",
       "    </tr>\n",
       "    <tr>\n",
       "      <th>crew</th>\n",
       "      <td>0.101464</td>\n",
       "    </tr>\n",
       "    <tr>\n",
       "      <th>flight</th>\n",
       "      <td>0.060161</td>\n",
       "    </tr>\n",
       "    <tr>\n",
       "      <th>owner</th>\n",
       "      <td>0.000000</td>\n",
       "    </tr>\n",
       "    <tr>\n",
       "      <th>packaging</th>\n",
       "      <td>0.000000</td>\n",
       "    </tr>\n",
       "    <tr>\n",
       "      <th>oz221</th>\n",
       "      <td>0.000000</td>\n",
       "    </tr>\n",
       "    <tr>\n",
       "      <th>oz202</th>\n",
       "      <td>0.000000</td>\n",
       "    </tr>\n",
       "    <tr>\n",
       "      <th>oz107</th>\n",
       "      <td>0.000000</td>\n",
       "    </tr>\n",
       "    <tr>\n",
       "      <th>packed</th>\n",
       "      <td>0.000000</td>\n",
       "    </tr>\n",
       "    <tr>\n",
       "      <th>package</th>\n",
       "      <td>0.000000</td>\n",
       "    </tr>\n",
       "    <tr>\n",
       "      <th>oz102</th>\n",
       "      <td>0.000000</td>\n",
       "    </tr>\n",
       "    <tr>\n",
       "      <th>oz</th>\n",
       "      <td>0.000000</td>\n",
       "    </tr>\n",
       "    <tr>\n",
       "      <th>owf</th>\n",
       "      <td>0.000000</td>\n",
       "    </tr>\n",
       "    <tr>\n",
       "      <th>oyr</th>\n",
       "      <td>0.000000</td>\n",
       "    </tr>\n",
       "    <tr>\n",
       "      <th>...</th>\n",
       "      <td>...</td>\n",
       "    </tr>\n",
       "    <tr>\n",
       "      <th>disgorged</th>\n",
       "      <td>0.000000</td>\n",
       "    </tr>\n",
       "    <tr>\n",
       "      <th>dish</th>\n",
       "      <td>0.000000</td>\n",
       "    </tr>\n",
       "    <tr>\n",
       "      <th>disgustingly</th>\n",
       "      <td>0.000000</td>\n",
       "    </tr>\n",
       "    <tr>\n",
       "      <th>disgusting</th>\n",
       "      <td>0.000000</td>\n",
       "    </tr>\n",
       "    <tr>\n",
       "      <th>disgusted</th>\n",
       "      <td>0.000000</td>\n",
       "    </tr>\n",
       "    <tr>\n",
       "      <th>disgust</th>\n",
       "      <td>0.000000</td>\n",
       "    </tr>\n",
       "    <tr>\n",
       "      <th>disguising</th>\n",
       "      <td>0.000000</td>\n",
       "    </tr>\n",
       "    <tr>\n",
       "      <th>disguised</th>\n",
       "      <td>0.000000</td>\n",
       "    </tr>\n",
       "    <tr>\n",
       "      <th>disguise</th>\n",
       "      <td>0.000000</td>\n",
       "    </tr>\n",
       "    <tr>\n",
       "      <th>disgruntled</th>\n",
       "      <td>0.000000</td>\n",
       "    </tr>\n",
       "    <tr>\n",
       "      <th>disgruntle</th>\n",
       "      <td>0.000000</td>\n",
       "    </tr>\n",
       "    <tr>\n",
       "      <th>disgracefully</th>\n",
       "      <td>0.000000</td>\n",
       "    </tr>\n",
       "    <tr>\n",
       "      <th>disgraceful</th>\n",
       "      <td>0.000000</td>\n",
       "    </tr>\n",
       "    <tr>\n",
       "      <th>disgrace</th>\n",
       "      <td>0.000000</td>\n",
       "    </tr>\n",
       "    <tr>\n",
       "      <th>disgestifs</th>\n",
       "      <td>0.000000</td>\n",
       "    </tr>\n",
       "    <tr>\n",
       "      <th>discussions</th>\n",
       "      <td>0.000000</td>\n",
       "    </tr>\n",
       "    <tr>\n",
       "      <th>disfunctional</th>\n",
       "      <td>0.000000</td>\n",
       "    </tr>\n",
       "    <tr>\n",
       "      <th>disengaged</th>\n",
       "      <td>0.000000</td>\n",
       "    </tr>\n",
       "    <tr>\n",
       "      <th>disenchanted</th>\n",
       "      <td>0.000000</td>\n",
       "    </tr>\n",
       "    <tr>\n",
       "      <th>disembarkment</th>\n",
       "      <td>0.000000</td>\n",
       "    </tr>\n",
       "    <tr>\n",
       "      <th>disembarking</th>\n",
       "      <td>0.000000</td>\n",
       "    </tr>\n",
       "    <tr>\n",
       "      <th>disembarkement</th>\n",
       "      <td>0.000000</td>\n",
       "    </tr>\n",
       "    <tr>\n",
       "      <th>disembarked</th>\n",
       "      <td>0.000000</td>\n",
       "    </tr>\n",
       "    <tr>\n",
       "      <th>disembarkation</th>\n",
       "      <td>0.000000</td>\n",
       "    </tr>\n",
       "    <tr>\n",
       "      <th>disembark</th>\n",
       "      <td>0.000000</td>\n",
       "    </tr>\n",
       "    <tr>\n",
       "      <th>disease</th>\n",
       "      <td>0.000000</td>\n",
       "    </tr>\n",
       "    <tr>\n",
       "      <th>disdainfully</th>\n",
       "      <td>0.000000</td>\n",
       "    </tr>\n",
       "    <tr>\n",
       "      <th>disdainful</th>\n",
       "      <td>0.000000</td>\n",
       "    </tr>\n",
       "    <tr>\n",
       "      <th>disdain</th>\n",
       "      <td>0.000000</td>\n",
       "    </tr>\n",
       "    <tr>\n",
       "      <th>ålesund</th>\n",
       "      <td>0.000000</td>\n",
       "    </tr>\n",
       "  </tbody>\n",
       "</table>\n",
       "<p>33348 rows × 1 columns</p>\n",
       "</div>"
      ],
      "text/plain": [
       "                 tfidf\n",
       "larnaca       0.334086\n",
       "joy           0.329226\n",
       "aegean        0.308871\n",
       "cockpit       0.293046\n",
       "nice          0.292326\n",
       "...                ...\n",
       "disease       0.000000\n",
       "disdainfully  0.000000\n",
       "disdainful    0.000000\n",
       "disdain       0.000000\n",
       "ålesund       0.000000\n",
       "\n",
       "[33348 rows x 1 columns]"
      ]
     },
     "execution_count": 59,
     "metadata": {},
     "output_type": "execute_result"
    }
   ],
   "source": [
    "# get the first vector out (for the first document)\n",
    "first_vector_tfidfvectorizer = Xtfidf[0]\n",
    " \n",
    "# place tf-idf values in a pandas dataframe\n",
    "df_Xtfidf = pd.DataFrame(first_vector_tfidfvectorizer.T.todense(), index=tfidf_vectorizer.get_feature_names(), columns=['tfidf'])\n",
    "df_Xtfidf.sort_values(by=['tfidf'], ascending=False)"
   ]
  },
  {
   "cell_type": "markdown",
   "metadata": {},
   "source": [
    "What we can notice that only certain words have scores. This is because our first document, printed above, has all the words that have a tf-idf score and everything else show up as zeroes. Words like 'a' or 'and' are missing from this list, because stop words are removed during processing.\n",
    "\n",
    "The scores above make sense. The more common the word across documents, the lower its score and the more unique a word is to our first document (e.g. ‘larnaca’ and ‘aegean’) the higher the score."
   ]
  },
  {
   "cell_type": "markdown",
   "metadata": {},
   "source": []
  },
  {
   "cell_type": "code",
   "execution_count": null,
   "metadata": {},
   "outputs": [],
   "source": []
  }
 ],
 "metadata": {
  "kernelspec": {
   "display_name": "Python 3",
   "language": "python",
   "name": "python3"
  },
  "language_info": {
   "codemirror_mode": {
    "name": "ipython",
    "version": 3
   },
   "file_extension": ".py",
   "mimetype": "text/x-python",
   "name": "python",
   "nbconvert_exporter": "python",
   "pygments_lexer": "ipython3",
   "version": "3.6.8"
  }
 },
 "nbformat": 4,
 "nbformat_minor": 2
}
